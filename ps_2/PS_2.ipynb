{
 "cells": [
  {
   "cell_type": "markdown",
   "id": "6ffca019-7e74-41ce-9737-b05b8a58a018",
   "metadata": {},
   "source": [
    "# PS.2 (inner product is backwards stable)\n",
    "Consider \n",
    "\\begin{equation*}\n",
    "\t\tf,\\tilde{f}:\\mathbb{R}^2\\times \\mathbb{R}^2\\rightarrow\\mathbb{R}, \\qquad f(x,y)=\\langle x,y\\rangle,\\qquad \\tilde{f}(x,y)= \\bigoplus_{k=1}^2 (x_k\\odot \t\ty_k).\n",
    "\t\\end{equation*}\n",
    "    \n",
    "a) Verify that $\\tilde{f}$ is partially backwards stable when considered as the map $\\tilde{f}:\\mathbb{R}^4\\rightarrow \\mathbb{R}$, and recall that $x_k\\odot \t\ty_k$ means $\\mathrm{fl}(x_k)\\odot \\mathrm{fl}(y_k)$.\n",
    "\n",
    "b) What is the partial conditioning of $f:\\mathbb{R}_+^4\\rightarrow \\mathbb{R}$, where $\\mathbb{R}_+=(0,\\infty)$."
   ]
  },
  {
   "cell_type": "markdown",
   "id": "e5619a6d-91b9-4794-9953-ea35b5cde76d",
   "metadata": {
    "tags": []
   },
   "source": [
    "# PS.2 (p-q-formula)\n",
    "\n",
    "Consider the p-q-formula:\n",
    "\n",
    "\\begin{equation}\n",
    "f(x) = x^2-2px+q,\\qquad\\qquad\n",
    "x_{1/2}  = p\\pm\\sqrt{p^2-q}\n",
    "\\end{equation}\n",
    "\n",
    "a) Explain why myPQnaive does not pass the tests below."
   ]
  },
  {
   "cell_type": "code",
   "execution_count": null,
   "id": "7c4b8453-3e8d-41d1-bbfc-c7118a998935",
   "metadata": {
    "tags": []
   },
   "outputs": [],
   "source": [
    "# function myPQnaive(p,q)          \n",
    "#     s = sqrt(p^2-q)\n",
    "#     x1 = p+s                \n",
    "#     x2 = p-s                \n",
    "#     return x1,x2\n",
    "# end"
   ]
  },
  {
   "cell_type": "code",
   "execution_count": null,
   "id": "cc8bd574-077e-4fdb-a4dd-8401f938b9f5",
   "metadata": {},
   "outputs": [],
   "source": [
    "# using Test\n",
    "# f(x,p,q) = x^2-2p*x+q\n",
    "# p = 10^7.0\n",
    "# q = 1.0\n",
    "# @testset \"myPQnaive\" begin     \n",
    "#     x1,x2 = myPQnaive(p,q)\n",
    "#     @test abs(f(x1,p,q)) < 1e-8\n",
    "#     @test abs(f(x2,p,q)) < 1e-8 \n",
    "# end"
   ]
  },
  {
   "cell_type": "markdown",
   "id": "601b102b-ca8b-4949-8237-2c41f500b675",
   "metadata": {
    "tags": []
   },
   "source": [
    "Vieta's formula yields\n",
    "\n",
    "\\begin{equation*}\n",
    "x^2-2px+q=(x-x_1)(x-x_2)\\qquad \\Rightarrow \\qquad x_1 \\cdot x_2 = q,\\quad x_1+x_2 = 2p\n",
    "\\end{equation*}\n",
    "\n",
    "b) Write a function myPQ according to Vieta's formula. Check the testset to illustrate improvement upon myPQnaive. "
   ]
  },
  {
   "cell_type": "code",
   "execution_count": null,
   "id": "0fc05223-fae0-4864-8ffe-dfaf2e28659e",
   "metadata": {
    "tags": []
   },
   "outputs": [],
   "source": [
    "# function myPQ(p,q) \n",
    "#     s = sqrt(p^2-q)\n",
    "#     if p>0\n",
    "#         ...\n",
    "#         ...\n",
    "#         ...\n",
    "# end\n",
    "    \n",
    "# @testset \"myPQ\" begin     \n",
    "#     x1,x2 = myPQ(p,q)\n",
    "#     @test abs(f(x1,p,q)) < 1e-8\n",
    "#     @test abs(f(x2,p,q)) < 1e-8 \n",
    "# end"
   ]
  },
  {
   "cell_type": "code",
   "execution_count": null,
   "id": "67e73f0f-4626-4b3a-8900-da5c538452fe",
   "metadata": {
    "tags": []
   },
   "outputs": [],
   "source": [
    "# x1,x2 = myPQnaive(p,q)\n",
    "# y1,y2 = myPQ(p,q)\n",
    "# @show x1 y1;\n",
    "# @show x2 y2;\n",
    "\n",
    "# @show f(x1,p,q) f(y1,p,q);\n",
    "# @show f(x2,p,q) f(y2,p,q); "
   ]
  },
  {
   "cell_type": "markdown",
   "id": "4f5ed4fe-b462-4773-989a-9cb376c4657a",
   "metadata": {
    "tags": []
   },
   "source": [
    "# PS.2 (two variance formulas)\n",
    "\n",
    "If bad conditioned computations are not avoidable, then put them at the beginning, NOT at the end.\n",
    "\n",
    "The sample variance of data $x_1,\\ldots,x_n\\in\\mathbb{R}$ is\n",
    "\\begin{equation}\n",
    "\\mathrm{Var}(x_1,\\ldots,x_n)=\\frac{1}{n-1}\\sum_{k=1}^n (x_k-\\bar{x})^2,\\qquad \\bar{x} = \\frac{1}{n}\\sum_{k=1}^n x_k\n",
    "\\end{equation}\n",
    "\n",
    "This formula coincides with \n",
    "\\begin{align}\n",
    "\\mathrm{Var}(x_1,\\ldots,x_n) &= \\frac{1}{n-1} \\sum_{k=1}^n\\left(x_k^2-2x_k\\bar{x}+\\bar{x}^2\\right)\\\\\n",
    "&= \\frac{1}{n-1} \\left(\\sum_{k=1}^n x_k^2 -2n\\bar{x}^2+n\\bar{x}^2\\right)\\\\\n",
    "&= \\frac{1}{n-1} \\left(\\sum_{k=1}^n x_k^2 -n\\bar{x}^2\\right)\\\\\n",
    "&=\\frac{1}{n-1} \\left(\\sum_{k=1}^n x_k^2-\\frac{1}{n}\\left(\\sum_{k=1}^n x_k\\right)^2 \\right)\n",
    "\\end{align}\n",
    "\n",
    "For small variances, the first formula is more stable than the second."
   ]
  },
  {
   "cell_type": "markdown",
   "id": "a912b960-3732-410e-8b68-61b57f1df561",
   "metadata": {},
   "source": [
    "**First formula:**\n",
    "\n",
    "\\begin{equation}\n",
    "\\mathrm{Var}(x_1,\\ldots,x_n)=\\frac{1}{n-1}\\sum_{k=1}^n (x_k-\\bar{x})^2,\\qquad \\bar{x} = \\frac{1}{n}\\sum_{k=1}^n x_k\n",
    "\\end{equation}\n",
    "\n",
    "a) Implement the first formula for the sample variance."
   ]
  },
  {
   "cell_type": "code",
   "execution_count": null,
   "id": "d663f337-46a3-49ba-b243-89c50de2520c",
   "metadata": {},
   "outputs": [],
   "source": [
    "# function myVariance(x)   # first formula \n",
    "#     ...\n",
    "#     ...\n",
    "#     ...\n",
    "# end"
   ]
  },
  {
   "cell_type": "markdown",
   "id": "862c0feb-ee3e-4352-835d-14c336e4efdf",
   "metadata": {},
   "source": [
    "**Second formula:**\n",
    "\n",
    "\\begin{equation}\n",
    "\\mathrm{Var}(x_1,\\ldots,x_n)=\\frac{1}{n-1} \\left(\\sum_{k=1}^n x_k^2-\\frac{1}{n}\\left(\\sum_{k=1}^n x_k\\right)^2 \\right)\n",
    "\\end{equation}\n",
    "\n",
    "b) Implement the second formula for the sample variance."
   ]
  },
  {
   "cell_type": "code",
   "execution_count": null,
   "id": "f059fdea-a47e-4e12-8ef9-06bdff73b9f7",
   "metadata": {},
   "outputs": [],
   "source": [
    "# function myVariance_naive(x) # second formula\n",
    "#     ...\n",
    "#     ...\n",
    "#     ...\n",
    "# end"
   ]
  },
  {
   "cell_type": "markdown",
   "id": "ae110aff-4b47-4470-960f-e6a86bb1cbc5",
   "metadata": {},
   "source": [
    "The mean of the data\n",
    "\n",
    "\\begin{align}\n",
    "x_1 & = 10,000,000.0\\\\\n",
    "x_2 & = 10,000,000.1\\\\\n",
    "x_3 & = 10,000,000.2\n",
    "\\end{align}\n",
    "\n",
    "is $\\bar{x}=x_2$ and the variance is\n",
    "\n",
    "\\begin{equation}\n",
    "\\mathrm{Var}(x_1,x_2,x_3) = 2(0.1)^2 /2 = 0.01.\n",
    "\\end{equation}\n",
    "\n",
    "c) Decide which formula provides the more accurate result."
   ]
  },
  {
   "cell_type": "code",
   "execution_count": null,
   "id": "856bc2cc-88ec-4bfc-a462-c49b5a1affec",
   "metadata": {
    "tags": []
   },
   "outputs": [],
   "source": [
    "# x = [10_000_000.0; 10_000_000.1; 10_000_000.2]\n",
    "# myVariance(x) , myVariance_naive(x)"
   ]
  },
  {
   "cell_type": "markdown",
   "id": "16e887d3-9acd-42cb-9641-1054cf357ef3",
   "metadata": {},
   "source": [
    "# PS.2 (cancelations)\n",
    "Consider the following functions \n",
    "\\begin{align*}\n",
    "f_1(x)&=x^3−6 a x^2+12 a^2 x-8 a^3=(x−2a)^3,\\qquad a = \\frac{1}{2}\\cdot 10^7 -1=4 999 999\\\\\n",
    "f_2(x) & =  \\frac{1}{x-\\sqrt{x^2-1}} \\\\\n",
    "f_3(x) & = 1-\\sqrt{1-x^2}\\\\\n",
    "f_4(x) & = x^9-18x^8+144x^7-672x^6+2016x^5-4032x^4+5376x^3-4608x^2+2304x-512 = (x-2)^9\\\\\n",
    "f_5(x) &= \\frac{1}{1+2x}-\\frac{1-x}{1+x}.\n",
    "\\end{align*}\n",
    "\n",
    "a) Determine $\\kappa_{f_1}(10^7)$. Which of the two versions in julia provides the more accurate value of $f_1(10^7)$?\n",
    "\n",
    "b) Evaluate $f_2$ at $x=10^7$ in julia. Reformulate $f_2$ to avoid cancelations and evaluate in julia again.\n",
    "\n",
    "c) Determine $\\lim_{x\\rightarrow 0}\\kappa_{f_3}(x)$. Reformulate $f_3$ to avoid cancelations when evaluating in julia at $x=10^{-8}$.\n",
    "\n",
    "d) Plot both versions of $f_4$ in julia in the interval $[1.925,2.075]$.\n",
    "\n",
    "e) Determine $\\lim_{x\\rightarrow 0}\\kappa_{f_5}(0)$. Plot $f_5$ in julia in the interval $[-5 \\cdot 10^{-8},5\\cdot  10^{-8}]$. Reformulate $f_5$ and obtain a more accurate plot. "
   ]
  },
  {
   "cell_type": "code",
   "execution_count": null,
   "id": "545c5100-501f-47ca-ba3a-1671632b2924",
   "metadata": {},
   "outputs": [],
   "source": []
  }
 ],
 "metadata": {
  "authors": [
   {
    "name": "Numerical Analysis 2022"
   }
  ],
  "kernelspec": {
   "display_name": "Julia 1.8.2",
   "language": "julia",
   "name": "julia-1.8"
  },
  "language_info": {
   "file_extension": ".jl",
   "mimetype": "application/julia",
   "name": "julia",
   "version": "1.8.2"
  },
  "title": "Exercise sheet 2",
  "toc-autonumbering": true,
  "widgets": {
   "application/vnd.jupyter.widget-state+json": {
    "state": {},
    "version_major": 2,
    "version_minor": 0
   }
  }
 },
 "nbformat": 4,
 "nbformat_minor": 5
}
