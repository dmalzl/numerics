{
 "cells": [
  {
   "cell_type": "markdown",
   "id": "c9fb17ef",
   "metadata": {},
   "source": [
    "# PS.2 (inner product is backwards stable)\n",
    "Consider \n",
    "\\begin{equation*}\n",
    "\t\tf,\\tilde{f}:\\mathbb{R}^2\\times \\mathbb{R}^2\\rightarrow\\mathbb{R}, \\qquad f(x,y)=\\langle x,y\\rangle,\\qquad \\tilde{f}(x,y)= \\bigoplus_{k=1}^2 (x_k\\odot \t\ty_k).\n",
    "\t\\end{equation*}"
   ]
  },
  {
   "cell_type": "markdown",
   "id": "a46966fa",
   "metadata": {},
   "source": [
    "a) Verify that $\\tilde{f}$ is partially backwards stable when considered as the map $\\tilde{f}:\\mathbb{R}^4\\rightarrow \\mathbb{R}$, and recall that $x_k\\odot \t\ty_k$ means $\\mathrm{fl}(x_k)\\odot \\mathrm{fl}(y_k)$.\n",
    "\\begin{align*}\n",
    "\\\\\n",
    "\\tilde{f}(x,y) = \\bigoplus_{k=1}^2 (x_k\\odot y_k) &= x_1(1 + \\epsilon_1) \\odot y_1(1 + \\epsilon_2) \\oplus x_2(1 + \\epsilon_3) \\odot y_2(1 + epsilon_4) \\\\\n",
    "\\\\\n",
    "          &= \\left(x_1(1 + \\epsilon_1) \\cdot y_1(1 + \\epsilon_2)(1 + \\epsilon_5) + x_2(1 + \\epsilon_3) \\cdot y_2(1 + \\epsilon_4)(1 + \\epsilon_6)\\right)(1 + \\epsilon_7) \\\\\n",
    "\\\\\n",
    "          &= x_1(1 + \\epsilon_1) \\cdot y_1\\underbrace{(1 + \\epsilon_2)(1 + \\epsilon_5)(1 + \\epsilon_7)}_{ = 1 + |\\epsilon_8| \\leq O(eps) + O(eps^2) + O(eps^3) = C} + x_2(1 + \\epsilon_3) \\cdot y_2\\underbrace{(1 + \\epsilon_4)(1 + \\epsilon_6)(1 + \\epsilon_7)}_{ = 1 + |\\epsilon_9| \\leq O(eps) + O(eps^2) + O(eps^3) = C} \\\\\n",
    "\\\\\n",
    "          &= \\underbrace{x_1(1 + \\epsilon_1)}_{\\tilde{x_1}} \\cdot \\underbrace{y_1(1 + \\epsilon_8)}_{\\tilde{y_1}} + \\underbrace{x_2(1 + \\epsilon_3)}_{\\tilde{x_2}} \\cdot \\underbrace{y_2(1 + \\epsilon_9)}_{\\tilde{y_2}} \\\\\n",
    "\\\\\n",
    "\\end{align*}\n",
    "with $|\\epsilon_{1,3}| \\leq O(eps)$ and $|\\epsilon_{8,9}| \\leq C$ it follows that the inner product is partially backward stable"
   ]
  },
  {
   "cell_type": "markdown",
   "id": "5a1484c1",
   "metadata": {},
   "source": [
    "b) What is the partial conditioning of $f:\\mathbb{R}_+^4\\rightarrow \\mathbb{R}$, where $\\mathbb{R}_+=(0,\\infty)$.\n",
    "\\begin{align*}\n",
    "\\\\\n",
    "f(x) &= x_1x_2 + x_3x_4,\\ x = (x_1, y_1, x_2, y_2) \\\\\n",
    "\\\\\n",
    "\\hat\\kappa_f &= \\sum_{i = 1}^{4}{\\kappa^i_f},\\ \\kappa^i_f = |\\partial_i{f(x)}|\\frac{|x_i|}{|f(x)|} \\\\\n",
    "\\\\\n",
    "\\kappa^1_f &= \\frac{|x_1x_2|}{|x_1x_2 + x_3x_4|},\\ \\kappa^2_f = \\frac{|x_1x_2|}{|x_1x_2 + x_3x_4|},\\ \\kappa^3_f = \\frac{|x_3x_4|}{|x_1x_2 + x_3x_4|},\\ \\kappa^4_f = \\frac{|x_3x_4|}{|x_1x_2 + x_3x_4|} \\\\\n",
    "\\\\\n",
    "\\hat\\kappa_f &= 2 * \\frac{|x_1x_2 + x_3x_4|}{|x_1x_2 + x_3x_4|} = 2\n",
    "\\end{align*}"
   ]
  },
  {
   "cell_type": "markdown",
   "id": "7f67fdcf",
   "metadata": {
    "tags": []
   },
   "source": [
    "# PS.2 (p-q-formula)\n",
    "\n",
    "Consider the p-q-formula:\n",
    "\n",
    "\\begin{equation}\n",
    "f(x) = x^2-2px+q,\\qquad\\qquad\n",
    "x_{1/2}  = p\\pm\\sqrt{p^2-q}\n",
    "\\end{equation}\n",
    "\n",
    "a) Explain why myPQnaive does not pass the tests below.\n",
    "Due to the ill conditioning of the addition when $p \\approx -s$ cancelation can become a problem. Since $p >> q$ we have $\\sqrt{p^2 - q} \\approx p$ which results in $s \\approx p$ and leads to cancellations. Thus it is better to use a different approach for solving for $x_2$"
   ]
  },
  {
   "cell_type": "code",
   "execution_count": 5,
   "id": "7e222f69",
   "metadata": {
    "tags": []
   },
   "outputs": [
    {
     "data": {
      "text/plain": [
       "myPQnaive (generic function with 1 method)"
      ]
     },
     "execution_count": 5,
     "metadata": {},
     "output_type": "execute_result"
    }
   ],
   "source": [
    "function myPQnaive(p,q)          \n",
    "    s = sqrt(p^2-q)\n",
    "    x1 = p+s                \n",
    "    x2 = p-s                \n",
    "    return x1,x2\n",
    "end"
   ]
  },
  {
   "cell_type": "code",
   "execution_count": 6,
   "id": "ddc53924",
   "metadata": {},
   "outputs": [
    {
     "name": "stdout",
     "output_type": "stream",
     "text": [
      "myPQnaive: \u001b[91m\u001b[1mTest Failed\u001b[22m\u001b[39m at \u001b[39m\u001b[1mIn[6]:8\u001b[22m\n",
      "  Expression: abs(f(x2, p, q)) < 1.0e-8\n",
      "   Evaluated: 0.005828380584714354 < 1.0e-8\n",
      "Stacktrace:\n",
      " [1] \u001b[0m\u001b[1mmacro expansion\u001b[22m\n",
      "\u001b[90m   @ \u001b[39m\u001b[90m/Applications/Julia-1.8.app/Contents/Resources/julia/share/julia/stdlib/v1.8/Test/src/\u001b[39m\u001b[90m\u001b[4mTest.jl:464\u001b[24m\u001b[39m\u001b[90m [inlined]\u001b[39m\n",
      " [2] \u001b[0m\u001b[1mmacro expansion\u001b[22m\n",
      "\u001b[90m   @ \u001b[39m\u001b[90m\u001b[4mIn[6]:8\u001b[24m\u001b[39m\u001b[90m [inlined]\u001b[39m\n",
      " [3] \u001b[0m\u001b[1mmacro expansion\u001b[22m\n",
      "\u001b[90m   @ \u001b[39m\u001b[90m/Applications/Julia-1.8.app/Contents/Resources/julia/share/julia/stdlib/v1.8/Test/src/\u001b[39m\u001b[90m\u001b[4mTest.jl:1357\u001b[24m\u001b[39m\u001b[90m [inlined]\u001b[39m\n",
      " [4] top-level scope\n",
      "\u001b[90m   @ \u001b[39m\u001b[90m\u001b[4mIn[6]:6\u001b[24m\u001b[39m\n",
      "\u001b[0m\u001b[1mTest Summary: | \u001b[22m\u001b[32m\u001b[1mPass  \u001b[22m\u001b[39m\u001b[91m\u001b[1mFail  \u001b[22m\u001b[39m\u001b[36m\u001b[1mTotal  \u001b[22m\u001b[39m\u001b[0m\u001b[1mTime\u001b[22m\n",
      "myPQnaive     | \u001b[32m   1  \u001b[39m\u001b[91m   1  \u001b[39m\u001b[36m    2  \u001b[39m\u001b[0m3.5s\n"
     ]
    },
    {
     "ename": "LoadError",
     "evalue": "\u001b[91mSome tests did not pass: 1 passed, 1 failed, 0 errored, 0 broken.\u001b[39m",
     "output_type": "error",
     "traceback": [
      "\u001b[91mSome tests did not pass: 1 passed, 1 failed, 0 errored, 0 broken.\u001b[39m",
      "",
      "Stacktrace:",
      " [1] finish(ts::Test.DefaultTestSet)",
      "   @ Test /Applications/Julia-1.8.app/Contents/Resources/julia/share/julia/stdlib/v1.8/Test/src/Test.jl:1092",
      " [2] macro expansion",
      "   @ /Applications/Julia-1.8.app/Contents/Resources/julia/share/julia/stdlib/v1.8/Test/src/Test.jl:1368 [inlined]",
      " [3] top-level scope",
      "   @ In[6]:6",
      " [4] eval",
      "   @ ./boot.jl:368 [inlined]",
      " [5] include_string(mapexpr::typeof(REPL.softscope), mod::Module, code::String, filename::String)",
      "   @ Base ./loading.jl:1428"
     ]
    }
   ],
   "source": [
    "using Test\n",
    "f(x,p,q) = x^2-2p*x+q\n",
    "p = 10^7.0\n",
    "q = 1.0\n",
    "@testset \"myPQnaive\" begin     \n",
    "    x1,x2 = myPQnaive(p,q)\n",
    "    @test abs(f(x1,p,q)) < 1e-8\n",
    "    @test abs(f(x2,p,q)) < 1e-8 \n",
    "end"
   ]
  },
  {
   "cell_type": "markdown",
   "id": "fcda6661",
   "metadata": {
    "tags": []
   },
   "source": [
    "Vieta's formula yields\n",
    "\n",
    "\\begin{equation*}\n",
    "x^2-2px+q=(x-x_1)(x-x_2)\\qquad \\Rightarrow \\qquad x_1 \\cdot x_2 = q,\\quad x_1+x_2 = 2p\n",
    "\\end{equation*}\n",
    "\n",
    "b) Write a function myPQ according to Vieta's formula. Check the testset to illustrate improvement upon myPQnaive. "
   ]
  },
  {
   "cell_type": "code",
   "execution_count": 17,
   "id": "2f7bc9b0",
   "metadata": {
    "tags": []
   },
   "outputs": [
    {
     "name": "stdout",
     "output_type": "stream",
     "text": [
      "\u001b[0m\u001b[1mTest Summary: | \u001b[22m\u001b[32m\u001b[1mPass  \u001b[22m\u001b[39m\u001b[36m\u001b[1mTotal  \u001b[22m\u001b[39m\u001b[0m\u001b[1mTime\u001b[22m\n",
      "myPQ          | \u001b[32m   2  \u001b[39m\u001b[36m    2  \u001b[39m\u001b[0m0.0s\n"
     ]
    },
    {
     "data": {
      "text/plain": [
       "Test.DefaultTestSet(\"myPQ\", Any[], 2, false, false, true, 1.666886633027997e9, 1.666886633039962e9)"
      ]
     },
     "execution_count": 17,
     "metadata": {},
     "output_type": "execute_result"
    }
   ],
   "source": [
    "function myPQ(p,q) \n",
    "    s = sqrt(p^2-q)\n",
    "    if p>0\n",
    "        x1 = p + s\n",
    "        x2 = q/x1\n",
    "    elseif p<0\n",
    "        x2 = p - s\n",
    "        x1 = q/x2\n",
    "    end\n",
    "    return x1, x2\n",
    "end\n",
    "    \n",
    "@testset \"myPQ\" begin     \n",
    "    x1,x2 = myPQ(p,q)\n",
    "    @test abs(f(x1,p,q)) < 1e-8\n",
    "    @test abs(f(x2,p,q)) < 1e-8 \n",
    "end"
   ]
  },
  {
   "cell_type": "code",
   "execution_count": 18,
   "id": "f4c4b2f4",
   "metadata": {
    "tags": []
   },
   "outputs": [
    {
     "name": "stdout",
     "output_type": "stream",
     "text": [
      "x1 = 1.9999999999999948e7\n",
      "y1 = 1.9999999999999948e7\n",
      "x2 = 5.029141902923584e-8\n",
      "y2 = 5.000000000000013e-8\n",
      "f(x1, p, q) = 0.0\n",
      "f(y1, p, q) = 0.0\n",
      "f(x2, p, q) = -0.005828380584714354\n",
      "f(y2, p, q) = -2.220446049250313e-16\n"
     ]
    }
   ],
   "source": [
    "x1,x2 = myPQnaive(p,q)\n",
    "y1,y2 = myPQ(p,q)\n",
    "@show x1 y1;\n",
    "@show x2 y2;\n",
    "\n",
    "@show f(x1,p,q) f(y1,p,q);\n",
    "@show f(x2,p,q) f(y2,p,q); "
   ]
  },
  {
   "cell_type": "markdown",
   "id": "ed25a657",
   "metadata": {
    "tags": []
   },
   "source": [
    "# PS.2 (two variance formulas)\n",
    "\n",
    "If bad conditioned computations are not avoidable, then put them at the beginning, NOT at the end.\n",
    "\n",
    "The sample variance of data $x_1,\\ldots,x_n\\in\\mathbb{R}$ is\n",
    "\\begin{equation}\n",
    "\\mathrm{Var}(x_1,\\ldots,x_n)=\\frac{1}{n-1}\\sum_{k=1}^n (x_k-\\bar{x})^2,\\qquad \\bar{x} = \\frac{1}{n}\\sum_{k=1}^n x_k\n",
    "\\end{equation}\n",
    "\n",
    "This formula coincides with \n",
    "\\begin{align}\n",
    "\\mathrm{Var}(x_1,\\ldots,x_n) &= \\frac{1}{n-1} \\sum_{k=1}^n\\left(x_k^2-2x_k\\bar{x}+\\bar{x}^2\\right)\\\\\n",
    "&= \\frac{1}{n-1} \\left(\\sum_{k=1}^n x_k^2 -2n\\bar{x}^2+n\\bar{x}^2\\right)\\\\\n",
    "&= \\frac{1}{n-1} \\left(\\sum_{k=1}^n x_k^2 -n\\bar{x}^2\\right)\\\\\n",
    "&=\\frac{1}{n-1} \\left(\\sum_{k=1}^n x_k^2-\\frac{1}{n}\\left(\\sum_{k=1}^n x_k\\right)^2 \\right)\n",
    "\\end{align}\n",
    "\n",
    "For small variances, the first formula is more stable than the second."
   ]
  },
  {
   "cell_type": "markdown",
   "id": "ffcd507d",
   "metadata": {},
   "source": [
    "**First formula:**\n",
    "\n",
    "\\begin{equation}\n",
    "\\mathrm{Var}(x_1,\\ldots,x_n)=\\frac{1}{n-1}\\sum_{k=1}^n (x_k-\\bar{x})^2,\\qquad \\bar{x} = \\frac{1}{n}\\sum_{k=1}^n x_k\n",
    "\\end{equation}\n",
    "\n",
    "a) Implement the first formula for the sample variance."
   ]
  },
  {
   "cell_type": "code",
   "execution_count": 9,
   "id": "b2ffdd5d",
   "metadata": {},
   "outputs": [
    {
     "data": {
      "text/plain": [
       "myVariance (generic function with 1 method)"
      ]
     },
     "execution_count": 9,
     "metadata": {},
     "output_type": "execute_result"
    }
   ],
   "source": [
    "function myVariance(x)   # first formula \n",
    "    n = length(x)\n",
    "    a = x .- (sum(x) / n)\n",
    "    return sum(a .* a) / (n - 1)\n",
    "end"
   ]
  },
  {
   "cell_type": "markdown",
   "id": "0c038bbf",
   "metadata": {},
   "source": [
    "**Second formula:**\n",
    "\n",
    "\\begin{equation}\n",
    "\\mathrm{Var}(x_1,\\ldots,x_n)=\\frac{1}{n-1} \\left(\\sum_{k=1}^n x_k^2-\\frac{1}{n}\\left(\\sum_{k=1}^n x_k\\right)^2 \\right)\n",
    "\\end{equation}\n",
    "\n",
    "b) Implement the second formula for the sample variance."
   ]
  },
  {
   "cell_type": "code",
   "execution_count": 10,
   "id": "c01bf012",
   "metadata": {},
   "outputs": [
    {
     "data": {
      "text/plain": [
       "myVariance_naive (generic function with 1 method)"
      ]
     },
     "execution_count": 10,
     "metadata": {},
     "output_type": "execute_result"
    }
   ],
   "source": [
    "function myVariance_naive(x) # second formula\n",
    "    n = length(x)\n",
    "    a = sum(x .* x)\n",
    "    b = sum(x)^2 / n\n",
    "    return (a - b) / (n - 1)\n",
    "end"
   ]
  },
  {
   "cell_type": "markdown",
   "id": "3e79ce79",
   "metadata": {},
   "source": [
    "The mean of the data\n",
    "\n",
    "\\begin{align}\n",
    "x_1 & = 10,000,000.0\\\\\n",
    "x_2 & = 10,000,000.1\\\\\n",
    "x_3 & = 10,000,000.2\n",
    "\\end{align}\n",
    "\n",
    "is $\\bar{x}=x_2$ and the variance is\n",
    "\n",
    "\\begin{equation}\n",
    "\\mathrm{Var}(x_1,x_2,x_3) = 2(0.1)^2 /2 = 0.01.\n",
    "\\end{equation}\n",
    "\n",
    "c) Decide which formula provides the more accurate result."
   ]
  },
  {
   "cell_type": "code",
   "execution_count": 11,
   "id": "f2dafddb",
   "metadata": {
    "tags": []
   },
   "outputs": [
    {
     "data": {
      "text/plain": [
       "(0.009999999925494194, -0.03125)"
      ]
     },
     "execution_count": 11,
     "metadata": {},
     "output_type": "execute_result"
    }
   ],
   "source": [
    "x = [10_000_000.0; 10_000_000.1; 10_000_000.2]\n",
    "myVariance(x), myVariance_naive(x)"
   ]
  },
  {
   "cell_type": "markdown",
   "id": "889b4aaf",
   "metadata": {},
   "source": [
    "The first formula provides the more accurate result"
   ]
  },
  {
   "cell_type": "markdown",
   "id": "9718e790",
   "metadata": {},
   "source": [
    "# PS.2 (cancelations)\n",
    "Consider the following functions \n",
    "\\begin{align*}\n",
    "f_1(x)&=x^3−6 a x^2+12 a^2 x-8 a^3=(x−2a)^3,\\qquad a = \\frac{1}{2}\\cdot 10^7 -1=4 999 999 \\\\\n",
    "\\\\\n",
    "f_2(x) & =  \\frac{1}{x-\\sqrt{x^2-1}} \\\\\n",
    "\\\\\n",
    "f_3(x) & = 1-\\sqrt{1-x^2} \\\\\n",
    "\\\\\n",
    "f_4(x) & = x^9-18x^8+144x^7-672x^6+2016x^5-4032x^4+5376x^3-4608x^2+2304x-512 = (x-2)^9 \\\\\n",
    "\\\\\n",
    "f_5(x) &= \\frac{1}{1+2x}-\\frac{1-x}{1+x}\n",
    "\\end{align*}\n"
   ]
  },
  {
   "cell_type": "markdown",
   "id": "3b8096b7",
   "metadata": {},
   "source": [
    "a) Determine $\\kappa_{f_1}(10^7)$. Which of the two versions in julia provides the more accurate value of $f_1(10^7)$?\n",
    "\\begin{align*}\n",
    "\\\\\n",
    "\\kappa_{f_1} &= \\limsup_{x \\not= x_0,\\ x \\rightarrow x_0}{\\frac{||f(x) - f(x_0)||}{||x - x_0||}\\frac{||x_0||}{||f(x_0)||}} \\\\\n",
    "\\\\\n",
    "             &= \\limsup_{x \\not= x_0,\\ x \\rightarrow x_0}{\\frac{||x^3 − 6ax^2 + 12a^2x - 8a^3 - x_0^3 + 6ax_0^2 - 12a^2x_0 + 8a^3||}{||x - x_0||}\\frac{||x_0||}{||(x - 2a)^3||}} \\\\\n",
    "\\\\\n",
    "             &= \\limsup_{x \\not= x_0,\\ x \\rightarrow x_0}{\\frac{||x^3 - x_0^3 − 6a(x^2 - x_0^2) + 12a^2(x - x_0)||}{||x - x_0||}\\frac{||x_0||}{||(x - 2a)^3||}} \\\\\n",
    "\\\\\n",
    "             &= \\limsup_{x \\not= x_0,\\ x \\rightarrow x_0}{\\frac{||(x - x_0)(x^2 + xx_0 + x_0^2) - 6a(x - x_0)(x + x_0) + 12a^2(x - x_0)||}{||x - x_0||}\\frac{||x_0||}{||(x - 2a)^3||}} \\\\\n",
    "\\\\\n",
    "             &= \\limsup_{x \\not= x_0,\\ x \\rightarrow x_0}{\\frac{||x - x_0|| * ||(x^2 + xx_0 + x_0^2) - 6a(x + x_0) + 12a^2||}{||x - x_0||}\\frac{||x_0||}{||(x - 2a)^3||}} \\\\\n",
    "\\\\\n",
    "             &= \\limsup_{x \\not= x_0,\\ x \\rightarrow x_0}{\\frac{||(x^2 + xx_0 + x_0^2) - 6a(x + x_0) + 12a^2||*||x_0||}{||(x - 2a)^3||}} \\\\\n",
    "\\\\\n",
    "             &= \\limsup_{x \\not= x_0,\\ x \\rightarrow x_0}{\\frac{||x^2x_0 + xx_0^2 + x_0^3 - 6axx_0 - 6ax_0^2 + 12a^2x_0||}{||(x - 2a)^3||}} \\\\\n",
    "\\\\\n",
    "             &= \\frac{||3x_0^3 - 12ax_0^2 + 12a^2x_0||}{||(x - 2a)^3||} = \\frac{||3x_0||*||x_0^2 - 4ax_0 + 4a^2||}{||(x - 2a)^3||} = \\frac{||3x_0||*||(x - 2a)^2||}{||(x - 2a)^3||} \\\\\n",
    "\\\\\n",
    "             & = \\frac{||3x_0||}{||x_0 - 2a||} \\Rightarrow \\kappa_{f_1}(10^7) = 1.5 * 10^7\n",
    "\\end{align*}\n",
    "\n",
    "equally and much faster we can write\n",
    "\\begin{align*}\n",
    "\\kappa_{f_1} &= |f_1^{'}(x)|\\frac{|x|}{|f_1(x)|} = |3x^2 - 12ax + 12a^2|\\frac{|x|}{|x^3 − 6ax^2 + 12a^2x - 8a^3|} \\\\\n",
    "\\\\\n",
    "             & = \\frac{3x^3 - 12ax^2 + 12a^2x}{|x^3 − 6ax^2 + 12a^2x - 8a^3|} = \\frac{|3x||x^2 - 4ax + 4a^2|}{|x^3 − 6ax^2 + 12a^2x - 8a^3|} = \\frac{|3x||(x - 2a)^2|}{|(x - 2a)^3|} \\\\\n",
    "\\\\\n",
    "             &= \\frac{|3x|}{|(x - 2a)|} \\Rightarrow \\kappa_{f_1}(10^7) = 1.5 * 10^7\n",
    "\\end{align*}"
   ]
  },
  {
   "cell_type": "code",
   "execution_count": 12,
   "id": "69ceaefc",
   "metadata": {},
   "outputs": [
    {
     "data": {
      "text/plain": [
       "(-9.961241799803154e20, 8.0)"
      ]
     },
     "execution_count": 12,
     "metadata": {},
     "output_type": "execute_result"
    }
   ],
   "source": [
    "function f1a(x, a)\n",
    "    return x^3 - 6*a*x^2 + 12*x*a^2 - 8*a^3\n",
    "end\n",
    "\n",
    "function f1b(x, a)\n",
    "    return (x - 2*a)^3\n",
    "end\n",
    "\n",
    "a = 10^7/2 - 1\n",
    "f1a(10^7, a), f1b(10^7, a)"
   ]
  },
  {
   "cell_type": "markdown",
   "id": "a5393b6a",
   "metadata": {},
   "source": [
    "b) Evaluate $f_2$ at $x=10^7$ in julia. Reformulate $f_2$ to avoid cancelations and evaluate in julia again.\n",
    "\\begin{align*}\n",
    "\\\\\n",
    "f_2(x) &= \\frac{1}{x-\\sqrt{x^2-1}} = \\frac{1}{x - \\sqrt{x^2 - 1}}\\frac{x + \\sqrt{x^2 - 1}}{x + \\sqrt{x^2 - 1}} = \\frac{x + \\sqrt{x^2 - 1}}{x^2 - (x^2 - 1)} = x + \\sqrt{x^2 - 1}\n",
    "\\end{align*}"
   ]
  },
  {
   "cell_type": "code",
   "execution_count": 13,
   "id": "9ac5487e",
   "metadata": {},
   "outputs": [
    {
     "data": {
      "text/plain": [
       "(1.988410785185185e7, 1.9999999999999948e7)"
      ]
     },
     "execution_count": 13,
     "metadata": {},
     "output_type": "execute_result"
    }
   ],
   "source": [
    "function f2a(x)\n",
    "    return 1 / (x - sqrt(x^2 - 1))\n",
    "end\n",
    "\n",
    "function f2b(x)\n",
    "    return x + sqrt(x^2 - 1)\n",
    "end\n",
    "\n",
    "f2a(10^7), f2b(10^7)"
   ]
  },
  {
   "cell_type": "markdown",
   "id": "f6db717e",
   "metadata": {},
   "source": [
    "c) Determine $\\lim_{x\\rightarrow 0}\\kappa_{f_3}(x)$. Reformulate $f_3$ to avoid cancelations when evaluating in julia at $x=10^{-8}$.\n",
    "\\begin{align*}\n",
    "\\\\\n",
    "\\kappa_{f_3} &= |f_3^{'}(x)|\\frac{|x|}{|f_3(x)} = \\frac{|x^2|}{|\\sqrt{1-x^2} - 1 + x^2|} \\\\\n",
    "\\\\\n",
    "\\lim_{x \\rightarrow 0}{\\kappa_{f_3}} &= \\lim_{x \\rightarrow 0}{\\frac{|x^2|}{|\\sqrt{1-x^2} - 1 + x^2|}} \\\\\n",
    "\\\\\n",
    "    &= \\lim_{x \\rightarrow 0}{\\frac{|2x|}{\\left|2x - \\frac{x}{\\sqrt{1 - x^2}}\\right|}} = \\lim_{x \\rightarrow 0}{\\frac{|2|}{\\left|2 - \\frac{1}{(1 - x^2)^{\\frac{3}{2}}}\\right|}} = \\frac{2}{1} = 2\n",
    "\\end{align*}\n",
    "Reformulation\n",
    "\\begin{align*}\n",
    "\\\\\n",
    "f_3(x) &= 1-\\sqrt{1-x^2} = \\left(1 - \\sqrt{1 - x^2}\\right) * \\frac{1 + \\sqrt{1 - x^2}}{1 + \\sqrt{1 - x^2}} = \\frac{x^2}{1 + \\sqrt{1 - x^2}}\n",
    "\\end{align*}"
   ]
  },
  {
   "cell_type": "code",
   "execution_count": 14,
   "id": "a2be6f59",
   "metadata": {},
   "outputs": [
    {
     "data": {
      "text/plain": [
       "(1.1102230246251565e-16, 5.0000000000000005e-17)"
      ]
     },
     "execution_count": 14,
     "metadata": {},
     "output_type": "execute_result"
    }
   ],
   "source": [
    "function f3a(x)\n",
    "    return 1 - sqrt(1 - x^2)\n",
    "end\n",
    "\n",
    "function f3b(x)\n",
    "    return x^2 / (1 + sqrt(1 - x^2))\n",
    "end\n",
    "\n",
    "f3a(10^-8), f3b(10^-8)"
   ]
  },
  {
   "cell_type": "markdown",
   "id": "9ac19933",
   "metadata": {},
   "source": [
    "d) Plot both versions of $f_4$ in julia in the interval $[1.925,2.075]$."
   ]
  },
  {
   "cell_type": "code",
   "execution_count": 15,
   "id": "6a2c3c78",
   "metadata": {},
   "outputs": [
    {
     "data": {
      "image/svg+xml": [
       "<?xml version=\"1.0\" encoding=\"utf-8\"?>\n",
       "<svg xmlns=\"http://www.w3.org/2000/svg\" xmlns:xlink=\"http://www.w3.org/1999/xlink\" width=\"600\" height=\"400\" viewBox=\"0 0 2400 1600\">\n",
       "<defs>\n",
       "  <clipPath id=\"clip540\">\n",
       "    <rect x=\"0\" y=\"0\" width=\"2400\" height=\"1600\"/>\n",
       "  </clipPath>\n",
       "</defs>\n",
       "<path clip-path=\"url(#clip540)\" d=\"\n",
       "M0 1600 L2400 1600 L2400 0 L0 0  Z\n",
       "  \" fill=\"#ffffff\" fill-rule=\"evenodd\" fill-opacity=\"1\"/>\n",
       "<defs>\n",
       "  <clipPath id=\"clip541\">\n",
       "    <rect x=\"480\" y=\"0\" width=\"1681\" height=\"1600\"/>\n",
       "  </clipPath>\n",
       "</defs>\n",
       "<defs>\n",
       "  <clipPath id=\"clip542\">\n",
       "    <rect x=\"330\" y=\"47\" width=\"2023\" height=\"1428\"/>\n",
       "  </clipPath>\n",
       "</defs>\n",
       "<path clip-path=\"url(#clip540)\" d=\"\n",
       "M367.633 1486.45 L2352.76 1486.45 L2352.76 47.2441 L367.633 47.2441  Z\n",
       "  \" fill=\"#ffffff\" fill-rule=\"evenodd\" fill-opacity=\"1\"/>\n",
       "<defs>\n",
       "  <clipPath id=\"clip543\">\n",
       "    <rect x=\"367\" y=\"47\" width=\"1986\" height=\"1440\"/>\n",
       "  </clipPath>\n",
       "</defs>\n",
       "<polyline clip-path=\"url(#clip543)\" style=\"stroke:#000000; stroke-linecap:round; stroke-linejoin:round; stroke-width:2; stroke-opacity:0.1; fill:none\" points=\"\n",
       "  611.091,1486.45 611.091,47.2441 \n",
       "  \"/>\n",
       "<polyline clip-path=\"url(#clip543)\" style=\"stroke:#000000; stroke-linecap:round; stroke-linejoin:round; stroke-width:2; stroke-opacity:0.1; fill:none\" points=\"\n",
       "  860.792,1486.45 860.792,47.2441 \n",
       "  \"/>\n",
       "<polyline clip-path=\"url(#clip543)\" style=\"stroke:#000000; stroke-linecap:round; stroke-linejoin:round; stroke-width:2; stroke-opacity:0.1; fill:none\" points=\"\n",
       "  1110.49,1486.45 1110.49,47.2441 \n",
       "  \"/>\n",
       "<polyline clip-path=\"url(#clip543)\" style=\"stroke:#000000; stroke-linecap:round; stroke-linejoin:round; stroke-width:2; stroke-opacity:0.1; fill:none\" points=\"\n",
       "  1360.19,1486.45 1360.19,47.2441 \n",
       "  \"/>\n",
       "<polyline clip-path=\"url(#clip543)\" style=\"stroke:#000000; stroke-linecap:round; stroke-linejoin:round; stroke-width:2; stroke-opacity:0.1; fill:none\" points=\"\n",
       "  1609.9,1486.45 1609.9,47.2441 \n",
       "  \"/>\n",
       "<polyline clip-path=\"url(#clip543)\" style=\"stroke:#000000; stroke-linecap:round; stroke-linejoin:round; stroke-width:2; stroke-opacity:0.1; fill:none\" points=\"\n",
       "  1859.6,1486.45 1859.6,47.2441 \n",
       "  \"/>\n",
       "<polyline clip-path=\"url(#clip543)\" style=\"stroke:#000000; stroke-linecap:round; stroke-linejoin:round; stroke-width:2; stroke-opacity:0.1; fill:none\" points=\"\n",
       "  2109.3,1486.45 2109.3,47.2441 \n",
       "  \"/>\n",
       "<polyline clip-path=\"url(#clip540)\" style=\"stroke:#000000; stroke-linecap:round; stroke-linejoin:round; stroke-width:4; stroke-opacity:1; fill:none\" points=\"\n",
       "  367.633,1486.45 2352.76,1486.45 \n",
       "  \"/>\n",
       "<polyline clip-path=\"url(#clip540)\" style=\"stroke:#000000; stroke-linecap:round; stroke-linejoin:round; stroke-width:4; stroke-opacity:1; fill:none\" points=\"\n",
       "  611.091,1486.45 611.091,1467.55 \n",
       "  \"/>\n",
       "<polyline clip-path=\"url(#clip540)\" style=\"stroke:#000000; stroke-linecap:round; stroke-linejoin:round; stroke-width:4; stroke-opacity:1; fill:none\" points=\"\n",
       "  860.792,1486.45 860.792,1467.55 \n",
       "  \"/>\n",
       "<polyline clip-path=\"url(#clip540)\" style=\"stroke:#000000; stroke-linecap:round; stroke-linejoin:round; stroke-width:4; stroke-opacity:1; fill:none\" points=\"\n",
       "  1110.49,1486.45 1110.49,1467.55 \n",
       "  \"/>\n",
       "<polyline clip-path=\"url(#clip540)\" style=\"stroke:#000000; stroke-linecap:round; stroke-linejoin:round; stroke-width:4; stroke-opacity:1; fill:none\" points=\"\n",
       "  1360.19,1486.45 1360.19,1467.55 \n",
       "  \"/>\n",
       "<polyline clip-path=\"url(#clip540)\" style=\"stroke:#000000; stroke-linecap:round; stroke-linejoin:round; stroke-width:4; stroke-opacity:1; fill:none\" points=\"\n",
       "  1609.9,1486.45 1609.9,1467.55 \n",
       "  \"/>\n",
       "<polyline clip-path=\"url(#clip540)\" style=\"stroke:#000000; stroke-linecap:round; stroke-linejoin:round; stroke-width:4; stroke-opacity:1; fill:none\" points=\"\n",
       "  1859.6,1486.45 1859.6,1467.55 \n",
       "  \"/>\n",
       "<polyline clip-path=\"url(#clip540)\" style=\"stroke:#000000; stroke-linecap:round; stroke-linejoin:round; stroke-width:4; stroke-opacity:1; fill:none\" points=\"\n",
       "  2109.3,1486.45 2109.3,1467.55 \n",
       "  \"/>\n",
       "<path clip-path=\"url(#clip540)\" d=\"M562.92 1544.91 L570.559 1544.91 L570.559 1518.55 L562.249 1520.21 L562.249 1515.95 L570.513 1514.29 L575.189 1514.29 L575.189 1544.91 L582.828 1544.91 L582.828 1548.85 L562.92 1548.85 L562.92 1544.91 Z\" fill=\"#000000\" fill-rule=\"evenodd\" fill-opacity=\"1\" /><path clip-path=\"url(#clip540)\" d=\"M592.272 1542.97 L597.156 1542.97 L597.156 1548.85 L592.272 1548.85 L592.272 1542.97 Z\" fill=\"#000000\" fill-rule=\"evenodd\" fill-opacity=\"1\" /><path clip-path=\"url(#clip540)\" d=\"M607.48 1548.13 L607.48 1543.87 Q609.24 1544.7 611.045 1545.14 Q612.851 1545.58 614.587 1545.58 Q619.216 1545.58 621.647 1542.48 Q624.101 1539.36 624.448 1533.01 Q623.105 1535.01 621.045 1536.07 Q618.985 1537.13 616.485 1537.13 Q611.3 1537.13 608.267 1534.01 Q605.258 1530.86 605.258 1525.42 Q605.258 1520.1 608.406 1516.88 Q611.554 1513.66 616.786 1513.66 Q622.781 1513.66 625.929 1518.27 Q629.101 1522.85 629.101 1531.6 Q629.101 1539.77 625.212 1544.66 Q621.346 1549.52 614.795 1549.52 Q613.036 1549.52 611.23 1549.17 Q609.425 1548.82 607.48 1548.13 M616.786 1533.48 Q619.934 1533.48 621.763 1531.32 Q623.615 1529.17 623.615 1525.42 Q623.615 1521.7 621.763 1519.54 Q619.934 1517.37 616.786 1517.37 Q613.638 1517.37 611.786 1519.54 Q609.957 1521.7 609.957 1525.42 Q609.957 1529.17 611.786 1531.32 Q613.638 1533.48 616.786 1533.48 Z\" fill=\"#000000\" fill-rule=\"evenodd\" fill-opacity=\"1\" /><path clip-path=\"url(#clip540)\" d=\"M650.351 1518.36 L638.545 1536.81 L650.351 1536.81 L650.351 1518.36 M649.124 1514.29 L655.003 1514.29 L655.003 1536.81 L659.934 1536.81 L659.934 1540.7 L655.003 1540.7 L655.003 1548.85 L650.351 1548.85 L650.351 1540.7 L634.749 1540.7 L634.749 1536.19 L649.124 1514.29 Z\" fill=\"#000000\" fill-rule=\"evenodd\" fill-opacity=\"1\" /><path clip-path=\"url(#clip540)\" d=\"M812.783 1544.91 L820.422 1544.91 L820.422 1518.55 L812.112 1520.21 L812.112 1515.95 L820.376 1514.29 L825.052 1514.29 L825.052 1544.91 L832.691 1544.91 L832.691 1548.85 L812.783 1548.85 L812.783 1544.91 Z\" fill=\"#000000\" fill-rule=\"evenodd\" fill-opacity=\"1\" /><path clip-path=\"url(#clip540)\" d=\"M842.135 1542.97 L847.019 1542.97 L847.019 1548.85 L842.135 1548.85 L842.135 1542.97 Z\" fill=\"#000000\" fill-rule=\"evenodd\" fill-opacity=\"1\" /><path clip-path=\"url(#clip540)\" d=\"M857.343 1548.13 L857.343 1543.87 Q859.103 1544.7 860.908 1545.14 Q862.714 1545.58 864.45 1545.58 Q869.079 1545.58 871.51 1542.48 Q873.964 1539.36 874.311 1533.01 Q872.968 1535.01 870.908 1536.07 Q868.848 1537.13 866.348 1537.13 Q861.163 1537.13 858.13 1534.01 Q855.121 1530.86 855.121 1525.42 Q855.121 1520.1 858.269 1516.88 Q861.417 1513.66 866.649 1513.66 Q872.644 1513.66 875.792 1518.27 Q878.964 1522.85 878.964 1531.6 Q878.964 1539.77 875.075 1544.66 Q871.209 1549.52 864.658 1549.52 Q862.899 1549.52 861.093 1549.17 Q859.288 1548.82 857.343 1548.13 M866.649 1533.48 Q869.797 1533.48 871.626 1531.32 Q873.478 1529.17 873.478 1525.42 Q873.478 1521.7 871.626 1519.54 Q869.797 1517.37 866.649 1517.37 Q863.501 1517.37 861.649 1519.54 Q859.82 1521.7 859.82 1525.42 Q859.82 1529.17 861.649 1531.32 Q863.501 1533.48 866.649 1533.48 Z\" fill=\"#000000\" fill-rule=\"evenodd\" fill-opacity=\"1\" /><path clip-path=\"url(#clip540)\" d=\"M897.945 1529.7 Q894.797 1529.7 892.945 1531.86 Q891.116 1534.01 891.116 1537.76 Q891.116 1541.49 892.945 1543.66 Q894.797 1545.82 897.945 1545.82 Q901.093 1545.82 902.922 1543.66 Q904.774 1541.49 904.774 1537.76 Q904.774 1534.01 902.922 1531.86 Q901.093 1529.7 897.945 1529.7 M907.227 1515.05 L907.227 1519.31 Q905.468 1518.48 903.663 1518.04 Q901.88 1517.6 900.121 1517.6 Q895.491 1517.6 893.038 1520.72 Q890.607 1523.85 890.26 1530.17 Q891.626 1528.15 893.686 1527.09 Q895.746 1526 898.223 1526 Q903.431 1526 906.44 1529.17 Q909.473 1532.32 909.473 1537.76 Q909.473 1543.08 906.325 1546.3 Q903.176 1549.52 897.945 1549.52 Q891.95 1549.52 888.778 1544.94 Q885.607 1540.33 885.607 1531.6 Q885.607 1523.41 889.496 1518.55 Q893.385 1513.66 899.936 1513.66 Q901.695 1513.66 903.477 1514.01 Q905.283 1514.36 907.227 1515.05 Z\" fill=\"#000000\" fill-rule=\"evenodd\" fill-opacity=\"1\" /><path clip-path=\"url(#clip540)\" d=\"M1062.61 1544.91 L1070.25 1544.91 L1070.25 1518.55 L1061.94 1520.21 L1061.94 1515.95 L1070.2 1514.29 L1074.88 1514.29 L1074.88 1544.91 L1082.52 1544.91 L1082.52 1548.85 L1062.61 1548.85 L1062.61 1544.91 Z\" fill=\"#000000\" fill-rule=\"evenodd\" fill-opacity=\"1\" /><path clip-path=\"url(#clip540)\" d=\"M1091.96 1542.97 L1096.85 1542.97 L1096.85 1548.85 L1091.96 1548.85 L1091.96 1542.97 Z\" fill=\"#000000\" fill-rule=\"evenodd\" fill-opacity=\"1\" /><path clip-path=\"url(#clip540)\" d=\"M1107.17 1548.13 L1107.17 1543.87 Q1108.93 1544.7 1110.74 1545.14 Q1112.54 1545.58 1114.28 1545.58 Q1118.91 1545.58 1121.34 1542.48 Q1123.79 1539.36 1124.14 1533.01 Q1122.8 1535.01 1120.74 1536.07 Q1118.68 1537.13 1116.18 1537.13 Q1110.99 1537.13 1107.96 1534.01 Q1104.95 1530.86 1104.95 1525.42 Q1104.95 1520.1 1108.1 1516.88 Q1111.25 1513.66 1116.48 1513.66 Q1122.47 1513.66 1125.62 1518.27 Q1128.79 1522.85 1128.79 1531.6 Q1128.79 1539.77 1124.9 1544.66 Q1121.04 1549.52 1114.49 1549.52 Q1112.73 1549.52 1110.92 1549.17 Q1109.12 1548.82 1107.17 1548.13 M1116.48 1533.48 Q1119.63 1533.48 1121.45 1531.32 Q1123.31 1529.17 1123.31 1525.42 Q1123.31 1521.7 1121.45 1519.54 Q1119.63 1517.37 1116.48 1517.37 Q1113.33 1517.37 1111.48 1519.54 Q1109.65 1521.7 1109.65 1525.42 Q1109.65 1529.17 1111.48 1531.32 Q1113.33 1533.48 1116.48 1533.48 Z\" fill=\"#000000\" fill-rule=\"evenodd\" fill-opacity=\"1\" /><path clip-path=\"url(#clip540)\" d=\"M1147.19 1532.44 Q1143.86 1532.44 1141.94 1534.22 Q1140.04 1536 1140.04 1539.13 Q1140.04 1542.25 1141.94 1544.03 Q1143.86 1545.82 1147.19 1545.82 Q1150.53 1545.82 1152.45 1544.03 Q1154.37 1542.23 1154.37 1539.13 Q1154.37 1536 1152.45 1534.22 Q1150.55 1532.44 1147.19 1532.44 M1142.52 1530.45 Q1139.51 1529.7 1137.82 1527.64 Q1136.15 1525.58 1136.15 1522.62 Q1136.15 1518.48 1139.09 1516.07 Q1142.06 1513.66 1147.19 1513.66 Q1152.36 1513.66 1155.3 1516.07 Q1158.24 1518.48 1158.24 1522.62 Q1158.24 1525.58 1156.55 1527.64 Q1154.88 1529.7 1151.89 1530.45 Q1155.27 1531.23 1157.15 1533.52 Q1159.05 1535.82 1159.05 1539.13 Q1159.05 1544.15 1155.97 1546.83 Q1152.91 1549.52 1147.19 1549.52 Q1141.48 1549.52 1138.4 1546.83 Q1135.34 1544.15 1135.34 1539.13 Q1135.34 1535.82 1137.24 1533.52 Q1139.14 1531.23 1142.52 1530.45 M1140.81 1523.06 Q1140.81 1525.75 1142.47 1527.25 Q1144.16 1528.76 1147.19 1528.76 Q1150.2 1528.76 1151.89 1527.25 Q1153.61 1525.75 1153.61 1523.06 Q1153.61 1520.38 1151.89 1518.87 Q1150.2 1517.37 1147.19 1517.37 Q1144.16 1517.37 1142.47 1518.87 Q1140.81 1520.38 1140.81 1523.06 Z\" fill=\"#000000\" fill-rule=\"evenodd\" fill-opacity=\"1\" /><path clip-path=\"url(#clip540)\" d=\"M1316.35 1544.91 L1332.67 1544.91 L1332.67 1548.85 L1310.73 1548.85 L1310.73 1544.91 Q1313.39 1542.16 1317.97 1537.53 Q1322.58 1532.88 1323.76 1531.53 Q1326 1529.01 1326.88 1527.27 Q1327.79 1525.51 1327.79 1523.82 Q1327.79 1521.07 1325.84 1519.33 Q1323.92 1517.6 1320.82 1517.6 Q1318.62 1517.6 1316.17 1518.36 Q1313.74 1519.13 1310.96 1520.68 L1310.96 1515.95 Q1313.78 1514.82 1316.24 1514.24 Q1318.69 1513.66 1320.73 1513.66 Q1326.1 1513.66 1329.29 1516.35 Q1332.49 1519.03 1332.49 1523.52 Q1332.49 1525.65 1331.68 1527.57 Q1330.89 1529.47 1328.78 1532.07 Q1328.2 1532.74 1325.1 1535.95 Q1322 1539.15 1316.35 1544.91 Z\" fill=\"#000000\" fill-rule=\"evenodd\" fill-opacity=\"1\" /><path clip-path=\"url(#clip540)\" d=\"M1342.49 1542.97 L1347.37 1542.97 L1347.37 1548.85 L1342.49 1548.85 L1342.49 1542.97 Z\" fill=\"#000000\" fill-rule=\"evenodd\" fill-opacity=\"1\" /><path clip-path=\"url(#clip540)\" d=\"M1367.56 1517.37 Q1363.94 1517.37 1362.12 1520.93 Q1360.31 1524.47 1360.31 1531.6 Q1360.31 1538.71 1362.12 1542.27 Q1363.94 1545.82 1367.56 1545.82 Q1371.19 1545.82 1373 1542.27 Q1374.82 1538.71 1374.82 1531.6 Q1374.82 1524.47 1373 1520.93 Q1371.19 1517.37 1367.56 1517.37 M1367.56 1513.66 Q1373.37 1513.66 1376.42 1518.27 Q1379.5 1522.85 1379.5 1531.6 Q1379.5 1540.33 1376.42 1544.94 Q1373.37 1549.52 1367.56 1549.52 Q1361.75 1549.52 1358.67 1544.94 Q1355.61 1540.33 1355.61 1531.6 Q1355.61 1522.85 1358.67 1518.27 Q1361.75 1513.66 1367.56 1513.66 Z\" fill=\"#000000\" fill-rule=\"evenodd\" fill-opacity=\"1\" /><path clip-path=\"url(#clip540)\" d=\"M1397.72 1517.37 Q1394.11 1517.37 1392.28 1520.93 Q1390.47 1524.47 1390.47 1531.6 Q1390.47 1538.71 1392.28 1542.27 Q1394.11 1545.82 1397.72 1545.82 Q1401.35 1545.82 1403.16 1542.27 Q1404.99 1538.71 1404.99 1531.6 Q1404.99 1524.47 1403.16 1520.93 Q1401.35 1517.37 1397.72 1517.37 M1397.72 1513.66 Q1403.53 1513.66 1406.58 1518.27 Q1409.66 1522.85 1409.66 1531.6 Q1409.66 1540.33 1406.58 1544.94 Q1403.53 1549.52 1397.72 1549.52 Q1391.91 1549.52 1388.83 1544.94 Q1385.77 1540.33 1385.77 1531.6 Q1385.77 1522.85 1388.83 1518.27 Q1391.91 1513.66 1397.72 1513.66 Z\" fill=\"#000000\" fill-rule=\"evenodd\" fill-opacity=\"1\" /><path clip-path=\"url(#clip540)\" d=\"M1566.85 1544.91 L1583.17 1544.91 L1583.17 1548.85 L1561.23 1548.85 L1561.23 1544.91 Q1563.89 1542.16 1568.47 1537.53 Q1573.08 1532.88 1574.26 1531.53 Q1576.5 1529.01 1577.38 1527.27 Q1578.29 1525.51 1578.29 1523.82 Q1578.29 1521.07 1576.34 1519.33 Q1574.42 1517.6 1571.32 1517.6 Q1569.12 1517.6 1566.67 1518.36 Q1564.24 1519.13 1561.46 1520.68 L1561.46 1515.95 Q1564.28 1514.82 1566.74 1514.24 Q1569.19 1513.66 1571.23 1513.66 Q1576.6 1513.66 1579.79 1516.35 Q1582.99 1519.03 1582.99 1523.52 Q1582.99 1525.65 1582.18 1527.57 Q1581.39 1529.47 1579.28 1532.07 Q1578.7 1532.74 1575.6 1535.95 Q1572.5 1539.15 1566.85 1544.91 Z\" fill=\"#000000\" fill-rule=\"evenodd\" fill-opacity=\"1\" /><path clip-path=\"url(#clip540)\" d=\"M1592.99 1542.97 L1597.87 1542.97 L1597.87 1548.85 L1592.99 1548.85 L1592.99 1542.97 Z\" fill=\"#000000\" fill-rule=\"evenodd\" fill-opacity=\"1\" /><path clip-path=\"url(#clip540)\" d=\"M1618.06 1517.37 Q1614.44 1517.37 1612.62 1520.93 Q1610.81 1524.47 1610.81 1531.6 Q1610.81 1538.71 1612.62 1542.27 Q1614.44 1545.82 1618.06 1545.82 Q1621.69 1545.82 1623.49 1542.27 Q1625.32 1538.71 1625.32 1531.6 Q1625.32 1524.47 1623.49 1520.93 Q1621.69 1517.37 1618.06 1517.37 M1618.06 1513.66 Q1623.87 1513.66 1626.92 1518.27 Q1630 1522.85 1630 1531.6 Q1630 1540.33 1626.92 1544.94 Q1623.87 1549.52 1618.06 1549.52 Q1612.24 1549.52 1609.17 1544.94 Q1606.11 1540.33 1606.11 1531.6 Q1606.11 1522.85 1609.17 1518.27 Q1612.24 1513.66 1618.06 1513.66 Z\" fill=\"#000000\" fill-rule=\"evenodd\" fill-opacity=\"1\" /><path clip-path=\"url(#clip540)\" d=\"M1642.24 1544.91 L1658.56 1544.91 L1658.56 1548.85 L1636.62 1548.85 L1636.62 1544.91 Q1639.28 1542.16 1643.87 1537.53 Q1648.47 1532.88 1649.65 1531.53 Q1651.9 1529.01 1652.78 1527.27 Q1653.68 1525.51 1653.68 1523.82 Q1653.68 1521.07 1651.74 1519.33 Q1649.81 1517.6 1646.71 1517.6 Q1644.51 1517.6 1642.06 1518.36 Q1639.63 1519.13 1636.85 1520.68 L1636.85 1515.95 Q1639.68 1514.82 1642.13 1514.24 Q1644.58 1513.66 1646.62 1513.66 Q1651.99 1513.66 1655.18 1516.35 Q1658.38 1519.03 1658.38 1523.52 Q1658.38 1525.65 1657.57 1527.57 Q1656.78 1529.47 1654.68 1532.07 Q1654.1 1532.74 1650.99 1535.95 Q1647.89 1539.15 1642.24 1544.91 Z\" fill=\"#000000\" fill-rule=\"evenodd\" fill-opacity=\"1\" /><path clip-path=\"url(#clip540)\" d=\"M1815.51 1544.91 L1831.83 1544.91 L1831.83 1548.85 L1809.89 1548.85 L1809.89 1544.91 Q1812.55 1542.16 1817.13 1537.53 Q1821.74 1532.88 1822.92 1531.53 Q1825.16 1529.01 1826.04 1527.27 Q1826.95 1525.51 1826.95 1523.82 Q1826.95 1521.07 1825 1519.33 Q1823.08 1517.6 1819.98 1517.6 Q1817.78 1517.6 1815.33 1518.36 Q1812.9 1519.13 1810.12 1520.68 L1810.12 1515.95 Q1812.94 1514.82 1815.4 1514.24 Q1817.85 1513.66 1819.89 1513.66 Q1825.26 1513.66 1828.45 1516.35 Q1831.65 1519.03 1831.65 1523.52 Q1831.65 1525.65 1830.84 1527.57 Q1830.05 1529.47 1827.94 1532.07 Q1827.36 1532.74 1824.26 1535.95 Q1821.16 1539.15 1815.51 1544.91 Z\" fill=\"#000000\" fill-rule=\"evenodd\" fill-opacity=\"1\" /><path clip-path=\"url(#clip540)\" d=\"M1841.65 1542.97 L1846.53 1542.97 L1846.53 1548.85 L1841.65 1548.85 L1841.65 1542.97 Z\" fill=\"#000000\" fill-rule=\"evenodd\" fill-opacity=\"1\" /><path clip-path=\"url(#clip540)\" d=\"M1866.71 1517.37 Q1863.1 1517.37 1861.27 1520.93 Q1859.47 1524.47 1859.47 1531.6 Q1859.47 1538.71 1861.27 1542.27 Q1863.1 1545.82 1866.71 1545.82 Q1870.35 1545.82 1872.15 1542.27 Q1873.98 1538.71 1873.98 1531.6 Q1873.98 1524.47 1872.15 1520.93 Q1870.35 1517.37 1866.71 1517.37 M1866.71 1513.66 Q1872.52 1513.66 1875.58 1518.27 Q1878.66 1522.85 1878.66 1531.6 Q1878.66 1540.33 1875.58 1544.94 Q1872.52 1549.52 1866.71 1549.52 Q1860.9 1549.52 1857.83 1544.94 Q1854.77 1540.33 1854.77 1531.6 Q1854.77 1522.85 1857.83 1518.27 Q1860.9 1513.66 1866.71 1513.66 Z\" fill=\"#000000\" fill-rule=\"evenodd\" fill-opacity=\"1\" /><path clip-path=\"url(#clip540)\" d=\"M1899.72 1518.36 L1887.92 1536.81 L1899.72 1536.81 L1899.72 1518.36 M1898.5 1514.29 L1904.38 1514.29 L1904.38 1536.81 L1909.31 1536.81 L1909.31 1540.7 L1904.38 1540.7 L1904.38 1548.85 L1899.72 1548.85 L1899.72 1540.7 L1884.12 1540.7 L1884.12 1536.19 L1898.5 1514.29 Z\" fill=\"#000000\" fill-rule=\"evenodd\" fill-opacity=\"1\" /><path clip-path=\"url(#clip540)\" d=\"M2065.37 1544.91 L2081.69 1544.91 L2081.69 1548.85 L2059.75 1548.85 L2059.75 1544.91 Q2062.41 1542.16 2066.99 1537.53 Q2071.6 1532.88 2072.78 1531.53 Q2075.03 1529.01 2075.91 1527.27 Q2076.81 1525.51 2076.81 1523.82 Q2076.81 1521.07 2074.86 1519.33 Q2072.94 1517.6 2069.84 1517.6 Q2067.64 1517.6 2065.19 1518.36 Q2062.76 1519.13 2059.98 1520.68 L2059.98 1515.95 Q2062.8 1514.82 2065.26 1514.24 Q2067.71 1513.66 2069.75 1513.66 Q2075.12 1513.66 2078.31 1516.35 Q2081.51 1519.03 2081.51 1523.52 Q2081.51 1525.65 2080.7 1527.57 Q2079.91 1529.47 2077.8 1532.07 Q2077.23 1532.74 2074.12 1535.95 Q2071.02 1539.15 2065.37 1544.91 Z\" fill=\"#000000\" fill-rule=\"evenodd\" fill-opacity=\"1\" /><path clip-path=\"url(#clip540)\" d=\"M2091.51 1542.97 L2096.39 1542.97 L2096.39 1548.85 L2091.51 1548.85 L2091.51 1542.97 Z\" fill=\"#000000\" fill-rule=\"evenodd\" fill-opacity=\"1\" /><path clip-path=\"url(#clip540)\" d=\"M2116.58 1517.37 Q2112.97 1517.37 2111.14 1520.93 Q2109.33 1524.47 2109.33 1531.6 Q2109.33 1538.71 2111.14 1542.27 Q2112.97 1545.82 2116.58 1545.82 Q2120.21 1545.82 2122.02 1542.27 Q2123.85 1538.71 2123.85 1531.6 Q2123.85 1524.47 2122.02 1520.93 Q2120.21 1517.37 2116.58 1517.37 M2116.58 1513.66 Q2122.39 1513.66 2125.44 1518.27 Q2128.52 1522.85 2128.52 1531.6 Q2128.52 1540.33 2125.44 1544.94 Q2122.39 1549.52 2116.58 1549.52 Q2110.77 1549.52 2107.69 1544.94 Q2104.63 1540.33 2104.63 1531.6 Q2104.63 1522.85 2107.69 1518.27 Q2110.77 1513.66 2116.58 1513.66 Z\" fill=\"#000000\" fill-rule=\"evenodd\" fill-opacity=\"1\" /><path clip-path=\"url(#clip540)\" d=\"M2147.32 1529.7 Q2144.17 1529.7 2142.32 1531.86 Q2140.49 1534.01 2140.49 1537.76 Q2140.49 1541.49 2142.32 1543.66 Q2144.17 1545.82 2147.32 1545.82 Q2150.47 1545.82 2152.29 1543.66 Q2154.15 1541.49 2154.15 1537.76 Q2154.15 1534.01 2152.29 1531.86 Q2150.47 1529.7 2147.32 1529.7 M2156.6 1515.05 L2156.6 1519.31 Q2154.84 1518.48 2153.04 1518.04 Q2151.25 1517.6 2149.49 1517.6 Q2144.86 1517.6 2142.41 1520.72 Q2139.98 1523.85 2139.63 1530.17 Q2141 1528.15 2143.06 1527.09 Q2145.12 1526 2147.6 1526 Q2152.8 1526 2155.81 1529.17 Q2158.85 1532.32 2158.85 1537.76 Q2158.85 1543.08 2155.7 1546.3 Q2152.55 1549.52 2147.32 1549.52 Q2141.32 1549.52 2138.15 1544.94 Q2134.98 1540.33 2134.98 1531.6 Q2134.98 1523.41 2138.87 1518.55 Q2142.76 1513.66 2149.31 1513.66 Q2151.07 1513.66 2152.85 1514.01 Q2154.66 1514.36 2156.6 1515.05 Z\" fill=\"#000000\" fill-rule=\"evenodd\" fill-opacity=\"1\" /><polyline clip-path=\"url(#clip543)\" style=\"stroke:#000000; stroke-linecap:round; stroke-linejoin:round; stroke-width:2; stroke-opacity:0.1; fill:none\" points=\"\n",
       "  367.633,1272.97 2352.76,1272.97 \n",
       "  \"/>\n",
       "<polyline clip-path=\"url(#clip543)\" style=\"stroke:#000000; stroke-linecap:round; stroke-linejoin:round; stroke-width:2; stroke-opacity:0.1; fill:none\" points=\"\n",
       "  367.633,1025.53 2352.76,1025.53 \n",
       "  \"/>\n",
       "<polyline clip-path=\"url(#clip543)\" style=\"stroke:#000000; stroke-linecap:round; stroke-linejoin:round; stroke-width:2; stroke-opacity:0.1; fill:none\" points=\"\n",
       "  367.633,778.098 2352.76,778.098 \n",
       "  \"/>\n",
       "<polyline clip-path=\"url(#clip543)\" style=\"stroke:#000000; stroke-linecap:round; stroke-linejoin:round; stroke-width:2; stroke-opacity:0.1; fill:none\" points=\"\n",
       "  367.633,530.664 2352.76,530.664 \n",
       "  \"/>\n",
       "<polyline clip-path=\"url(#clip543)\" style=\"stroke:#000000; stroke-linecap:round; stroke-linejoin:round; stroke-width:2; stroke-opacity:0.1; fill:none\" points=\"\n",
       "  367.633,283.23 2352.76,283.23 \n",
       "  \"/>\n",
       "<polyline clip-path=\"url(#clip540)\" style=\"stroke:#000000; stroke-linecap:round; stroke-linejoin:round; stroke-width:4; stroke-opacity:1; fill:none\" points=\"\n",
       "  367.633,1486.45 367.633,47.2441 \n",
       "  \"/>\n",
       "<polyline clip-path=\"url(#clip540)\" style=\"stroke:#000000; stroke-linecap:round; stroke-linejoin:round; stroke-width:4; stroke-opacity:1; fill:none\" points=\"\n",
       "  367.633,1272.97 386.531,1272.97 \n",
       "  \"/>\n",
       "<polyline clip-path=\"url(#clip540)\" style=\"stroke:#000000; stroke-linecap:round; stroke-linejoin:round; stroke-width:4; stroke-opacity:1; fill:none\" points=\"\n",
       "  367.633,1025.53 386.531,1025.53 \n",
       "  \"/>\n",
       "<polyline clip-path=\"url(#clip540)\" style=\"stroke:#000000; stroke-linecap:round; stroke-linejoin:round; stroke-width:4; stroke-opacity:1; fill:none\" points=\"\n",
       "  367.633,778.098 386.531,778.098 \n",
       "  \"/>\n",
       "<polyline clip-path=\"url(#clip540)\" style=\"stroke:#000000; stroke-linecap:round; stroke-linejoin:round; stroke-width:4; stroke-opacity:1; fill:none\" points=\"\n",
       "  367.633,530.664 386.531,530.664 \n",
       "  \"/>\n",
       "<polyline clip-path=\"url(#clip540)\" style=\"stroke:#000000; stroke-linecap:round; stroke-linejoin:round; stroke-width:4; stroke-opacity:1; fill:none\" points=\"\n",
       "  367.633,283.23 386.531,283.23 \n",
       "  \"/>\n",
       "<path clip-path=\"url(#clip540)\" d=\"M50.9921 1279.86 L80.6679 1279.86 L80.6679 1283.8 L50.9921 1283.8 L50.9921 1279.86 Z\" fill=\"#000000\" fill-rule=\"evenodd\" fill-opacity=\"1\" /><path clip-path=\"url(#clip540)\" d=\"M101.339 1277.55 Q98.1909 1277.55 96.3391 1279.7 Q94.5104 1281.86 94.5104 1285.61 Q94.5104 1289.33 96.3391 1291.51 Q98.1909 1293.66 101.339 1293.66 Q104.487 1293.66 106.316 1291.51 Q108.168 1289.33 108.168 1285.61 Q108.168 1281.86 106.316 1279.7 Q104.487 1277.55 101.339 1277.55 M110.621 1262.9 L110.621 1267.16 Q108.862 1266.32 107.057 1265.88 Q105.274 1265.44 103.515 1265.44 Q98.8854 1265.44 96.4317 1268.57 Q94.0012 1271.69 93.6539 1278.01 Q95.0197 1276 97.0798 1274.93 Q99.14 1273.85 101.617 1273.85 Q106.825 1273.85 109.834 1277.02 Q112.867 1280.17 112.867 1285.61 Q112.867 1290.93 109.719 1294.15 Q106.571 1297.36 101.339 1297.36 Q95.3437 1297.36 92.1725 1292.78 Q89.0012 1288.17 89.0012 1279.45 Q89.0012 1271.25 92.89 1266.39 Q96.7789 1261.51 103.33 1261.51 Q105.089 1261.51 106.871 1261.86 Q108.677 1262.2 110.621 1262.9 Z\" fill=\"#000000\" fill-rule=\"evenodd\" fill-opacity=\"1\" /><path clip-path=\"url(#clip540)\" d=\"M120.922 1290.81 L125.807 1290.81 L125.807 1296.69 L120.922 1296.69 L120.922 1290.81 Z\" fill=\"#000000\" fill-rule=\"evenodd\" fill-opacity=\"1\" /><path clip-path=\"url(#clip540)\" d=\"M145.992 1265.21 Q142.381 1265.21 140.552 1268.78 Q138.746 1272.32 138.746 1279.45 Q138.746 1286.55 140.552 1290.12 Q142.381 1293.66 145.992 1293.66 Q149.626 1293.66 151.431 1290.12 Q153.26 1286.55 153.26 1279.45 Q153.26 1272.32 151.431 1268.78 Q149.626 1265.21 145.992 1265.21 M145.992 1261.51 Q151.802 1261.51 154.857 1266.11 Q157.936 1270.7 157.936 1279.45 Q157.936 1288.17 154.857 1292.78 Q151.802 1297.36 145.992 1297.36 Q140.181 1297.36 137.103 1292.78 Q134.047 1288.17 134.047 1279.45 Q134.047 1270.7 137.103 1266.11 Q140.181 1261.51 145.992 1261.51 Z\" fill=\"#000000\" fill-rule=\"evenodd\" fill-opacity=\"1\" /><path clip-path=\"url(#clip540)\" d=\"M194.325 1271.23 L183.746 1281.86 L194.325 1292.43 L191.57 1295.23 L180.945 1284.61 L170.32 1295.23 L167.589 1292.43 L178.144 1281.86 L167.589 1271.23 L170.32 1268.43 L180.945 1279.05 L191.57 1268.43 L194.325 1271.23 Z\" fill=\"#000000\" fill-rule=\"evenodd\" fill-opacity=\"1\" /><path clip-path=\"url(#clip540)\" d=\"M206.686 1292.76 L214.325 1292.76 L214.325 1266.39 L206.014 1268.06 L206.014 1263.8 L214.278 1262.13 L218.954 1262.13 L218.954 1292.76 L226.593 1292.76 L226.593 1296.69 L206.686 1296.69 L206.686 1292.76 Z\" fill=\"#000000\" fill-rule=\"evenodd\" fill-opacity=\"1\" /><path clip-path=\"url(#clip540)\" d=\"M246.037 1265.21 Q242.426 1265.21 240.598 1268.78 Q238.792 1272.32 238.792 1279.45 Q238.792 1286.55 240.598 1290.12 Q242.426 1293.66 246.037 1293.66 Q249.672 1293.66 251.477 1290.12 Q253.306 1286.55 253.306 1279.45 Q253.306 1272.32 251.477 1268.78 Q249.672 1265.21 246.037 1265.21 M246.037 1261.51 Q251.848 1261.51 254.903 1266.11 Q257.982 1270.7 257.982 1279.45 Q257.982 1288.17 254.903 1292.78 Q251.848 1297.36 246.037 1297.36 Q240.227 1297.36 237.149 1292.78 Q234.093 1288.17 234.093 1279.45 Q234.093 1270.7 237.149 1266.11 Q240.227 1261.51 246.037 1261.51 Z\" fill=\"#000000\" fill-rule=\"evenodd\" fill-opacity=\"1\" /><path clip-path=\"url(#clip540)\" d=\"M257.982 1255.61 L282.093 1255.61 L282.093 1258.81 L257.982 1258.81 L257.982 1255.61 Z\" fill=\"#000000\" fill-rule=\"evenodd\" fill-opacity=\"1\" /><path clip-path=\"url(#clip540)\" d=\"M290.952 1266.09 L297.158 1266.09 L297.158 1244.66 L290.406 1246.02 L290.406 1242.56 L297.121 1241.2 L300.92 1241.2 L300.92 1266.09 L307.126 1266.09 L307.126 1269.28 L290.952 1269.28 L290.952 1266.09 Z\" fill=\"#000000\" fill-rule=\"evenodd\" fill-opacity=\"1\" /><path clip-path=\"url(#clip540)\" d=\"M315.458 1266.09 L321.665 1266.09 L321.665 1244.66 L314.913 1246.02 L314.913 1242.56 L321.627 1241.2 L325.426 1241.2 L325.426 1266.09 L331.633 1266.09 L331.633 1269.28 L315.458 1269.28 L315.458 1266.09 Z\" fill=\"#000000\" fill-rule=\"evenodd\" fill-opacity=\"1\" /><path clip-path=\"url(#clip540)\" d=\"M50.9921 1032.43 L80.6679 1032.43 L80.6679 1036.37 L50.9921 1036.37 L50.9921 1032.43 Z\" fill=\"#000000\" fill-rule=\"evenodd\" fill-opacity=\"1\" /><path clip-path=\"url(#clip540)\" d=\"M104.927 1030.63 Q108.283 1031.34 110.158 1033.61 Q112.057 1035.88 112.057 1039.21 Q112.057 1044.33 108.538 1047.13 Q105.02 1049.93 98.5382 1049.93 Q96.3623 1049.93 94.0475 1049.49 Q91.7558 1049.07 89.3021 1048.22 L89.3021 1043.7 Q91.2465 1044.84 93.5613 1045.42 Q95.8761 1046 98.3993 1046 Q102.797 1046 105.089 1044.26 Q107.404 1042.52 107.404 1039.21 Q107.404 1036.16 105.251 1034.44 Q103.121 1032.71 99.3021 1032.71 L95.2743 1032.71 L95.2743 1028.87 L99.4872 1028.87 Q102.936 1028.87 104.765 1027.5 Q106.594 1026.11 106.594 1023.52 Q106.594 1020.86 104.696 1019.44 Q102.821 1018.01 99.3021 1018.01 Q97.3808 1018.01 95.1817 1018.43 Q92.9826 1018.84 90.3438 1019.72 L90.3438 1015.56 Q93.0058 1014.82 95.3206 1014.44 Q97.6585 1014.07 99.7187 1014.07 Q105.043 1014.07 108.145 1016.5 Q111.246 1018.91 111.246 1023.03 Q111.246 1025.9 109.603 1027.89 Q107.959 1029.86 104.927 1030.63 Z\" fill=\"#000000\" fill-rule=\"evenodd\" fill-opacity=\"1\" /><path clip-path=\"url(#clip540)\" d=\"M120.922 1043.38 L125.807 1043.38 L125.807 1049.26 L120.922 1049.26 L120.922 1043.38 Z\" fill=\"#000000\" fill-rule=\"evenodd\" fill-opacity=\"1\" /><path clip-path=\"url(#clip540)\" d=\"M145.992 1017.78 Q142.381 1017.78 140.552 1021.34 Q138.746 1024.88 138.746 1032.01 Q138.746 1039.12 140.552 1042.69 Q142.381 1046.23 145.992 1046.23 Q149.626 1046.23 151.431 1042.69 Q153.26 1039.12 153.26 1032.01 Q153.26 1024.88 151.431 1021.34 Q149.626 1017.78 145.992 1017.78 M145.992 1014.07 Q151.802 1014.07 154.857 1018.68 Q157.936 1023.26 157.936 1032.01 Q157.936 1040.74 154.857 1045.35 Q151.802 1049.93 145.992 1049.93 Q140.181 1049.93 137.103 1045.35 Q134.047 1040.74 134.047 1032.01 Q134.047 1023.26 137.103 1018.68 Q140.181 1014.07 145.992 1014.07 Z\" fill=\"#000000\" fill-rule=\"evenodd\" fill-opacity=\"1\" /><path clip-path=\"url(#clip540)\" d=\"M194.325 1023.8 L183.746 1034.42 L194.325 1045 L191.57 1047.8 L180.945 1037.18 L170.32 1047.8 L167.589 1045 L178.144 1034.42 L167.589 1023.8 L170.32 1021 L180.945 1031.62 L191.57 1021 L194.325 1023.8 Z\" fill=\"#000000\" fill-rule=\"evenodd\" fill-opacity=\"1\" /><path clip-path=\"url(#clip540)\" d=\"M206.686 1045.32 L214.325 1045.32 L214.325 1018.96 L206.014 1020.63 L206.014 1016.37 L214.278 1014.7 L218.954 1014.7 L218.954 1045.32 L226.593 1045.32 L226.593 1049.26 L206.686 1049.26 L206.686 1045.32 Z\" fill=\"#000000\" fill-rule=\"evenodd\" fill-opacity=\"1\" /><path clip-path=\"url(#clip540)\" d=\"M246.037 1017.78 Q242.426 1017.78 240.598 1021.34 Q238.792 1024.88 238.792 1032.01 Q238.792 1039.12 240.598 1042.69 Q242.426 1046.23 246.037 1046.23 Q249.672 1046.23 251.477 1042.69 Q253.306 1039.12 253.306 1032.01 Q253.306 1024.88 251.477 1021.34 Q249.672 1017.78 246.037 1017.78 M246.037 1014.07 Q251.848 1014.07 254.903 1018.68 Q257.982 1023.26 257.982 1032.01 Q257.982 1040.74 254.903 1045.35 Q251.848 1049.93 246.037 1049.93 Q240.227 1049.93 237.149 1045.35 Q234.093 1040.74 234.093 1032.01 Q234.093 1023.26 237.149 1018.68 Q240.227 1014.07 246.037 1014.07 Z\" fill=\"#000000\" fill-rule=\"evenodd\" fill-opacity=\"1\" /><path clip-path=\"url(#clip540)\" d=\"M257.982 1008.18 L282.093 1008.18 L282.093 1011.37 L257.982 1011.37 L257.982 1008.18 Z\" fill=\"#000000\" fill-rule=\"evenodd\" fill-opacity=\"1\" /><path clip-path=\"url(#clip540)\" d=\"M290.952 1018.65 L297.158 1018.65 L297.158 997.23 L290.406 998.584 L290.406 995.123 L297.121 993.769 L300.92 993.769 L300.92 1018.65 L307.126 1018.65 L307.126 1021.85 L290.952 1021.85 L290.952 1018.65 Z\" fill=\"#000000\" fill-rule=\"evenodd\" fill-opacity=\"1\" /><path clip-path=\"url(#clip540)\" d=\"M315.458 1018.65 L321.665 1018.65 L321.665 997.23 L314.913 998.584 L314.913 995.123 L321.627 993.769 L325.426 993.769 L325.426 1018.65 L331.633 1018.65 L331.633 1021.85 L315.458 1021.85 L315.458 1018.65 Z\" fill=\"#000000\" fill-rule=\"evenodd\" fill-opacity=\"1\" /><path clip-path=\"url(#clip540)\" d=\"M319.689 763.897 Q316.078 763.897 314.249 767.461 Q312.443 771.003 312.443 778.133 Q312.443 785.239 314.249 788.804 Q316.078 792.346 319.689 792.346 Q323.323 792.346 325.128 788.804 Q326.957 785.239 326.957 778.133 Q326.957 771.003 325.128 767.461 Q323.323 763.897 319.689 763.897 M319.689 760.193 Q325.499 760.193 328.554 764.799 Q331.633 769.383 331.633 778.133 Q331.633 786.859 328.554 791.466 Q325.499 796.049 319.689 796.049 Q313.878 796.049 310.8 791.466 Q307.744 786.859 307.744 778.133 Q307.744 769.383 310.8 764.799 Q313.878 760.193 319.689 760.193 Z\" fill=\"#000000\" fill-rule=\"evenodd\" fill-opacity=\"1\" /><path clip-path=\"url(#clip540)\" d=\"M104.927 535.758 Q108.283 536.475 110.158 538.744 Q112.057 541.012 112.057 544.346 Q112.057 549.461 108.538 552.262 Q105.02 555.063 98.5382 555.063 Q96.3623 555.063 94.0475 554.623 Q91.7558 554.207 89.3021 553.35 L89.3021 548.836 Q91.2465 549.971 93.5613 550.549 Q95.8761 551.128 98.3993 551.128 Q102.797 551.128 105.089 549.392 Q107.404 547.656 107.404 544.346 Q107.404 541.29 105.251 539.577 Q103.121 537.841 99.3021 537.841 L95.2743 537.841 L95.2743 533.998 L99.4872 533.998 Q102.936 533.998 104.765 532.633 Q106.594 531.244 106.594 528.651 Q106.594 525.989 104.696 524.577 Q102.821 523.142 99.3021 523.142 Q97.3808 523.142 95.1817 523.559 Q92.9826 523.975 90.3438 524.855 L90.3438 520.688 Q93.0058 519.948 95.3206 519.577 Q97.6585 519.207 99.7187 519.207 Q105.043 519.207 108.145 521.637 Q111.246 524.045 111.246 528.165 Q111.246 531.035 109.603 533.026 Q107.959 534.994 104.927 535.758 Z\" fill=\"#000000\" fill-rule=\"evenodd\" fill-opacity=\"1\" /><path clip-path=\"url(#clip540)\" d=\"M120.922 548.512 L125.807 548.512 L125.807 554.392 L120.922 554.392 L120.922 548.512 Z\" fill=\"#000000\" fill-rule=\"evenodd\" fill-opacity=\"1\" /><path clip-path=\"url(#clip540)\" d=\"M145.992 522.911 Q142.381 522.911 140.552 526.475 Q138.746 530.017 138.746 537.147 Q138.746 544.253 140.552 547.818 Q142.381 551.359 145.992 551.359 Q149.626 551.359 151.431 547.818 Q153.26 544.253 153.26 537.147 Q153.26 530.017 151.431 526.475 Q149.626 522.911 145.992 522.911 M145.992 519.207 Q151.802 519.207 154.857 523.813 Q157.936 528.397 157.936 537.147 Q157.936 545.873 154.857 550.48 Q151.802 555.063 145.992 555.063 Q140.181 555.063 137.103 550.48 Q134.047 545.873 134.047 537.147 Q134.047 528.397 137.103 523.813 Q140.181 519.207 145.992 519.207 Z\" fill=\"#000000\" fill-rule=\"evenodd\" fill-opacity=\"1\" /><path clip-path=\"url(#clip540)\" d=\"M194.325 528.929 L183.746 539.554 L194.325 550.133 L191.57 552.933 L180.945 542.309 L170.32 552.933 L167.589 550.133 L178.144 539.554 L167.589 528.929 L170.32 526.128 L180.945 536.753 L191.57 526.128 L194.325 528.929 Z\" fill=\"#000000\" fill-rule=\"evenodd\" fill-opacity=\"1\" /><path clip-path=\"url(#clip540)\" d=\"M206.686 550.457 L214.325 550.457 L214.325 524.091 L206.014 525.758 L206.014 521.498 L214.278 519.832 L218.954 519.832 L218.954 550.457 L226.593 550.457 L226.593 554.392 L206.686 554.392 L206.686 550.457 Z\" fill=\"#000000\" fill-rule=\"evenodd\" fill-opacity=\"1\" /><path clip-path=\"url(#clip540)\" d=\"M246.037 522.911 Q242.426 522.911 240.598 526.475 Q238.792 530.017 238.792 537.147 Q238.792 544.253 240.598 547.818 Q242.426 551.359 246.037 551.359 Q249.672 551.359 251.477 547.818 Q253.306 544.253 253.306 537.147 Q253.306 530.017 251.477 526.475 Q249.672 522.911 246.037 522.911 M246.037 519.207 Q251.848 519.207 254.903 523.813 Q257.982 528.397 257.982 537.147 Q257.982 545.873 254.903 550.48 Q251.848 555.063 246.037 555.063 Q240.227 555.063 237.149 550.48 Q234.093 545.873 234.093 537.147 Q234.093 528.397 237.149 523.813 Q240.227 519.207 246.037 519.207 Z\" fill=\"#000000\" fill-rule=\"evenodd\" fill-opacity=\"1\" /><path clip-path=\"url(#clip540)\" d=\"M257.982 513.308 L282.093 513.308 L282.093 516.505 L257.982 516.505 L257.982 513.308 Z\" fill=\"#000000\" fill-rule=\"evenodd\" fill-opacity=\"1\" /><path clip-path=\"url(#clip540)\" d=\"M290.952 523.784 L297.158 523.784 L297.158 502.362 L290.406 503.716 L290.406 500.256 L297.121 498.901 L300.92 498.901 L300.92 523.784 L307.126 523.784 L307.126 526.981 L290.952 526.981 L290.952 523.784 Z\" fill=\"#000000\" fill-rule=\"evenodd\" fill-opacity=\"1\" /><path clip-path=\"url(#clip540)\" d=\"M315.458 523.784 L321.665 523.784 L321.665 502.362 L314.913 503.716 L314.913 500.256 L321.627 498.901 L325.426 498.901 L325.426 523.784 L331.633 523.784 L331.633 526.981 L315.458 526.981 L315.458 523.784 Z\" fill=\"#000000\" fill-rule=\"evenodd\" fill-opacity=\"1\" /><path clip-path=\"url(#clip540)\" d=\"M101.339 287.815 Q98.1909 287.815 96.3391 289.967 Q94.5104 292.12 94.5104 295.87 Q94.5104 299.597 96.3391 301.773 Q98.1909 303.926 101.339 303.926 Q104.487 303.926 106.316 301.773 Q108.168 299.597 108.168 295.87 Q108.168 292.12 106.316 289.967 Q104.487 287.815 101.339 287.815 M110.621 273.162 L110.621 277.421 Q108.862 276.588 107.057 276.148 Q105.274 275.708 103.515 275.708 Q98.8854 275.708 96.4317 278.833 Q94.0012 281.958 93.6539 288.278 Q95.0197 286.264 97.0798 285.199 Q99.14 284.111 101.617 284.111 Q106.825 284.111 109.834 287.282 Q112.867 290.43 112.867 295.87 Q112.867 301.194 109.719 304.412 Q106.571 307.629 101.339 307.629 Q95.3437 307.629 92.1725 303.046 Q89.0012 298.44 89.0012 289.713 Q89.0012 281.518 92.89 276.657 Q96.7789 271.773 103.33 271.773 Q105.089 271.773 106.871 272.12 Q108.677 272.468 110.621 273.162 Z\" fill=\"#000000\" fill-rule=\"evenodd\" fill-opacity=\"1\" /><path clip-path=\"url(#clip540)\" d=\"M120.922 301.078 L125.807 301.078 L125.807 306.958 L120.922 306.958 L120.922 301.078 Z\" fill=\"#000000\" fill-rule=\"evenodd\" fill-opacity=\"1\" /><path clip-path=\"url(#clip540)\" d=\"M145.992 275.477 Q142.381 275.477 140.552 279.042 Q138.746 282.583 138.746 289.713 Q138.746 296.819 140.552 300.384 Q142.381 303.926 145.992 303.926 Q149.626 303.926 151.431 300.384 Q153.26 296.819 153.26 289.713 Q153.26 282.583 151.431 279.042 Q149.626 275.477 145.992 275.477 M145.992 271.773 Q151.802 271.773 154.857 276.38 Q157.936 280.963 157.936 289.713 Q157.936 298.44 154.857 303.046 Q151.802 307.629 145.992 307.629 Q140.181 307.629 137.103 303.046 Q134.047 298.44 134.047 289.713 Q134.047 280.963 137.103 276.38 Q140.181 271.773 145.992 271.773 Z\" fill=\"#000000\" fill-rule=\"evenodd\" fill-opacity=\"1\" /><path clip-path=\"url(#clip540)\" d=\"M194.325 281.495 L183.746 292.12 L194.325 302.699 L191.57 305.5 L180.945 294.875 L170.32 305.5 L167.589 302.699 L178.144 292.12 L167.589 281.495 L170.32 278.694 L180.945 289.319 L191.57 278.694 L194.325 281.495 Z\" fill=\"#000000\" fill-rule=\"evenodd\" fill-opacity=\"1\" /><path clip-path=\"url(#clip540)\" d=\"M206.686 303.023 L214.325 303.023 L214.325 276.657 L206.014 278.324 L206.014 274.065 L214.278 272.398 L218.954 272.398 L218.954 303.023 L226.593 303.023 L226.593 306.958 L206.686 306.958 L206.686 303.023 Z\" fill=\"#000000\" fill-rule=\"evenodd\" fill-opacity=\"1\" /><path clip-path=\"url(#clip540)\" d=\"M246.037 275.477 Q242.426 275.477 240.598 279.042 Q238.792 282.583 238.792 289.713 Q238.792 296.819 240.598 300.384 Q242.426 303.926 246.037 303.926 Q249.672 303.926 251.477 300.384 Q253.306 296.819 253.306 289.713 Q253.306 282.583 251.477 279.042 Q249.672 275.477 246.037 275.477 M246.037 271.773 Q251.848 271.773 254.903 276.38 Q257.982 280.963 257.982 289.713 Q257.982 298.44 254.903 303.046 Q251.848 307.629 246.037 307.629 Q240.227 307.629 237.149 303.046 Q234.093 298.44 234.093 289.713 Q234.093 280.963 237.149 276.38 Q240.227 271.773 246.037 271.773 Z\" fill=\"#000000\" fill-rule=\"evenodd\" fill-opacity=\"1\" /><path clip-path=\"url(#clip540)\" d=\"M257.982 265.874 L282.093 265.874 L282.093 269.072 L257.982 269.072 L257.982 265.874 Z\" fill=\"#000000\" fill-rule=\"evenodd\" fill-opacity=\"1\" /><path clip-path=\"url(#clip540)\" d=\"M290.952 276.35 L297.158 276.35 L297.158 254.928 L290.406 256.282 L290.406 252.822 L297.121 251.468 L300.92 251.468 L300.92 276.35 L307.126 276.35 L307.126 279.548 L290.952 279.548 L290.952 276.35 Z\" fill=\"#000000\" fill-rule=\"evenodd\" fill-opacity=\"1\" /><path clip-path=\"url(#clip540)\" d=\"M315.458 276.35 L321.665 276.35 L321.665 254.928 L314.913 256.282 L314.913 252.822 L321.627 251.468 L325.426 251.468 L325.426 276.35 L331.633 276.35 L331.633 279.548 L315.458 279.548 L315.458 276.35 Z\" fill=\"#000000\" fill-rule=\"evenodd\" fill-opacity=\"1\" /><polyline clip-path=\"url(#clip543)\" style=\"stroke:#009af9; stroke-linecap:round; stroke-linejoin:round; stroke-width:4; stroke-opacity:1; fill:none\" points=\"\n",
       "  423.816,1325.69 436.301,1445.72 448.786,1295.69 461.271,1145.66 473.756,1175.67 486.241,1145.66 498.726,1085.65 511.211,1003.14 523.696,1055.65 536.181,1063.15 \n",
       "  548.666,1003.14 561.151,943.127 573.636,913.122 586.121,913.122 598.606,883.116 611.091,853.111 623.577,883.116 636.062,890.618 648.547,853.111 661.032,800.602 \n",
       "  673.517,860.613 686.002,890.618 698.487,830.607 710.972,770.597 723.457,830.607 735.942,770.597 748.427,770.597 760.912,838.109 773.397,830.607 785.882,778.098 \n",
       "  798.367,748.093 810.852,778.098 823.337,778.098 835.822,808.103 848.307,868.114 860.792,838.109 873.278,838.109 885.763,778.098 898.248,748.093 910.733,845.61 \n",
       "  923.218,838.109 935.703,785.599 948.188,695.583 960.673,785.599 973.158,785.599 985.643,695.583 998.128,815.605 1010.61,815.605 1023.1,755.594 1035.58,793.101 \n",
       "  1048.07,785.599 1060.55,853.111 1073.04,733.09 1085.52,763.095 1098.01,823.106 1110.49,793.101 1122.98,793.101 1135.46,763.095 1147.95,793.101 1160.43,793.101 \n",
       "  1172.92,643.074 1185.4,800.602 1197.89,793.101 1210.37,800.602 1222.86,800.602 1235.34,770.597 1247.83,740.591 1260.31,830.607 1272.8,770.597 1285.28,770.597 \n",
       "  1297.77,650.575 1310.25,838.109 1322.74,800.602 1335.22,748.093 1347.71,808.103 1360.19,778.098 1372.68,658.077 1385.16,875.615 1397.65,778.098 1410.13,718.087 \n",
       "  1422.62,755.594 1435.1,725.589 1447.59,868.114 1460.07,815.605 1472.56,695.583 1485.04,733.09 1497.53,815.605 1510.02,845.61 1522.5,793.101 1534.99,763.095 \n",
       "  1547.47,755.594 1559.96,673.079 1572.44,793.101 1584.93,853.111 1597.41,793.101 1609.9,943.127 1622.38,703.085 1634.87,770.597 1647.35,823.106 1659.84,703.085 \n",
       "  1672.32,770.597 1684.81,800.602 1697.29,703.085 1709.78,740.591 1722.26,830.607 1734.75,710.586 1747.23,890.618 1759.72,890.618 1772.2,770.597 1784.69,778.098 \n",
       "  1797.17,800.602 1809.66,680.581 1822.14,688.082 1834.63,808.103 1847.11,770.597 1859.6,958.13 1872.08,748.093 1884.57,748.093 1897.05,718.087 1909.54,838.109 \n",
       "  1922.02,838.109 1934.51,905.62 1946.99,898.119 1959.48,658.077 1971.96,605.568 1984.45,665.578 1996.93,628.072 2009.42,725.589 2021.9,815.605 2034.39,763.095 \n",
       "  2046.87,665.578 2059.36,755.594 2071.84,763.095 2084.33,643.074 2096.81,755.594 2109.3,733.09 2121.78,763.095 2134.27,703.085 2146.75,703.085 2159.24,463.042 \n",
       "  2171.72,613.069 2184.21,530.554 2196.69,553.058 2209.18,703.085 2221.66,500.549 2234.15,530.554 2246.63,253.005 2259.12,350.523 2271.6,290.512 2284.09,87.9763 \n",
       "  2296.57,110.48 \n",
       "  \"/>\n",
       "<polyline clip-path=\"url(#clip543)\" style=\"stroke:#e26f46; stroke-linecap:round; stroke-linejoin:round; stroke-width:4; stroke-opacity:1; fill:none\" points=\"\n",
       "  423.816,1397.38 436.301,1326.91 448.786,1263.66 461.271,1206.97 473.756,1156.25 486.241,1110.93 498.726,1070.5 511.211,1034.5 523.696,1002.49 536.181,974.088 \n",
       "  548.666,948.926 561.151,926.677 573.636,907.042 586.121,889.749 598.606,874.549 611.091,861.217 623.577,849.549 636.062,839.36 648.547,830.484 661.032,822.769 \n",
       "  673.517,816.082 686.002,810.3 698.487,805.314 710.972,801.026 723.457,797.35 735.942,794.207 748.427,791.529 760.912,789.254 773.397,787.328 785.882,785.704 \n",
       "  798.367,784.339 810.852,783.196 823.337,782.243 835.822,781.452 848.307,780.798 860.792,780.26 873.278,779.82 885.763,779.461 898.248,779.17 910.733,778.936 \n",
       "  923.218,778.748 935.703,778.599 948.188,778.481 960.673,778.388 973.158,778.316 985.643,778.26 998.128,778.218 1010.61,778.185 1023.1,778.161 1035.58,778.143 \n",
       "  1048.07,778.129 1060.55,778.12 1073.04,778.113 1085.52,778.108 1098.01,778.105 1110.49,778.102 1122.98,778.101 1135.46,778.1 1147.95,778.099 1160.43,778.099 \n",
       "  1172.92,778.098 1185.4,778.098 1197.89,778.098 1210.37,778.098 1222.86,778.098 1235.34,778.098 1247.83,778.098 1260.31,778.098 1272.8,778.098 1285.28,778.098 \n",
       "  1297.77,778.098 1310.25,778.098 1322.74,778.098 1335.22,778.098 1347.71,778.098 1360.19,778.098 1372.68,778.098 1385.16,778.098 1397.65,778.098 1410.13,778.098 \n",
       "  1422.62,778.098 1435.1,778.098 1447.59,778.098 1460.07,778.098 1472.56,778.098 1485.04,778.098 1497.53,778.098 1510.02,778.098 1522.5,778.098 1534.99,778.098 \n",
       "  1547.47,778.098 1559.96,778.097 1572.44,778.097 1584.93,778.096 1597.41,778.095 1609.9,778.094 1622.38,778.091 1634.87,778.088 1647.35,778.083 1659.84,778.076 \n",
       "  1672.32,778.067 1684.81,778.053 1697.29,778.035 1709.78,778.011 1722.26,777.978 1734.75,777.936 1747.23,777.88 1759.72,777.808 1772.2,777.715 1784.69,777.597 \n",
       "  1797.17,777.448 1809.66,777.26 1822.14,777.026 1834.63,776.735 1847.11,776.376 1859.6,775.936 1872.08,775.398 1884.57,774.744 1897.05,773.953 1909.54,773 \n",
       "  1922.02,771.857 1934.51,770.492 1946.99,768.868 1959.48,766.942 1971.96,764.667 1984.45,761.989 1996.93,758.846 2009.42,755.17 2021.9,750.882 2034.39,745.896 \n",
       "  2046.87,740.114 2059.36,733.427 2071.84,725.712 2084.33,716.836 2096.81,706.647 2109.3,694.979 2121.78,681.647 2134.27,666.447 2146.75,649.154 2159.24,629.519 \n",
       "  2171.72,607.27 2184.21,582.108 2196.69,553.704 2209.18,521.698 2221.66,485.697 2234.15,445.27 2246.63,399.949 2259.12,349.224 2271.6,292.537 2284.09,229.287 \n",
       "  2296.57,158.815 \n",
       "  \"/>\n",
       "<path clip-path=\"url(#clip540)\" d=\"\n",
       "M1997.09 267.51 L2286.59 267.51 L2286.59 95.2176 L1997.09 95.2176  Z\n",
       "  \" fill=\"#ffffff\" fill-rule=\"evenodd\" fill-opacity=\"1\"/>\n",
       "<polyline clip-path=\"url(#clip540)\" style=\"stroke:#000000; stroke-linecap:round; stroke-linejoin:round; stroke-width:4; stroke-opacity:1; fill:none\" points=\"\n",
       "  1997.09,267.51 2286.59,267.51 2286.59,95.2176 1997.09,95.2176 1997.09,267.51 \n",
       "  \"/>\n",
       "<polyline clip-path=\"url(#clip540)\" style=\"stroke:#009af9; stroke-linecap:round; stroke-linejoin:round; stroke-width:4; stroke-opacity:1; fill:none\" points=\"\n",
       "  2019.15,152.648 2151.49,152.648 \n",
       "  \"/>\n",
       "<path clip-path=\"url(#clip540)\" d=\"M2197.46 127.062 Q2197.46 128.35 2196.64 129.147 Q2195.84 129.943 2194.84 129.943 Q2194.11 129.943 2193.57 129.498 Q2193.06 129.053 2193.06 128.28 Q2193.06 127.484 2193.67 126.64 Q2194.27 125.797 2195.66 125.68 Q2194.74 124.813 2193.29 124.813 Q2192.56 124.813 2191.96 125.282 Q2191.37 125.727 2191.04 126.453 Q2190.69 127.203 2189.89 131.442 Q2189.64 132.824 2189.4 134.159 Q2189.17 135.494 2188.89 136.899 L2192.87 136.899 Q2193.38 136.899 2193.59 136.923 Q2193.81 136.946 2193.97 137.063 Q2194.16 137.181 2194.16 137.438 Q2194.16 138.094 2193.85 138.258 Q2193.57 138.398 2192.73 138.398 L2188.61 138.398 L2185.72 153.6 Q2185.65 154.045 2185.35 155.45 Q2185.07 156.832 2184.39 159.104 Q2183.71 161.399 2183.03 162.758 Q2182.66 163.531 2182.16 164.257 Q2181.7 165.006 2181.02 165.756 Q2180.34 166.505 2179.45 166.95 Q2178.56 167.419 2177.62 167.419 Q2176.03 167.419 2174.79 166.529 Q2173.55 165.639 2173.55 164.116 Q2173.55 162.828 2174.34 162.032 Q2175.16 161.235 2176.17 161.235 Q2176.89 161.235 2177.41 161.68 Q2177.95 162.125 2177.95 162.898 Q2177.95 163.226 2177.83 163.601 Q2177.71 163.976 2177.46 164.397 Q2177.2 164.842 2176.64 165.147 Q2176.07 165.451 2175.3 165.498 Q2176.22 166.365 2177.62 166.365 Q2178.07 166.365 2178.46 166.177 Q2178.86 166.014 2179.19 165.592 Q2179.54 165.17 2179.8 164.749 Q2180.06 164.351 2180.31 163.578 Q2180.57 162.828 2180.74 162.266 Q2180.9 161.704 2181.11 160.697 Q2181.34 159.689 2181.46 159.08 Q2181.58 158.495 2181.79 157.347 L2185.37 138.398 L2182.21 138.398 Q2181.65 138.398 2181.42 138.375 Q2181.2 138.352 2181.04 138.235 Q2180.88 138.094 2180.88 137.813 Q2180.88 137.368 2181.06 137.181 Q2181.27 136.97 2181.51 136.946 Q2181.74 136.899 2182.31 136.899 L2185.63 136.899 Q2186.76 130.974 2187.2 129.381 Q2187.72 127.694 2188.51 126.523 Q2189.31 125.329 2190.2 124.767 Q2191.09 124.204 2191.81 123.994 Q2192.56 123.759 2193.29 123.759 Q2194.93 123.759 2196.19 124.65 Q2197.46 125.516 2197.46 127.062 Z\" fill=\"#000000\" fill-rule=\"evenodd\" fill-opacity=\"1\" /><path clip-path=\"url(#clip540)\" d=\"M2202.34 175.286 L2202.34 174.253 L2212.65 158.497 Q2212.91 158.087 2213.32 158.104 Q2213.7 158.104 2213.78 158.251 Q2213.86 158.399 2213.86 158.973 L2213.86 174.253 L2217.22 174.253 L2217.22 175.286 L2213.86 175.286 L2213.86 178.205 Q2213.86 179.172 2214.26 179.484 Q2214.67 179.795 2216.4 179.795 L2217.11 179.795 L2217.11 180.828 Q2215.73 180.73 2212.55 180.73 Q2209.39 180.73 2208.01 180.828 L2208.01 179.795 L2208.71 179.795 Q2210.45 179.795 2210.86 179.5 Q2211.27 179.188 2211.27 178.205 L2211.27 175.286 L2202.34 175.286 M2203.29 174.253 L2211.47 174.253 L2211.47 161.727 L2203.29 174.253 Z\" fill=\"#000000\" fill-rule=\"evenodd\" fill-opacity=\"1\" /><path clip-path=\"url(#clip540)\" d=\"M2235.15 176.024 Q2234.7 178.139 2234.13 179.352 Q2233.21 181.205 2231.66 181.205 Q2230.47 181.205 2229.64 180.484 Q2228.8 179.762 2228.61 178.68 Q2226.46 181.205 2224.23 181.205 Q2222.26 181.205 2221.01 179.713 Q2219.77 178.205 2219.77 175.827 Q2219.77 173.434 2220.95 171.138 Q2222.15 168.843 2224.03 167.416 Q2225.92 165.99 2227.85 165.99 Q2229.9 165.99 2230.95 168.138 Q2231.03 167.547 2231.41 167.105 Q2231.79 166.662 2232.36 166.662 Q2232.8 166.662 2233.07 166.908 Q2233.33 167.138 2233.33 167.564 Q2233.33 167.777 2233.1 168.712 L2231.88 173.401 L2231.15 176.434 Q2230.87 177.549 2230.79 177.959 Q2230.72 178.369 2230.72 178.91 Q2230.72 180.451 2231.72 180.451 Q2232.21 180.451 2232.61 180.139 Q2233 179.828 2233.31 179.172 Q2233.62 178.516 2233.82 177.91 Q2234.02 177.287 2234.28 176.303 Q2234.36 175.909 2234.43 175.811 Q2234.51 175.696 2234.74 175.696 Q2235.15 175.696 2235.15 176.024 M2230.54 169.679 Q2230.54 169.531 2230.43 169.121 Q2230.31 168.712 2230.05 168.138 Q2229.79 167.564 2229.21 167.154 Q2228.65 166.728 2227.9 166.728 Q2226.88 166.728 2225.82 167.597 Q2224.77 168.466 2224 169.941 Q2223.41 171.122 2222.77 173.598 Q2222.15 176.073 2222.15 177.303 Q2222.15 178.057 2222.31 178.729 Q2222.49 179.385 2223 179.926 Q2223.51 180.451 2224.29 180.451 Q2226.21 180.451 2228.1 178.074 Q2228.46 177.664 2228.54 177.5 Q2228.64 177.319 2228.77 176.827 L2230.44 170.253 Q2230.54 169.761 2230.54 169.679 Z\" fill=\"#000000\" fill-rule=\"evenodd\" fill-opacity=\"1\" /><polyline clip-path=\"url(#clip540)\" style=\"stroke:#e26f46; stroke-linecap:round; stroke-linejoin:round; stroke-width:4; stroke-opacity:1; fill:none\" points=\"\n",
       "  2019.15,210.079 2151.49,210.079 \n",
       "  \"/>\n",
       "<path clip-path=\"url(#clip540)\" d=\"M2197.46 184.329 Q2197.46 185.617 2196.64 186.413 Q2195.84 187.21 2194.84 187.21 Q2194.11 187.21 2193.57 186.765 Q2193.06 186.32 2193.06 185.547 Q2193.06 184.75 2193.67 183.907 Q2194.27 183.064 2195.66 182.947 Q2194.74 182.08 2193.29 182.08 Q2192.56 182.08 2191.96 182.549 Q2191.37 182.994 2191.04 183.72 Q2190.69 184.469 2189.89 188.709 Q2189.64 190.091 2189.4 191.426 Q2189.17 192.761 2188.89 194.166 L2192.87 194.166 Q2193.38 194.166 2193.59 194.19 Q2193.81 194.213 2193.97 194.33 Q2194.16 194.447 2194.16 194.705 Q2194.16 195.361 2193.85 195.525 Q2193.57 195.665 2192.73 195.665 L2188.61 195.665 L2185.72 210.867 Q2185.65 211.312 2185.35 212.717 Q2185.07 214.099 2184.39 216.371 Q2183.71 218.666 2183.03 220.025 Q2182.66 220.798 2182.16 221.524 Q2181.7 222.273 2181.02 223.023 Q2180.34 223.772 2179.45 224.217 Q2178.56 224.686 2177.62 224.686 Q2176.03 224.686 2174.79 223.796 Q2173.55 222.906 2173.55 221.383 Q2173.55 220.095 2174.34 219.299 Q2175.16 218.502 2176.17 218.502 Q2176.89 218.502 2177.41 218.947 Q2177.95 219.392 2177.95 220.165 Q2177.95 220.493 2177.83 220.868 Q2177.71 221.243 2177.46 221.664 Q2177.2 222.109 2176.64 222.414 Q2176.07 222.718 2175.3 222.765 Q2176.22 223.632 2177.62 223.632 Q2178.07 223.632 2178.46 223.444 Q2178.86 223.28 2179.19 222.859 Q2179.54 222.437 2179.8 222.016 Q2180.06 221.617 2180.31 220.844 Q2180.57 220.095 2180.74 219.533 Q2180.9 218.971 2181.11 217.964 Q2181.34 216.956 2181.46 216.347 Q2181.58 215.762 2181.79 214.614 L2185.37 195.665 L2182.21 195.665 Q2181.65 195.665 2181.42 195.642 Q2181.2 195.619 2181.04 195.501 Q2180.88 195.361 2180.88 195.08 Q2180.88 194.635 2181.06 194.447 Q2181.27 194.237 2181.51 194.213 Q2181.74 194.166 2182.31 194.166 L2185.63 194.166 Q2186.76 188.24 2187.2 186.648 Q2187.72 184.961 2188.51 183.79 Q2189.31 182.596 2190.2 182.033 Q2191.09 181.471 2191.81 181.261 Q2192.56 181.026 2193.29 181.026 Q2194.93 181.026 2196.19 181.916 Q2197.46 182.783 2197.46 184.329 Z\" fill=\"#000000\" fill-rule=\"evenodd\" fill-opacity=\"1\" /><path clip-path=\"url(#clip540)\" d=\"M2202.34 232.881 L2202.34 231.848 L2212.65 216.092 Q2212.91 215.682 2213.32 215.699 Q2213.7 215.699 2213.78 215.846 Q2213.86 215.994 2213.86 216.568 L2213.86 231.848 L2217.22 231.848 L2217.22 232.881 L2213.86 232.881 L2213.86 235.8 Q2213.86 236.767 2214.26 237.079 Q2214.67 237.39 2216.4 237.39 L2217.11 237.39 L2217.11 238.423 Q2215.73 238.325 2212.55 238.325 Q2209.39 238.325 2208.01 238.423 L2208.01 237.39 L2208.71 237.39 Q2210.45 237.39 2210.86 237.095 Q2211.27 236.783 2211.27 235.8 L2211.27 232.881 L2202.34 232.881 M2203.29 231.848 L2211.47 231.848 L2211.47 219.322 L2203.29 231.848 Z\" fill=\"#000000\" fill-rule=\"evenodd\" fill-opacity=\"1\" /><path clip-path=\"url(#clip540)\" d=\"M2232.27 228.946 Q2232.27 231.307 2231.07 233.619 Q2229.89 235.914 2227.99 237.357 Q2226.1 238.8 2224.17 238.8 Q2222.28 238.8 2221.08 237.357 Q2219.9 235.898 2219.9 233.521 Q2219.9 232.685 2220 232.094 Q2220.1 231.504 2220.44 230.127 L2223.2 219.174 Q2223.67 217.125 2223.67 217.109 Q2223.67 216.912 2223.59 216.813 Q2223.53 216.699 2223.13 216.617 Q2222.74 216.535 2221.99 216.535 Q2221.67 216.535 2221.53 216.518 Q2221.39 216.502 2221.28 216.42 Q2221.18 216.322 2221.18 216.125 Q2221.18 215.846 2221.3 215.699 Q2221.43 215.535 2221.53 215.502 Q2221.62 215.469 2221.82 215.453 Q2222.1 215.436 2223.03 215.354 Q2223.97 215.256 2224.77 215.19 Q2225.58 215.125 2225.92 215.125 Q2226.12 215.125 2226.22 215.223 Q2226.33 215.305 2226.33 215.403 L2226.35 215.485 L2223.87 225.602 Q2225.82 223.585 2227.81 223.585 Q2229.79 223.585 2231.02 225.11 Q2232.27 226.635 2232.27 228.946 M2229.84 227.471 Q2229.84 225.913 2229.25 225.126 Q2228.67 224.323 2227.72 224.323 Q2226.92 224.323 2225.87 224.929 Q2224.82 225.536 2223.71 227.012 Q2223.49 227.29 2223.41 227.454 Q2223.35 227.618 2223.2 228.176 L2222.46 231.274 Q2221.92 233.39 2221.92 234.668 Q2221.92 236.406 2222.56 237.226 Q2223.2 238.046 2224.17 238.046 Q2225.18 238.046 2226.25 237.144 Q2227.31 236.242 2228.13 234.603 Q2228.64 233.521 2229.23 231.193 Q2229.84 228.848 2229.84 227.471 Z\" fill=\"#000000\" fill-rule=\"evenodd\" fill-opacity=\"1\" /></svg>\n"
      ]
     },
     "execution_count": 15,
     "metadata": {},
     "output_type": "execute_result"
    }
   ],
   "source": [
    "using Plots, LaTeXStrings\n",
    "function f4a(x)\n",
    "    return x^9 - 18*x^8 + 144*x^7 - 672*x^6 + 2016*x^5 - 4032*x^4 + 5376*x^3 - 4608*x^2 + 2304*x - 512\n",
    "end\n",
    "\n",
    "function f4b(x)\n",
    "    return (x - 2)^9\n",
    "end\n",
    "\n",
    "r = 1.925:0.001:2.075\n",
    "plot(\n",
    "    r,\n",
    "    [f4a(x) for x in r],\n",
    "    label = L\"f_{4a}\"\n",
    ")\n",
    "plot!(\n",
    "    r,\n",
    "    [f4b(x) for x in r],\n",
    "    label = L\"f_{4b}\"   \n",
    ")"
   ]
  },
  {
   "cell_type": "markdown",
   "id": "2d324b4e",
   "metadata": {},
   "source": [
    "e) Determine $\\lim_{x\\rightarrow 0}\\kappa_{f_5}(0)$. Plot $f_5$ in julia in the interval $[-5 \\cdot 10^{-8},5\\cdot  10^{-8}]$. Reformulate $f_5$ and obtain a more accurate plot. \n",
    "\\begin{align*}\n",
    "\\\\\n",
    "\\kappa_{f_5} &= |f_5^{'}(x)|\\frac{|x|}{|f_5(x)|} = \\left|\\frac{2}{(1 + 2x)^2} - \\frac{2}{(1 + x)^2}\\right|\\frac{|x|}{\\left|\\frac{1}{1 + 2x} - \\frac{1 - x}{1 + x}\\right|} \\\\\n",
    "\\\\\n",
    "\\lim_{x \\rightarrow 0}{\\kappa_{f_5}} &= \\lim_{x \\rightarrow 0}{\\frac{3x + 2}{(1 + x)(1 + 2x)}} = \\frac{2}{1} = 2 \n",
    "\\end{align*}\n",
    "\n",
    "Refromulation\n",
    "\\begin{align*}\n",
    "\\\\\n",
    "f_5(x) &= \\frac{1}{1+2x}-\\frac{1-x}{1+x} = \\frac{1 + x - (1 - x)(1 + 2x)}{(1 + 2x)(1 + x)} = \\frac{1 + x - 1 - 2x + x + 2x^2}{(1 + 2x)(1 + x)} = \\frac{2x^2}{(1 + 2x)(1 + x)}\n",
    "\\end{align*}"
   ]
  },
  {
   "cell_type": "code",
   "execution_count": 16,
   "id": "5b2589a1",
   "metadata": {},
   "outputs": [
    {
     "data": {
      "image/svg+xml": [
       "<?xml version=\"1.0\" encoding=\"utf-8\"?>\n",
       "<svg xmlns=\"http://www.w3.org/2000/svg\" xmlns:xlink=\"http://www.w3.org/1999/xlink\" width=\"600\" height=\"400\" viewBox=\"0 0 2400 1600\">\n",
       "<defs>\n",
       "  <clipPath id=\"clip580\">\n",
       "    <rect x=\"0\" y=\"0\" width=\"2400\" height=\"1600\"/>\n",
       "  </clipPath>\n",
       "</defs>\n",
       "<path clip-path=\"url(#clip580)\" d=\"\n",
       "M0 1600 L2400 1600 L2400 0 L0 0  Z\n",
       "  \" fill=\"#ffffff\" fill-rule=\"evenodd\" fill-opacity=\"1\"/>\n",
       "<defs>\n",
       "  <clipPath id=\"clip581\">\n",
       "    <rect x=\"480\" y=\"0\" width=\"1681\" height=\"1600\"/>\n",
       "  </clipPath>\n",
       "</defs>\n",
       "<defs>\n",
       "  <clipPath id=\"clip582\">\n",
       "    <rect x=\"367\" y=\"47\" width=\"1986\" height=\"1440\"/>\n",
       "  </clipPath>\n",
       "</defs>\n",
       "<path clip-path=\"url(#clip580)\" d=\"\n",
       "M330.807 1474.16 L2352.76 1474.16 L2352.76 47.2441 L330.807 47.2441  Z\n",
       "  \" fill=\"#ffffff\" fill-rule=\"evenodd\" fill-opacity=\"1\"/>\n",
       "<defs>\n",
       "  <clipPath id=\"clip583\">\n",
       "    <rect x=\"330\" y=\"47\" width=\"2023\" height=\"1428\"/>\n",
       "  </clipPath>\n",
       "</defs>\n",
       "<polyline clip-path=\"url(#clip583)\" style=\"stroke:#000000; stroke-linecap:round; stroke-linejoin:round; stroke-width:2; stroke-opacity:0.1; fill:none\" points=\"\n",
       "  578.973,1474.16 578.973,47.2441 \n",
       "  \"/>\n",
       "<polyline clip-path=\"url(#clip583)\" style=\"stroke:#000000; stroke-linecap:round; stroke-linejoin:round; stroke-width:2; stroke-opacity:0.1; fill:none\" points=\"\n",
       "  960.855,1474.16 960.855,47.2441 \n",
       "  \"/>\n",
       "<polyline clip-path=\"url(#clip583)\" style=\"stroke:#000000; stroke-linecap:round; stroke-linejoin:round; stroke-width:2; stroke-opacity:0.1; fill:none\" points=\"\n",
       "  1342.74,1474.16 1342.74,47.2441 \n",
       "  \"/>\n",
       "<polyline clip-path=\"url(#clip583)\" style=\"stroke:#000000; stroke-linecap:round; stroke-linejoin:round; stroke-width:2; stroke-opacity:0.1; fill:none\" points=\"\n",
       "  1724.62,1474.16 1724.62,47.2441 \n",
       "  \"/>\n",
       "<polyline clip-path=\"url(#clip583)\" style=\"stroke:#000000; stroke-linecap:round; stroke-linejoin:round; stroke-width:2; stroke-opacity:0.1; fill:none\" points=\"\n",
       "  2106.5,1474.16 2106.5,47.2441 \n",
       "  \"/>\n",
       "<polyline clip-path=\"url(#clip580)\" style=\"stroke:#000000; stroke-linecap:round; stroke-linejoin:round; stroke-width:4; stroke-opacity:1; fill:none\" points=\"\n",
       "  330.807,1474.16 2352.76,1474.16 \n",
       "  \"/>\n",
       "<polyline clip-path=\"url(#clip580)\" style=\"stroke:#000000; stroke-linecap:round; stroke-linejoin:round; stroke-width:4; stroke-opacity:1; fill:none\" points=\"\n",
       "  578.973,1474.16 578.973,1455.27 \n",
       "  \"/>\n",
       "<polyline clip-path=\"url(#clip580)\" style=\"stroke:#000000; stroke-linecap:round; stroke-linejoin:round; stroke-width:4; stroke-opacity:1; fill:none\" points=\"\n",
       "  960.855,1474.16 960.855,1455.27 \n",
       "  \"/>\n",
       "<polyline clip-path=\"url(#clip580)\" style=\"stroke:#000000; stroke-linecap:round; stroke-linejoin:round; stroke-width:4; stroke-opacity:1; fill:none\" points=\"\n",
       "  1342.74,1474.16 1342.74,1455.27 \n",
       "  \"/>\n",
       "<polyline clip-path=\"url(#clip580)\" style=\"stroke:#000000; stroke-linecap:round; stroke-linejoin:round; stroke-width:4; stroke-opacity:1; fill:none\" points=\"\n",
       "  1724.62,1474.16 1724.62,1455.27 \n",
       "  \"/>\n",
       "<polyline clip-path=\"url(#clip580)\" style=\"stroke:#000000; stroke-linecap:round; stroke-linejoin:round; stroke-width:4; stroke-opacity:1; fill:none\" points=\"\n",
       "  2106.5,1474.16 2106.5,1455.27 \n",
       "  \"/>\n",
       "<path clip-path=\"url(#clip580)\" d=\"M450.445 1535.4 L480.121 1535.4 L480.121 1539.33 L450.445 1539.33 L450.445 1535.4 Z\" fill=\"#000000\" fill-rule=\"evenodd\" fill-opacity=\"1\" /><path clip-path=\"url(#clip580)\" d=\"M503.061 1521.74 L491.255 1540.19 L503.061 1540.19 L503.061 1521.74 M501.834 1517.66 L507.713 1517.66 L507.713 1540.19 L512.644 1540.19 L512.644 1544.08 L507.713 1544.08 L507.713 1552.22 L503.061 1552.22 L503.061 1544.08 L487.459 1544.08 L487.459 1539.56 L501.834 1517.66 Z\" fill=\"#000000\" fill-rule=\"evenodd\" fill-opacity=\"1\" /><path clip-path=\"url(#clip580)\" d=\"M520.375 1546.35 L525.26 1546.35 L525.26 1552.22 L520.375 1552.22 L520.375 1546.35 Z\" fill=\"#000000\" fill-rule=\"evenodd\" fill-opacity=\"1\" /><path clip-path=\"url(#clip580)\" d=\"M545.445 1520.74 Q541.834 1520.74 540.005 1524.31 Q538.199 1527.85 538.199 1534.98 Q538.199 1542.09 540.005 1545.65 Q541.834 1549.19 545.445 1549.19 Q549.079 1549.19 550.884 1545.65 Q552.713 1542.09 552.713 1534.98 Q552.713 1527.85 550.884 1524.31 Q549.079 1520.74 545.445 1520.74 M545.445 1517.04 Q551.255 1517.04 554.31 1521.65 Q557.389 1526.23 557.389 1534.98 Q557.389 1543.71 554.31 1548.31 Q551.255 1552.9 545.445 1552.9 Q539.635 1552.9 536.556 1548.31 Q533.5 1543.71 533.5 1534.98 Q533.5 1526.23 536.556 1521.65 Q539.635 1517.04 545.445 1517.04 Z\" fill=\"#000000\" fill-rule=\"evenodd\" fill-opacity=\"1\" /><path clip-path=\"url(#clip580)\" d=\"M593.778 1526.76 L583.199 1537.39 L593.778 1547.97 L591.023 1550.77 L580.398 1540.14 L569.773 1550.77 L567.042 1547.97 L577.597 1537.39 L567.042 1526.76 L569.773 1523.96 L580.398 1534.59 L591.023 1523.96 L593.778 1526.76 Z\" fill=\"#000000\" fill-rule=\"evenodd\" fill-opacity=\"1\" /><path clip-path=\"url(#clip580)\" d=\"M606.139 1548.29 L613.778 1548.29 L613.778 1521.92 L605.467 1523.59 L605.467 1519.33 L613.731 1517.66 L618.407 1517.66 L618.407 1548.29 L626.046 1548.29 L626.046 1552.22 L606.139 1552.22 L606.139 1548.29 Z\" fill=\"#000000\" fill-rule=\"evenodd\" fill-opacity=\"1\" /><path clip-path=\"url(#clip580)\" d=\"M645.49 1520.74 Q641.879 1520.74 640.051 1524.31 Q638.245 1527.85 638.245 1534.98 Q638.245 1542.09 640.051 1545.65 Q641.879 1549.19 645.49 1549.19 Q649.125 1549.19 650.93 1545.65 Q652.759 1542.09 652.759 1534.98 Q652.759 1527.85 650.93 1524.31 Q649.125 1520.74 645.49 1520.74 M645.49 1517.04 Q651.301 1517.04 654.356 1521.65 Q657.435 1526.23 657.435 1534.98 Q657.435 1543.71 654.356 1548.31 Q651.301 1552.9 645.49 1552.9 Q639.68 1552.9 636.602 1548.31 Q633.546 1543.71 633.546 1534.98 Q633.546 1526.23 636.602 1521.65 Q639.68 1517.04 645.49 1517.04 Z\" fill=\"#000000\" fill-rule=\"evenodd\" fill-opacity=\"1\" /><path clip-path=\"url(#clip580)\" d=\"M657.435 1511.14 L681.546 1511.14 L681.546 1514.34 L657.435 1514.34 L657.435 1511.14 Z\" fill=\"#000000\" fill-rule=\"evenodd\" fill-opacity=\"1\" /><path clip-path=\"url(#clip580)\" d=\"M697.872 1511.48 Q695.163 1511.48 693.602 1512.93 Q692.06 1514.38 692.06 1516.92 Q692.06 1519.45 693.602 1520.9 Q695.163 1522.35 697.872 1522.35 Q700.58 1522.35 702.141 1520.9 Q703.702 1519.44 703.702 1516.92 Q703.702 1514.38 702.141 1512.93 Q700.599 1511.48 697.872 1511.48 M694.072 1509.86 Q691.627 1509.26 690.254 1507.59 Q688.9 1505.91 688.9 1503.51 Q688.9 1500.14 691.289 1498.18 Q693.696 1496.23 697.872 1496.23 Q702.066 1496.23 704.454 1498.18 Q706.843 1500.14 706.843 1503.51 Q706.843 1505.91 705.47 1507.59 Q704.116 1509.26 701.689 1509.86 Q704.435 1510.5 705.959 1512.36 Q707.501 1514.23 707.501 1516.92 Q707.501 1521 705 1523.18 Q702.517 1525.36 697.872 1525.36 Q693.226 1525.36 690.725 1523.18 Q688.242 1521 688.242 1516.92 Q688.242 1514.23 689.784 1512.36 Q691.326 1510.5 694.072 1509.86 M692.681 1503.86 Q692.681 1506.04 694.035 1507.27 Q695.408 1508.49 697.872 1508.49 Q700.317 1508.49 701.689 1507.27 Q703.081 1506.04 703.081 1503.86 Q703.081 1501.68 701.689 1500.46 Q700.317 1499.24 697.872 1499.24 Q695.408 1499.24 694.035 1500.46 Q692.681 1501.68 692.681 1503.86 Z\" fill=\"#000000\" fill-rule=\"evenodd\" fill-opacity=\"1\" /><path clip-path=\"url(#clip580)\" d=\"M832.327 1535.4 L862.003 1535.4 L862.003 1539.33 L832.327 1539.33 L832.327 1535.4 Z\" fill=\"#000000\" fill-rule=\"evenodd\" fill-opacity=\"1\" /><path clip-path=\"url(#clip580)\" d=\"M876.123 1548.29 L892.442 1548.29 L892.442 1552.22 L870.498 1552.22 L870.498 1548.29 Q873.16 1545.53 877.743 1540.91 Q882.35 1536.25 883.53 1534.91 Q885.776 1532.39 886.655 1530.65 Q887.558 1528.89 887.558 1527.2 Q887.558 1524.45 885.614 1522.71 Q883.692 1520.97 880.59 1520.97 Q878.391 1520.97 875.938 1521.74 Q873.507 1522.5 870.729 1524.05 L870.729 1519.33 Q873.553 1518.2 876.007 1517.62 Q878.461 1517.04 880.498 1517.04 Q885.868 1517.04 889.063 1519.72 Q892.257 1522.41 892.257 1526.9 Q892.257 1529.03 891.447 1530.95 Q890.66 1532.85 888.553 1535.44 Q887.975 1536.11 884.873 1539.33 Q881.771 1542.53 876.123 1548.29 Z\" fill=\"#000000\" fill-rule=\"evenodd\" fill-opacity=\"1\" /><path clip-path=\"url(#clip580)\" d=\"M902.257 1546.35 L907.141 1546.35 L907.141 1552.22 L902.257 1552.22 L902.257 1546.35 Z\" fill=\"#000000\" fill-rule=\"evenodd\" fill-opacity=\"1\" /><path clip-path=\"url(#clip580)\" d=\"M927.326 1520.74 Q923.715 1520.74 921.886 1524.31 Q920.081 1527.85 920.081 1534.98 Q920.081 1542.09 921.886 1545.65 Q923.715 1549.19 927.326 1549.19 Q930.961 1549.19 932.766 1545.65 Q934.595 1542.09 934.595 1534.98 Q934.595 1527.85 932.766 1524.31 Q930.961 1520.74 927.326 1520.74 M927.326 1517.04 Q933.136 1517.04 936.192 1521.65 Q939.271 1526.23 939.271 1534.98 Q939.271 1543.71 936.192 1548.31 Q933.136 1552.9 927.326 1552.9 Q921.516 1552.9 918.437 1548.31 Q915.382 1543.71 915.382 1534.98 Q915.382 1526.23 918.437 1521.65 Q921.516 1517.04 927.326 1517.04 Z\" fill=\"#000000\" fill-rule=\"evenodd\" fill-opacity=\"1\" /><path clip-path=\"url(#clip580)\" d=\"M975.659 1526.76 L965.081 1537.39 L975.659 1547.97 L972.905 1550.77 L962.28 1540.14 L951.655 1550.77 L948.923 1547.97 L959.479 1537.39 L948.923 1526.76 L951.655 1523.96 L962.28 1534.59 L972.905 1523.96 L975.659 1526.76 Z\" fill=\"#000000\" fill-rule=\"evenodd\" fill-opacity=\"1\" /><path clip-path=\"url(#clip580)\" d=\"M988.02 1548.29 L995.659 1548.29 L995.659 1521.92 L987.349 1523.59 L987.349 1519.33 L995.613 1517.66 L1000.29 1517.66 L1000.29 1548.29 L1007.93 1548.29 L1007.93 1552.22 L988.02 1552.22 L988.02 1548.29 Z\" fill=\"#000000\" fill-rule=\"evenodd\" fill-opacity=\"1\" /><path clip-path=\"url(#clip580)\" d=\"M1027.37 1520.74 Q1023.76 1520.74 1021.93 1524.31 Q1020.13 1527.85 1020.13 1534.98 Q1020.13 1542.09 1021.93 1545.65 Q1023.76 1549.19 1027.37 1549.19 Q1031.01 1549.19 1032.81 1545.65 Q1034.64 1542.09 1034.64 1534.98 Q1034.64 1527.85 1032.81 1524.31 Q1031.01 1520.74 1027.37 1520.74 M1027.37 1517.04 Q1033.18 1517.04 1036.24 1521.65 Q1039.32 1526.23 1039.32 1534.98 Q1039.32 1543.71 1036.24 1548.31 Q1033.18 1552.9 1027.37 1552.9 Q1021.56 1552.9 1018.48 1548.31 Q1015.43 1543.71 1015.43 1534.98 Q1015.43 1526.23 1018.48 1521.65 Q1021.56 1517.04 1027.37 1517.04 Z\" fill=\"#000000\" fill-rule=\"evenodd\" fill-opacity=\"1\" /><path clip-path=\"url(#clip580)\" d=\"M1039.32 1511.14 L1063.43 1511.14 L1063.43 1514.34 L1039.32 1514.34 L1039.32 1511.14 Z\" fill=\"#000000\" fill-rule=\"evenodd\" fill-opacity=\"1\" /><path clip-path=\"url(#clip580)\" d=\"M1079.75 1511.48 Q1077.04 1511.48 1075.48 1512.93 Q1073.94 1514.38 1073.94 1516.92 Q1073.94 1519.45 1075.48 1520.9 Q1077.04 1522.35 1079.75 1522.35 Q1082.46 1522.35 1084.02 1520.9 Q1085.58 1519.44 1085.58 1516.92 Q1085.58 1514.38 1084.02 1512.93 Q1082.48 1511.48 1079.75 1511.48 M1075.95 1509.86 Q1073.51 1509.26 1072.14 1507.59 Q1070.78 1505.91 1070.78 1503.51 Q1070.78 1500.14 1073.17 1498.18 Q1075.58 1496.23 1079.75 1496.23 Q1083.95 1496.23 1086.34 1498.18 Q1088.72 1500.14 1088.72 1503.51 Q1088.72 1505.91 1087.35 1507.59 Q1086 1509.26 1083.57 1509.86 Q1086.32 1510.5 1087.84 1512.36 Q1089.38 1514.23 1089.38 1516.92 Q1089.38 1521 1086.88 1523.18 Q1084.4 1525.36 1079.75 1525.36 Q1075.11 1525.36 1072.61 1523.18 Q1070.12 1521 1070.12 1516.92 Q1070.12 1514.23 1071.67 1512.36 Q1073.21 1510.5 1075.95 1509.86 M1074.56 1503.86 Q1074.56 1506.04 1075.92 1507.27 Q1077.29 1508.49 1079.75 1508.49 Q1082.2 1508.49 1083.57 1507.27 Q1084.96 1506.04 1084.96 1503.86 Q1084.96 1501.68 1083.57 1500.46 Q1082.2 1499.24 1079.75 1499.24 Q1077.29 1499.24 1075.92 1500.46 Q1074.56 1501.68 1074.56 1503.86 Z\" fill=\"#000000\" fill-rule=\"evenodd\" fill-opacity=\"1\" /><path clip-path=\"url(#clip580)\" d=\"M1342.74 1505.08 Q1339.13 1505.08 1337.3 1508.65 Q1335.49 1512.19 1335.49 1519.32 Q1335.49 1526.43 1337.3 1529.99 Q1339.13 1533.53 1342.74 1533.53 Q1346.37 1533.53 1348.18 1529.99 Q1350 1526.43 1350 1519.32 Q1350 1512.19 1348.18 1508.65 Q1346.37 1505.08 1342.74 1505.08 M1342.74 1501.38 Q1348.55 1501.38 1351.6 1505.99 Q1354.68 1510.57 1354.68 1519.32 Q1354.68 1528.05 1351.6 1532.65 Q1348.55 1537.24 1342.74 1537.24 Q1336.93 1537.24 1333.85 1532.65 Q1330.79 1528.05 1330.79 1519.32 Q1330.79 1510.57 1333.85 1505.99 Q1336.93 1501.38 1342.74 1501.38 Z\" fill=\"#000000\" fill-rule=\"evenodd\" fill-opacity=\"1\" /><path clip-path=\"url(#clip580)\" d=\"M1620.8 1548.29 L1637.12 1548.29 L1637.12 1552.22 L1615.18 1552.22 L1615.18 1548.29 Q1617.84 1545.53 1622.42 1540.91 Q1627.03 1536.25 1628.21 1534.91 Q1630.45 1532.39 1631.33 1530.65 Q1632.24 1528.89 1632.24 1527.2 Q1632.24 1524.45 1630.29 1522.71 Q1628.37 1520.97 1625.27 1520.97 Q1623.07 1520.97 1620.62 1521.74 Q1618.18 1522.5 1615.41 1524.05 L1615.41 1519.33 Q1618.23 1518.2 1620.68 1517.62 Q1623.14 1517.04 1625.18 1517.04 Q1630.55 1517.04 1633.74 1519.72 Q1636.93 1522.41 1636.93 1526.9 Q1636.93 1529.03 1636.12 1530.95 Q1635.34 1532.85 1633.23 1535.44 Q1632.65 1536.11 1629.55 1539.33 Q1626.45 1542.53 1620.8 1548.29 Z\" fill=\"#000000\" fill-rule=\"evenodd\" fill-opacity=\"1\" /><path clip-path=\"url(#clip580)\" d=\"M1646.93 1546.35 L1651.82 1546.35 L1651.82 1552.22 L1646.93 1552.22 L1646.93 1546.35 Z\" fill=\"#000000\" fill-rule=\"evenodd\" fill-opacity=\"1\" /><path clip-path=\"url(#clip580)\" d=\"M1672 1520.74 Q1668.39 1520.74 1666.56 1524.31 Q1664.76 1527.85 1664.76 1534.98 Q1664.76 1542.09 1666.56 1545.65 Q1668.39 1549.19 1672 1549.19 Q1675.64 1549.19 1677.44 1545.65 Q1679.27 1542.09 1679.27 1534.98 Q1679.27 1527.85 1677.44 1524.31 Q1675.64 1520.74 1672 1520.74 M1672 1517.04 Q1677.81 1517.04 1680.87 1521.65 Q1683.95 1526.23 1683.95 1534.98 Q1683.95 1543.71 1680.87 1548.31 Q1677.81 1552.9 1672 1552.9 Q1666.19 1552.9 1663.12 1548.31 Q1660.06 1543.71 1660.06 1534.98 Q1660.06 1526.23 1663.12 1521.65 Q1666.19 1517.04 1672 1517.04 Z\" fill=\"#000000\" fill-rule=\"evenodd\" fill-opacity=\"1\" /><path clip-path=\"url(#clip580)\" d=\"M1720.34 1526.76 L1709.76 1537.39 L1720.34 1547.97 L1717.58 1550.77 L1706.96 1540.14 L1696.33 1550.77 L1693.6 1547.97 L1704.16 1537.39 L1693.6 1526.76 L1696.33 1523.96 L1706.96 1534.59 L1717.58 1523.96 L1720.34 1526.76 Z\" fill=\"#000000\" fill-rule=\"evenodd\" fill-opacity=\"1\" /><path clip-path=\"url(#clip580)\" d=\"M1732.7 1548.29 L1740.34 1548.29 L1740.34 1521.92 L1732.03 1523.59 L1732.03 1519.33 L1740.29 1517.66 L1744.97 1517.66 L1744.97 1548.29 L1752.61 1548.29 L1752.61 1552.22 L1732.7 1552.22 L1732.7 1548.29 Z\" fill=\"#000000\" fill-rule=\"evenodd\" fill-opacity=\"1\" /><path clip-path=\"url(#clip580)\" d=\"M1772.05 1520.74 Q1768.44 1520.74 1766.61 1524.31 Q1764.8 1527.85 1764.8 1534.98 Q1764.8 1542.09 1766.61 1545.65 Q1768.44 1549.19 1772.05 1549.19 Q1775.68 1549.19 1777.49 1545.65 Q1779.32 1542.09 1779.32 1534.98 Q1779.32 1527.85 1777.49 1524.31 Q1775.68 1520.74 1772.05 1520.74 M1772.05 1517.04 Q1777.86 1517.04 1780.92 1521.65 Q1783.99 1526.23 1783.99 1534.98 Q1783.99 1543.71 1780.92 1548.31 Q1777.86 1552.9 1772.05 1552.9 Q1766.24 1552.9 1763.16 1548.31 Q1760.11 1543.71 1760.11 1534.98 Q1760.11 1526.23 1763.16 1521.65 Q1766.24 1517.04 1772.05 1517.04 Z\" fill=\"#000000\" fill-rule=\"evenodd\" fill-opacity=\"1\" /><path clip-path=\"url(#clip580)\" d=\"M1783.99 1511.14 L1808.11 1511.14 L1808.11 1514.34 L1783.99 1514.34 L1783.99 1511.14 Z\" fill=\"#000000\" fill-rule=\"evenodd\" fill-opacity=\"1\" /><path clip-path=\"url(#clip580)\" d=\"M1824.43 1511.48 Q1821.72 1511.48 1820.16 1512.93 Q1818.62 1514.38 1818.62 1516.92 Q1818.62 1519.45 1820.16 1520.9 Q1821.72 1522.35 1824.43 1522.35 Q1827.14 1522.35 1828.7 1520.9 Q1830.26 1519.44 1830.26 1516.92 Q1830.26 1514.38 1828.7 1512.93 Q1827.16 1511.48 1824.43 1511.48 M1820.63 1509.86 Q1818.19 1509.26 1816.81 1507.59 Q1815.46 1505.91 1815.46 1503.51 Q1815.46 1500.14 1817.85 1498.18 Q1820.26 1496.23 1824.43 1496.23 Q1828.62 1496.23 1831.01 1498.18 Q1833.4 1500.14 1833.4 1503.51 Q1833.4 1505.91 1832.03 1507.59 Q1830.67 1509.26 1828.25 1509.86 Q1830.99 1510.5 1832.52 1512.36 Q1834.06 1514.23 1834.06 1516.92 Q1834.06 1521 1831.56 1523.18 Q1829.08 1525.36 1824.43 1525.36 Q1819.79 1525.36 1817.28 1523.18 Q1814.8 1521 1814.8 1516.92 Q1814.8 1514.23 1816.34 1512.36 Q1817.89 1510.5 1820.63 1509.86 M1819.24 1503.86 Q1819.24 1506.04 1820.59 1507.27 Q1821.97 1508.49 1824.43 1508.49 Q1826.88 1508.49 1828.25 1507.27 Q1829.64 1506.04 1829.64 1503.86 Q1829.64 1501.68 1828.25 1500.46 Q1826.88 1499.24 1824.43 1499.24 Q1821.97 1499.24 1820.59 1500.46 Q1819.24 1501.68 1819.24 1503.86 Z\" fill=\"#000000\" fill-rule=\"evenodd\" fill-opacity=\"1\" /><path clip-path=\"url(#clip580)\" d=\"M2012.08 1521.74 L2000.27 1540.19 L2012.08 1540.19 L2012.08 1521.74 M2010.85 1517.66 L2016.73 1517.66 L2016.73 1540.19 L2021.66 1540.19 L2021.66 1544.08 L2016.73 1544.08 L2016.73 1552.22 L2012.08 1552.22 L2012.08 1544.08 L1996.48 1544.08 L1996.48 1539.56 L2010.85 1517.66 Z\" fill=\"#000000\" fill-rule=\"evenodd\" fill-opacity=\"1\" /><path clip-path=\"url(#clip580)\" d=\"M2029.39 1546.35 L2034.28 1546.35 L2034.28 1552.22 L2029.39 1552.22 L2029.39 1546.35 Z\" fill=\"#000000\" fill-rule=\"evenodd\" fill-opacity=\"1\" /><path clip-path=\"url(#clip580)\" d=\"M2054.46 1520.74 Q2050.85 1520.74 2049.02 1524.31 Q2047.22 1527.85 2047.22 1534.98 Q2047.22 1542.09 2049.02 1545.65 Q2050.85 1549.19 2054.46 1549.19 Q2058.1 1549.19 2059.9 1545.65 Q2061.73 1542.09 2061.73 1534.98 Q2061.73 1527.85 2059.9 1524.31 Q2058.1 1520.74 2054.46 1520.74 M2054.46 1517.04 Q2060.27 1517.04 2063.33 1521.65 Q2066.41 1526.23 2066.41 1534.98 Q2066.41 1543.71 2063.33 1548.31 Q2060.27 1552.9 2054.46 1552.9 Q2048.65 1552.9 2045.58 1548.31 Q2042.52 1543.71 2042.52 1534.98 Q2042.52 1526.23 2045.58 1521.65 Q2048.65 1517.04 2054.46 1517.04 Z\" fill=\"#000000\" fill-rule=\"evenodd\" fill-opacity=\"1\" /><path clip-path=\"url(#clip580)\" d=\"M2102.8 1526.76 L2092.22 1537.39 L2102.8 1547.97 L2100.04 1550.77 L2089.42 1540.14 L2078.79 1550.77 L2076.06 1547.97 L2086.62 1537.39 L2076.06 1526.76 L2078.79 1523.96 L2089.42 1534.59 L2100.04 1523.96 L2102.8 1526.76 Z\" fill=\"#000000\" fill-rule=\"evenodd\" fill-opacity=\"1\" /><path clip-path=\"url(#clip580)\" d=\"M2115.16 1548.29 L2122.8 1548.29 L2122.8 1521.92 L2114.49 1523.59 L2114.49 1519.33 L2122.75 1517.66 L2127.43 1517.66 L2127.43 1548.29 L2135.07 1548.29 L2135.07 1552.22 L2115.16 1552.22 L2115.16 1548.29 Z\" fill=\"#000000\" fill-rule=\"evenodd\" fill-opacity=\"1\" /><path clip-path=\"url(#clip580)\" d=\"M2154.51 1520.74 Q2150.9 1520.74 2149.07 1524.31 Q2147.26 1527.85 2147.26 1534.98 Q2147.26 1542.09 2149.07 1545.65 Q2150.9 1549.19 2154.51 1549.19 Q2158.14 1549.19 2159.95 1545.65 Q2161.78 1542.09 2161.78 1534.98 Q2161.78 1527.85 2159.95 1524.31 Q2158.14 1520.74 2154.51 1520.74 M2154.51 1517.04 Q2160.32 1517.04 2163.38 1521.65 Q2166.45 1526.23 2166.45 1534.98 Q2166.45 1543.71 2163.38 1548.31 Q2160.32 1552.9 2154.51 1552.9 Q2148.7 1552.9 2145.62 1548.31 Q2142.57 1543.71 2142.57 1534.98 Q2142.57 1526.23 2145.62 1521.65 Q2148.7 1517.04 2154.51 1517.04 Z\" fill=\"#000000\" fill-rule=\"evenodd\" fill-opacity=\"1\" /><path clip-path=\"url(#clip580)\" d=\"M2166.45 1511.14 L2190.57 1511.14 L2190.57 1514.34 L2166.45 1514.34 L2166.45 1511.14 Z\" fill=\"#000000\" fill-rule=\"evenodd\" fill-opacity=\"1\" /><path clip-path=\"url(#clip580)\" d=\"M2206.89 1511.48 Q2204.18 1511.48 2202.62 1512.93 Q2201.08 1514.38 2201.08 1516.92 Q2201.08 1519.45 2202.62 1520.9 Q2204.18 1522.35 2206.89 1522.35 Q2209.6 1522.35 2211.16 1520.9 Q2212.72 1519.44 2212.72 1516.92 Q2212.72 1514.38 2211.16 1512.93 Q2209.62 1511.48 2206.89 1511.48 M2203.09 1509.86 Q2200.65 1509.26 2199.27 1507.59 Q2197.92 1505.91 2197.92 1503.51 Q2197.92 1500.14 2200.31 1498.18 Q2202.72 1496.23 2206.89 1496.23 Q2211.09 1496.23 2213.47 1498.18 Q2215.86 1500.14 2215.86 1503.51 Q2215.86 1505.91 2214.49 1507.59 Q2213.14 1509.26 2210.71 1509.86 Q2213.45 1510.5 2214.98 1512.36 Q2216.52 1514.23 2216.52 1516.92 Q2216.52 1521 2214.02 1523.18 Q2211.54 1525.36 2206.89 1525.36 Q2202.25 1525.36 2199.74 1523.18 Q2197.26 1521 2197.26 1516.92 Q2197.26 1514.23 2198.8 1512.36 Q2200.35 1510.5 2203.09 1509.86 M2201.7 1503.86 Q2201.7 1506.04 2203.05 1507.27 Q2204.43 1508.49 2206.89 1508.49 Q2209.34 1508.49 2210.71 1507.27 Q2212.1 1506.04 2212.1 1503.86 Q2212.1 1501.68 2210.71 1500.46 Q2209.34 1499.24 2206.89 1499.24 Q2204.43 1499.24 2203.05 1500.46 Q2201.7 1501.68 2201.7 1503.86 Z\" fill=\"#000000\" fill-rule=\"evenodd\" fill-opacity=\"1\" /><polyline clip-path=\"url(#clip583)\" style=\"stroke:#000000; stroke-linecap:round; stroke-linejoin:round; stroke-width:2; stroke-opacity:0.1; fill:none\" points=\"\n",
       "  330.807,1377.69 2352.76,1377.69 \n",
       "  \"/>\n",
       "<polyline clip-path=\"url(#clip583)\" style=\"stroke:#000000; stroke-linecap:round; stroke-linejoin:round; stroke-width:2; stroke-opacity:0.1; fill:none\" points=\"\n",
       "  330.807,1125.09 2352.76,1125.09 \n",
       "  \"/>\n",
       "<polyline clip-path=\"url(#clip583)\" style=\"stroke:#000000; stroke-linecap:round; stroke-linejoin:round; stroke-width:2; stroke-opacity:0.1; fill:none\" points=\"\n",
       "  330.807,872.48 2352.76,872.48 \n",
       "  \"/>\n",
       "<polyline clip-path=\"url(#clip583)\" style=\"stroke:#000000; stroke-linecap:round; stroke-linejoin:round; stroke-width:2; stroke-opacity:0.1; fill:none\" points=\"\n",
       "  330.807,619.875 2352.76,619.875 \n",
       "  \"/>\n",
       "<polyline clip-path=\"url(#clip583)\" style=\"stroke:#000000; stroke-linecap:round; stroke-linejoin:round; stroke-width:2; stroke-opacity:0.1; fill:none\" points=\"\n",
       "  330.807,367.269 2352.76,367.269 \n",
       "  \"/>\n",
       "<polyline clip-path=\"url(#clip583)\" style=\"stroke:#000000; stroke-linecap:round; stroke-linejoin:round; stroke-width:2; stroke-opacity:0.1; fill:none\" points=\"\n",
       "  330.807,114.664 2352.76,114.664 \n",
       "  \"/>\n",
       "<polyline clip-path=\"url(#clip580)\" style=\"stroke:#000000; stroke-linecap:round; stroke-linejoin:round; stroke-width:4; stroke-opacity:1; fill:none\" points=\"\n",
       "  330.807,1474.16 330.807,47.2441 \n",
       "  \"/>\n",
       "<polyline clip-path=\"url(#clip580)\" style=\"stroke:#000000; stroke-linecap:round; stroke-linejoin:round; stroke-width:4; stroke-opacity:1; fill:none\" points=\"\n",
       "  330.807,1377.69 349.705,1377.69 \n",
       "  \"/>\n",
       "<polyline clip-path=\"url(#clip580)\" style=\"stroke:#000000; stroke-linecap:round; stroke-linejoin:round; stroke-width:4; stroke-opacity:1; fill:none\" points=\"\n",
       "  330.807,1125.09 349.705,1125.09 \n",
       "  \"/>\n",
       "<polyline clip-path=\"url(#clip580)\" style=\"stroke:#000000; stroke-linecap:round; stroke-linejoin:round; stroke-width:4; stroke-opacity:1; fill:none\" points=\"\n",
       "  330.807,872.48 349.705,872.48 \n",
       "  \"/>\n",
       "<polyline clip-path=\"url(#clip580)\" style=\"stroke:#000000; stroke-linecap:round; stroke-linejoin:round; stroke-width:4; stroke-opacity:1; fill:none\" points=\"\n",
       "  330.807,619.875 349.705,619.875 \n",
       "  \"/>\n",
       "<polyline clip-path=\"url(#clip580)\" style=\"stroke:#000000; stroke-linecap:round; stroke-linejoin:round; stroke-width:4; stroke-opacity:1; fill:none\" points=\"\n",
       "  330.807,367.269 349.705,367.269 \n",
       "  \"/>\n",
       "<polyline clip-path=\"url(#clip580)\" style=\"stroke:#000000; stroke-linecap:round; stroke-linejoin:round; stroke-width:4; stroke-opacity:1; fill:none\" points=\"\n",
       "  330.807,114.664 349.705,114.664 \n",
       "  \"/>\n",
       "<path clip-path=\"url(#clip580)\" d=\"M282.863 1363.49 Q279.252 1363.49 277.423 1367.05 Q275.618 1370.6 275.618 1377.73 Q275.618 1384.83 277.423 1388.4 Q279.252 1391.94 282.863 1391.94 Q286.497 1391.94 288.303 1388.4 Q290.131 1384.83 290.131 1377.73 Q290.131 1370.6 288.303 1367.05 Q286.497 1363.49 282.863 1363.49 M282.863 1359.79 Q288.673 1359.79 291.729 1364.39 Q294.807 1368.98 294.807 1377.73 Q294.807 1386.45 291.729 1391.06 Q288.673 1395.64 282.863 1395.64 Q277.053 1395.64 273.974 1391.06 Q270.919 1386.45 270.919 1377.73 Q270.919 1368.98 273.974 1364.39 Q277.053 1359.79 282.863 1359.79 Z\" fill=\"#000000\" fill-rule=\"evenodd\" fill-opacity=\"1\" /><path clip-path=\"url(#clip580)\" d=\"M54.5569 1144.88 L62.1958 1144.88 L62.1958 1118.51 L53.8856 1120.18 L53.8856 1115.92 L62.1495 1114.25 L66.8254 1114.25 L66.8254 1144.88 L74.4642 1144.88 L74.4642 1148.81 L54.5569 1148.81 L54.5569 1144.88 Z\" fill=\"#000000\" fill-rule=\"evenodd\" fill-opacity=\"1\" /><path clip-path=\"url(#clip580)\" d=\"M83.9086 1142.93 L88.7928 1142.93 L88.7928 1148.81 L83.9086 1148.81 L83.9086 1142.93 Z\" fill=\"#000000\" fill-rule=\"evenodd\" fill-opacity=\"1\" /><path clip-path=\"url(#clip580)\" d=\"M108.978 1117.33 Q105.367 1117.33 103.538 1120.9 Q101.733 1124.44 101.733 1131.57 Q101.733 1138.67 103.538 1142.24 Q105.367 1145.78 108.978 1145.78 Q112.612 1145.78 114.418 1142.24 Q116.246 1138.67 116.246 1131.57 Q116.246 1124.44 114.418 1120.9 Q112.612 1117.33 108.978 1117.33 M108.978 1113.63 Q114.788 1113.63 117.844 1118.23 Q120.922 1122.82 120.922 1131.57 Q120.922 1140.29 117.844 1144.9 Q114.788 1149.48 108.978 1149.48 Q103.168 1149.48 100.089 1144.9 Q97.0335 1140.29 97.0335 1131.57 Q97.0335 1122.82 100.089 1118.23 Q103.168 1113.63 108.978 1113.63 Z\" fill=\"#000000\" fill-rule=\"evenodd\" fill-opacity=\"1\" /><path clip-path=\"url(#clip580)\" d=\"M157.311 1123.35 L146.732 1133.97 L157.311 1144.55 L154.556 1147.35 L143.931 1136.73 L133.306 1147.35 L130.575 1144.55 L141.131 1133.97 L130.575 1123.35 L133.306 1120.55 L143.931 1131.17 L154.556 1120.55 L157.311 1123.35 Z\" fill=\"#000000\" fill-rule=\"evenodd\" fill-opacity=\"1\" /><path clip-path=\"url(#clip580)\" d=\"M169.672 1144.88 L177.311 1144.88 L177.311 1118.51 L169.001 1120.18 L169.001 1115.92 L177.265 1114.25 L181.94 1114.25 L181.94 1144.88 L189.579 1144.88 L189.579 1148.81 L169.672 1148.81 L169.672 1144.88 Z\" fill=\"#000000\" fill-rule=\"evenodd\" fill-opacity=\"1\" /><path clip-path=\"url(#clip580)\" d=\"M209.024 1117.33 Q205.413 1117.33 203.584 1120.9 Q201.778 1124.44 201.778 1131.57 Q201.778 1138.67 203.584 1142.24 Q205.413 1145.78 209.024 1145.78 Q212.658 1145.78 214.463 1142.24 Q216.292 1138.67 216.292 1131.57 Q216.292 1124.44 214.463 1120.9 Q212.658 1117.33 209.024 1117.33 M209.024 1113.63 Q214.834 1113.63 217.889 1118.23 Q220.968 1122.82 220.968 1131.57 Q220.968 1140.29 217.889 1144.9 Q214.834 1149.48 209.024 1149.48 Q203.214 1149.48 200.135 1144.9 Q197.079 1140.29 197.079 1131.57 Q197.079 1122.82 200.135 1118.23 Q203.214 1113.63 209.024 1113.63 Z\" fill=\"#000000\" fill-rule=\"evenodd\" fill-opacity=\"1\" /><path clip-path=\"url(#clip580)\" d=\"M220.968 1107.73 L245.08 1107.73 L245.08 1110.93 L220.968 1110.93 L220.968 1107.73 Z\" fill=\"#000000\" fill-rule=\"evenodd\" fill-opacity=\"1\" /><path clip-path=\"url(#clip580)\" d=\"M253.938 1118.21 L260.145 1118.21 L260.145 1096.78 L253.393 1098.14 L253.393 1094.68 L260.107 1093.32 L263.906 1093.32 L263.906 1118.21 L270.113 1118.21 L270.113 1121.4 L253.938 1121.4 L253.938 1118.21 Z\" fill=\"#000000\" fill-rule=\"evenodd\" fill-opacity=\"1\" /><path clip-path=\"url(#clip580)\" d=\"M277.824 1093.32 L292.739 1093.32 L292.739 1096.52 L281.303 1096.52 L281.303 1103.4 Q282.131 1103.12 282.958 1102.99 Q283.786 1102.84 284.614 1102.84 Q289.316 1102.84 292.061 1105.42 Q294.807 1107.99 294.807 1112.39 Q294.807 1116.93 291.986 1119.45 Q289.165 1121.95 284.031 1121.95 Q282.263 1121.95 280.419 1121.65 Q278.595 1121.35 276.639 1120.74 L276.639 1116.93 Q278.332 1117.85 280.137 1118.3 Q281.943 1118.75 283.955 1118.75 Q287.209 1118.75 289.109 1117.04 Q291.008 1115.33 291.008 1112.39 Q291.008 1109.46 289.109 1107.75 Q287.209 1106.04 283.955 1106.04 Q282.432 1106.04 280.908 1106.37 Q279.404 1106.71 277.824 1107.43 L277.824 1093.32 Z\" fill=\"#000000\" fill-rule=\"evenodd\" fill-opacity=\"1\" /><path clip-path=\"url(#clip580)\" d=\"M57.7745 892.272 L74.0939 892.272 L74.0939 896.207 L52.1495 896.207 L52.1495 892.272 Q54.8115 889.518 59.3949 884.888 Q64.0013 880.235 65.1819 878.893 Q67.4272 876.37 68.3068 874.634 Q69.2096 872.874 69.2096 871.184 Q69.2096 868.43 67.2652 866.694 Q65.3439 864.958 62.2421 864.958 Q60.043 864.958 57.5893 865.722 Q55.1588 866.485 52.381 868.036 L52.381 863.314 Q55.2051 862.18 57.6588 861.601 Q60.1124 861.022 62.1495 861.022 Q67.5198 861.022 70.7142 863.708 Q73.9087 866.393 73.9087 870.884 Q73.9087 873.013 73.0985 874.934 Q72.3115 876.833 70.205 879.425 Q69.6263 880.096 66.5245 883.314 Q63.4226 886.508 57.7745 892.272 Z\" fill=\"#000000\" fill-rule=\"evenodd\" fill-opacity=\"1\" /><path clip-path=\"url(#clip580)\" d=\"M83.9086 890.328 L88.7928 890.328 L88.7928 896.207 L83.9086 896.207 L83.9086 890.328 Z\" fill=\"#000000\" fill-rule=\"evenodd\" fill-opacity=\"1\" /><path clip-path=\"url(#clip580)\" d=\"M108.978 864.726 Q105.367 864.726 103.538 868.291 Q101.733 871.833 101.733 878.962 Q101.733 886.069 103.538 889.633 Q105.367 893.175 108.978 893.175 Q112.612 893.175 114.418 889.633 Q116.246 886.069 116.246 878.962 Q116.246 871.833 114.418 868.291 Q112.612 864.726 108.978 864.726 M108.978 861.022 Q114.788 861.022 117.844 865.629 Q120.922 870.212 120.922 878.962 Q120.922 887.689 117.844 892.295 Q114.788 896.879 108.978 896.879 Q103.168 896.879 100.089 892.295 Q97.0335 887.689 97.0335 878.962 Q97.0335 870.212 100.089 865.629 Q103.168 861.022 108.978 861.022 Z\" fill=\"#000000\" fill-rule=\"evenodd\" fill-opacity=\"1\" /><path clip-path=\"url(#clip580)\" d=\"M157.311 870.745 L146.732 881.37 L157.311 891.948 L154.556 894.749 L143.931 884.124 L133.306 894.749 L130.575 891.948 L141.131 881.37 L130.575 870.745 L133.306 867.944 L143.931 878.569 L154.556 867.944 L157.311 870.745 Z\" fill=\"#000000\" fill-rule=\"evenodd\" fill-opacity=\"1\" /><path clip-path=\"url(#clip580)\" d=\"M169.672 892.272 L177.311 892.272 L177.311 865.907 L169.001 867.573 L169.001 863.314 L177.265 861.647 L181.94 861.647 L181.94 892.272 L189.579 892.272 L189.579 896.207 L169.672 896.207 L169.672 892.272 Z\" fill=\"#000000\" fill-rule=\"evenodd\" fill-opacity=\"1\" /><path clip-path=\"url(#clip580)\" d=\"M209.024 864.726 Q205.413 864.726 203.584 868.291 Q201.778 871.833 201.778 878.962 Q201.778 886.069 203.584 889.633 Q205.413 893.175 209.024 893.175 Q212.658 893.175 214.463 889.633 Q216.292 886.069 216.292 878.962 Q216.292 871.833 214.463 868.291 Q212.658 864.726 209.024 864.726 M209.024 861.022 Q214.834 861.022 217.889 865.629 Q220.968 870.212 220.968 878.962 Q220.968 887.689 217.889 892.295 Q214.834 896.879 209.024 896.879 Q203.214 896.879 200.135 892.295 Q197.079 887.689 197.079 878.962 Q197.079 870.212 200.135 865.629 Q203.214 861.022 209.024 861.022 Z\" fill=\"#000000\" fill-rule=\"evenodd\" fill-opacity=\"1\" /><path clip-path=\"url(#clip580)\" d=\"M220.968 855.124 L245.08 855.124 L245.08 858.321 L220.968 858.321 L220.968 855.124 Z\" fill=\"#000000\" fill-rule=\"evenodd\" fill-opacity=\"1\" /><path clip-path=\"url(#clip580)\" d=\"M253.938 865.6 L260.145 865.6 L260.145 844.178 L253.393 845.532 L253.393 842.071 L260.107 840.717 L263.906 840.717 L263.906 865.6 L270.113 865.6 L270.113 868.797 L253.938 868.797 L253.938 865.6 Z\" fill=\"#000000\" fill-rule=\"evenodd\" fill-opacity=\"1\" /><path clip-path=\"url(#clip580)\" d=\"M277.824 840.717 L292.739 840.717 L292.739 843.914 L281.303 843.914 L281.303 850.798 Q282.131 850.516 282.958 850.384 Q283.786 850.234 284.614 850.234 Q289.316 850.234 292.061 852.81 Q294.807 855.387 294.807 859.788 Q294.807 864.321 291.986 866.841 Q289.165 869.342 284.031 869.342 Q282.263 869.342 280.419 869.042 Q278.595 868.741 276.639 868.139 L276.639 864.321 Q278.332 865.242 280.137 865.694 Q281.943 866.145 283.955 866.145 Q287.209 866.145 289.109 864.434 Q291.008 862.722 291.008 859.788 Q291.008 856.854 289.109 855.143 Q287.209 853.431 283.955 853.431 Q282.432 853.431 280.908 853.77 Q279.404 854.108 277.824 854.823 L277.824 840.717 Z\" fill=\"#000000\" fill-rule=\"evenodd\" fill-opacity=\"1\" /><path clip-path=\"url(#clip580)\" d=\"M67.9133 624.968 Q71.2698 625.686 73.1448 627.954 Q75.0429 630.223 75.0429 633.556 Q75.0429 638.672 71.5244 641.473 Q68.0059 644.273 61.5245 644.273 Q59.3486 644.273 57.0338 643.834 Q54.7421 643.417 52.2884 642.561 L52.2884 638.047 Q54.2328 639.181 56.5477 639.76 Q58.8625 640.338 61.3856 640.338 Q65.7837 640.338 68.0754 638.602 Q70.3902 636.866 70.3902 633.556 Q70.3902 630.5 68.2374 628.787 Q66.1078 627.051 62.2884 627.051 L58.2606 627.051 L58.2606 623.209 L62.4735 623.209 Q65.9226 623.209 67.7513 621.843 Q69.58 620.454 69.58 617.862 Q69.58 615.2 67.6819 613.788 Q65.8069 612.352 62.2884 612.352 Q60.3671 612.352 58.168 612.769 Q55.969 613.186 53.3301 614.065 L53.3301 609.899 Q55.9921 609.158 58.3069 608.788 Q60.6449 608.417 62.705 608.417 Q68.0291 608.417 71.1309 610.848 Q74.2327 613.255 74.2327 617.375 Q74.2327 620.246 72.5892 622.237 Q70.9457 624.204 67.9133 624.968 Z\" fill=\"#000000\" fill-rule=\"evenodd\" fill-opacity=\"1\" /><path clip-path=\"url(#clip580)\" d=\"M83.9086 637.723 L88.7928 637.723 L88.7928 643.602 L83.9086 643.602 L83.9086 637.723 Z\" fill=\"#000000\" fill-rule=\"evenodd\" fill-opacity=\"1\" /><path clip-path=\"url(#clip580)\" d=\"M108.978 612.121 Q105.367 612.121 103.538 615.686 Q101.733 619.227 101.733 626.357 Q101.733 633.463 103.538 637.028 Q105.367 640.57 108.978 640.57 Q112.612 640.57 114.418 637.028 Q116.246 633.463 116.246 626.357 Q116.246 619.227 114.418 615.686 Q112.612 612.121 108.978 612.121 M108.978 608.417 Q114.788 608.417 117.844 613.024 Q120.922 617.607 120.922 626.357 Q120.922 635.084 117.844 639.69 Q114.788 644.273 108.978 644.273 Q103.168 644.273 100.089 639.69 Q97.0335 635.084 97.0335 626.357 Q97.0335 617.607 100.089 613.024 Q103.168 608.417 108.978 608.417 Z\" fill=\"#000000\" fill-rule=\"evenodd\" fill-opacity=\"1\" /><path clip-path=\"url(#clip580)\" d=\"M157.311 618.139 L146.732 628.764 L157.311 639.343 L154.556 642.144 L143.931 631.519 L133.306 642.144 L130.575 639.343 L141.131 628.764 L130.575 618.139 L133.306 615.338 L143.931 625.963 L154.556 615.338 L157.311 618.139 Z\" fill=\"#000000\" fill-rule=\"evenodd\" fill-opacity=\"1\" /><path clip-path=\"url(#clip580)\" d=\"M169.672 639.667 L177.311 639.667 L177.311 613.301 L169.001 614.968 L169.001 610.709 L177.265 609.042 L181.94 609.042 L181.94 639.667 L189.579 639.667 L189.579 643.602 L169.672 643.602 L169.672 639.667 Z\" fill=\"#000000\" fill-rule=\"evenodd\" fill-opacity=\"1\" /><path clip-path=\"url(#clip580)\" d=\"M209.024 612.121 Q205.413 612.121 203.584 615.686 Q201.778 619.227 201.778 626.357 Q201.778 633.463 203.584 637.028 Q205.413 640.57 209.024 640.57 Q212.658 640.57 214.463 637.028 Q216.292 633.463 216.292 626.357 Q216.292 619.227 214.463 615.686 Q212.658 612.121 209.024 612.121 M209.024 608.417 Q214.834 608.417 217.889 613.024 Q220.968 617.607 220.968 626.357 Q220.968 635.084 217.889 639.69 Q214.834 644.273 209.024 644.273 Q203.214 644.273 200.135 639.69 Q197.079 635.084 197.079 626.357 Q197.079 617.607 200.135 613.024 Q203.214 608.417 209.024 608.417 Z\" fill=\"#000000\" fill-rule=\"evenodd\" fill-opacity=\"1\" /><path clip-path=\"url(#clip580)\" d=\"M220.968 602.519 L245.08 602.519 L245.08 605.716 L220.968 605.716 L220.968 602.519 Z\" fill=\"#000000\" fill-rule=\"evenodd\" fill-opacity=\"1\" /><path clip-path=\"url(#clip580)\" d=\"M253.938 612.994 L260.145 612.994 L260.145 591.572 L253.393 592.927 L253.393 589.466 L260.107 588.112 L263.906 588.112 L263.906 612.994 L270.113 612.994 L270.113 616.192 L253.938 616.192 L253.938 612.994 Z\" fill=\"#000000\" fill-rule=\"evenodd\" fill-opacity=\"1\" /><path clip-path=\"url(#clip580)\" d=\"M277.824 588.112 L292.739 588.112 L292.739 591.309 L281.303 591.309 L281.303 598.193 Q282.131 597.911 282.958 597.779 Q283.786 597.628 284.614 597.628 Q289.316 597.628 292.061 600.205 Q294.807 602.782 294.807 607.183 Q294.807 611.716 291.986 614.236 Q289.165 616.737 284.031 616.737 Q282.263 616.737 280.419 616.436 Q278.595 616.135 276.639 615.533 L276.639 611.716 Q278.332 612.637 280.137 613.088 Q281.943 613.54 283.955 613.54 Q287.209 613.54 289.109 611.828 Q291.008 610.117 291.008 607.183 Q291.008 604.249 289.109 602.537 Q287.209 600.826 283.955 600.826 Q282.432 600.826 280.908 601.164 Q279.404 601.503 277.824 602.218 L277.824 588.112 Z\" fill=\"#000000\" fill-rule=\"evenodd\" fill-opacity=\"1\" /><path clip-path=\"url(#clip580)\" d=\"M66.5939 360.511 L54.7884 378.96 L66.5939 378.96 L66.5939 360.511 M65.367 356.437 L71.2466 356.437 L71.2466 378.96 L76.1772 378.96 L76.1772 382.849 L71.2466 382.849 L71.2466 390.997 L66.5939 390.997 L66.5939 382.849 L50.9921 382.849 L50.9921 378.335 L65.367 356.437 Z\" fill=\"#000000\" fill-rule=\"evenodd\" fill-opacity=\"1\" /><path clip-path=\"url(#clip580)\" d=\"M83.9086 385.117 L88.7928 385.117 L88.7928 390.997 L83.9086 390.997 L83.9086 385.117 Z\" fill=\"#000000\" fill-rule=\"evenodd\" fill-opacity=\"1\" /><path clip-path=\"url(#clip580)\" d=\"M108.978 359.516 Q105.367 359.516 103.538 363.08 Q101.733 366.622 101.733 373.752 Q101.733 380.858 103.538 384.423 Q105.367 387.964 108.978 387.964 Q112.612 387.964 114.418 384.423 Q116.246 380.858 116.246 373.752 Q116.246 366.622 114.418 363.08 Q112.612 359.516 108.978 359.516 M108.978 355.812 Q114.788 355.812 117.844 360.418 Q120.922 365.002 120.922 373.752 Q120.922 382.478 117.844 387.085 Q114.788 391.668 108.978 391.668 Q103.168 391.668 100.089 387.085 Q97.0335 382.478 97.0335 373.752 Q97.0335 365.002 100.089 360.418 Q103.168 355.812 108.978 355.812 Z\" fill=\"#000000\" fill-rule=\"evenodd\" fill-opacity=\"1\" /><path clip-path=\"url(#clip580)\" d=\"M157.311 365.534 L146.732 376.159 L157.311 386.738 L154.556 389.539 L143.931 378.914 L133.306 389.539 L130.575 386.738 L141.131 376.159 L130.575 365.534 L133.306 362.733 L143.931 373.358 L154.556 362.733 L157.311 365.534 Z\" fill=\"#000000\" fill-rule=\"evenodd\" fill-opacity=\"1\" /><path clip-path=\"url(#clip580)\" d=\"M169.672 387.062 L177.311 387.062 L177.311 360.696 L169.001 362.363 L169.001 358.104 L177.265 356.437 L181.94 356.437 L181.94 387.062 L189.579 387.062 L189.579 390.997 L169.672 390.997 L169.672 387.062 Z\" fill=\"#000000\" fill-rule=\"evenodd\" fill-opacity=\"1\" /><path clip-path=\"url(#clip580)\" d=\"M209.024 359.516 Q205.413 359.516 203.584 363.08 Q201.778 366.622 201.778 373.752 Q201.778 380.858 203.584 384.423 Q205.413 387.964 209.024 387.964 Q212.658 387.964 214.463 384.423 Q216.292 380.858 216.292 373.752 Q216.292 366.622 214.463 363.08 Q212.658 359.516 209.024 359.516 M209.024 355.812 Q214.834 355.812 217.889 360.418 Q220.968 365.002 220.968 373.752 Q220.968 382.478 217.889 387.085 Q214.834 391.668 209.024 391.668 Q203.214 391.668 200.135 387.085 Q197.079 382.478 197.079 373.752 Q197.079 365.002 200.135 360.418 Q203.214 355.812 209.024 355.812 Z\" fill=\"#000000\" fill-rule=\"evenodd\" fill-opacity=\"1\" /><path clip-path=\"url(#clip580)\" d=\"M220.968 349.913 L245.08 349.913 L245.08 353.111 L220.968 353.111 L220.968 349.913 Z\" fill=\"#000000\" fill-rule=\"evenodd\" fill-opacity=\"1\" /><path clip-path=\"url(#clip580)\" d=\"M253.938 360.389 L260.145 360.389 L260.145 338.967 L253.393 340.321 L253.393 336.861 L260.107 335.506 L263.906 335.506 L263.906 360.389 L270.113 360.389 L270.113 363.586 L253.938 363.586 L253.938 360.389 Z\" fill=\"#000000\" fill-rule=\"evenodd\" fill-opacity=\"1\" /><path clip-path=\"url(#clip580)\" d=\"M277.824 335.506 L292.739 335.506 L292.739 338.704 L281.303 338.704 L281.303 345.587 Q282.131 345.305 282.958 345.174 Q283.786 345.023 284.614 345.023 Q289.316 345.023 292.061 347.6 Q294.807 350.177 294.807 354.578 Q294.807 359.11 291.986 361.63 Q289.165 364.132 284.031 364.132 Q282.263 364.132 280.419 363.831 Q278.595 363.53 276.639 362.928 L276.639 359.11 Q278.332 360.032 280.137 360.483 Q281.943 360.935 283.955 360.935 Q287.209 360.935 289.109 359.223 Q291.008 357.512 291.008 354.578 Q291.008 351.644 289.109 349.932 Q287.209 348.221 283.955 348.221 Q282.432 348.221 280.908 348.559 Q279.404 348.898 277.824 349.612 L277.824 335.506 Z\" fill=\"#000000\" fill-rule=\"evenodd\" fill-opacity=\"1\" /><path clip-path=\"url(#clip580)\" d=\"M53.793 103.832 L72.1494 103.832 L72.1494 107.767 L58.0754 107.767 L58.0754 116.239 Q59.0939 115.892 60.1124 115.73 Q61.131 115.544 62.1495 115.544 Q67.9365 115.544 71.3161 118.716 Q74.6957 121.887 74.6957 127.304 Q74.6957 132.882 71.2235 135.984 Q67.7513 139.063 61.4319 139.063 Q59.256 139.063 56.9875 138.692 Q54.7421 138.322 52.3347 137.581 L52.3347 132.882 Q54.418 134.017 56.6402 134.572 Q58.8625 135.128 61.3393 135.128 Q65.3439 135.128 67.6819 133.021 Q70.0198 130.915 70.0198 127.304 Q70.0198 123.693 67.6819 121.586 Q65.3439 119.48 61.3393 119.48 Q59.4643 119.48 57.5893 119.896 Q55.7375 120.313 53.793 121.193 L53.793 103.832 Z\" fill=\"#000000\" fill-rule=\"evenodd\" fill-opacity=\"1\" /><path clip-path=\"url(#clip580)\" d=\"M83.9086 132.512 L88.7928 132.512 L88.7928 138.392 L83.9086 138.392 L83.9086 132.512 Z\" fill=\"#000000\" fill-rule=\"evenodd\" fill-opacity=\"1\" /><path clip-path=\"url(#clip580)\" d=\"M108.978 106.91 Q105.367 106.91 103.538 110.475 Q101.733 114.017 101.733 121.146 Q101.733 128.253 103.538 131.818 Q105.367 135.359 108.978 135.359 Q112.612 135.359 114.418 131.818 Q116.246 128.253 116.246 121.146 Q116.246 114.017 114.418 110.475 Q112.612 106.91 108.978 106.91 M108.978 103.207 Q114.788 103.207 117.844 107.813 Q120.922 112.396 120.922 121.146 Q120.922 129.873 117.844 134.48 Q114.788 139.063 108.978 139.063 Q103.168 139.063 100.089 134.48 Q97.0335 129.873 97.0335 121.146 Q97.0335 112.396 100.089 107.813 Q103.168 103.207 108.978 103.207 Z\" fill=\"#000000\" fill-rule=\"evenodd\" fill-opacity=\"1\" /><path clip-path=\"url(#clip580)\" d=\"M157.311 112.929 L146.732 123.554 L157.311 134.132 L154.556 136.933 L143.931 126.308 L133.306 136.933 L130.575 134.132 L141.131 123.554 L130.575 112.929 L133.306 110.128 L143.931 120.753 L154.556 110.128 L157.311 112.929 Z\" fill=\"#000000\" fill-rule=\"evenodd\" fill-opacity=\"1\" /><path clip-path=\"url(#clip580)\" d=\"M169.672 134.456 L177.311 134.456 L177.311 108.091 L169.001 109.757 L169.001 105.498 L177.265 103.832 L181.94 103.832 L181.94 134.456 L189.579 134.456 L189.579 138.392 L169.672 138.392 L169.672 134.456 Z\" fill=\"#000000\" fill-rule=\"evenodd\" fill-opacity=\"1\" /><path clip-path=\"url(#clip580)\" d=\"M209.024 106.91 Q205.413 106.91 203.584 110.475 Q201.778 114.017 201.778 121.146 Q201.778 128.253 203.584 131.818 Q205.413 135.359 209.024 135.359 Q212.658 135.359 214.463 131.818 Q216.292 128.253 216.292 121.146 Q216.292 114.017 214.463 110.475 Q212.658 106.91 209.024 106.91 M209.024 103.207 Q214.834 103.207 217.889 107.813 Q220.968 112.396 220.968 121.146 Q220.968 129.873 217.889 134.48 Q214.834 139.063 209.024 139.063 Q203.214 139.063 200.135 134.48 Q197.079 129.873 197.079 121.146 Q197.079 112.396 200.135 107.813 Q203.214 103.207 209.024 103.207 Z\" fill=\"#000000\" fill-rule=\"evenodd\" fill-opacity=\"1\" /><path clip-path=\"url(#clip580)\" d=\"M220.968 97.3079 L245.08 97.3079 L245.08 100.505 L220.968 100.505 L220.968 97.3079 Z\" fill=\"#000000\" fill-rule=\"evenodd\" fill-opacity=\"1\" /><path clip-path=\"url(#clip580)\" d=\"M253.938 107.784 L260.145 107.784 L260.145 86.3618 L253.393 87.7159 L253.393 84.2553 L260.107 82.9012 L263.906 82.9012 L263.906 107.784 L270.113 107.784 L270.113 110.981 L253.938 110.981 L253.938 107.784 Z\" fill=\"#000000\" fill-rule=\"evenodd\" fill-opacity=\"1\" /><path clip-path=\"url(#clip580)\" d=\"M277.824 82.9012 L292.739 82.9012 L292.739 86.0985 L281.303 86.0985 L281.303 92.9821 Q282.131 92.7 282.958 92.5683 Q283.786 92.4179 284.614 92.4179 Q289.316 92.4179 292.061 94.9945 Q294.807 97.5712 294.807 101.972 Q294.807 106.505 291.986 109.025 Q289.165 111.527 284.031 111.527 Q282.263 111.527 280.419 111.226 Q278.595 110.925 276.639 110.323 L276.639 106.505 Q278.332 107.426 280.137 107.878 Q281.943 108.329 283.955 108.329 Q287.209 108.329 289.109 106.618 Q291.008 104.906 291.008 101.972 Q291.008 99.0382 289.109 97.3267 Q287.209 95.6152 283.955 95.6152 Q282.432 95.6152 280.908 95.9537 Q279.404 96.2923 277.824 97.007 L277.824 82.9012 Z\" fill=\"#000000\" fill-rule=\"evenodd\" fill-opacity=\"1\" /><polyline clip-path=\"url(#clip583)\" style=\"stroke:#009af9; stroke-linecap:round; stroke-linejoin:round; stroke-width:4; stroke-opacity:1; fill:none\" points=\"\n",
       "  388.032,87.6286 389.942,87.6286 391.851,87.6286 393.761,143.718 395.67,199.808 397.579,199.808 399.489,143.718 401.398,143.718 403.308,143.718 405.217,143.718 \n",
       "  407.126,143.718 409.036,199.808 410.945,199.808 412.855,199.808 414.764,143.718 416.673,199.808 418.583,199.808 420.492,199.808 422.402,199.808 424.311,199.808 \n",
       "  426.22,199.808 428.13,199.808 430.039,199.808 431.949,199.808 433.858,255.898 435.768,255.898 437.677,255.898 439.586,255.898 441.496,255.898 443.405,199.808 \n",
       "  445.315,199.808 447.224,255.898 449.133,311.987 451.043,311.987 452.952,255.898 454.862,311.987 456.771,311.987 458.68,311.987 460.59,311.987 462.499,311.987 \n",
       "  464.409,311.987 466.318,311.987 468.227,311.987 470.137,311.987 472.046,368.077 473.956,368.077 475.865,368.077 477.775,311.987 479.684,311.987 481.593,311.987 \n",
       "  483.503,311.987 485.412,368.077 487.322,368.077 489.231,368.077 491.14,311.987 493.05,311.987 494.959,311.987 496.869,368.077 498.778,424.167 500.687,424.167 \n",
       "  502.597,424.167 504.506,424.167 506.416,424.167 508.325,424.167 510.234,424.167 512.144,424.167 514.053,480.256 515.963,480.256 517.872,424.167 519.781,480.256 \n",
       "  521.691,480.256 523.6,480.256 525.51,424.167 527.419,424.167 529.329,424.167 531.238,424.167 533.147,424.167 535.057,424.167 536.966,480.256 538.876,480.256 \n",
       "  540.785,480.256 542.694,424.167 544.604,480.256 546.513,480.256 548.423,480.256 550.332,536.346 552.241,536.346 554.151,536.346 556.06,536.346 557.97,536.346 \n",
       "  559.879,536.346 561.788,536.346 563.698,592.435 565.607,592.435 567.517,592.435 569.426,536.346 571.335,592.435 573.245,592.435 575.154,592.435 577.064,536.346 \n",
       "  578.973,536.346 580.883,536.346 582.792,536.346 584.701,536.346 586.611,536.346 588.52,592.435 590.43,592.435 592.339,592.435 594.248,536.346 596.158,536.346 \n",
       "  598.067,592.435 599.977,648.525 601.886,648.525 603.795,648.525 605.705,648.525 607.614,648.525 609.524,648.525 611.433,648.525 613.342,648.525 615.252,648.525 \n",
       "  617.161,648.525 619.071,648.525 620.98,648.525 622.89,648.525 624.799,704.615 626.708,704.615 628.618,704.615 630.527,704.615 632.437,648.525 634.346,648.525 \n",
       "  636.255,648.525 638.165,648.525 640.074,704.615 641.984,704.615 643.893,704.615 645.802,648.525 647.712,648.525 649.621,648.525 651.531,704.615 653.44,760.704 \n",
       "  655.349,760.704 657.259,760.704 659.168,704.615 661.078,760.704 662.987,760.704 664.896,760.704 666.806,760.704 668.715,760.704 670.625,760.704 672.534,760.704 \n",
       "  674.444,760.704 676.353,760.704 678.262,760.704 680.172,760.704 682.081,760.704 683.991,760.704 685.9,760.704 687.809,760.704 689.719,760.704 691.628,816.794 \n",
       "  693.538,816.794 695.447,816.794 697.356,760.704 699.266,816.794 701.175,816.794 703.085,872.884 704.994,872.884 706.903,816.794 708.813,816.794 710.722,816.794 \n",
       "  712.632,816.794 714.541,816.794 716.451,872.884 718.36,872.884 720.269,872.884 722.179,872.884 724.088,816.794 725.998,816.794 727.907,816.794 729.816,816.794 \n",
       "  731.726,872.884 733.635,872.884 735.545,816.794 737.454,816.794 739.363,872.884 741.273,872.884 743.182,872.884 745.092,872.884 747.001,872.884 748.91,872.884 \n",
       "  750.82,872.884 752.729,872.884 754.639,928.973 756.548,928.973 758.457,928.973 760.367,928.973 762.276,928.973 764.186,928.973 766.095,928.973 768.005,928.973 \n",
       "  769.914,928.973 771.823,928.973 773.733,928.973 775.642,928.973 777.552,928.973 779.461,928.973 781.37,928.973 783.28,985.063 785.189,985.063 787.099,928.973 \n",
       "  789.008,928.973 790.917,928.973 792.827,985.063 794.736,985.063 796.646,985.063 798.555,928.973 800.464,928.973 802.374,985.063 804.283,985.063 806.193,1041.15 \n",
       "  808.102,1041.15 810.012,1041.15 811.921,985.063 813.83,985.063 815.74,985.063 817.649,1041.15 819.559,1041.15 821.468,1041.15 823.377,1041.15 825.287,1041.15 \n",
       "  827.196,1041.15 829.106,1041.15 831.015,985.063 832.924,985.063 834.834,985.063 836.743,985.063 838.653,985.063 840.562,985.063 842.471,985.063 844.381,1041.15 \n",
       "  846.29,1041.15 848.2,1041.15 850.109,985.063 852.018,985.063 853.928,985.063 855.837,985.063 857.747,1041.15 859.656,1041.15 861.566,1097.24 863.475,1041.15 \n",
       "  865.384,1041.15 867.294,1041.15 869.203,1097.24 871.113,1097.24 873.022,1097.24 874.931,1097.24 876.841,1041.15 878.75,1041.15 880.66,1041.15 882.569,1097.24 \n",
       "  884.478,1097.24 886.388,1097.24 888.297,1041.15 890.207,1041.15 892.116,1041.15 894.025,1097.24 895.935,1097.24 897.844,1097.24 899.754,1097.24 901.663,1041.15 \n",
       "  903.572,1041.15 905.482,1097.24 907.391,1153.33 909.301,1153.33 911.21,1153.33 913.12,1153.33 915.029,1097.24 916.938,1153.33 918.848,1153.33 920.757,1153.33 \n",
       "  922.667,1153.33 924.576,1153.33 926.485,1097.24 928.395,1153.33 930.304,1153.33 932.214,1153.33 934.123,1153.33 936.032,1153.33 937.942,1153.33 939.851,1097.24 \n",
       "  941.761,1153.33 943.67,1153.33 945.579,1153.33 947.489,1153.33 949.398,1153.33 951.308,1153.33 953.217,1153.33 955.127,1153.33 957.036,1153.33 958.945,1209.42 \n",
       "  960.855,1209.42 962.764,1209.42 964.674,1209.42 966.583,1209.42 968.492,1209.42 970.402,1209.42 972.311,1209.42 974.221,1209.42 976.13,1209.42 978.039,1153.33 \n",
       "  979.949,1153.33 981.858,1209.42 983.768,1209.42 985.677,1209.42 987.586,1209.42 989.496,1209.42 991.405,1153.33 993.315,1153.33 995.224,1209.42 997.133,1209.42 \n",
       "  999.043,1209.42 1000.95,1209.42 1002.86,1209.42 1004.77,1153.33 1006.68,1153.33 1008.59,1153.33 1010.5,1265.51 1012.41,1265.51 1014.32,1265.51 1016.23,1209.42 \n",
       "  1018.14,1209.42 1020.05,1209.42 1021.96,1209.42 1023.87,1265.51 1025.77,1265.51 1027.68,1265.51 1029.59,1209.42 1031.5,1209.42 1033.41,1209.42 1035.32,1209.42 \n",
       "  1037.23,1209.42 1039.14,1209.42 1041.05,1265.51 1042.96,1209.42 1044.87,1209.42 1046.78,1209.42 1048.69,1265.51 1050.6,1265.51 1052.51,1265.51 1054.42,1265.51 \n",
       "  1056.33,1265.51 1058.23,1209.42 1060.14,1209.42 1062.05,1265.51 1063.96,1265.51 1065.87,1265.51 1067.78,1265.51 1069.69,1265.51 1071.6,1265.51 1073.51,1265.51 \n",
       "  1075.42,1321.6 1077.33,1321.6 1079.24,1321.6 1081.15,1321.6 1083.06,1321.6 1084.97,1321.6 1086.88,1321.6 1088.79,1321.6 1090.69,1321.6 1092.6,1321.6 \n",
       "  1094.51,1265.51 1096.42,1265.51 1098.33,1265.51 1100.24,1321.6 1102.15,1321.6 1104.06,1321.6 1105.97,1265.51 1107.88,1265.51 1109.79,1265.51 1111.7,1265.51 \n",
       "  1113.61,1321.6 1115.52,1321.6 1117.43,1321.6 1119.34,1321.6 1121.25,1321.6 1123.15,1321.6 1125.06,1321.6 1126.97,1321.6 1128.88,1321.6 1130.79,1321.6 \n",
       "  1132.7,1321.6 1134.61,1321.6 1136.52,1321.6 1138.43,1321.6 1140.34,1321.6 1142.25,1321.6 1144.16,1321.6 1146.07,1321.6 1147.98,1321.6 1149.89,1321.6 \n",
       "  1151.8,1321.6 1153.7,1321.6 1155.61,1321.6 1157.52,1265.51 1159.43,1265.51 1161.34,1265.51 1163.25,1265.51 1165.16,1321.6 1167.07,1321.6 1168.98,1377.69 \n",
       "  1170.89,1321.6 1172.8,1321.6 1174.71,1321.6 1176.62,1377.69 1178.53,1377.69 1180.44,1377.69 1182.35,1377.69 1184.26,1377.69 1186.16,1377.69 1188.07,1377.69 \n",
       "  1189.98,1377.69 1191.89,1377.69 1193.8,1377.69 1195.71,1321.6 1197.62,1321.6 1199.53,1321.6 1201.44,1321.6 1203.35,1377.69 1205.26,1377.69 1207.17,1377.69 \n",
       "  1209.08,1321.6 1210.99,1321.6 1212.9,1321.6 1214.81,1377.69 1216.72,1377.69 1218.62,1377.69 1220.53,1377.69 1222.44,1377.69 1224.35,1377.69 1226.26,1377.69 \n",
       "  1228.17,1377.69 1230.08,1377.69 1231.99,1377.69 1233.9,1321.6 1235.81,1321.6 1237.72,1321.6 1239.63,1321.6 1241.54,1321.6 1243.45,1377.69 1245.36,1377.69 \n",
       "  1247.27,1321.6 1249.18,1321.6 1251.08,1321.6 1252.99,1321.6 1254.9,1377.69 1256.81,1377.69 1258.72,1377.69 1260.63,1377.69 1262.54,1377.69 1264.45,1377.69 \n",
       "  1266.36,1433.78 1268.27,1433.78 1270.18,1433.78 1272.09,1433.78 1274,1377.69 1275.91,1377.69 1277.82,1377.69 1279.73,1377.69 1281.64,1377.69 1283.54,1377.69 \n",
       "  1285.45,1377.69 1287.36,1377.69 1289.27,1377.69 1291.18,1377.69 1293.09,1377.69 1295,1377.69 1296.91,1377.69 1298.82,1321.6 1300.73,1321.6 1302.64,1321.6 \n",
       "  1304.55,1377.69 1306.46,1377.69 1308.37,1377.69 1310.28,1377.69 1312.19,1377.69 1314.1,1377.69 1316,1377.69 1317.91,1433.78 1319.82,1433.78 1321.73,1433.78 \n",
       "  1323.64,1377.69 1325.55,1377.69 1327.46,1377.69 1329.37,1377.69 1331.28,1377.69 1333.19,1377.69 1335.1,1377.69 1337.01,1377.69 1338.92,1377.69 1340.83,1377.69 \n",
       "  1342.74,1377.69 1344.65,1377.69 1346.56,1377.69 1348.46,1377.69 1350.37,1377.69 1352.28,1377.69 1354.19,1377.69 1356.1,1349.65 1358.01,1349.65 1359.92,1349.65 \n",
       "  1361.83,1349.65 1363.74,1349.65 1365.65,1349.65 1367.56,1349.65 1369.47,1405.74 1371.38,1405.74 1373.29,1405.74 1375.2,1405.74 1377.11,1405.74 1379.02,1405.74 \n",
       "  1380.92,1405.74 1382.83,1377.69 1384.74,1377.69 1386.65,1377.69 1388.56,1377.69 1390.47,1377.69 1392.38,1377.69 1394.29,1377.69 1396.2,1377.69 1398.11,1377.69 \n",
       "  1400.02,1377.69 1401.93,1377.69 1403.84,1377.69 1405.75,1377.69 1407.66,1349.65 1409.57,1349.65 1411.48,1349.65 1413.38,1349.65 1415.29,1321.6 1417.2,1321.6 \n",
       "  1419.11,1321.6 1421.02,1377.69 1422.93,1377.69 1424.84,1377.69 1426.75,1377.69 1428.66,1377.69 1430.57,1377.69 1432.48,1349.65 1434.39,1349.65 1436.3,1349.65 \n",
       "  1438.21,1349.65 1440.12,1349.65 1442.03,1349.65 1443.93,1377.69 1445.84,1377.69 1447.75,1377.69 1449.66,1377.69 1451.57,1377.69 1453.48,1377.69 1455.39,1377.69 \n",
       "  1457.3,1377.69 1459.21,1349.65 1461.12,1349.65 1463.03,1349.65 1464.94,1349.65 1466.85,1321.6 1468.76,1321.6 1470.67,1321.6 1472.58,1377.69 1474.49,1377.69 \n",
       "  1476.39,1377.69 1478.3,1377.69 1480.21,1377.69 1482.12,1377.69 1484.03,1349.65 1485.94,1349.65 1487.85,1349.65 1489.76,1349.65 1491.67,1349.65 1493.58,1349.65 \n",
       "  1495.49,1349.65 1497.4,1349.65 1499.31,1349.65 1501.22,1349.65 1503.13,1321.6 1505.04,1321.6 1506.95,1321.6 1508.85,1321.6 1510.76,1293.56 1512.67,1293.56 \n",
       "  1514.58,1293.56 1516.49,1293.56 1518.4,1321.6 1520.31,1321.6 1522.22,1377.69 1524.13,1377.69 1526.04,1377.69 1527.95,1377.69 1529.86,1377.69 1531.77,1349.65 \n",
       "  1533.68,1349.65 1535.59,1321.6 1537.5,1321.6 1539.41,1321.6 1541.31,1321.6 1543.22,1321.6 1545.13,1321.6 1547.04,1321.6 1548.95,1321.6 1550.86,1321.6 \n",
       "  1552.77,1321.6 1554.68,1321.6 1556.59,1293.56 1558.5,1293.56 1560.41,1293.56 1562.32,1265.51 1564.23,1265.51 1566.14,1265.51 1568.05,1293.56 1569.96,1293.56 \n",
       "  1571.87,1293.56 1573.77,1349.65 1575.68,1349.65 1577.59,1349.65 1579.5,1321.6 1581.41,1321.6 1583.32,1321.6 1585.23,1321.6 1587.14,1293.56 1589.05,1293.56 \n",
       "  1590.96,1293.56 1592.87,1293.56 1594.78,1293.56 1596.69,1293.56 1598.6,1293.56 1600.51,1265.51 1602.42,1265.51 1604.33,1265.51 1606.23,1265.51 1608.14,1265.51 \n",
       "  1610.05,1293.56 1611.96,1265.51 1613.87,1265.51 1615.78,1265.51 1617.69,1265.51 1619.6,1237.47 1621.51,1237.47 1623.42,1237.47 1625.33,1293.56 1627.24,1293.56 \n",
       "  1629.15,1293.56 1631.06,1293.56 1632.97,1293.56 1634.88,1293.56 1636.79,1265.51 1638.69,1237.47 1640.6,1237.47 1642.51,1237.47 1644.42,1237.47 1646.33,1265.51 \n",
       "  1648.24,1265.51 1650.15,1265.51 1652.06,1265.51 1653.97,1237.47 1655.88,1237.47 1657.79,1237.47 1659.7,1237.47 1661.61,1237.47 1663.52,1209.42 1665.43,1209.42 \n",
       "  1667.34,1209.42 1669.25,1181.38 1671.15,1181.38 1673.06,1181.38 1674.97,1181.38 1676.88,1265.51 1678.79,1265.51 1680.7,1265.51 1682.61,1265.51 1684.52,1237.47 \n",
       "  1686.43,1237.47 1688.34,1237.47 1690.25,1209.42 1692.16,1209.42 1694.07,1209.42 1695.98,1209.42 1697.89,1209.42 1699.8,1181.38 1701.71,1181.38 1703.61,1181.38 \n",
       "  1705.52,1209.42 1707.43,1209.42 1709.34,1209.42 1711.25,1209.42 1713.16,1181.38 1715.07,1153.33 1716.98,1153.33 1718.89,1153.33 1720.8,1153.33 1722.71,1153.33 \n",
       "  1724.62,1153.33 1726.53,1125.29 1728.44,1181.38 1730.35,1181.38 1732.26,1181.38 1734.16,1209.42 1736.07,1209.42 1737.98,1209.42 1739.89,1153.33 1741.8,1153.33 \n",
       "  1743.71,1153.33 1745.62,1153.33 1747.53,1153.33 1749.44,1153.33 1751.35,1153.33 1753.26,1125.29 1755.17,1125.29 1757.08,1125.29 1758.99,1153.33 1760.9,1153.33 \n",
       "  1762.81,1153.33 1764.72,1125.29 1766.62,1097.24 1768.53,1097.24 1770.44,1097.24 1772.35,1097.24 1774.26,1097.24 1776.17,1069.2 1778.08,1069.2 1779.99,1125.29 \n",
       "  1781.9,1153.33 1783.81,1153.33 1785.72,1153.33 1787.63,1125.29 1789.54,1125.29 1791.45,1097.24 1793.36,1097.24 1795.27,1097.24 1797.18,1097.24 1799.08,1069.2 \n",
       "  1800.99,1069.2 1802.9,1069.2 1804.81,1097.24 1806.72,1097.24 1808.63,1097.24 1810.54,1069.2 1812.45,1069.2 1814.36,1069.2 1816.27,1069.2 1818.18,1041.15 \n",
       "  1820.09,1013.11 1822,1013.11 1823.91,1013.11 1825.82,1041.15 1827.73,1041.15 1829.64,1097.24 1831.54,1069.2 1833.45,1069.2 1835.36,1069.2 1837.27,1069.2 \n",
       "  1839.18,1069.2 1841.09,1041.15 1843,1013.11 1844.91,1013.11 1846.82,1041.15 1848.73,1041.15 1850.64,1041.15 1852.55,1013.11 1854.46,1013.11 1856.37,1013.11 \n",
       "  1858.28,1013.11 1860.19,1013.11 1862.1,985.063 1864,985.063 1865.91,1013.11 1867.82,1013.11 1869.73,985.063 1871.64,957.018 1873.55,957.018 1875.46,957.018 \n",
       "  1877.37,957.018 1879.28,957.018 1881.19,985.063 1883.1,985.063 1885.01,1013.11 1886.92,1013.11 1888.83,1013.11 1890.74,985.063 1892.65,985.063 1894.56,957.018 \n",
       "  1896.46,957.018 1898.37,928.973 1900.28,928.973 1902.19,928.973 1904.1,957.018 1906.01,957.018 1907.92,928.973 1909.83,928.973 1911.74,928.973 1913.65,928.973 \n",
       "  1915.56,928.973 1917.47,900.928 1919.38,872.884 1921.29,900.928 1923.2,900.928 1925.11,872.884 1927.02,872.884 1928.92,872.884 1930.83,872.884 1932.74,928.973 \n",
       "  1934.65,900.928 1936.56,900.928 1938.47,928.973 1940.38,928.973 1942.29,900.928 1944.2,900.928 1946.11,872.884 1948.02,872.884 1949.93,872.884 1951.84,844.839 \n",
       "  1953.75,844.839 1955.66,872.884 1957.57,872.884 1959.48,844.839 1961.38,844.839 1963.29,844.839 1965.2,844.839 1967.11,816.794 1969.02,816.794 1970.93,788.749 \n",
       "  1972.84,816.794 1974.75,816.794 1976.66,788.749 1978.57,788.749 1980.48,788.749 1982.39,788.749 1984.3,816.794 1986.21,816.794 1988.12,844.839 1990.03,844.839 \n",
       "  1991.94,816.794 1993.84,816.794 1995.75,816.794 1997.66,788.749 1999.57,760.704 2001.48,760.704 2003.39,788.749 2005.3,788.749 2007.21,760.704 2009.12,760.704 \n",
       "  2011.03,760.704 2012.94,760.704 2014.85,732.66 2016.76,732.66 2018.67,760.704 2020.58,760.704 2022.49,704.615 2024.4,704.615 2026.3,704.615 2028.21,704.615 \n",
       "  2030.12,676.57 2032.03,676.57 2033.94,704.615 2035.85,760.704 2037.76,732.66 2039.67,732.66 2041.58,732.66 2043.49,704.615 2045.4,704.615 2047.31,704.615 \n",
       "  2049.22,704.615 2051.13,676.57 2053.04,676.57 2054.95,676.57 2056.85,676.57 2058.76,648.525 2060.67,648.525 2062.58,676.57 2064.49,676.57 2066.4,648.525 \n",
       "  2068.31,648.525 2070.22,648.525 2072.13,620.48 2074.04,592.435 2075.95,620.48 2077.86,620.48 2079.77,592.435 2081.68,592.435 2083.59,592.435 2085.5,564.391 \n",
       "  2087.41,620.48 2089.31,648.525 2091.22,648.525 2093.13,620.48 2095.04,620.48 2096.95,620.48 2098.86,592.435 2100.77,564.391 2102.68,592.435 2104.59,592.435 \n",
       "  2106.5,564.391 2108.41,564.391 2110.32,564.391 2112.23,536.346 2114.14,536.346 2116.05,564.391 2117.96,564.391 2119.87,536.346 2121.77,536.346 2123.68,536.346 \n",
       "  2125.59,480.256 2127.5,480.256 2129.41,508.301 2131.32,508.301 2133.23,480.256 2135.14,480.256 2137.05,536.346 2138.96,508.301 2140.87,508.301 2142.78,536.346 \n",
       "  2144.69,508.301 2146.6,508.301 2148.51,508.301 2150.42,480.256 2152.33,452.211 2154.23,480.256 2156.14,480.256 2158.05,452.211 2159.96,452.211 2161.87,452.211 \n",
       "  2163.78,424.167 2165.69,424.167 2167.6,452.211 2169.51,424.167 2171.42,424.167 2173.33,424.167 2175.24,424.167 2177.15,368.077 2179.06,396.122 2180.97,396.122 \n",
       "  2182.88,368.077 2184.79,368.077 2186.69,368.077 2188.6,396.122 2190.51,424.167 2192.42,424.167 2194.33,396.122 2196.24,396.122 2198.15,396.122 2200.06,368.077 \n",
       "  2201.97,340.032 2203.88,368.077 2205.79,340.032 2207.7,340.032 2209.61,340.032 2211.52,311.987 2213.43,311.987 2215.34,340.032 2217.25,311.987 2219.15,311.987 \n",
       "  2221.06,311.987 2222.97,283.942 2224.88,283.942 2226.79,283.942 2228.7,255.898 2230.61,255.898 2232.52,255.898 2234.43,227.853 2236.34,227.853 2238.25,255.898 \n",
       "  2240.16,283.942 2242.07,283.942 2243.98,283.942 2245.89,255.898 2247.8,255.898 2249.71,283.942 2251.61,255.898 2253.52,227.853 2255.43,227.853 2257.34,199.808 \n",
       "  2259.25,227.853 2261.16,227.853 2263.07,199.808 2264.98,199.808 2266.89,199.808 2268.8,171.763 2270.71,199.808 2272.62,199.808 2274.53,171.763 2276.44,171.763 \n",
       "  2278.35,115.673 2280.26,115.673 2282.17,143.718 2284.07,115.673 2285.98,115.673 2287.89,115.673 2289.8,87.6286 2291.71,143.718 2293.62,171.763 2295.53,143.718 \n",
       "  \n",
       "  \"/>\n",
       "<polyline clip-path=\"url(#clip583)\" style=\"stroke:#e26f46; stroke-linecap:round; stroke-linejoin:round; stroke-width:4; stroke-opacity:1; fill:none\" points=\"\n",
       "  388.032,114.664 389.942,119.711 391.851,124.748 393.761,129.775 395.67,134.791 397.579,139.798 399.489,144.795 401.398,149.781 403.308,154.757 405.217,159.724 \n",
       "  407.126,164.68 409.036,169.626 410.945,174.562 412.855,179.487 414.764,184.403 416.673,189.309 418.583,194.204 420.492,199.09 422.402,203.965 424.311,208.83 \n",
       "  426.22,213.685 428.13,218.53 430.039,223.365 431.949,228.19 433.858,233.004 435.768,237.809 437.677,242.603 439.586,247.388 441.496,252.162 443.405,256.926 \n",
       "  445.315,261.68 447.224,266.424 449.133,271.158 451.043,275.882 452.952,280.595 454.862,285.299 456.771,289.992 458.68,294.675 460.59,299.349 462.499,304.012 \n",
       "  464.409,308.665 466.318,313.308 468.227,317.94 470.137,322.563 472.046,327.176 473.956,331.778 475.865,336.37 477.775,340.953 479.684,345.525 481.593,350.087 \n",
       "  483.503,354.639 485.412,359.181 487.322,363.712 489.231,368.234 491.14,372.746 493.05,377.247 494.959,381.738 496.869,386.22 498.778,390.691 500.687,395.152 \n",
       "  502.597,399.603 504.506,404.043 506.416,408.474 508.325,412.895 510.234,417.305 512.144,421.706 514.053,426.096 515.963,430.476 517.872,434.846 519.781,439.206 \n",
       "  521.691,443.556 523.6,447.896 525.51,452.225 527.419,456.545 529.329,460.854 531.238,465.154 533.147,469.443 535.057,473.722 536.966,477.991 538.876,482.25 \n",
       "  540.785,486.499 542.694,490.738 544.604,494.966 546.513,499.185 548.423,503.393 550.332,507.591 552.241,511.78 554.151,515.958 556.06,520.126 557.97,524.284 \n",
       "  559.879,528.431 561.788,532.569 563.698,536.697 565.607,540.814 567.517,544.921 569.426,549.019 571.335,553.106 573.245,557.183 575.154,561.25 577.064,565.307 \n",
       "  578.973,569.353 580.883,573.39 582.792,577.417 584.701,581.433 586.611,585.439 588.52,589.436 590.43,593.422 592.339,597.398 594.248,601.364 596.158,605.319 \n",
       "  598.067,609.265 599.977,613.201 601.886,617.126 603.795,621.042 605.705,624.947 607.614,628.842 609.524,632.727 611.433,636.602 613.342,640.467 615.252,644.322 \n",
       "  617.161,648.166 619.071,652.001 620.98,655.825 622.89,659.64 624.799,663.444 626.708,667.238 628.618,671.022 630.527,674.796 632.437,678.56 634.346,682.313 \n",
       "  636.255,686.057 638.165,689.791 640.074,693.514 641.984,697.227 643.893,700.93 645.802,704.624 647.712,708.307 649.621,711.979 651.531,715.642 653.44,719.295 \n",
       "  655.349,722.937 657.259,726.57 659.168,730.192 661.078,733.805 662.987,737.407 664.896,740.999 666.806,744.581 668.715,748.153 670.625,751.714 672.534,755.266 \n",
       "  674.444,758.807 676.353,762.339 678.262,765.86 680.172,769.371 682.081,772.872 683.991,776.363 685.9,779.844 687.809,783.315 689.719,786.776 691.628,790.226 \n",
       "  693.538,793.667 695.447,797.097 697.356,800.518 699.266,803.928 701.175,807.328 703.085,810.718 704.994,814.098 706.903,817.467 708.813,820.827 710.722,824.177 \n",
       "  712.632,827.516 714.541,830.845 716.451,834.165 718.36,837.474 720.269,840.773 722.179,844.062 724.088,847.341 725.998,850.609 727.907,853.868 729.816,857.116 \n",
       "  731.726,860.355 733.635,863.583 735.545,866.801 737.454,870.009 739.363,873.207 741.273,876.395 743.182,879.573 745.092,882.741 747.001,885.898 748.91,889.046 \n",
       "  750.82,892.183 752.729,895.31 754.639,898.427 756.548,901.534 758.457,904.631 760.367,907.718 762.276,910.795 764.186,913.862 766.095,916.918 768.005,919.965 \n",
       "  769.914,923.001 771.823,926.027 773.733,929.043 775.642,932.049 777.552,935.045 779.461,938.031 781.37,941.007 783.28,943.972 785.189,946.928 787.099,949.873 \n",
       "  789.008,952.808 790.917,955.733 792.827,958.649 794.736,961.554 796.646,964.448 798.555,967.333 800.464,970.208 802.374,973.072 804.283,975.927 806.193,978.771 \n",
       "  808.102,981.605 810.012,984.429 811.921,987.243 813.83,990.047 815.74,992.841 817.649,995.625 819.559,998.399 821.468,1001.16 823.377,1003.92 825.287,1006.66 \n",
       "  827.196,1009.39 829.106,1012.12 831.015,1014.83 832.924,1017.53 834.834,1020.22 836.743,1022.91 838.653,1025.58 840.562,1028.24 842.471,1030.89 844.381,1033.54 \n",
       "  846.29,1036.17 848.2,1038.79 850.109,1041.4 852.018,1044 853.928,1046.6 855.837,1049.18 857.747,1051.75 859.656,1054.31 861.566,1056.86 863.475,1059.4 \n",
       "  865.384,1061.93 867.294,1064.45 869.203,1066.97 871.113,1069.47 873.022,1071.96 874.931,1074.44 876.841,1076.91 878.75,1079.37 880.66,1081.82 882.569,1084.26 \n",
       "  884.478,1086.69 886.388,1089.11 888.297,1091.52 890.207,1093.92 892.116,1096.31 894.025,1098.69 895.935,1101.06 897.844,1103.42 899.754,1105.77 901.663,1108.11 \n",
       "  903.572,1110.43 905.482,1112.75 907.391,1115.06 909.301,1117.36 911.21,1119.65 913.12,1121.93 915.029,1124.2 916.938,1126.45 918.848,1128.7 920.757,1130.94 \n",
       "  922.667,1133.17 924.576,1135.39 926.485,1137.59 928.395,1139.79 930.304,1141.98 932.214,1144.16 934.123,1146.32 936.032,1148.48 937.942,1150.63 939.851,1152.77 \n",
       "  941.761,1154.89 943.67,1157.01 945.579,1159.12 947.489,1161.21 949.398,1163.3 951.308,1165.38 953.217,1167.44 955.127,1169.5 957.036,1171.54 958.945,1173.58 \n",
       "  960.855,1175.61 962.764,1177.62 964.674,1179.63 966.583,1181.62 968.492,1183.61 970.402,1185.58 972.311,1187.55 974.221,1189.5 976.13,1191.45 978.039,1193.38 \n",
       "  979.949,1195.31 981.858,1197.22 983.768,1199.13 985.677,1201.02 987.586,1202.91 989.496,1204.78 991.405,1206.65 993.315,1208.5 995.224,1210.34 997.133,1212.18 \n",
       "  999.043,1214 1000.95,1215.82 1002.86,1217.62 1004.77,1219.41 1006.68,1221.2 1008.59,1222.97 1010.5,1224.73 1012.41,1226.49 1014.32,1228.23 1016.23,1229.96 \n",
       "  1018.14,1231.68 1020.05,1233.4 1021.96,1235.1 1023.87,1236.79 1025.77,1238.47 1027.68,1240.15 1029.59,1241.81 1031.5,1243.46 1033.41,1245.1 1035.32,1246.73 \n",
       "  1037.23,1248.36 1039.14,1249.97 1041.05,1251.57 1042.96,1253.16 1044.87,1254.74 1046.78,1256.31 1048.69,1257.87 1050.6,1259.43 1052.51,1260.97 1054.42,1262.5 \n",
       "  1056.33,1264.02 1058.23,1265.53 1060.14,1267.03 1062.05,1268.52 1063.96,1270 1065.87,1271.47 1067.78,1272.93 1069.69,1274.38 1071.6,1275.82 1073.51,1277.25 \n",
       "  1075.42,1278.67 1077.33,1280.08 1079.24,1281.48 1081.15,1282.87 1083.06,1284.25 1084.97,1285.62 1086.88,1286.97 1088.79,1288.32 1090.69,1289.66 1092.6,1290.99 \n",
       "  1094.51,1292.31 1096.42,1293.62 1098.33,1294.92 1100.24,1296.21 1102.15,1297.48 1104.06,1298.75 1105.97,1300.01 1107.88,1301.26 1109.79,1302.49 1111.7,1303.72 \n",
       "  1113.61,1304.94 1115.52,1306.15 1117.43,1307.34 1119.34,1308.53 1121.25,1309.71 1123.15,1310.88 1125.06,1312.03 1126.97,1313.18 1128.88,1314.32 1130.79,1315.44 \n",
       "  1132.7,1316.56 1134.61,1317.67 1136.52,1318.76 1138.43,1319.85 1140.34,1320.93 1142.25,1321.99 1144.16,1323.05 1146.07,1324.09 1147.98,1325.13 1149.89,1326.15 \n",
       "  1151.8,1327.17 1153.7,1328.17 1155.61,1329.17 1157.52,1330.16 1159.43,1331.13 1161.34,1332.1 1163.25,1333.05 1165.16,1333.99 1167.07,1334.93 1168.98,1335.85 \n",
       "  1170.89,1336.77 1172.8,1337.67 1174.71,1338.57 1176.62,1339.45 1178.53,1340.33 1180.44,1341.19 1182.35,1342.04 1184.26,1342.89 1186.16,1343.72 1188.07,1344.54 \n",
       "  1189.98,1345.36 1191.89,1346.16 1193.8,1346.95 1195.71,1347.74 1197.62,1348.51 1199.53,1349.27 1201.44,1350.03 1203.35,1350.77 1205.26,1351.5 1207.17,1352.22 \n",
       "  1209.08,1352.94 1210.99,1353.64 1212.9,1354.33 1214.81,1355.01 1216.72,1355.68 1218.62,1356.35 1220.53,1357 1222.44,1357.64 1224.35,1358.27 1226.26,1358.89 \n",
       "  1228.17,1359.5 1230.08,1360.1 1231.99,1360.7 1233.9,1361.28 1235.81,1361.85 1237.72,1362.41 1239.63,1362.96 1241.54,1363.5 1243.45,1364.03 1245.36,1364.55 \n",
       "  1247.27,1365.06 1249.18,1365.56 1251.08,1366.05 1252.99,1366.53 1254.9,1367 1256.81,1367.46 1258.72,1367.91 1260.63,1368.35 1262.54,1368.78 1264.45,1369.2 \n",
       "  1266.36,1369.61 1268.27,1370.01 1270.18,1370.4 1272.09,1370.77 1274,1371.14 1275.91,1371.5 1277.82,1371.85 1279.73,1372.19 1281.64,1372.52 1283.54,1372.84 \n",
       "  1285.45,1373.14 1287.36,1373.44 1289.27,1373.73 1291.18,1374.01 1293.09,1374.28 1295,1374.53 1296.91,1374.78 1298.82,1375.02 1300.73,1375.25 1302.64,1375.46 \n",
       "  1304.55,1375.67 1306.46,1375.87 1308.37,1376.05 1310.28,1376.23 1312.19,1376.4 1314.1,1376.55 1316,1376.7 1317.91,1376.84 1319.82,1376.96 1321.73,1377.08 \n",
       "  1323.64,1377.19 1325.55,1377.28 1327.46,1377.37 1329.37,1377.44 1331.28,1377.51 1333.19,1377.56 1335.1,1377.61 1337.01,1377.65 1338.92,1377.67 1340.83,1377.69 \n",
       "  1342.74,1377.69 1344.65,1377.69 1346.56,1377.67 1348.46,1377.65 1350.37,1377.61 1352.28,1377.56 1354.19,1377.51 1356.1,1377.44 1358.01,1377.37 1359.92,1377.28 \n",
       "  1361.83,1377.19 1363.74,1377.08 1365.65,1376.96 1367.56,1376.84 1369.47,1376.7 1371.38,1376.55 1373.29,1376.4 1375.2,1376.23 1377.11,1376.05 1379.02,1375.87 \n",
       "  1380.92,1375.67 1382.83,1375.46 1384.74,1375.25 1386.65,1375.02 1388.56,1374.78 1390.47,1374.53 1392.38,1374.28 1394.29,1374.01 1396.2,1373.73 1398.11,1373.44 \n",
       "  1400.02,1373.14 1401.93,1372.84 1403.84,1372.52 1405.75,1372.19 1407.66,1371.85 1409.57,1371.5 1411.48,1371.14 1413.38,1370.77 1415.29,1370.4 1417.2,1370.01 \n",
       "  1419.11,1369.61 1421.02,1369.2 1422.93,1368.78 1424.84,1368.35 1426.75,1367.91 1428.66,1367.46 1430.57,1367 1432.48,1366.53 1434.39,1366.05 1436.3,1365.56 \n",
       "  1438.21,1365.06 1440.12,1364.55 1442.03,1364.03 1443.93,1363.5 1445.84,1362.96 1447.75,1362.41 1449.66,1361.85 1451.57,1361.28 1453.48,1360.7 1455.39,1360.1 \n",
       "  1457.3,1359.5 1459.21,1358.89 1461.12,1358.27 1463.03,1357.64 1464.94,1357 1466.85,1356.35 1468.76,1355.68 1470.67,1355.01 1472.58,1354.33 1474.49,1353.64 \n",
       "  1476.39,1352.94 1478.3,1352.22 1480.21,1351.5 1482.12,1350.77 1484.03,1350.03 1485.94,1349.27 1487.85,1348.51 1489.76,1347.74 1491.67,1346.95 1493.58,1346.16 \n",
       "  1495.49,1345.36 1497.4,1344.54 1499.31,1343.72 1501.22,1342.89 1503.13,1342.04 1505.04,1341.19 1506.95,1340.33 1508.85,1339.45 1510.76,1338.57 1512.67,1337.67 \n",
       "  1514.58,1336.77 1516.49,1335.85 1518.4,1334.93 1520.31,1333.99 1522.22,1333.05 1524.13,1332.1 1526.04,1331.13 1527.95,1330.16 1529.86,1329.17 1531.77,1328.17 \n",
       "  1533.68,1327.17 1535.59,1326.15 1537.5,1325.13 1539.41,1324.09 1541.31,1323.05 1543.22,1321.99 1545.13,1320.93 1547.04,1319.85 1548.95,1318.76 1550.86,1317.67 \n",
       "  1552.77,1316.56 1554.68,1315.44 1556.59,1314.32 1558.5,1313.18 1560.41,1312.03 1562.32,1310.88 1564.23,1309.71 1566.14,1308.53 1568.05,1307.34 1569.96,1306.15 \n",
       "  1571.87,1304.94 1573.77,1303.72 1575.68,1302.49 1577.59,1301.26 1579.5,1300.01 1581.41,1298.75 1583.32,1297.48 1585.23,1296.21 1587.14,1294.92 1589.05,1293.62 \n",
       "  1590.96,1292.31 1592.87,1290.99 1594.78,1289.66 1596.69,1288.32 1598.6,1286.97 1600.51,1285.62 1602.42,1284.25 1604.33,1282.87 1606.23,1281.48 1608.14,1280.08 \n",
       "  1610.05,1278.67 1611.96,1277.25 1613.87,1275.82 1615.78,1274.38 1617.69,1272.93 1619.6,1271.47 1621.51,1270 1623.42,1268.52 1625.33,1267.03 1627.24,1265.53 \n",
       "  1629.15,1264.02 1631.06,1262.5 1632.97,1260.97 1634.88,1259.43 1636.79,1257.87 1638.69,1256.31 1640.6,1254.74 1642.51,1253.16 1644.42,1251.57 1646.33,1249.97 \n",
       "  1648.24,1248.36 1650.15,1246.73 1652.06,1245.1 1653.97,1243.46 1655.88,1241.81 1657.79,1240.15 1659.7,1238.47 1661.61,1236.79 1663.52,1235.1 1665.43,1233.4 \n",
       "  1667.34,1231.68 1669.25,1229.96 1671.15,1228.23 1673.06,1226.49 1674.97,1224.73 1676.88,1222.97 1678.79,1221.2 1680.7,1219.41 1682.61,1217.62 1684.52,1215.82 \n",
       "  1686.43,1214 1688.34,1212.18 1690.25,1210.34 1692.16,1208.5 1694.07,1206.65 1695.98,1204.78 1697.89,1202.91 1699.8,1201.02 1701.71,1199.13 1703.61,1197.22 \n",
       "  1705.52,1195.31 1707.43,1193.38 1709.34,1191.45 1711.25,1189.5 1713.16,1187.55 1715.07,1185.58 1716.98,1183.61 1718.89,1181.62 1720.8,1179.63 1722.71,1177.62 \n",
       "  1724.62,1175.61 1726.53,1173.58 1728.44,1171.54 1730.35,1169.5 1732.26,1167.44 1734.16,1165.38 1736.07,1163.3 1737.98,1161.21 1739.89,1159.12 1741.8,1157.01 \n",
       "  1743.71,1154.89 1745.62,1152.77 1747.53,1150.63 1749.44,1148.48 1751.35,1146.32 1753.26,1144.16 1755.17,1141.98 1757.08,1139.79 1758.99,1137.59 1760.9,1135.39 \n",
       "  1762.81,1133.17 1764.72,1130.94 1766.62,1128.7 1768.53,1126.45 1770.44,1124.2 1772.35,1121.93 1774.26,1119.65 1776.17,1117.36 1778.08,1115.06 1779.99,1112.75 \n",
       "  1781.9,1110.43 1783.81,1108.11 1785.72,1105.77 1787.63,1103.42 1789.54,1101.06 1791.45,1098.69 1793.36,1096.31 1795.27,1093.92 1797.18,1091.52 1799.08,1089.11 \n",
       "  1800.99,1086.69 1802.9,1084.26 1804.81,1081.82 1806.72,1079.37 1808.63,1076.91 1810.54,1074.44 1812.45,1071.96 1814.36,1069.47 1816.27,1066.97 1818.18,1064.45 \n",
       "  1820.09,1061.93 1822,1059.4 1823.91,1056.86 1825.82,1054.31 1827.73,1051.75 1829.64,1049.18 1831.54,1046.6 1833.45,1044 1835.36,1041.4 1837.27,1038.79 \n",
       "  1839.18,1036.17 1841.09,1033.54 1843,1030.89 1844.91,1028.24 1846.82,1025.58 1848.73,1022.91 1850.64,1020.22 1852.55,1017.53 1854.46,1014.83 1856.37,1012.12 \n",
       "  1858.28,1009.39 1860.19,1006.66 1862.1,1003.92 1864,1001.16 1865.91,998.399 1867.82,995.625 1869.73,992.841 1871.64,990.047 1873.55,987.244 1875.46,984.43 \n",
       "  1877.37,981.605 1879.28,978.771 1881.19,975.927 1883.1,973.072 1885.01,970.208 1886.92,967.333 1888.83,964.448 1890.74,961.554 1892.65,958.649 1894.56,955.734 \n",
       "  1896.46,952.808 1898.37,949.873 1900.28,946.928 1902.19,943.972 1904.1,941.007 1906.01,938.031 1907.92,935.045 1909.83,932.049 1911.74,929.043 1913.65,926.027 \n",
       "  1915.56,923.001 1917.47,919.965 1919.38,916.918 1921.29,913.862 1923.2,910.795 1925.11,907.718 1927.02,904.632 1928.92,901.535 1930.83,898.428 1932.74,895.31 \n",
       "  1934.65,892.183 1936.56,889.046 1938.47,885.898 1940.38,882.741 1942.29,879.573 1944.2,876.395 1946.11,873.207 1948.02,870.009 1949.93,866.801 1951.84,863.583 \n",
       "  1953.75,860.355 1955.66,857.116 1957.57,853.868 1959.48,850.609 1961.38,847.341 1963.29,844.062 1965.2,840.773 1967.11,837.474 1969.02,834.165 1970.93,830.846 \n",
       "  1972.84,827.516 1974.75,824.177 1976.66,820.827 1978.57,817.468 1980.48,814.098 1982.39,810.718 1984.3,807.328 1986.21,803.928 1988.12,800.518 1990.03,797.097 \n",
       "  1991.94,793.667 1993.84,790.227 1995.75,786.776 1997.66,783.315 1999.57,779.845 2001.48,776.364 2003.39,772.873 2005.3,769.372 2007.21,765.86 2009.12,762.339 \n",
       "  2011.03,758.808 2012.94,755.266 2014.85,751.714 2016.76,748.153 2018.67,744.581 2020.58,740.999 2022.49,737.407 2024.4,733.805 2026.3,730.192 2028.21,726.57 \n",
       "  2030.12,722.938 2032.03,719.295 2033.94,715.642 2035.85,711.98 2037.76,708.307 2039.67,704.624 2041.58,700.931 2043.49,697.227 2045.4,693.514 2047.31,689.791 \n",
       "  2049.22,686.057 2051.13,682.314 2053.04,678.56 2054.95,674.796 2056.85,671.022 2058.76,667.238 2060.67,663.444 2062.58,659.64 2064.49,655.825 2066.4,652.001 \n",
       "  2068.31,648.166 2070.22,644.322 2072.13,640.467 2074.04,636.602 2075.95,632.727 2077.86,628.842 2079.77,624.947 2081.68,621.042 2083.59,617.126 2085.5,613.201 \n",
       "  2087.41,609.265 2089.31,605.32 2091.22,601.364 2093.13,597.398 2095.04,593.422 2096.95,589.436 2098.86,585.44 2100.77,581.433 2102.68,577.417 2104.59,573.39 \n",
       "  2106.5,569.354 2108.41,565.307 2110.32,561.25 2112.23,557.183 2114.14,553.106 2116.05,549.019 2117.96,544.922 2119.87,540.814 2121.77,536.697 2123.68,532.569 \n",
       "  2125.59,528.432 2127.5,524.284 2129.41,520.126 2131.32,515.958 2133.23,511.78 2135.14,507.592 2137.05,503.393 2138.96,499.185 2140.87,494.966 2142.78,490.738 \n",
       "  2144.69,486.499 2146.6,482.25 2148.51,477.991 2150.42,473.722 2152.33,469.443 2154.23,465.154 2156.14,460.855 2158.05,456.545 2159.96,452.226 2161.87,447.896 \n",
       "  2163.78,443.556 2165.69,439.206 2167.6,434.846 2169.51,430.476 2171.42,426.096 2173.33,421.706 2175.24,417.305 2177.15,412.895 2179.06,408.474 2180.97,404.044 \n",
       "  2182.88,399.603 2184.79,395.152 2186.69,390.691 2188.6,386.22 2190.51,381.739 2192.42,377.247 2194.33,372.746 2196.24,368.234 2198.15,363.713 2200.06,359.181 \n",
       "  2201.97,354.639 2203.88,350.087 2205.79,345.525 2207.7,340.953 2209.61,336.371 2211.52,331.778 2213.43,327.176 2215.34,322.563 2217.25,317.941 2219.15,313.308 \n",
       "  2221.06,308.665 2222.97,304.012 2224.88,299.349 2226.79,294.676 2228.7,289.992 2230.61,285.299 2232.52,280.595 2234.43,275.882 2236.34,271.158 2238.25,266.424 \n",
       "  2240.16,261.68 2242.07,256.926 2243.98,252.162 2245.89,247.388 2247.8,242.604 2249.71,237.809 2251.61,233.005 2253.52,228.19 2255.43,223.365 2257.34,218.53 \n",
       "  2259.25,213.685 2261.16,208.83 2263.07,203.965 2264.98,199.09 2266.89,194.204 2268.8,189.309 2270.71,184.403 2272.62,179.488 2274.53,174.562 2276.44,169.626 \n",
       "  2278.35,164.68 2280.26,159.724 2282.17,154.758 2284.07,149.781 2285.98,144.795 2287.89,139.798 2289.8,134.792 2291.71,129.775 2293.62,124.748 2295.53,119.711 \n",
       "  \n",
       "  \"/>\n",
       "<path clip-path=\"url(#clip580)\" d=\"\n",
       "M1992.58 268.184 L2285.36 268.184 L2285.36 94.8081 L1992.58 94.8081  Z\n",
       "  \" fill=\"#ffffff\" fill-rule=\"evenodd\" fill-opacity=\"1\"/>\n",
       "<polyline clip-path=\"url(#clip580)\" style=\"stroke:#000000; stroke-linecap:round; stroke-linejoin:round; stroke-width:4; stroke-opacity:1; fill:none\" points=\"\n",
       "  1992.58,268.184 2285.36,268.184 2285.36,94.8081 1992.58,94.8081 1992.58,268.184 \n",
       "  \"/>\n",
       "<polyline clip-path=\"url(#clip580)\" style=\"stroke:#009af9; stroke-linecap:round; stroke-linejoin:round; stroke-width:4; stroke-opacity:1; fill:none\" points=\"\n",
       "  2015.04,152.6 2149.84,152.6 \n",
       "  \"/>\n",
       "<path clip-path=\"url(#clip580)\" d=\"M2196.22 126.945 Q2196.22 128.233 2195.4 129.029 Q2194.6 129.826 2193.6 129.826 Q2192.87 129.826 2192.33 129.381 Q2191.82 128.936 2191.82 128.163 Q2191.82 127.366 2192.43 126.523 Q2193.03 125.68 2194.42 125.563 Q2193.5 124.696 2192.05 124.696 Q2191.32 124.696 2190.72 125.165 Q2190.13 125.61 2189.8 126.336 Q2189.45 127.085 2188.65 131.325 Q2188.4 132.707 2188.16 134.042 Q2187.93 135.377 2187.65 136.782 L2191.63 136.782 Q2192.14 136.782 2192.36 136.805 Q2192.57 136.829 2192.73 136.946 Q2192.92 137.063 2192.92 137.321 Q2192.92 137.977 2192.61 138.141 Q2192.33 138.281 2191.49 138.281 L2187.37 138.281 L2184.49 153.482 Q2184.42 153.927 2184.11 155.333 Q2183.83 156.715 2183.15 158.987 Q2182.47 161.282 2181.79 162.64 Q2181.42 163.413 2180.93 164.139 Q2180.46 164.889 2179.78 165.638 Q2179.1 166.388 2178.21 166.833 Q2177.32 167.301 2176.38 167.301 Q2174.79 167.301 2173.55 166.411 Q2172.31 165.521 2172.31 163.999 Q2172.31 162.711 2173.1 161.914 Q2173.92 161.118 2174.93 161.118 Q2175.66 161.118 2176.17 161.563 Q2176.71 162.008 2176.71 162.781 Q2176.71 163.109 2176.59 163.484 Q2176.47 163.858 2176.22 164.28 Q2175.96 164.725 2175.4 165.03 Q2174.84 165.334 2174.06 165.381 Q2174.98 166.247 2176.38 166.247 Q2176.83 166.247 2177.22 166.06 Q2177.62 165.896 2177.95 165.475 Q2178.3 165.053 2178.56 164.631 Q2178.82 164.233 2179.07 163.46 Q2179.33 162.711 2179.5 162.149 Q2179.66 161.586 2179.87 160.579 Q2180.11 159.572 2180.22 158.963 Q2180.34 158.378 2180.55 157.23 L2184.13 138.281 L2180.97 138.281 Q2180.41 138.281 2180.18 138.258 Q2179.96 138.234 2179.8 138.117 Q2179.64 137.977 2179.64 137.696 Q2179.64 137.25 2179.82 137.063 Q2180.04 136.852 2180.27 136.829 Q2180.5 136.782 2181.07 136.782 L2184.39 136.782 Q2185.52 130.856 2185.96 129.263 Q2186.48 127.577 2187.27 126.406 Q2188.07 125.211 2188.96 124.649 Q2189.85 124.087 2190.58 123.876 Q2191.32 123.642 2192.05 123.642 Q2193.69 123.642 2194.96 124.532 Q2196.22 125.399 2196.22 126.945 Z\" fill=\"#000000\" fill-rule=\"evenodd\" fill-opacity=\"1\" /><path clip-path=\"url(#clip580)\" d=\"M2201.1 175.077 Q2201.1 174.077 2201.64 173.7 Q2202.18 173.306 2202.75 173.306 Q2203.52 173.306 2203.97 173.798 Q2204.43 174.274 2204.43 174.946 Q2204.43 175.618 2203.97 176.11 Q2203.52 176.585 2202.75 176.585 Q2202.38 176.585 2202.18 176.52 Q2202.62 178.061 2203.97 179.176 Q2205.33 180.291 2207.11 180.291 Q2209.36 180.291 2210.71 178.11 Q2211.51 176.7 2211.51 173.503 Q2211.51 170.683 2210.9 169.273 Q2209.97 167.125 2208.05 167.125 Q2205.33 167.125 2203.72 169.47 Q2203.52 169.765 2203.29 169.781 Q2202.97 169.781 2202.88 169.601 Q2202.82 169.404 2202.82 168.896 L2202.82 158.96 Q2202.82 158.157 2203.15 158.157 Q2203.28 158.157 2203.56 158.255 Q2205.67 159.189 2208.02 159.206 Q2210.43 159.206 2212.59 158.222 Q2212.75 158.124 2212.85 158.124 Q2213.18 158.124 2213.2 158.501 Q2213.2 158.632 2212.92 159.026 Q2212.66 159.403 2212.08 159.911 Q2211.51 160.403 2210.77 160.878 Q2210.03 161.354 2208.95 161.682 Q2207.89 161.993 2206.7 161.993 Q2205.29 161.993 2203.85 161.55 L2203.85 168.092 Q2205.59 166.387 2208.11 166.387 Q2210.8 166.387 2212.66 168.551 Q2214.51 170.716 2214.51 173.732 Q2214.51 176.897 2212.31 179.061 Q2210.13 181.225 2207.18 181.225 Q2204.49 181.225 2202.79 179.307 Q2201.1 177.389 2201.1 175.077 Z\" fill=\"#000000\" fill-rule=\"evenodd\" fill-opacity=\"1\" /><path clip-path=\"url(#clip580)\" d=\"M2233.1 175.684 Q2232.66 177.799 2232.09 179.012 Q2231.17 180.865 2229.61 180.865 Q2228.43 180.865 2227.59 180.143 Q2226.76 179.422 2226.56 178.34 Q2224.41 180.865 2222.18 180.865 Q2220.21 180.865 2218.97 179.373 Q2217.72 177.864 2217.72 175.487 Q2217.72 173.093 2218.9 170.798 Q2220.1 168.502 2221.99 167.076 Q2223.87 165.649 2225.81 165.649 Q2227.86 165.649 2228.9 167.797 Q2228.99 167.207 2229.36 166.764 Q2229.74 166.322 2230.31 166.322 Q2230.76 166.322 2231.02 166.568 Q2231.28 166.797 2231.28 167.223 Q2231.28 167.437 2231.05 168.371 L2229.84 173.06 L2229.1 176.093 Q2228.82 177.208 2228.74 177.618 Q2228.67 178.028 2228.67 178.569 Q2228.67 180.11 2229.68 180.11 Q2230.17 180.11 2230.56 179.799 Q2230.95 179.487 2231.27 178.832 Q2231.58 178.176 2231.77 177.569 Q2231.97 176.946 2232.23 175.962 Q2232.31 175.569 2232.38 175.47 Q2232.46 175.356 2232.69 175.356 Q2233.1 175.356 2233.1 175.684 M2228.49 169.338 Q2228.49 169.191 2228.38 168.781 Q2228.26 168.371 2228 167.797 Q2227.74 167.223 2227.17 166.813 Q2226.61 166.387 2225.85 166.387 Q2224.84 166.387 2223.77 167.256 Q2222.72 168.125 2221.95 169.601 Q2221.36 170.781 2220.72 173.257 Q2220.1 175.733 2220.1 176.962 Q2220.1 177.717 2220.26 178.389 Q2220.44 179.045 2220.95 179.586 Q2221.46 180.11 2222.25 180.11 Q2224.17 180.11 2226.05 177.733 Q2226.41 177.323 2226.49 177.159 Q2226.59 176.979 2226.72 176.487 L2228.4 169.912 Q2228.49 169.42 2228.49 169.338 Z\" fill=\"#000000\" fill-rule=\"evenodd\" fill-opacity=\"1\" /><polyline clip-path=\"url(#clip580)\" style=\"stroke:#e26f46; stroke-linecap:round; stroke-linejoin:round; stroke-width:4; stroke-opacity:1; fill:none\" points=\"\n",
       "  2015.04,210.392 2149.84,210.392 \n",
       "  \"/>\n",
       "<path clip-path=\"url(#clip580)\" d=\"M2196.22 184.461 Q2196.22 185.749 2195.4 186.545 Q2194.6 187.342 2193.6 187.342 Q2192.87 187.342 2192.33 186.897 Q2191.82 186.452 2191.82 185.679 Q2191.82 184.882 2192.43 184.039 Q2193.03 183.196 2194.42 183.079 Q2193.5 182.212 2192.05 182.212 Q2191.32 182.212 2190.72 182.681 Q2190.13 183.126 2189.8 183.852 Q2189.45 184.601 2188.65 188.841 Q2188.4 190.223 2188.16 191.558 Q2187.93 192.893 2187.65 194.298 L2191.63 194.298 Q2192.14 194.298 2192.36 194.322 Q2192.57 194.345 2192.73 194.462 Q2192.92 194.579 2192.92 194.837 Q2192.92 195.493 2192.61 195.657 Q2192.33 195.797 2191.49 195.797 L2187.37 195.797 L2184.49 210.998 Q2184.42 211.444 2184.11 212.849 Q2183.83 214.231 2183.15 216.503 Q2182.47 218.798 2181.79 220.157 Q2181.42 220.93 2180.93 221.656 Q2180.46 222.405 2179.78 223.155 Q2179.1 223.904 2178.21 224.349 Q2177.32 224.818 2176.38 224.818 Q2174.79 224.818 2173.55 223.928 Q2172.31 223.038 2172.31 221.515 Q2172.31 220.227 2173.1 219.431 Q2173.92 218.634 2174.93 218.634 Q2175.66 218.634 2176.17 219.079 Q2176.71 219.524 2176.71 220.297 Q2176.71 220.625 2176.59 221 Q2176.47 221.375 2176.22 221.796 Q2175.96 222.241 2175.4 222.546 Q2174.84 222.85 2174.06 222.897 Q2174.98 223.764 2176.38 223.764 Q2176.83 223.764 2177.22 223.576 Q2177.62 223.412 2177.95 222.991 Q2178.3 222.569 2178.56 222.148 Q2178.82 221.749 2179.07 220.976 Q2179.33 220.227 2179.5 219.665 Q2179.66 219.103 2179.87 218.095 Q2180.11 217.088 2180.22 216.479 Q2180.34 215.894 2180.55 214.746 L2184.13 195.797 L2180.97 195.797 Q2180.41 195.797 2180.18 195.774 Q2179.96 195.75 2179.8 195.633 Q2179.64 195.493 2179.64 195.212 Q2179.64 194.767 2179.82 194.579 Q2180.04 194.369 2180.27 194.345 Q2180.5 194.298 2181.07 194.298 L2184.39 194.298 Q2185.52 188.372 2185.96 186.78 Q2186.48 185.093 2187.27 183.922 Q2188.07 182.728 2188.96 182.165 Q2189.85 181.603 2190.58 181.393 Q2191.32 181.158 2192.05 181.158 Q2193.69 181.158 2194.96 182.048 Q2196.22 182.915 2196.22 184.461 Z\" fill=\"#000000\" fill-rule=\"evenodd\" fill-opacity=\"1\" /><path clip-path=\"url(#clip580)\" d=\"M2201.1 233.144 Q2201.1 232.144 2201.64 231.767 Q2202.18 231.374 2202.75 231.374 Q2203.52 231.374 2203.97 231.866 Q2204.43 232.341 2204.43 233.013 Q2204.43 233.685 2203.97 234.177 Q2203.52 234.653 2202.75 234.653 Q2202.38 234.653 2202.18 234.587 Q2202.62 236.128 2203.97 237.243 Q2205.33 238.358 2207.11 238.358 Q2209.36 238.358 2210.71 236.178 Q2211.51 234.768 2211.51 231.57 Q2211.51 228.75 2210.9 227.34 Q2209.97 225.192 2208.05 225.192 Q2205.33 225.192 2203.72 227.537 Q2203.52 227.832 2203.29 227.849 Q2202.97 227.849 2202.88 227.668 Q2202.82 227.471 2202.82 226.963 L2202.82 217.027 Q2202.82 216.224 2203.15 216.224 Q2203.28 216.224 2203.56 216.322 Q2205.67 217.257 2208.02 217.273 Q2210.43 217.273 2212.59 216.29 Q2212.75 216.191 2212.85 216.191 Q2213.18 216.191 2213.2 216.568 Q2213.2 216.7 2212.92 217.093 Q2212.66 217.47 2212.08 217.978 Q2211.51 218.47 2210.77 218.946 Q2210.03 219.421 2208.95 219.749 Q2207.89 220.061 2206.7 220.061 Q2205.29 220.061 2203.85 219.618 L2203.85 226.16 Q2205.59 224.455 2208.11 224.455 Q2210.8 224.455 2212.66 226.619 Q2214.51 228.783 2214.51 231.8 Q2214.51 234.964 2212.31 237.129 Q2210.13 239.293 2207.18 239.293 Q2204.49 239.293 2202.79 237.374 Q2201.1 235.456 2201.1 233.144 Z\" fill=\"#000000\" fill-rule=\"evenodd\" fill-opacity=\"1\" /><path clip-path=\"url(#clip580)\" d=\"M2230.22 229.078 Q2230.22 231.439 2229.02 233.751 Q2227.84 236.046 2225.94 237.489 Q2224.05 238.932 2222.12 238.932 Q2220.23 238.932 2219.04 237.489 Q2217.86 236.03 2217.86 233.653 Q2217.86 232.816 2217.96 232.226 Q2218.05 231.636 2218.4 230.259 L2221.15 219.306 Q2221.63 217.257 2221.63 217.241 Q2221.63 217.044 2221.55 216.945 Q2221.48 216.831 2221.09 216.749 Q2220.69 216.667 2219.94 216.667 Q2219.63 216.667 2219.48 216.65 Q2219.35 216.634 2219.23 216.552 Q2219.14 216.454 2219.14 216.257 Q2219.14 215.978 2219.25 215.831 Q2219.38 215.667 2219.48 215.634 Q2219.58 215.601 2219.78 215.585 Q2220.05 215.568 2220.99 215.486 Q2221.92 215.388 2222.73 215.322 Q2223.53 215.257 2223.87 215.257 Q2224.07 215.257 2224.17 215.355 Q2224.28 215.437 2224.28 215.535 L2224.3 215.617 L2221.82 225.734 Q2223.78 223.717 2225.76 223.717 Q2227.74 223.717 2228.97 225.242 Q2230.22 226.766 2230.22 229.078 M2227.79 227.603 Q2227.79 226.045 2227.2 225.258 Q2226.63 224.455 2225.68 224.455 Q2224.87 224.455 2223.82 225.061 Q2222.78 225.668 2221.66 227.144 Q2221.45 227.422 2221.37 227.586 Q2221.3 227.75 2221.15 228.308 L2220.41 231.406 Q2219.87 233.522 2219.87 234.8 Q2219.87 236.538 2220.51 237.358 Q2221.15 238.178 2222.12 238.178 Q2223.14 238.178 2224.2 237.276 Q2225.27 236.374 2226.09 234.735 Q2226.6 233.653 2227.19 231.324 Q2227.79 228.98 2227.79 227.603 Z\" fill=\"#000000\" fill-rule=\"evenodd\" fill-opacity=\"1\" /></svg>\n"
      ]
     },
     "execution_count": 16,
     "metadata": {},
     "output_type": "execute_result"
    }
   ],
   "source": [
    "function f5a(x)\n",
    "    return 1/(1 + 2x) - (1 - x)/(1 + x)\n",
    "end\n",
    "\n",
    "function f5b(x)\n",
    "    return 2*x^2 / ((1 + 2*x) * (1 + x))\n",
    "end\n",
    "\n",
    "r = -5*10^-8:10^-10:5*10^-8\n",
    "plot(\n",
    "    r,\n",
    "    [f5a(x) for x in r],\n",
    "    label = L\"f_{5a}\"\n",
    ")\n",
    "plot!(\n",
    "    r,\n",
    "    [f5b(x) for x in r],\n",
    "    label = L\"f_{5b}\"\n",
    ")"
   ]
  }
 ],
 "metadata": {
  "authors": [
   {
    "name": "Numerical Analysis 2022"
   }
  ],
  "kernelspec": {
   "display_name": "Julia 1.8.2",
   "language": "julia",
   "name": "julia-1.8"
  },
  "language_info": {
   "file_extension": ".jl",
   "mimetype": "application/julia",
   "name": "julia",
   "version": "1.8.2"
  },
  "title": "Exercise sheet 2",
  "toc-autonumbering": true,
  "widgets": {
   "application/vnd.jupyter.widget-state+json": {
    "state": {},
    "version_major": 2,
    "version_minor": 0
   }
  }
 },
 "nbformat": 4,
 "nbformat_minor": 5
}
