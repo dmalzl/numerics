{
 "cells": [
  {
   "cell_type": "markdown",
   "id": "72bcd61f",
   "metadata": {},
   "source": [
    "# PS.8 (conditioning, stability)\n",
    "\n",
    "Verify that $\\|\\cdot\\|_2:\\mathbb{R}^n\\rightarrow \\mathbb{R}$ is partially well-conditioned. Prove that it is also well-conditioned.\n"
   ]
  },
  {
   "cell_type": "markdown",
   "id": "def528b3",
   "metadata": {},
   "source": [
    "# PS.8 (matrix norms)\n",
    "\n",
    "Consider the $3$ matrix norms $\\|\\cdot\\|_1$, $\\|\\cdot\\|_2$, and $\\|\\cdot\\|_\\infty$ that induce the condition numbers $\\kappa_1$, $\\kappa_2$, and $\\kappa_\\infty$. For $A,B\\in\\mathbb{R}^{n\\times n}$ invertible, verify the following claims for $p=1,2,\\infty$:\n",
    "\n",
    "a) $\\kappa_p(A)\\geq 1$,\n",
    "\n",
    "b) $\\kappa_p(AB)\\leq \\kappa_p(A)\\kappa_p(B)$."
   ]
  },
  {
   "cell_type": "markdown",
   "id": "9edc93e8",
   "metadata": {},
   "source": [
    "# PS.8 (qr-decomposition)\n",
    "\n",
    "Suppose that the qr-decomposition of $A\\in\\mathbb{R}^{5\\times 3}$ is given by $A=QR$ with \n",
    "\n",
    "\\begin{equation*}\n",
    "Q = \\begin{pmatrix} \n",
    "*&1&*&*&*\\\\\n",
    "1& 0 &0& 0&0\\\\\n",
    "0&0&0&0&1\\\\\n",
    "0&0&0&1&0\\\\\n",
    "0&0&1&*&0\\\\\n",
    "\\end{pmatrix},\\qquad \n",
    "R = \\begin{pmatrix} \n",
    "3&1&1\\\\\n",
    "0&2&1\\\\\n",
    "0 &0&1\\\\\n",
    "0&0&0\\\\\n",
    "0& 0 & 0 \n",
    "\\end{pmatrix},\n",
    "\\end{equation*}\n",
    "where \"$*$\" means you still need to reconstruct those entries.\n",
    "\n",
    "\n",
    "Find the solution $\\hat{x}\\in\\mathbb{R}^3$ of the linear least squares problem \n",
    "\\begin{equation*}\n",
    "\\arg\\min_{x\\in\\mathbb{R}^3}\\|Ax-b\\|^2_2,\\qquad b=(1,6,3,4,5)^\\top.\n",
    "\\end{equation*}\n",
    "\n",
    "\n",
    "\n"
   ]
  },
  {
   "cell_type": "markdown",
   "id": "bdf9bd7e",
   "metadata": {},
   "source": [
    "Since $Q$ needs to be orthogonal and we have $Q^T = Q^-1 \\Rightarrow QQ^T = I$ \"$*$\" entries have to be 0"
   ]
  },
  {
   "cell_type": "code",
   "execution_count": 56,
   "id": "1eee1d1f",
   "metadata": {},
   "outputs": [
    {
     "data": {
      "text/plain": [
       "3-element Vector{Int64}:\n",
       " 6\n",
       " 1\n",
       " 5"
      ]
     },
     "execution_count": 56,
     "metadata": {},
     "output_type": "execute_result"
    }
   ],
   "source": [
    "using LinearAlgebra\n",
    "a = [0, 0, 0, 0, 0]\n",
    "Q = [\n",
    "    a[1] 1 a[2] a[3] a[4];\n",
    "    1 0 0 0 0; \n",
    "    0 0 0 0 1; \n",
    "    0 0 0 1 0; \n",
    "    0 0 1 a[5] 0\n",
    "]\n",
    "R = [\n",
    "    3 1 1;\n",
    "    0 2 1;\n",
    "    0 0 1;\n",
    "    0 0 0;\n",
    "    0 0 0;\n",
    "]\n",
    "b = [1, 6, 3, 4, 5]\n",
    "x = (Q*b)[1:rank(R)]"
   ]
  },
  {
   "cell_type": "markdown",
   "id": "72e620f4",
   "metadata": {},
   "source": [
    "# PS.8 (modified Newton's method)\n",
    "\n",
    "Implement the modified Newton's method and apply your program to \n",
    "\n",
    "$$\n",
    "f(x) = (x^2-2)^2\n",
    "$$\n",
    "\n",
    "with initial value $x_0=1$. Apply also Newton's method (solutions to PS.6 are at the moodle website) and compare the errors of both methods in a logarithmic plot."
   ]
  },
  {
   "cell_type": "code",
   "execution_count": 38,
   "id": "3cbfcb7e",
   "metadata": {
    "tags": []
   },
   "outputs": [
    {
     "data": {
      "image/svg+xml": [
       "<?xml version=\"1.0\" encoding=\"utf-8\"?>\n",
       "<svg xmlns=\"http://www.w3.org/2000/svg\" xmlns:xlink=\"http://www.w3.org/1999/xlink\" width=\"600\" height=\"400\" viewBox=\"0 0 2400 1600\">\n",
       "<defs>\n",
       "  <clipPath id=\"clip170\">\n",
       "    <rect x=\"0\" y=\"0\" width=\"2400\" height=\"1600\"/>\n",
       "  </clipPath>\n",
       "</defs>\n",
       "<path clip-path=\"url(#clip170)\" d=\"\n",
       "M0 1600 L2400 1600 L2400 0 L0 0  Z\n",
       "  \" fill=\"#ffffff\" fill-rule=\"evenodd\" fill-opacity=\"1\"/>\n",
       "<defs>\n",
       "  <clipPath id=\"clip171\">\n",
       "    <rect x=\"480\" y=\"0\" width=\"1681\" height=\"1600\"/>\n",
       "  </clipPath>\n",
       "</defs>\n",
       "<path clip-path=\"url(#clip170)\" d=\"\n",
       "M213.607 1423.18 L2352.76 1423.18 L2352.76 47.2441 L213.607 47.2441  Z\n",
       "  \" fill=\"#ffffff\" fill-rule=\"evenodd\" fill-opacity=\"1\"/>\n",
       "<defs>\n",
       "  <clipPath id=\"clip172\">\n",
       "    <rect x=\"213\" y=\"47\" width=\"2140\" height=\"1377\"/>\n",
       "  </clipPath>\n",
       "</defs>\n",
       "<polyline clip-path=\"url(#clip172)\" style=\"stroke:#000000; stroke-linecap:round; stroke-linejoin:round; stroke-width:2; stroke-opacity:0.1; fill:none\" points=\"\n",
       "  610.494,1423.18 610.494,47.2441 \n",
       "  \"/>\n",
       "<polyline clip-path=\"url(#clip172)\" style=\"stroke:#000000; stroke-linecap:round; stroke-linejoin:round; stroke-width:2; stroke-opacity:0.1; fill:none\" points=\"\n",
       "  1030.92,1423.18 1030.92,47.2441 \n",
       "  \"/>\n",
       "<polyline clip-path=\"url(#clip172)\" style=\"stroke:#000000; stroke-linecap:round; stroke-linejoin:round; stroke-width:2; stroke-opacity:0.1; fill:none\" points=\"\n",
       "  1451.35,1423.18 1451.35,47.2441 \n",
       "  \"/>\n",
       "<polyline clip-path=\"url(#clip172)\" style=\"stroke:#000000; stroke-linecap:round; stroke-linejoin:round; stroke-width:2; stroke-opacity:0.1; fill:none\" points=\"\n",
       "  1871.78,1423.18 1871.78,47.2441 \n",
       "  \"/>\n",
       "<polyline clip-path=\"url(#clip172)\" style=\"stroke:#000000; stroke-linecap:round; stroke-linejoin:round; stroke-width:2; stroke-opacity:0.1; fill:none\" points=\"\n",
       "  2292.21,1423.18 2292.21,47.2441 \n",
       "  \"/>\n",
       "<polyline clip-path=\"url(#clip170)\" style=\"stroke:#000000; stroke-linecap:round; stroke-linejoin:round; stroke-width:4; stroke-opacity:1; fill:none\" points=\"\n",
       "  213.607,1423.18 2352.76,1423.18 \n",
       "  \"/>\n",
       "<polyline clip-path=\"url(#clip170)\" style=\"stroke:#000000; stroke-linecap:round; stroke-linejoin:round; stroke-width:4; stroke-opacity:1; fill:none\" points=\"\n",
       "  610.494,1423.18 610.494,1404.28 \n",
       "  \"/>\n",
       "<polyline clip-path=\"url(#clip170)\" style=\"stroke:#000000; stroke-linecap:round; stroke-linejoin:round; stroke-width:4; stroke-opacity:1; fill:none\" points=\"\n",
       "  1030.92,1423.18 1030.92,1404.28 \n",
       "  \"/>\n",
       "<polyline clip-path=\"url(#clip170)\" style=\"stroke:#000000; stroke-linecap:round; stroke-linejoin:round; stroke-width:4; stroke-opacity:1; fill:none\" points=\"\n",
       "  1451.35,1423.18 1451.35,1404.28 \n",
       "  \"/>\n",
       "<polyline clip-path=\"url(#clip170)\" style=\"stroke:#000000; stroke-linecap:round; stroke-linejoin:round; stroke-width:4; stroke-opacity:1; fill:none\" points=\"\n",
       "  1871.78,1423.18 1871.78,1404.28 \n",
       "  \"/>\n",
       "<polyline clip-path=\"url(#clip170)\" style=\"stroke:#000000; stroke-linecap:round; stroke-linejoin:round; stroke-width:4; stroke-opacity:1; fill:none\" points=\"\n",
       "  2292.21,1423.18 2292.21,1404.28 \n",
       "  \"/>\n",
       "<path clip-path=\"url(#clip170)\" d=\"M600.771 1451.02 L619.128 1451.02 L619.128 1454.96 L605.054 1454.96 L605.054 1463.43 Q606.072 1463.08 607.091 1462.92 Q608.109 1462.73 609.128 1462.73 Q614.915 1462.73 618.294 1465.9 Q621.674 1469.08 621.674 1474.49 Q621.674 1480.07 618.202 1483.17 Q614.73 1486.25 608.41 1486.25 Q606.234 1486.25 603.966 1485.88 Q601.72 1485.51 599.313 1484.77 L599.313 1480.07 Q601.396 1481.2 603.619 1481.76 Q605.841 1482.32 608.318 1482.32 Q612.322 1482.32 614.66 1480.21 Q616.998 1478.1 616.998 1474.49 Q616.998 1470.88 614.66 1468.77 Q612.322 1466.67 608.318 1466.67 Q606.443 1466.67 604.568 1467.08 Q602.716 1467.5 600.771 1468.38 L600.771 1451.02 Z\" fill=\"#000000\" fill-rule=\"evenodd\" fill-opacity=\"1\" /><path clip-path=\"url(#clip170)\" d=\"M1005.61 1481.64 L1013.25 1481.64 L1013.25 1455.28 L1004.94 1456.95 L1004.94 1452.69 L1013.2 1451.02 L1017.88 1451.02 L1017.88 1481.64 L1025.52 1481.64 L1025.52 1485.58 L1005.61 1485.58 L1005.61 1481.64 Z\" fill=\"#000000\" fill-rule=\"evenodd\" fill-opacity=\"1\" /><path clip-path=\"url(#clip170)\" d=\"M1044.96 1454.1 Q1041.35 1454.1 1039.52 1457.66 Q1037.72 1461.2 1037.72 1468.33 Q1037.72 1475.44 1039.52 1479.01 Q1041.35 1482.55 1044.96 1482.55 Q1048.6 1482.55 1050.4 1479.01 Q1052.23 1475.44 1052.23 1468.33 Q1052.23 1461.2 1050.4 1457.66 Q1048.6 1454.1 1044.96 1454.1 M1044.96 1450.39 Q1050.77 1450.39 1053.83 1455 Q1056.91 1459.58 1056.91 1468.33 Q1056.91 1477.06 1053.83 1481.67 Q1050.77 1486.25 1044.96 1486.25 Q1039.15 1486.25 1036.07 1481.67 Q1033.02 1477.06 1033.02 1468.33 Q1033.02 1459.58 1036.07 1455 Q1039.15 1450.39 1044.96 1450.39 Z\" fill=\"#000000\" fill-rule=\"evenodd\" fill-opacity=\"1\" /><path clip-path=\"url(#clip170)\" d=\"M1426.54 1481.64 L1434.18 1481.64 L1434.18 1455.28 L1425.87 1456.95 L1425.87 1452.69 L1434.13 1451.02 L1438.81 1451.02 L1438.81 1481.64 L1446.45 1481.64 L1446.45 1485.58 L1426.54 1485.58 L1426.54 1481.64 Z\" fill=\"#000000\" fill-rule=\"evenodd\" fill-opacity=\"1\" /><path clip-path=\"url(#clip170)\" d=\"M1455.94 1451.02 L1474.29 1451.02 L1474.29 1454.96 L1460.22 1454.96 L1460.22 1463.43 Q1461.24 1463.08 1462.26 1462.92 Q1463.27 1462.73 1464.29 1462.73 Q1470.08 1462.73 1473.46 1465.9 Q1476.84 1469.08 1476.84 1474.49 Q1476.84 1480.07 1473.37 1483.17 Q1469.9 1486.25 1463.58 1486.25 Q1461.4 1486.25 1459.13 1485.88 Q1456.89 1485.51 1454.48 1484.77 L1454.48 1480.07 Q1456.56 1481.2 1458.78 1481.76 Q1461.01 1482.32 1463.48 1482.32 Q1467.49 1482.32 1469.83 1480.21 Q1472.16 1478.1 1472.16 1474.49 Q1472.16 1470.88 1469.83 1468.77 Q1467.49 1466.67 1463.48 1466.67 Q1461.61 1466.67 1459.73 1467.08 Q1457.88 1467.5 1455.94 1468.38 L1455.94 1451.02 Z\" fill=\"#000000\" fill-rule=\"evenodd\" fill-opacity=\"1\" /><path clip-path=\"url(#clip170)\" d=\"M1850.56 1481.64 L1866.88 1481.64 L1866.88 1485.58 L1844.93 1485.58 L1844.93 1481.64 Q1847.59 1478.89 1852.18 1474.26 Q1856.78 1469.61 1857.96 1468.27 Q1860.21 1465.74 1861.09 1464.01 Q1861.99 1462.25 1861.99 1460.56 Q1861.99 1457.8 1860.05 1456.07 Q1858.13 1454.33 1855.02 1454.33 Q1852.83 1454.33 1850.37 1455.09 Q1847.94 1455.86 1845.16 1457.41 L1845.16 1452.69 Q1847.99 1451.55 1850.44 1450.97 Q1852.9 1450.39 1854.93 1450.39 Q1860.3 1450.39 1863.5 1453.08 Q1866.69 1455.77 1866.69 1460.26 Q1866.69 1462.39 1865.88 1464.31 Q1865.09 1466.2 1862.99 1468.8 Q1862.41 1469.47 1859.31 1472.69 Q1856.21 1475.88 1850.56 1481.64 Z\" fill=\"#000000\" fill-rule=\"evenodd\" fill-opacity=\"1\" /><path clip-path=\"url(#clip170)\" d=\"M1886.69 1454.1 Q1883.08 1454.1 1881.25 1457.66 Q1879.45 1461.2 1879.45 1468.33 Q1879.45 1475.44 1881.25 1479.01 Q1883.08 1482.55 1886.69 1482.55 Q1890.33 1482.55 1892.13 1479.01 Q1893.96 1475.44 1893.96 1468.33 Q1893.96 1461.2 1892.13 1457.66 Q1890.33 1454.1 1886.69 1454.1 M1886.69 1450.39 Q1892.5 1450.39 1895.56 1455 Q1898.64 1459.58 1898.64 1468.33 Q1898.64 1477.06 1895.56 1481.67 Q1892.5 1486.25 1886.69 1486.25 Q1880.88 1486.25 1877.8 1481.67 Q1874.75 1477.06 1874.75 1468.33 Q1874.75 1459.58 1877.8 1455 Q1880.88 1450.39 1886.69 1450.39 Z\" fill=\"#000000\" fill-rule=\"evenodd\" fill-opacity=\"1\" /><path clip-path=\"url(#clip170)\" d=\"M2271.48 1481.64 L2287.8 1481.64 L2287.8 1485.58 L2265.86 1485.58 L2265.86 1481.64 Q2268.52 1478.89 2273.11 1474.26 Q2277.71 1469.61 2278.89 1468.27 Q2281.14 1465.74 2282.02 1464.01 Q2282.92 1462.25 2282.92 1460.56 Q2282.92 1457.8 2280.98 1456.07 Q2279.05 1454.33 2275.95 1454.33 Q2273.75 1454.33 2271.3 1455.09 Q2268.87 1455.86 2266.09 1457.41 L2266.09 1452.69 Q2268.92 1451.55 2271.37 1450.97 Q2273.82 1450.39 2275.86 1450.39 Q2281.23 1450.39 2284.42 1453.08 Q2287.62 1455.77 2287.62 1460.26 Q2287.62 1462.39 2286.81 1464.31 Q2286.02 1466.2 2283.92 1468.8 Q2283.34 1469.47 2280.23 1472.69 Q2277.13 1475.88 2271.48 1481.64 Z\" fill=\"#000000\" fill-rule=\"evenodd\" fill-opacity=\"1\" /><path clip-path=\"url(#clip170)\" d=\"M2297.67 1451.02 L2316.02 1451.02 L2316.02 1454.96 L2301.95 1454.96 L2301.95 1463.43 Q2302.97 1463.08 2303.98 1462.92 Q2305 1462.73 2306.02 1462.73 Q2311.81 1462.73 2315.19 1465.9 Q2318.57 1469.08 2318.57 1474.49 Q2318.57 1480.07 2315.1 1483.17 Q2311.62 1486.25 2305.3 1486.25 Q2303.13 1486.25 2300.86 1485.88 Q2298.61 1485.51 2296.21 1484.77 L2296.21 1480.07 Q2298.29 1481.2 2300.51 1481.76 Q2302.73 1482.32 2305.21 1482.32 Q2309.22 1482.32 2311.55 1480.21 Q2313.89 1478.1 2313.89 1474.49 Q2313.89 1470.88 2311.55 1468.77 Q2309.22 1466.67 2305.21 1466.67 Q2303.34 1466.67 2301.46 1467.08 Q2299.61 1467.5 2297.67 1468.38 L2297.67 1451.02 Z\" fill=\"#000000\" fill-rule=\"evenodd\" fill-opacity=\"1\" /><path clip-path=\"url(#clip170)\" d=\"M1298.11 1546.53 L1298.11 1568.04 L1292.25 1568.04 L1292.25 1546.72 Q1292.25 1541.66 1290.28 1539.14 Q1288.31 1536.63 1284.36 1536.63 Q1279.62 1536.63 1276.88 1539.65 Q1274.14 1542.68 1274.14 1547.9 L1274.14 1568.04 L1268.25 1568.04 L1268.25 1532.4 L1274.14 1532.4 L1274.14 1537.93 Q1276.24 1534.72 1279.08 1533.13 Q1281.94 1531.54 1285.66 1531.54 Q1291.81 1531.54 1294.96 1535.36 Q1298.11 1539.14 1298.11 1546.53 Z\" fill=\"#000000\" fill-rule=\"evenodd\" fill-opacity=\"1\" /><polyline clip-path=\"url(#clip172)\" style=\"stroke:#000000; stroke-linecap:round; stroke-linejoin:round; stroke-width:2; stroke-opacity:0.1; fill:none\" points=\"\n",
       "  213.607,915.424 2352.76,915.424 \n",
       "  \"/>\n",
       "<polyline clip-path=\"url(#clip172)\" style=\"stroke:#000000; stroke-linecap:round; stroke-linejoin:round; stroke-width:2; stroke-opacity:0.1; fill:none\" points=\"\n",
       "  213.607,86.1857 2352.76,86.1857 \n",
       "  \"/>\n",
       "<polyline clip-path=\"url(#clip170)\" style=\"stroke:#000000; stroke-linecap:round; stroke-linejoin:round; stroke-width:4; stroke-opacity:1; fill:none\" points=\"\n",
       "  213.607,1423.18 213.607,47.2441 \n",
       "  \"/>\n",
       "<polyline clip-path=\"url(#clip170)\" style=\"stroke:#000000; stroke-linecap:round; stroke-linejoin:round; stroke-width:4; stroke-opacity:1; fill:none\" points=\"\n",
       "  213.607,915.424 232.505,915.424 \n",
       "  \"/>\n",
       "<polyline clip-path=\"url(#clip170)\" style=\"stroke:#000000; stroke-linecap:round; stroke-linejoin:round; stroke-width:4; stroke-opacity:1; fill:none\" points=\"\n",
       "  213.607,86.1857 232.505,86.1857 \n",
       "  \"/>\n",
       "<path clip-path=\"url(#clip170)\" d=\"M51.6634 935.216 L59.3023 935.216 L59.3023 908.85 L50.9921 910.517 L50.9921 906.258 L59.256 904.591 L63.9319 904.591 L63.9319 935.216 L71.5707 935.216 L71.5707 939.151 L51.6634 939.151 L51.6634 935.216 Z\" fill=\"#000000\" fill-rule=\"evenodd\" fill-opacity=\"1\" /><path clip-path=\"url(#clip170)\" d=\"M91.0151 907.67 Q87.404 907.67 85.5753 911.235 Q83.7697 914.776 83.7697 921.906 Q83.7697 929.012 85.5753 932.577 Q87.404 936.119 91.0151 936.119 Q94.6493 936.119 96.4548 932.577 Q98.2835 929.012 98.2835 921.906 Q98.2835 914.776 96.4548 911.235 Q94.6493 907.67 91.0151 907.67 M91.0151 903.966 Q96.8252 903.966 99.8808 908.573 Q102.959 913.156 102.959 921.906 Q102.959 930.633 99.8808 935.239 Q96.8252 939.823 91.0151 939.823 Q85.2049 939.823 82.1262 935.239 Q79.0707 930.633 79.0707 921.906 Q79.0707 913.156 82.1262 908.573 Q85.2049 903.966 91.0151 903.966 Z\" fill=\"#000000\" fill-rule=\"evenodd\" fill-opacity=\"1\" /><path clip-path=\"url(#clip170)\" d=\"M102.959 898.068 L127.071 898.068 L127.071 901.265 L102.959 901.265 L102.959 898.068 Z\" fill=\"#000000\" fill-rule=\"evenodd\" fill-opacity=\"1\" /><path clip-path=\"url(#clip170)\" d=\"M135.929 908.544 L142.136 908.544 L142.136 887.121 L135.384 888.476 L135.384 885.015 L142.098 883.661 L145.898 883.661 L145.898 908.544 L152.104 908.544 L152.104 911.741 L135.929 911.741 L135.929 908.544 Z\" fill=\"#000000\" fill-rule=\"evenodd\" fill-opacity=\"1\" /><path clip-path=\"url(#clip170)\" d=\"M167.903 886.162 Q164.969 886.162 163.483 889.059 Q162.016 891.936 162.016 897.729 Q162.016 903.503 163.483 906.399 Q164.969 909.277 167.903 909.277 Q170.855 909.277 172.322 906.399 Q173.808 903.503 173.808 897.729 Q173.808 891.936 172.322 889.059 Q170.855 886.162 167.903 886.162 M167.903 883.153 Q172.623 883.153 175.106 886.896 Q177.607 890.62 177.607 897.729 Q177.607 904.82 175.106 908.562 Q172.623 912.286 167.903 912.286 Q163.182 912.286 160.68 908.562 Q158.198 904.82 158.198 897.729 Q158.198 890.62 160.68 886.896 Q163.182 883.153 167.903 883.153 Z\" fill=\"#000000\" fill-rule=\"evenodd\" fill-opacity=\"1\" /><path clip-path=\"url(#clip170)\" d=\"M106.902 105.978 L114.541 105.978 L114.541 79.6125 L106.231 81.2792 L106.231 77.0199 L114.494 75.3533 L119.17 75.3533 L119.17 105.978 L126.809 105.978 L126.809 109.913 L106.902 109.913 L106.902 105.978 Z\" fill=\"#000000\" fill-rule=\"evenodd\" fill-opacity=\"1\" /><path clip-path=\"url(#clip170)\" d=\"M146.253 78.432 Q142.642 78.432 140.814 81.9968 Q139.008 85.5384 139.008 92.668 Q139.008 99.7744 140.814 103.339 Q142.642 106.881 146.253 106.881 Q149.888 106.881 151.693 103.339 Q153.522 99.7744 153.522 92.668 Q153.522 85.5384 151.693 81.9968 Q149.888 78.432 146.253 78.432 M146.253 74.7283 Q152.064 74.7283 155.119 79.3347 Q158.198 83.918 158.198 92.668 Q158.198 101.395 155.119 106.001 Q152.064 110.585 146.253 110.585 Q140.443 110.585 137.365 106.001 Q134.309 101.395 134.309 92.668 Q134.309 83.918 137.365 79.3347 Q140.443 74.7283 146.253 74.7283 Z\" fill=\"#000000\" fill-rule=\"evenodd\" fill-opacity=\"1\" /><path clip-path=\"url(#clip170)\" d=\"M167.903 56.9243 Q164.969 56.9243 163.483 59.8207 Q162.016 62.6983 162.016 68.4911 Q162.016 74.2651 163.483 77.1615 Q164.969 80.0391 167.903 80.0391 Q170.855 80.0391 172.322 77.1615 Q173.808 74.2651 173.808 68.4911 Q173.808 62.6983 172.322 59.8207 Q170.855 56.9243 167.903 56.9243 M167.903 53.9151 Q172.623 53.9151 175.106 57.6578 Q177.607 61.3817 177.607 68.4911 Q177.607 75.5816 175.106 79.3244 Q172.623 83.0483 167.903 83.0483 Q163.182 83.0483 160.68 79.3244 Q158.198 75.5816 158.198 68.4911 Q158.198 61.3817 160.68 57.6578 Q163.182 53.9151 167.903 53.9151 Z\" fill=\"#000000\" fill-rule=\"evenodd\" fill-opacity=\"1\" /><polyline clip-path=\"url(#clip172)\" style=\"stroke:#009af9; stroke-linecap:round; stroke-linejoin:round; stroke-width:4; stroke-opacity:1; fill:none\" points=\"\n",
       "  274.149,86.1857 358.235,145.729 442.321,198.22 526.407,249.215 610.494,299.636 694.58,349.8 778.666,399.842 862.752,449.826 946.838,499.78 1030.92,549.719 \n",
       "  1115.01,599.652 1199.1,649.581 1283.18,699.507 1367.27,749.433 1451.35,799.359 1535.44,849.285 1619.53,899.21 1703.61,949.138 1787.7,999.07 1871.78,1049.02 \n",
       "  1955.87,1099.06 2039.96,1149.41 2124.04,1201.11 2208.13,1259.08 2292.21,1384.24 \n",
       "  \"/>\n",
       "<polyline clip-path=\"url(#clip172)\" style=\"stroke:#e26f46; stroke-linecap:round; stroke-linejoin:round; stroke-width:4; stroke-opacity:1; fill:none\" points=\"\n",
       "  274.149,86.1857 358.235,186.036 442.321,444.145 526.407,1384.24 \n",
       "  \"/>\n",
       "<path clip-path=\"url(#clip170)\" d=\"\n",
       "M1936.38 248.629 L2281.45 248.629 L2281.45 93.1086 L1936.38 93.1086  Z\n",
       "  \" fill=\"#ffffff\" fill-rule=\"evenodd\" fill-opacity=\"1\"/>\n",
       "<polyline clip-path=\"url(#clip170)\" style=\"stroke:#000000; stroke-linecap:round; stroke-linejoin:round; stroke-width:4; stroke-opacity:1; fill:none\" points=\"\n",
       "  1936.38,248.629 2281.45,248.629 2281.45,93.1086 1936.38,93.1086 1936.38,248.629 \n",
       "  \"/>\n",
       "<polyline clip-path=\"url(#clip170)\" style=\"stroke:#009af9; stroke-linecap:round; stroke-linejoin:round; stroke-width:4; stroke-opacity:1; fill:none\" points=\"\n",
       "  1960.15,144.949 2102.76,144.949 \n",
       "  \"/>\n",
       "<path clip-path=\"url(#clip170)\" d=\"M2146.88 141.28 Q2148.47 138.409 2150.7 137.044 Q2152.92 135.678 2155.93 135.678 Q2159.98 135.678 2162.18 138.525 Q2164.38 141.349 2164.38 146.581 L2164.38 162.229 L2160.1 162.229 L2160.1 146.719 Q2160.1 142.993 2158.78 141.187 Q2157.46 139.382 2154.75 139.382 Q2151.44 139.382 2149.52 141.581 Q2147.6 143.78 2147.6 147.576 L2147.6 162.229 L2143.31 162.229 L2143.31 146.719 Q2143.31 142.969 2141.99 141.187 Q2140.67 139.382 2137.92 139.382 Q2134.66 139.382 2132.73 141.604 Q2130.81 143.803 2130.81 147.576 L2130.81 162.229 L2126.53 162.229 L2126.53 136.303 L2130.81 136.303 L2130.81 140.331 Q2132.27 137.946 2134.31 136.812 Q2136.35 135.678 2139.15 135.678 Q2141.97 135.678 2143.94 137.113 Q2145.93 138.548 2146.88 141.28 Z\" fill=\"#000000\" fill-rule=\"evenodd\" fill-opacity=\"1\" /><path clip-path=\"url(#clip170)\" d=\"M2173.43 140.701 L2203.1 140.701 L2203.1 144.59 L2173.43 144.59 L2173.43 140.701 M2173.43 150.145 L2203.1 150.145 L2203.1 154.081 L2173.43 154.081 L2173.43 150.145 Z\" fill=\"#000000\" fill-rule=\"evenodd\" fill-opacity=\"1\" /><path clip-path=\"url(#clip170)\" d=\"M2214.01 158.293 L2221.65 158.293 L2221.65 131.928 L2213.34 133.595 L2213.34 129.335 L2221.6 127.669 L2226.28 127.669 L2226.28 158.293 L2233.91 158.293 L2233.91 162.229 L2214.01 162.229 L2214.01 158.293 Z\" fill=\"#000000\" fill-rule=\"evenodd\" fill-opacity=\"1\" /><polyline clip-path=\"url(#clip170)\" style=\"stroke:#e26f46; stroke-linecap:round; stroke-linejoin:round; stroke-width:4; stroke-opacity:1; fill:none\" points=\"\n",
       "  1960.15,196.789 2102.76,196.789 \n",
       "  \"/>\n",
       "<path clip-path=\"url(#clip170)\" d=\"M2146.88 193.12 Q2148.47 190.249 2150.7 188.884 Q2152.92 187.518 2155.93 187.518 Q2159.98 187.518 2162.18 190.365 Q2164.38 193.189 2164.38 198.421 L2164.38 214.069 L2160.1 214.069 L2160.1 198.559 Q2160.1 194.833 2158.78 193.027 Q2157.46 191.222 2154.75 191.222 Q2151.44 191.222 2149.52 193.421 Q2147.6 195.62 2147.6 199.416 L2147.6 214.069 L2143.31 214.069 L2143.31 198.559 Q2143.31 194.809 2141.99 193.027 Q2140.67 191.222 2137.92 191.222 Q2134.66 191.222 2132.73 193.444 Q2130.81 195.643 2130.81 199.416 L2130.81 214.069 L2126.53 214.069 L2126.53 188.143 L2130.81 188.143 L2130.81 192.171 Q2132.27 189.786 2134.31 188.652 Q2136.35 187.518 2139.15 187.518 Q2141.97 187.518 2143.94 188.953 Q2145.93 190.388 2146.88 193.12 Z\" fill=\"#000000\" fill-rule=\"evenodd\" fill-opacity=\"1\" /><path clip-path=\"url(#clip170)\" d=\"M2173.43 192.541 L2203.1 192.541 L2203.1 196.43 L2173.43 196.43 L2173.43 192.541 M2173.43 201.985 L2203.1 201.985 L2203.1 205.921 L2173.43 205.921 L2173.43 201.985 Z\" fill=\"#000000\" fill-rule=\"evenodd\" fill-opacity=\"1\" /><path clip-path=\"url(#clip170)\" d=\"M2217.22 210.133 L2233.54 210.133 L2233.54 214.069 L2211.6 214.069 L2211.6 210.133 Q2214.26 207.379 2218.84 202.749 Q2223.45 198.096 2224.63 196.754 Q2226.88 194.231 2227.76 192.495 Q2228.66 190.735 2228.66 189.046 Q2228.66 186.291 2226.72 184.555 Q2224.79 182.819 2221.69 182.819 Q2219.49 182.819 2217.04 183.583 Q2214.61 184.347 2211.83 185.897 L2211.83 181.175 Q2214.66 180.041 2217.11 179.462 Q2219.56 178.884 2221.6 178.884 Q2226.97 178.884 2230.16 181.569 Q2233.36 184.254 2233.36 188.745 Q2233.36 190.874 2232.55 192.796 Q2231.76 194.694 2229.66 197.286 Q2229.08 197.958 2225.97 201.175 Q2222.87 204.37 2217.22 210.133 Z\" fill=\"#000000\" fill-rule=\"evenodd\" fill-opacity=\"1\" /></svg>\n"
      ]
     },
     "execution_count": 38,
     "metadata": {},
     "output_type": "execute_result"
    }
   ],
   "source": [
    "function myNewton(f, ∂f, x0; m=1, tol=1e-5, maxiter=50)\n",
    "    x = Vector{Float64}(undef,maxiter)\n",
    "    x[1] = x0\n",
    "    for k in 1:maxiter-1\n",
    "        x[k+1] = x[k] - m * f(x[k])/∂f(x[k])\n",
    "        if abs(f(x[k+1])) < tol\n",
    "            return x[1:k]\n",
    "        end\n",
    "    end\n",
    "    return x\n",
    "    \n",
    "end\n",
    "\n",
    "using Calculus:derivative\n",
    "using Plots:plot,plot!\n",
    "f(x) = (x^2-2)^2\n",
    "∂f = derivative(f)\n",
    "\n",
    "x = myNewton(f, ∂f, 1; m=1, tol=4*eps(), maxiter=100)  # m = 1\n",
    "y = myNewton(f, ∂f, 1; m=2, tol=4*eps(), maxiter=100)  # m = 2\n",
    "\n",
    "err_x = abs.(f.(x) .- f(x[end]))[1:end-1]\n",
    "err_y = abs.(f.(y) .- f(y[end]))[1:end-1]\n",
    "push!(err_x, eps())\n",
    "push!(err_y, eps())\n",
    "plot(err_x, yaxis=:log, label=\"m=1\", xlabel=\"n\")\n",
    "plot!(err_y, label=\"m=2\")"
   ]
  }
 ],
 "metadata": {
  "authors": [
   {
    "name": "Numerical Analysis 2022"
   }
  ],
  "kernelspec": {
   "display_name": "Julia 1.8.2",
   "language": "julia",
   "name": "julia-1.8"
  },
  "language_info": {
   "file_extension": ".jl",
   "mimetype": "application/julia",
   "name": "julia",
   "version": "1.8.2"
  },
  "title": "Exercise sheet 8 (revision)",
  "toc-autonumbering": true,
  "widgets": {
   "application/vnd.jupyter.widget-state+json": {
    "state": {},
    "version_major": 2,
    "version_minor": 0
   }
  }
 },
 "nbformat": 4,
 "nbformat_minor": 5
}
