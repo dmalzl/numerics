{
 "cells": [
  {
   "cell_type": "markdown",
   "id": "137c5233-f1d6-47b8-879b-baa95f74ea93",
   "metadata": {},
   "source": [
    "# PS.8 (conditioning, stability)\n",
    "\n",
    "Verify that $\\|\\cdot\\|_2:\\mathbb{R}^n\\rightarrow \\mathbb{R}$ is partially well-conditioned. Prove that it is also well-conditioned.\n"
   ]
  },
  {
   "cell_type": "markdown",
   "id": "553ae10c-2bde-4508-becf-81bf56507ddc",
   "metadata": {},
   "source": [
    "# PS.8 (matrix norms)\n",
    "\n",
    "Consider the $3$ matrix norms $\\|\\cdot\\|_1$, $\\|\\cdot\\|_2$, and $\\|\\cdot\\|_\\infty$ that induce the condition numbers $\\kappa_1$, $\\kappa_2$, and $\\kappa_\\infty$. For $A,B\\in\\mathbb{R}^{n\\times n}$ invertible, verify the following claims for $p=1,2,\\infty$:\n",
    "\n",
    "a) $\\kappa_p(A)\\geq 1$,\n",
    "\n",
    "b) $\\kappa_p(AB)\\leq \\kappa_p(A)\\kappa_p(B)$."
   ]
  },
  {
   "cell_type": "markdown",
   "id": "c42353bf-af03-48e6-b85e-e6a3f6a31827",
   "metadata": {},
   "source": [
    "# PS.8 (qr-decomposition)\n",
    "\n",
    "Suppose that the qr-decomposition of $A\\in\\mathbb{R}^{5\\times 3}$ is given by $A=QR$ with \n",
    "\n",
    "\\begin{equation*}\n",
    "Q = \\begin{pmatrix} \n",
    "*&1&*&*&*\\\\\n",
    "1& 0 &0& 0&0\\\\\n",
    "0&0&0&0&1\\\\\n",
    "0&0&0&1&0\\\\\n",
    "0&0&1&*&0\\\\\n",
    "\\end{pmatrix},\\qquad \n",
    "R = \\begin{pmatrix} \n",
    "3&1&1\\\\\n",
    "0&2&1\\\\\n",
    "0 &0&1\\\\\n",
    "0&0&0\\\\\n",
    "0& 0 & 0 \n",
    "\\end{pmatrix},\n",
    "\\end{equation*}\n",
    "where \"$*$\" means you still need to reconstruct those entries.\n",
    "\n",
    "\n",
    "Find the solution $\\hat{x}\\in\\mathbb{R}^3$ of the linear least squares problem \n",
    "\\begin{equation*}\n",
    "\\arg\\min_{x\\in\\mathbb{R}^3}\\|Ax-b\\|^2_2,\\qquad b=(1,6,3,4,5)^\\top.\n",
    "\\end{equation*}\n",
    "\n",
    "\n",
    "\n"
   ]
  },
  {
   "cell_type": "markdown",
   "id": "7744be04-3704-4261-8d31-81e5ef19d156",
   "metadata": {},
   "source": [
    "# PS.8 (modified Newton's method)\n",
    "\n",
    "Implement the modified Newton's method and apply your program to \n",
    "\n",
    "$$\n",
    "f(x) = (x^2-2)^2\n",
    "$$\n",
    "\n",
    "with initial value $x_0=1$. Apply also Newton's method (solutions to PS.6 are at the moodle website) and compare the errors of both methods in a logarithmic plot."
   ]
  },
  {
   "cell_type": "code",
   "execution_count": null,
   "id": "79c99975-25d6-4f45-8275-c5604c795de3",
   "metadata": {
    "tags": []
   },
   "outputs": [],
   "source": [
    "function myNewton(f, ∂f, x0; m=1, tol=1e-5, maxiter=50)\n",
    "    x = Vector{Float64}(undef,maxiter)\n",
    "    ...\n",
    "    ...\n",
    "    ...\n",
    "end\n",
    "\n",
    "\n",
    "using Calculus:derivative\n",
    "using Plots:plot,plot!\n",
    "f(x) = (x^2-2)^2\n",
    "∂f = derivative(f)\n",
    "\n",
    "x = myNewton(f, ∂f, 1; m=1, tol=4*eps(), maxiter=100)  # m = 1\n",
    "y = myNewton(f, ∂f, 1; m=2, tol=4*eps(), maxiter=100)  # m = 2\n",
    "\n",
    "err_x = ...\n",
    "err_y = ...\n",
    "plot(err_x, yaxis=:log, label=\"m=1\",xlabel=\"n\")\n",
    "plot!(err_y, label=\"m=2\")"
   ]
  },
  {
   "cell_type": "code",
   "execution_count": null,
   "id": "fcbcc5de-9106-47e3-9de5-f3945c5108af",
   "metadata": {},
   "outputs": [],
   "source": []
  }
 ],
 "metadata": {
  "authors": [
   {
    "name": "Numerical Analysis 2022"
   }
  ],
  "kernelspec": {
   "display_name": "Julia 1.8.2",
   "language": "julia",
   "name": "julia-1.8"
  },
  "language_info": {
   "file_extension": ".jl",
   "mimetype": "application/julia",
   "name": "julia",
   "version": "1.8.2"
  },
  "title": "Exercise sheet 8 (revision)",
  "toc-autonumbering": true,
  "widgets": {
   "application/vnd.jupyter.widget-state+json": {
    "state": {},
    "version_major": 2,
    "version_minor": 0
   }
  }
 },
 "nbformat": 4,
 "nbformat_minor": 5
}
