{
 "cells": [
  {
   "cell_type": "markdown",
   "id": "8735ee40",
   "metadata": {},
   "source": [
    "# PS.5 (Banach's Fixed Point Theorem)\n",
    "\n",
    "Given $\\Phi:[0,1]\\rightarrow \\mathbb{R}$ with $\\Phi(x)=\\frac{1}{3}x^2+\\frac{1}{2}$, consider the iterative scheme \n",
    "\n",
    "$$\n",
    "x_{k+1}:=\\Phi(x_k).\n",
    "$$\n",
    "\n",
    "Prove that the sequence $(x_k)_{k\\in\\mathbb{N}}$ linearly converges for all $x_0\\in[0,1]$."
   ]
  },
  {
   "cell_type": "markdown",
   "id": "6e36f7d6",
   "metadata": {},
   "source": [
    "# PS.5 (Banach's Fixed Point Theorem)\n",
    "\n",
    "Consider the informal expression \n",
    "\n",
    "\\begin{equation*}\n",
    "\\sqrt{2+\\sqrt{2+\\sqrt{2+\\sqrt{\\ldots}}}}\n",
    "\\end{equation*}\n",
    "\n",
    "\n",
    "\n",
    "a) Rewrite the above expression as an iterative scheme $x_{k+1}=...$.\n",
    "\n",
    "$x_{k+1} = \\sqrt{2 + \\sqrt{x_k}}$"
   ]
  },
  {
   "cell_type": "markdown",
   "id": "87e2b02e",
   "metadata": {},
   "source": [
    "b) What is the value of the above expression and what are the convergence properties of the iterative scheme?"
   ]
  },
  {
   "cell_type": "code",
   "execution_count": 91,
   "id": "fa5c05a9",
   "metadata": {},
   "outputs": [
    {
     "data": {
      "text/plain": [
       "1.831177207208337"
      ]
     },
     "execution_count": 91,
     "metadata": {},
     "output_type": "execute_result"
    }
   ],
   "source": [
    "x = 2\n",
    "for k in 1:100\n",
    "    x = sqrt(2 + sqrt(x))\n",
    "end\n",
    "x"
   ]
  },
  {
   "cell_type": "markdown",
   "id": "b974fb81",
   "metadata": {},
   "source": [
    "Evaluating the iterative scheme in a) for any $x_0 \\in \\mathbb{R}$ yields $x = 1.831177207208337$\n",
    "\n",
    "The convergence order is defined as\n",
    "\\begin{align*}\n",
    "&||x_{k+1} - x|| \\leq c||x_k - x||^r \\quad \\forall k \\geq k_0 \\\\\n",
    "\\\\\n",
    "&\\Rightarrow \\exists r:\\frac{||x_{k+1} - x||}{||x_k - x||^r} = 1\n",
    "\\end{align*}"
   ]
  },
  {
   "cell_type": "code",
   "execution_count": 98,
   "id": "b20fc0a7",
   "metadata": {},
   "outputs": [
    {
     "name": "stdout",
     "output_type": "stream",
     "text": [
      "0.01658185781423649 0.168822792791663 1.8477590650225735 0.09822049226907087 1\n",
      "0.0016683992668251602 0.01658185781423649 1.8328456064751621 6.067832959267931 2\n",
      "0.00016827732321678113 0.0016683992668251602 1.8313454845315538 36234.779606148564 3\n",
      "1.6976886785702305e-5 0.00016827732321678113 1.8311941840951227 2.1171697106552647e10 4\n",
      "1.7127788456416937e-6 1.6976886785702305e-5 1.8311789199871826 1.2145377780693432e18 5\n",
      "1.7280074704473236e-7 1.7127788456416937e-6 1.831177380009084 6.844439252993162e27 6\n",
      "1.743371935702953e-8 1.7280074704473236e-7 1.8311772246420563 3.789402531129845e39 7\n",
      "1.7588730472084535e-9 1.743371935702953e-8 1.83117720896721 2.0611713129905857e53 8\n",
      "1.7745116487333235e-10 1.7588730472084535e-9 1.8311772073857882 1.1014591873706088e69 9\n",
      "1.79027903612905e-11 1.7745116487333235e-10 1.8311772072262398 5.78272021151394e86 10\n",
      "1.8061108164602047e-12 1.79027903612905e-11 1.831177207210143 2.9827469175818316e106 11\n",
      "1.8207657603852567e-13 1.8061108164602047e-12 1.831177207208519 1.5111979485443208e128 12\n",
      "1.84297022087776e-14 1.8207657603852567e-13 1.8311772072083554 7.62456911770773e151 13\n",
      "1.7763568394002505e-15 1.84297022087776e-14 1.8311772072083388 3.4062283760865756e177 14\n",
      "2.220446049250313e-16 1.7763568394002505e-15 1.8311772072083372 4.013165208090495e205 15\n",
      "0.0 2.220446049250313e-16 1.831177207208337 0.0 16\n",
      "0.0 0.0 1.831177207208337 NaN 17\n",
      "0.0 0.0 1.831177207208337 NaN 18\n",
      "0.0 0.0 1.831177207208337 NaN 19\n",
      "0.0 0.0 1.831177207208337 NaN 20\n"
     ]
    }
   ],
   "source": [
    "x_old = 2\n",
    "for k in 1:20\n",
    "    x_new = sqrt(2 + sqrt(x_old))\n",
    "    v = abs(x_new - 1.831177207208337)/abs(x_old - 1.831177207208337)^k\n",
    "    println(abs(x_new - 1.831177207208337), \" \", abs(x_old - 1.831177207208337), \" \", x_new, \" \", v, \" \", k)\n",
    "    x_old = x_new\n",
    "end"
   ]
  },
  {
   "cell_type": "markdown",
   "id": "98f068d6",
   "metadata": {},
   "source": [
    "Based on this result the convergence order of $x_{k+1} = \\sqrt{2 + \\sqrt{x_k}}$ is 17."
   ]
  },
  {
   "cell_type": "markdown",
   "id": "8aa8cb82",
   "metadata": {},
   "source": [
    "c) Illustrate the convergence order numerically in julia by plotting $|x_k-x|$ in a logarithmic scale for $k=1,\\ldots,20$."
   ]
  },
  {
   "cell_type": "code",
   "execution_count": 84,
   "id": "26ab91b1",
   "metadata": {},
   "outputs": [
    {
     "data": {
      "image/svg+xml": [
       "<?xml version=\"1.0\" encoding=\"utf-8\"?>\n",
       "<svg xmlns=\"http://www.w3.org/2000/svg\" xmlns:xlink=\"http://www.w3.org/1999/xlink\" width=\"600\" height=\"400\" viewBox=\"0 0 2400 1600\">\n",
       "<defs>\n",
       "  <clipPath id=\"clip260\">\n",
       "    <rect x=\"0\" y=\"0\" width=\"2400\" height=\"1600\"/>\n",
       "  </clipPath>\n",
       "</defs>\n",
       "<path clip-path=\"url(#clip260)\" d=\"\n",
       "M0 1600 L2400 1600 L2400 0 L0 0  Z\n",
       "  \" fill=\"#ffffff\" fill-rule=\"evenodd\" fill-opacity=\"1\"/>\n",
       "<defs>\n",
       "  <clipPath id=\"clip261\">\n",
       "    <rect x=\"480\" y=\"0\" width=\"1681\" height=\"1600\"/>\n",
       "  </clipPath>\n",
       "</defs>\n",
       "<path clip-path=\"url(#clip260)\" d=\"\n",
       "M250.358 1486.45 L2352.76 1486.45 L2352.76 47.2441 L250.358 47.2441  Z\n",
       "  \" fill=\"#ffffff\" fill-rule=\"evenodd\" fill-opacity=\"1\"/>\n",
       "<defs>\n",
       "  <clipPath id=\"clip262\">\n",
       "    <rect x=\"250\" y=\"47\" width=\"2103\" height=\"1440\"/>\n",
       "  </clipPath>\n",
       "</defs>\n",
       "<polyline clip-path=\"url(#clip262)\" style=\"stroke:#000000; stroke-linecap:round; stroke-linejoin:round; stroke-width:2; stroke-opacity:0.1; fill:none\" points=\"\n",
       "  727.416,1486.45 727.416,47.2441 \n",
       "  \"/>\n",
       "<polyline clip-path=\"url(#clip262)\" style=\"stroke:#000000; stroke-linecap:round; stroke-linejoin:round; stroke-width:2; stroke-opacity:0.1; fill:none\" points=\"\n",
       "  1249.36,1486.45 1249.36,47.2441 \n",
       "  \"/>\n",
       "<polyline clip-path=\"url(#clip262)\" style=\"stroke:#000000; stroke-linecap:round; stroke-linejoin:round; stroke-width:2; stroke-opacity:0.1; fill:none\" points=\"\n",
       "  1771.31,1486.45 1771.31,47.2441 \n",
       "  \"/>\n",
       "<polyline clip-path=\"url(#clip262)\" style=\"stroke:#000000; stroke-linecap:round; stroke-linejoin:round; stroke-width:2; stroke-opacity:0.1; fill:none\" points=\"\n",
       "  2293.25,1486.45 2293.25,47.2441 \n",
       "  \"/>\n",
       "<polyline clip-path=\"url(#clip260)\" style=\"stroke:#000000; stroke-linecap:round; stroke-linejoin:round; stroke-width:4; stroke-opacity:1; fill:none\" points=\"\n",
       "  250.358,1486.45 2352.76,1486.45 \n",
       "  \"/>\n",
       "<polyline clip-path=\"url(#clip260)\" style=\"stroke:#000000; stroke-linecap:round; stroke-linejoin:round; stroke-width:4; stroke-opacity:1; fill:none\" points=\"\n",
       "  727.416,1486.45 727.416,1467.55 \n",
       "  \"/>\n",
       "<polyline clip-path=\"url(#clip260)\" style=\"stroke:#000000; stroke-linecap:round; stroke-linejoin:round; stroke-width:4; stroke-opacity:1; fill:none\" points=\"\n",
       "  1249.36,1486.45 1249.36,1467.55 \n",
       "  \"/>\n",
       "<polyline clip-path=\"url(#clip260)\" style=\"stroke:#000000; stroke-linecap:round; stroke-linejoin:round; stroke-width:4; stroke-opacity:1; fill:none\" points=\"\n",
       "  1771.31,1486.45 1771.31,1467.55 \n",
       "  \"/>\n",
       "<polyline clip-path=\"url(#clip260)\" style=\"stroke:#000000; stroke-linecap:round; stroke-linejoin:round; stroke-width:4; stroke-opacity:1; fill:none\" points=\"\n",
       "  2293.25,1486.45 2293.25,1467.55 \n",
       "  \"/>\n",
       "<path clip-path=\"url(#clip260)\" d=\"M717.694 1514.29 L736.051 1514.29 L736.051 1518.22 L721.977 1518.22 L721.977 1526.7 Q722.995 1526.35 724.014 1526.19 Q725.032 1526 726.051 1526 Q731.838 1526 735.217 1529.17 Q738.597 1532.34 738.597 1537.76 Q738.597 1543.34 735.125 1546.44 Q731.652 1549.52 725.333 1549.52 Q723.157 1549.52 720.889 1549.15 Q718.643 1548.78 716.236 1548.04 L716.236 1543.34 Q718.319 1544.47 720.541 1545.03 Q722.764 1545.58 725.24 1545.58 Q729.245 1545.58 731.583 1543.48 Q733.921 1541.37 733.921 1537.76 Q733.921 1534.15 731.583 1532.04 Q729.245 1529.94 725.24 1529.94 Q723.365 1529.94 721.491 1530.35 Q719.639 1530.77 717.694 1531.65 L717.694 1514.29 Z\" fill=\"#000000\" fill-rule=\"evenodd\" fill-opacity=\"1\" /><path clip-path=\"url(#clip260)\" d=\"M1224.05 1544.91 L1231.69 1544.91 L1231.69 1518.55 L1223.38 1520.21 L1223.38 1515.95 L1231.64 1514.29 L1236.32 1514.29 L1236.32 1544.91 L1243.96 1544.91 L1243.96 1548.85 L1224.05 1548.85 L1224.05 1544.91 Z\" fill=\"#000000\" fill-rule=\"evenodd\" fill-opacity=\"1\" /><path clip-path=\"url(#clip260)\" d=\"M1263.4 1517.37 Q1259.79 1517.37 1257.96 1520.93 Q1256.16 1524.47 1256.16 1531.6 Q1256.16 1538.71 1257.96 1542.27 Q1259.79 1545.82 1263.4 1545.82 Q1267.04 1545.82 1268.84 1542.27 Q1270.67 1538.71 1270.67 1531.6 Q1270.67 1524.47 1268.84 1520.93 Q1267.04 1517.37 1263.4 1517.37 M1263.4 1513.66 Q1269.21 1513.66 1272.27 1518.27 Q1275.35 1522.85 1275.35 1531.6 Q1275.35 1540.33 1272.27 1544.94 Q1269.21 1549.52 1263.4 1549.52 Q1257.59 1549.52 1254.51 1544.94 Q1251.46 1540.33 1251.46 1531.6 Q1251.46 1522.85 1254.51 1518.27 Q1257.59 1513.66 1263.4 1513.66 Z\" fill=\"#000000\" fill-rule=\"evenodd\" fill-opacity=\"1\" /><path clip-path=\"url(#clip260)\" d=\"M1746.49 1544.91 L1754.13 1544.91 L1754.13 1518.55 L1745.82 1520.21 L1745.82 1515.95 L1754.09 1514.29 L1758.76 1514.29 L1758.76 1544.91 L1766.4 1544.91 L1766.4 1548.85 L1746.49 1548.85 L1746.49 1544.91 Z\" fill=\"#000000\" fill-rule=\"evenodd\" fill-opacity=\"1\" /><path clip-path=\"url(#clip260)\" d=\"M1775.89 1514.29 L1794.25 1514.29 L1794.25 1518.22 L1780.17 1518.22 L1780.17 1526.7 Q1781.19 1526.35 1782.21 1526.19 Q1783.23 1526 1784.25 1526 Q1790.03 1526 1793.41 1529.17 Q1796.79 1532.34 1796.79 1537.76 Q1796.79 1543.34 1793.32 1546.44 Q1789.85 1549.52 1783.53 1549.52 Q1781.35 1549.52 1779.09 1549.15 Q1776.84 1548.78 1774.43 1548.04 L1774.43 1543.34 Q1776.52 1544.47 1778.74 1545.03 Q1780.96 1545.58 1783.44 1545.58 Q1787.44 1545.58 1789.78 1543.48 Q1792.12 1541.37 1792.12 1537.76 Q1792.12 1534.15 1789.78 1532.04 Q1787.44 1529.94 1783.44 1529.94 Q1781.56 1529.94 1779.69 1530.35 Q1777.84 1530.77 1775.89 1531.65 L1775.89 1514.29 Z\" fill=\"#000000\" fill-rule=\"evenodd\" fill-opacity=\"1\" /><path clip-path=\"url(#clip260)\" d=\"M2272.03 1544.91 L2288.35 1544.91 L2288.35 1548.85 L2266.4 1548.85 L2266.4 1544.91 Q2269.06 1542.16 2273.65 1537.53 Q2278.25 1532.88 2279.43 1531.53 Q2281.68 1529.01 2282.56 1527.27 Q2283.46 1525.51 2283.46 1523.82 Q2283.46 1521.07 2281.52 1519.33 Q2279.6 1517.6 2276.49 1517.6 Q2274.3 1517.6 2271.84 1518.36 Q2269.41 1519.13 2266.63 1520.68 L2266.63 1515.95 Q2269.46 1514.82 2271.91 1514.24 Q2274.37 1513.66 2276.4 1513.66 Q2281.77 1513.66 2284.97 1516.35 Q2288.16 1519.03 2288.16 1523.52 Q2288.16 1525.65 2287.35 1527.57 Q2286.56 1529.47 2284.46 1532.07 Q2283.88 1532.74 2280.78 1535.95 Q2277.68 1539.15 2272.03 1544.91 Z\" fill=\"#000000\" fill-rule=\"evenodd\" fill-opacity=\"1\" /><path clip-path=\"url(#clip260)\" d=\"M2308.16 1517.37 Q2304.55 1517.37 2302.72 1520.93 Q2300.92 1524.47 2300.92 1531.6 Q2300.92 1538.71 2302.72 1542.27 Q2304.55 1545.82 2308.16 1545.82 Q2311.8 1545.82 2313.6 1542.27 Q2315.43 1538.71 2315.43 1531.6 Q2315.43 1524.47 2313.6 1520.93 Q2311.8 1517.37 2308.16 1517.37 M2308.16 1513.66 Q2313.97 1513.66 2317.03 1518.27 Q2320.11 1522.85 2320.11 1531.6 Q2320.11 1540.33 2317.03 1544.94 Q2313.97 1549.52 2308.16 1549.52 Q2302.35 1549.52 2299.27 1544.94 Q2296.22 1540.33 2296.22 1531.6 Q2296.22 1522.85 2299.27 1518.27 Q2302.35 1513.66 2308.16 1513.66 Z\" fill=\"#000000\" fill-rule=\"evenodd\" fill-opacity=\"1\" /><polyline clip-path=\"url(#clip262)\" style=\"stroke:#000000; stroke-linecap:round; stroke-linejoin:round; stroke-width:2; stroke-opacity:0.1; fill:none\" points=\"\n",
       "  250.358,917.476 2352.76,917.476 \n",
       "  \"/>\n",
       "<polyline clip-path=\"url(#clip262)\" style=\"stroke:#000000; stroke-linecap:round; stroke-linejoin:round; stroke-width:2; stroke-opacity:0.1; fill:none\" points=\"\n",
       "  250.358,312.688 2352.76,312.688 \n",
       "  \"/>\n",
       "<polyline clip-path=\"url(#clip260)\" style=\"stroke:#000000; stroke-linecap:round; stroke-linejoin:round; stroke-width:4; stroke-opacity:1; fill:none\" points=\"\n",
       "  250.358,1486.45 250.358,47.2441 \n",
       "  \"/>\n",
       "<polyline clip-path=\"url(#clip260)\" style=\"stroke:#000000; stroke-linecap:round; stroke-linejoin:round; stroke-width:4; stroke-opacity:1; fill:none\" points=\"\n",
       "  250.358,917.476 269.255,917.476 \n",
       "  \"/>\n",
       "<polyline clip-path=\"url(#clip260)\" style=\"stroke:#000000; stroke-linecap:round; stroke-linejoin:round; stroke-width:4; stroke-opacity:1; fill:none\" points=\"\n",
       "  250.358,312.688 269.255,312.688 \n",
       "  \"/>\n",
       "<path clip-path=\"url(#clip260)\" d=\"M51.6634 937.269 L59.3023 937.269 L59.3023 910.903 L50.9921 912.57 L50.9921 908.311 L59.256 906.644 L63.9319 906.644 L63.9319 937.269 L71.5707 937.269 L71.5707 941.204 L51.6634 941.204 L51.6634 937.269 Z\" fill=\"#000000\" fill-rule=\"evenodd\" fill-opacity=\"1\" /><path clip-path=\"url(#clip260)\" d=\"M91.0151 909.723 Q87.404 909.723 85.5753 913.288 Q83.7697 916.829 83.7697 923.959 Q83.7697 931.065 85.5753 934.63 Q87.404 938.172 91.0151 938.172 Q94.6493 938.172 96.4548 934.63 Q98.2835 931.065 98.2835 923.959 Q98.2835 916.829 96.4548 913.288 Q94.6493 909.723 91.0151 909.723 M91.0151 906.019 Q96.8252 906.019 99.8808 910.626 Q102.959 915.209 102.959 923.959 Q102.959 932.686 99.8808 937.292 Q96.8252 941.875 91.0151 941.875 Q85.2049 941.875 82.1262 937.292 Q79.0707 932.686 79.0707 923.959 Q79.0707 915.209 82.1262 910.626 Q85.2049 906.019 91.0151 906.019 Z\" fill=\"#000000\" fill-rule=\"evenodd\" fill-opacity=\"1\" /><path clip-path=\"url(#clip260)\" d=\"M102.959 900.12 L127.071 900.12 L127.071 903.318 L102.959 903.318 L102.959 900.12 Z\" fill=\"#000000\" fill-rule=\"evenodd\" fill-opacity=\"1\" /><path clip-path=\"url(#clip260)\" d=\"M143.396 888.215 Q140.462 888.215 138.976 891.112 Q137.509 893.989 137.509 899.782 Q137.509 905.556 138.976 908.452 Q140.462 911.33 143.396 911.33 Q146.349 911.33 147.816 908.452 Q149.302 905.556 149.302 899.782 Q149.302 893.989 147.816 891.112 Q146.349 888.215 143.396 888.215 M143.396 885.206 Q148.117 885.206 150.6 888.949 Q153.101 892.673 153.101 899.782 Q153.101 906.872 150.6 910.615 Q148.117 914.339 143.396 914.339 Q138.675 914.339 136.174 910.615 Q133.691 906.872 133.691 899.782 Q133.691 892.673 136.174 888.949 Q138.675 885.206 143.396 885.206 Z\" fill=\"#000000\" fill-rule=\"evenodd\" fill-opacity=\"1\" /><path clip-path=\"url(#clip260)\" d=\"M159.778 909.017 L163.746 909.017 L163.746 913.794 L159.778 913.794 L159.778 909.017 Z\" fill=\"#000000\" fill-rule=\"evenodd\" fill-opacity=\"1\" /><path clip-path=\"url(#clip260)\" d=\"M180.147 900.459 Q177.438 900.459 175.877 901.907 Q174.335 903.355 174.335 905.894 Q174.335 908.433 175.877 909.882 Q177.438 911.33 180.147 911.33 Q182.855 911.33 184.416 909.882 Q185.977 908.415 185.977 905.894 Q185.977 903.355 184.416 901.907 Q182.874 900.459 180.147 900.459 M176.347 898.842 Q173.902 898.24 172.529 896.566 Q171.175 894.892 171.175 892.484 Q171.175 889.118 173.564 887.162 Q175.971 885.206 180.147 885.206 Q184.341 885.206 186.729 887.162 Q189.118 889.118 189.118 892.484 Q189.118 894.892 187.745 896.566 Q186.391 898.24 183.965 898.842 Q186.71 899.481 188.234 901.343 Q189.776 903.205 189.776 905.894 Q189.776 909.976 187.275 912.157 Q184.792 914.339 180.147 914.339 Q175.501 914.339 173 912.157 Q170.517 909.976 170.517 905.894 Q170.517 903.205 172.059 901.343 Q173.601 899.481 176.347 898.842 M174.956 892.842 Q174.956 895.024 176.31 896.246 Q177.683 897.469 180.147 897.469 Q182.592 897.469 183.965 896.246 Q185.356 895.024 185.356 892.842 Q185.356 890.66 183.965 889.438 Q182.592 888.215 180.147 888.215 Q177.683 888.215 176.31 889.438 Q174.956 890.66 174.956 892.842 Z\" fill=\"#000000\" fill-rule=\"evenodd\" fill-opacity=\"1\" /><path clip-path=\"url(#clip260)\" d=\"M204.653 888.215 Q201.719 888.215 200.233 891.112 Q198.766 893.989 198.766 899.782 Q198.766 905.556 200.233 908.452 Q201.719 911.33 204.653 911.33 Q207.606 911.33 209.073 908.452 Q210.559 905.556 210.559 899.782 Q210.559 893.989 209.073 891.112 Q207.606 888.215 204.653 888.215 M204.653 885.206 Q209.374 885.206 211.856 888.949 Q214.358 892.673 214.358 899.782 Q214.358 906.872 211.856 910.615 Q209.374 914.339 204.653 914.339 Q199.932 914.339 197.431 910.615 Q194.948 906.872 194.948 899.782 Q194.948 892.673 197.431 888.949 Q199.932 885.206 204.653 885.206 Z\" fill=\"#000000\" fill-rule=\"evenodd\" fill-opacity=\"1\" /><path clip-path=\"url(#clip260)\" d=\"M51.7386 332.48 L59.3775 332.48 L59.3775 306.115 L51.0674 307.781 L51.0674 303.522 L59.3312 301.856 L64.0071 301.856 L64.0071 332.48 L71.646 332.48 L71.646 336.416 L51.7386 336.416 L51.7386 332.48 Z\" fill=\"#000000\" fill-rule=\"evenodd\" fill-opacity=\"1\" /><path clip-path=\"url(#clip260)\" d=\"M91.0903 304.934 Q87.4792 304.934 85.6505 308.499 Q83.845 312.041 83.845 319.17 Q83.845 326.277 85.6505 329.841 Q87.4792 333.383 91.0903 333.383 Q94.7245 333.383 96.5301 329.841 Q98.3588 326.277 98.3588 319.17 Q98.3588 312.041 96.5301 308.499 Q94.7245 304.934 91.0903 304.934 M91.0903 301.231 Q96.9004 301.231 99.956 305.837 Q103.035 310.42 103.035 319.17 Q103.035 327.897 99.956 332.503 Q96.9004 337.087 91.0903 337.087 Q85.2801 337.087 82.2014 332.503 Q79.1459 327.897 79.1459 319.17 Q79.1459 310.42 82.2014 305.837 Q85.2801 301.231 91.0903 301.231 Z\" fill=\"#000000\" fill-rule=\"evenodd\" fill-opacity=\"1\" /><path clip-path=\"url(#clip260)\" d=\"M103.035 295.332 L127.146 295.332 L127.146 298.529 L103.035 298.529 L103.035 295.332 Z\" fill=\"#000000\" fill-rule=\"evenodd\" fill-opacity=\"1\" /><path clip-path=\"url(#clip260)\" d=\"M143.471 283.427 Q140.537 283.427 139.052 286.323 Q137.585 289.201 137.585 294.993 Q137.585 300.767 139.052 303.664 Q140.537 306.541 143.471 306.541 Q146.424 306.541 147.891 303.664 Q149.377 300.767 149.377 294.993 Q149.377 289.201 147.891 286.323 Q146.424 283.427 143.471 283.427 M143.471 280.417 Q148.192 280.417 150.675 284.16 Q153.176 287.884 153.176 294.993 Q153.176 302.084 150.675 305.827 Q148.192 309.551 143.471 309.551 Q138.751 309.551 136.249 305.827 Q133.767 302.084 133.767 294.993 Q133.767 287.884 136.249 284.16 Q138.751 280.417 143.471 280.417 Z\" fill=\"#000000\" fill-rule=\"evenodd\" fill-opacity=\"1\" /><path clip-path=\"url(#clip260)\" d=\"M159.853 304.228 L163.821 304.228 L163.821 309.005 L159.853 309.005 L159.853 304.228 Z\" fill=\"#000000\" fill-rule=\"evenodd\" fill-opacity=\"1\" /><path clip-path=\"url(#clip260)\" d=\"M171.138 280.925 L189.193 280.925 L189.193 282.543 L178.999 309.005 L175.031 309.005 L184.623 284.122 L171.138 284.122 L171.138 280.925 Z\" fill=\"#000000\" fill-rule=\"evenodd\" fill-opacity=\"1\" /><path clip-path=\"url(#clip260)\" d=\"M204.728 295.67 Q202.02 295.67 200.459 297.119 Q198.917 298.567 198.917 301.106 Q198.917 303.645 200.459 305.093 Q202.02 306.541 204.728 306.541 Q207.437 306.541 208.998 305.093 Q210.559 303.626 210.559 301.106 Q210.559 298.567 208.998 297.119 Q207.455 295.67 204.728 295.67 M200.929 294.053 Q198.484 293.451 197.111 291.777 Q195.757 290.103 195.757 287.696 Q195.757 284.329 198.146 282.373 Q200.553 280.417 204.728 280.417 Q208.922 280.417 211.311 282.373 Q213.7 284.329 213.7 287.696 Q213.7 290.103 212.327 291.777 Q210.972 293.451 208.546 294.053 Q211.292 294.692 212.816 296.554 Q214.358 298.416 214.358 301.106 Q214.358 305.187 211.856 307.369 Q209.374 309.551 204.728 309.551 Q200.083 309.551 197.581 307.369 Q195.099 305.187 195.099 301.106 Q195.099 298.416 196.641 296.554 Q198.183 294.692 200.929 294.053 M199.537 288.053 Q199.537 290.235 200.891 291.457 Q202.264 292.68 204.728 292.68 Q207.173 292.68 208.546 291.457 Q209.938 290.235 209.938 288.053 Q209.938 285.872 208.546 284.649 Q207.173 283.427 204.728 283.427 Q202.264 283.427 200.891 284.649 Q199.537 285.872 199.537 288.053 Z\" fill=\"#000000\" fill-rule=\"evenodd\" fill-opacity=\"1\" /><polyline clip-path=\"url(#clip262)\" style=\"stroke:#009af9; stroke-linecap:round; stroke-linejoin:round; stroke-width:4; stroke-opacity:1; fill:none\" points=\"\n",
       "  309.86,1445.72 414.249,218.408 518.638,101.073 623.027,89.297 727.416,88.1095 831.806,87.9897 936.195,87.9776 1040.58,87.9764 1144.97,87.9763 1249.36,87.9763 \n",
       "  1353.75,87.9763 1458.14,87.9763 1562.53,87.9763 1666.92,87.9763 1771.31,87.9763 1875.7,87.9763 1980.09,87.9763 2084.48,87.9763 2188.86,87.9763 2293.25,87.9763 \n",
       "  \n",
       "  \"/>\n",
       "<path clip-path=\"url(#clip260)\" d=\"\n",
       "M1996.65 198.898 L2282.68 198.898 L2282.68 95.2176 L1996.65 95.2176  Z\n",
       "  \" fill=\"#ffffff\" fill-rule=\"evenodd\" fill-opacity=\"1\"/>\n",
       "<polyline clip-path=\"url(#clip260)\" style=\"stroke:#000000; stroke-linecap:round; stroke-linejoin:round; stroke-width:4; stroke-opacity:1; fill:none\" points=\"\n",
       "  1996.65,198.898 2282.68,198.898 2282.68,95.2176 1996.65,95.2176 1996.65,198.898 \n",
       "  \"/>\n",
       "<polyline clip-path=\"url(#clip260)\" style=\"stroke:#009af9; stroke-linecap:round; stroke-linejoin:round; stroke-width:4; stroke-opacity:1; fill:none\" points=\"\n",
       "  2020.01,147.058 2160.17,147.058 \n",
       "  \"/>\n",
       "<path clip-path=\"url(#clip260)\" d=\"M2197.37 166.745 Q2195.56 171.375 2193.85 172.787 Q2192.14 174.199 2189.27 174.199 L2185.86 174.199 L2185.86 170.634 L2188.36 170.634 Q2190.12 170.634 2191.1 169.8 Q2192.07 168.967 2193.25 165.865 L2194.01 163.921 L2183.53 138.412 L2188.04 138.412 L2196.14 158.689 L2204.24 138.412 L2208.76 138.412 L2197.37 166.745 Z\" fill=\"#000000\" fill-rule=\"evenodd\" fill-opacity=\"1\" /><path clip-path=\"url(#clip260)\" d=\"M2216.05 160.402 L2223.69 160.402 L2223.69 134.037 L2215.38 135.703 L2215.38 131.444 L2223.64 129.778 L2228.32 129.778 L2228.32 160.402 L2235.96 160.402 L2235.96 164.338 L2216.05 164.338 L2216.05 160.402 Z\" fill=\"#000000\" fill-rule=\"evenodd\" fill-opacity=\"1\" /></svg>\n"
      ]
     },
     "execution_count": 84,
     "metadata": {},
     "output_type": "execute_result"
    }
   ],
   "source": [
    "using Plots\n",
    "x = 2\n",
    "xk = zeros(21)\n",
    "xk[1] = x\n",
    "for k in 2:21\n",
    "    xk[k] = sqrt(2 + sqrt(xk[k-1]))\n",
    "end\n",
    "plot(abs.(xk[2:21] .- x), yaxis=:log)"
   ]
  },
  {
   "cell_type": "markdown",
   "id": "f42c6f36",
   "metadata": {},
   "source": [
    "# PS.5 (diagonally dominant)\n",
    "\n",
    "Consider the matrices\n",
    "\\begin{equation*}\n",
    "A_1 =\\begin{pmatrix}\n",
    "2&0&1\\\\\n",
    "1&2&0\\\\\n",
    "0&1&2\n",
    "\\end{pmatrix},\n",
    " \\qquad \n",
    " A_2 =\\begin{pmatrix}\n",
    "2&0&1\\\\\n",
    "1&1&0\\\\\n",
    "0&1&1\n",
    "\\end{pmatrix},\n",
    "\\qquad A_3 =\\begin{pmatrix}\n",
    "1&0&1\\\\\n",
    "1&1&0\\\\\n",
    "0&1&1\n",
    "\\end{pmatrix}.\n",
    "\\end{equation*}\n",
    "\n",
    "a) Which of these $3$ matrices is strictly diagonally dominant?\n",
    "Strict diagonal dominance is defined as $|a_{ii} \\gt \\sum_{j \\neq i}{|a_{ij}|} \\forall i$. Therefore only $A_1$ is strictly diagonally dominant.\n",
    "\n",
    "b) Investigate the convergence of Jacobi's method with respect to $A_1$, $A_2$, and $A_3$ and the right-hand-side $b=(0,0,0)^\\top$ and \n",
    "the initial vector $x^{(0)}=(1,1,1)^\\top$ by explicitly computing and simplifying the recursion. \n"
   ]
  },
  {
   "cell_type": "markdown",
   "id": "16ec2d67",
   "metadata": {},
   "source": [
    "For $A_1$\n",
    "\\begin{align*}\n",
    "x_1^{(k + 1)} &= \\frac{1}{2}\\left(0 - 0*x_2^{(k)} - 1*x_3^{(k)}\\right) = \\frac{-x_3^{(k)}}{2} \\\\\n",
    "\\\\\n",
    "x_2^{(k + 1)} &= \\frac{1}{2}\\left(0 - 1*x_1^{(k)} - 0*x_3^{(k)}\\right) = \\frac{-x_1^{(k)}}{2} \\\\\n",
    "\\\\\n",
    "x_3^{(k + 1)} &= \\frac{1}{2}\\left(0 - 0*x_1^{(k)} - 1*x_2^{(k)}\\right) = \\frac{-x_2^{(k)}}{2} \\\\\n",
    "\\\\\n",
    "\\Rightarrow x^{(k + 1)} &= -\\frac{1}{2}Px^{(k)}\n",
    "\\end{align*}\n",
    "\n",
    "For $A_2$\n",
    "\\begin{align*}\n",
    "x_1^{(k + 1)} &= \\frac{1}{2}\\left(0 - 0*x_2^{(k)} - 1*x_3^{(k)}\\right) = \\frac{-x_3^{(k)}}{2} \\\\\n",
    "\\\\\n",
    "x_2^{(k + 1)} &= 0 - 1*x_1^{(k)} - 0*x_3^{(k)} = -x_1^{(k)} \\\\\n",
    "\\\\\n",
    "x_3^{(k + 1)} &= 0 - 0*x_1^{(k)} - 1*x_2^{(k)} = -x_2^{(k)} \\\\\n",
    "\\\\\n",
    "\\Rightarrow x^{(k + 1)} &= -1(\\frac{1}{2},1,1)Px^{(k)}\n",
    "\\end{align*}\n",
    "\n",
    "For $A_3$\n",
    "\\begin{align*}\n",
    "x_1^{(k + 1)} &= 0 - 0*x_2^{(k)} - 1*x_3^{(k)} = -x_3^{(k)} \\\\\n",
    "\\\\\n",
    "x_2^{(k + 1)} &= 0 - 1*x_1^{(k)} - 0*x_3^{(k)} = -x_1^{(k)} \\\\\n",
    "\\\\\n",
    "x_3^{(k + 1)} &= 0 - 0*x_1^{(k)} - 1*x_2^{(k)} = -x_2^{(k)} \\\\\n",
    "\\\\\n",
    "\\Rightarrow x^{(k + 1)} &= -1Px^{(k)}\n",
    "\\end{align*}\n",
    "\n",
    "with $$P = \\begin{pmatrix} 0&0&1\\\\ 1&0&0\\\\ 0&1&0 \\end{pmatrix}$$\n",
    "\n",
    "The three iterative schemes only differ by a scalar factor. Since all entries of $x$ for matrix $A_1$ are halfed each iteration I assume this will converge the fastest followed by the iterative scheme in $A_2$ and lastly $A_3$ which will not converge because we just flip the sign of $x$ each iteration."
   ]
  },
  {
   "cell_type": "code",
   "execution_count": 48,
   "id": "55a843dc",
   "metadata": {},
   "outputs": [
    {
     "name": "stdout",
     "output_type": "stream",
     "text": [
      "([-1.9073486328125e-6, -1.9073486328125e-6, -1.9073486328125e-6], 20)\n",
      "2.5-2.01.5-1.251.0-0.750.625-0.50.375-0.31250.25-0.18750.15625-0.1250.09375-0.0781250.0625-0.0468750.0390625-0.031250.0234375-0.019531250.015625-0.011718750.009765625-0.00781250.005859375-0.00488281250.00390625-0.00292968750.00244140625-0.0019531250.00146484375-0.0012207031250.0009765625-0.0007324218750.0006103515625-0.000488281250.0003662109375-0.000305175781250.000244140625-0.000183105468750.000152587890625-0.00012207031259.1552734375e-5-7.62939453125e-56.103515625e-5-4.57763671875e-53.814697265625e-5-3.0517578125e-52.288818359375e-5-1.9073486328125e-51.52587890625e-5-1.1444091796875e-59.5367431640625e-6-7.62939453125e-65.7220458984375e-6([-1.9073486328125e-6, -1.9073486328125e-6, -1.9073486328125e-6], 58)\n",
      "([1, 1, 1], 1000)\n"
     ]
    }
   ],
   "source": [
    "function jacobiA1(A, x0, b, maxiter = 1000, tol = 1e-5)\n",
    "    x = copy(x0)\n",
    "    P = [0 0 1; 1 0 0; 0 1 0]\n",
    "    for k in 1:maxiter\n",
    "        if norm(A*x-b)<tol return x, k end\n",
    "        x = -1/2 * P * x\n",
    "    end\n",
    "    return x, k\n",
    "end\n",
    "  \n",
    "function jacobiA2(A, x0, b, maxiter = 1000, tol = 1e-5)\n",
    "    x = copy(x0)\n",
    "    P = [0 0 1; 1 0 0; 0 1 0]\n",
    "    w = [1/2, 1, 1]\n",
    "    for k in 1:maxiter\n",
    "        if norm(A*x-b)<tol return x, k end\n",
    "        print(w' * P * x)\n",
    "        x = -1 * P * x .* w\n",
    "    end\n",
    "    return x, k\n",
    "end\n",
    "\n",
    "function jacobiA3(A, x0, b, maxiter = 1000, tol = 1e-5)\n",
    "    x = copy(x0)\n",
    "    P = [0 0 1; 1 0 0; 0 1 0]\n",
    "    for k in 1:maxiter\n",
    "        if norm(A*x-b)<tol return x, k end\n",
    "        x = -1 * P * x\n",
    "    end\n",
    "    return x, maxiter\n",
    "end\n",
    "\n",
    "A1 = [2 0 1; 1 2 0; 0 1 2]\n",
    "A2 = [2 0 1; 1 1 0; 0 1 1]\n",
    "A3 = [1 0 1; 1 1 0; 0 1 1]\n",
    "x = [1, 1, 1]\n",
    "b = [0, 0, 0]\n",
    "println(jacobiA1(A1, x, b))\n",
    "println(jacobiA2(A2, x, b))\n",
    "println(jacobiA3(A3, x, b))"
   ]
  },
  {
   "cell_type": "markdown",
   "id": "4f2d1d4d",
   "metadata": {},
   "source": [
    "# PS.5 (iterative schemes)\n",
    "\n",
    "**Jacobi:**\n",
    "\\begin{align}\n",
    "x^{(k+1)}_i &= \\frac{1}{a_{i,i}} \\left( b_i-\\sum_{j\\neq i}a_{i,j}x^{(k)}_j \\right),\\quad i=1,\\ldots,n,\\\\\n",
    "& = \\frac{1}{a_{i,i}} \\left( b_i-\\sum_{j=1}^n a_{i,j}x^{(k)}_j\\right)+x^{(k)}_i\n",
    "\\end{align}\n",
    "\n",
    "**Gauss-Seidel:**\n",
    "\\begin{equation}\n",
    "x^{(k+1)}_i = \\frac{1}{a_{i,i}} \\left( b_i-\\sum_{j=1}^{i-1}a_{i,j}x^{(k+1)}_j  - \\sum_{j=i+1}^n a_{i,j}x^{(k)}_j\\right),\\quad i=1,\\ldots,n,\n",
    "\\end{equation}\n",
    "\n",
    "a) Implement both schemes in julia as myJacobi2 and myGaussSeidel2 in-situ, i.e., without keeping all the iterates."
   ]
  },
  {
   "cell_type": "code",
   "execution_count": 1,
   "id": "2ac07fb9",
   "metadata": {},
   "outputs": [
    {
     "data": {
      "text/plain": [
       "myJacobi2 (generic function with 1 method)"
      ]
     },
     "execution_count": 1,
     "metadata": {},
     "output_type": "execute_result"
    }
   ],
   "source": [
    "using LinearAlgebra\n",
    "function myJacobi(A, b, x0; tol=1e-5, maxiter=550)      # keep all iterates\n",
    "    n = size(A,1)\n",
    "    x = Array{Float64,2}(undef, n, maxiter)\n",
    "    x[:,1] .= x0\n",
    "    for k in 1:maxiter-1\n",
    "        if norm(A*x[:,k]-b)<tol return x[:,1:k] end\n",
    "        for i in 1:n\n",
    "            x[i,k+1] = (b[i]-A[i,:]'*x[:,k])/A[i,i]+x[i,k]\n",
    "        end\n",
    "    end\n",
    "    return x    \n",
    "end\n",
    "\n",
    "function myJacobi2(A, b, x0; tol=1e-5, maxiter=150)    \n",
    "    n = size(A,1)\n",
    "    x_old = copy(x0)\n",
    "    x_new = copy(x_old) \n",
    "    for k in 1:maxiter - 1\n",
    "        if norm(A*x_new-b)<tol return x_new end\n",
    "        for i in 1:n\n",
    "            s = 0\n",
    "            for j in 1:n\n",
    "                if j != i s += A[i, j] * x_old[j] end\n",
    "            end\n",
    "            x_new[i] = 1/A[i, i] * (b[i] - s) \n",
    "        end\n",
    "        x_old .= x_new\n",
    "    end\n",
    "    return x_new    \n",
    "end"
   ]
  },
  {
   "cell_type": "code",
   "execution_count": 2,
   "id": "386a96f5",
   "metadata": {},
   "outputs": [
    {
     "data": {
      "text/plain": [
       "myGaussSeidel2 (generic function with 1 method)"
      ]
     },
     "execution_count": 2,
     "metadata": {},
     "output_type": "execute_result"
    }
   ],
   "source": [
    "function myGaussSeidel(A, b, x0; tol=1e-5, maxiter=550)\n",
    "    n = size(A,1)\n",
    "    x = Array{Float64,2}(undef, n, maxiter)\n",
    "    x[:,1] .= x0\n",
    "    for k in 1:maxiter-1\n",
    "        if norm(A*x[:,k]-b)<tol return x[:,1:k] end\n",
    "        for i in 1:n\n",
    "            x[i,k+1] = (b[i]-A[i,1:i-1]'*x[1:i-1,k+1]-A[i,i+1:end]'*x[i+1:end,k])/A[i,i]\n",
    "        end\n",
    "    end\n",
    "    return x    \n",
    "end\n",
    "\n",
    "function myGaussSeidel2(A, b, x0; tol=1e-5, maxiter=150)\n",
    "    n = size(A,1)\n",
    "    x = copy(x0)\n",
    "    for k in 1:maxiter\n",
    "        if norm(A*x-b)<tol return x end\n",
    "        for i in 1:n\n",
    "            x[i] = 1/A[i, i] * (b[i] - sum(A[i, j] * x[j] for j in 1:(i-1); init = 0) - sum(A[i, j] * x[j] for j in (i+1):n; init = 0))\n",
    "        end\n",
    "    end\n",
    "    return x    \n",
    "end"
   ]
  },
  {
   "cell_type": "markdown",
   "id": "e00dc9fc",
   "metadata": {},
   "source": [
    "b) Observe the rule of thumb: Gauss-Seidel requires fewer iterations than Jacobi's method."
   ]
  },
  {
   "cell_type": "code",
   "execution_count": 20,
   "id": "2d2ef6c0",
   "metadata": {},
   "outputs": [
    {
     "name": "stdout",
     "output_type": "stream",
     "text": [
      "size(X1, 2) = 58\n",
      "size(X2, 2) = 12\n",
      "norm(A * X1[:, end] - b) = 9.80714022466922e-9\n",
      "norm(A * X2[:, end] - b) = 2.472469004033459e-9\n",
      "size(X1, 2) = 60\n",
      "size(X2, 2) = 12\n",
      "norm(A * X1[:, end] - b) = 8.299678540982558e-9\n",
      "norm(A * X2[:, end] - b) = 5.408787198271763e-9\n",
      "size(X1, 2) = 60\n",
      "size(X2, 2) = 12\n",
      "norm(A * X1[:, end] - b) = 9.249819615541746e-9\n",
      "norm(A * X2[:, end] - b) = 3.1505930599026917e-9\n",
      "size(X1, 2) = 64\n",
      "size(X2, 2) = 12\n",
      "norm(A * X1[:, end] - b) = 8.71889735880181e-9\n",
      "norm(A * X2[:, end] - b) = 6.6557482910170164e-9\n",
      "size(X1, 2) = 61\n",
      "size(X2, 2) = 11\n",
      "norm(A * X1[:, end] - b) = 9.992529741951353e-9\n",
      "norm(A * X2[:, end] - b) = 7.129422542085052e-9\n",
      "size(X1, 2) = 51\n",
      "size(X2, 2) = 12\n",
      "norm(A * X1[:, end] - b) = 8.318729197339137e-9\n",
      "norm(A * X2[:, end] - b) = 5.9592645028024405e-9\n",
      "size(X1, 2) = 58\n",
      "size(X2, 2) = 12\n",
      "norm(A * X1[:, end] - b) = 8.20489581706947e-9\n",
      "norm(A * X2[:, end] - b) = 2.4829491639177304e-9\n",
      "size(X1, 2) = 64\n",
      "size(X2, 2) = 12\n",
      "norm(A * X1[:, end] - b) = 7.932628962586746e-9\n",
      "norm(A * X2[:, end] - b) = 3.8588226628799074e-9\n",
      "size(X1, 2) = 58\n",
      "size(X2, 2) = 12\n",
      "norm(A * X1[:, end] - b) = 8.942270282503797e-9\n",
      "norm(A * X2[:, end] - b) = 3.6853487997580947e-9\n",
      "size(X1, 2) = 64\n",
      "size(X2, 2) = 12\n",
      "norm(A * X1[:, end] - b) = 9.16111206376314e-9\n",
      "norm(A * X2[:, end] - b) = 6.5615098204763246e-9\n"
     ]
    }
   ],
   "source": [
    "for k in 1:10\n",
    "    n = 100\n",
    "    A = rand(n,n)+2/3*n*I\n",
    "    b = randn(n)\n",
    "    x0 = zeros(n)\n",
    "    X1 = myJacobi(A, b, x0;tol = 1e-8)\n",
    "    X2 = myGaussSeidel(A, b, x0;tol = 1e-8)\n",
    "    @show size(X1,2)\n",
    "    @show size(X2,2)\n",
    "    @show norm(A*X1[:,end]-b)\n",
    "    @show norm(A*X2[:,end]-b);\n",
    "end"
   ]
  },
  {
   "cell_type": "markdown",
   "id": "2a647ff6",
   "metadata": {},
   "source": [
    "c) Observe that the simple parallel version of Jacobi's method is indeed faster. (Before starting julia (or jupyter) type in the terminal: \n",
    "\n",
    "\"export JULIA_NUM_THREADS=8\" \n",
    "\n",
    "(or whatever number of cores your processor provides, 2 or 4,...))"
   ]
  },
  {
   "cell_type": "code",
   "execution_count": 3,
   "id": "ee305e8f",
   "metadata": {},
   "outputs": [
    {
     "data": {
      "text/plain": [
       "8"
      ]
     },
     "execution_count": 3,
     "metadata": {},
     "output_type": "execute_result"
    }
   ],
   "source": [
    "Threads.nthreads()"
   ]
  },
  {
   "cell_type": "code",
   "execution_count": 9,
   "id": "c5dbd238",
   "metadata": {
    "tags": []
   },
   "outputs": [
    {
     "data": {
      "text/plain": [
       "myJacobiParallel2 (generic function with 1 method)"
      ]
     },
     "execution_count": 9,
     "metadata": {},
     "output_type": "execute_result"
    }
   ],
   "source": [
    "function myJacobiParallel(A, b, x0; tol=1e-5, maxiter=50)\n",
    "    d = size(A,1)\n",
    "    x = Array{Float64,2}(undef, d, maxiter)\n",
    "    x[:,1] = copy(x0)\n",
    "    for k in 1:maxiter\n",
    "        if norm(A*x[:,k]-b)<tol return x[:,1:k] end\n",
    "        Threads.@threads for i = 1:d \n",
    "            x[i,k+1] = (b[i]-A[i,:]'*x[:,k])/A[i,i]+x[i,k]\n",
    "        end\n",
    "    end\n",
    "    return x    \n",
    "end\n",
    "\n",
    "function myJacobiParallel2(A, b, x0; tol=1e-5, maxiter=50)    \n",
    "    n = size(A,1)\n",
    "    x_old = copy(x0)\n",
    "    x_new = copy(x_old) \n",
    "    for k in 1:maxiter - 1\n",
    "        if norm(A*x_new-b)<tol return x_new end\n",
    "        Threads.@threads for i in 1:n\n",
    "            s = 0\n",
    "            for j in 1:n\n",
    "                if j != i s += A[i, j] * x_old[j] end\n",
    "            end\n",
    "            x_new[i] = 1/A[i, i] * (b[i] - s) \n",
    "        end\n",
    "        x_old .= x_new\n",
    "    end\n",
    "    return x_new    \n",
    "end"
   ]
  },
  {
   "cell_type": "code",
   "execution_count": 12,
   "id": "093d6c4d",
   "metadata": {
    "tags": []
   },
   "outputs": [
    {
     "name": "stdout",
     "output_type": "stream",
     "text": [
      "elapsed time quotient:  parallel / sequential\n",
      "0.30725102224786666\n"
     ]
    },
    {
     "data": {
      "text/plain": [
       "0.45651017694082113"
      ]
     },
     "execution_count": 12,
     "metadata": {},
     "output_type": "execute_result"
    }
   ],
   "source": [
    "function testParallel()\n",
    "    n = 1500\n",
    "    x₀ = zeros(n)\n",
    "    A = rand(n,n)/n\n",
    "    A .= A+I\n",
    "    b = randn(n)\n",
    "    println(\"elapsed time quotient:  parallel / sequential\")\n",
    "    println(@elapsed[myJacobiParallel(A,b,x₀)]/@elapsed[myJacobi(A,b,x₀)])    # parallelized/sequential \n",
    "    @elapsed[myJacobiParallel2(A,b,x₀)]/@elapsed[myJacobi2(A,b,x₀)]     # parallelized/sequential \n",
    "end\n",
    "\n",
    "testParallel()"
   ]
  },
  {
   "cell_type": "code",
   "execution_count": null,
   "id": "187436ca",
   "metadata": {},
   "outputs": [],
   "source": []
  }
 ],
 "metadata": {
  "authors": [
   {
    "name": "Numerical Analysis 2022"
   }
  ],
  "kernelspec": {
   "display_name": "Julia 1.8.2",
   "language": "julia",
   "name": "julia-1.8"
  },
  "language_info": {
   "file_extension": ".jl",
   "mimetype": "application/julia",
   "name": "julia",
   "version": "1.8.2"
  },
  "title": "Exercise sheet 5",
  "toc-autonumbering": true,
  "widgets": {
   "application/vnd.jupyter.widget-state+json": {
    "state": {},
    "version_major": 2,
    "version_minor": 0
   }
  }
 },
 "nbformat": 4,
 "nbformat_minor": 5
}
