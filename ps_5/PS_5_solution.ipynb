{
 "cells": [
  {
   "cell_type": "markdown",
   "id": "b3b5fbd8-bbdc-414e-9ae4-e3581c3d3cb0",
   "metadata": {},
   "source": [
    "# PS.5 (Banach's Fixed Point Theorem)\n",
    "\n",
    "Given $\\Phi:[0,1]\\rightarrow \\mathbb{R}$ with $\\Phi(x)=\\frac{1}{3}x^2+\\frac{1}{2}$, consider the iterative scheme \n",
    "\n",
    "$$\n",
    "x_{k+1}:=\\Phi(x_k).\n",
    "$$\n",
    "\n",
    "Prove that the sequence $(x_k)_{k\\in\\mathbb{N}}$ linearly converges for all $x_0\\in[0,1]$."
   ]
  },
  {
   "cell_type": "markdown",
   "id": "6ea9838a-d71f-4166-b4d7-f626b16d3fba",
   "metadata": {},
   "source": [
    "## Solution\n",
    "\n",
    "We first notice that $\\Phi:[0,1]\\rightarrow [0,1]$. The derivative satisfies $|\\Phi'(x)|=\\frac{2}{3}|x|\\leq \\frac{2}{3}<1$, for all $x\\in [0,1]$. Lemma 7.1.7 concludes the proof."
   ]
  },
  {
   "cell_type": "markdown",
   "id": "2a10842c-0724-4b1c-bb69-9b65ec95ce93",
   "metadata": {},
   "source": [
    "# PS.5 (Banach's Fixed Point Theorem)\n",
    "\n",
    "Consider the informal expression \n",
    "\n",
    "\\begin{equation*}\n",
    "x = \\sqrt{2+\\sqrt{2+\\sqrt{2+\\sqrt{\\ldots}}}}\n",
    "\\end{equation*}\n",
    "\n",
    "\n",
    "\n",
    "a) Rewrite the above expression as an iterative scheme $x_{k+1}=...$. \n",
    "\n",
    "b) What is the value of $x$ and what are the convergence properties of the iterative scheme?\n",
    "\n",
    "c) Illustrate the convergence order numerically in julia by plotting $|x_k-x|$ in a logarithmic scale for $k=1,\\ldots,20$."
   ]
  },
  {
   "cell_type": "markdown",
   "id": "1b451bcf-278f-463e-b784-ab41e66d600d",
   "metadata": {},
   "source": [
    "## Solution\n",
    "\n",
    "a) For $f(x)=\\sqrt{2+x}$, the above expression is the limit of \n",
    "\n",
    "$$ x_{k+1} = f(x_k). $$\n",
    "\n",
    "b) We consider $f:[0,2]\\rightarrow \\mathbb{R}$ and observe $f'(x) = \\frac{1}{2\\sqrt{2+x}}\\geq 0$. Thus, $f$ is monotonically increasing and $f(0)=\\sqrt{2}$ and $f(2)=2$ imply\n",
    "\n",
    "$$ f:[0,2]\\rightarrow [0,2].$$\n",
    "\n",
    "According to $\\|f'\\|_{[0,2]}\\leq \\frac{1}{2\\sqrt{2}}<1$, Lemma 7.1.7 and Banach's Fix Point Theorem ensures linear convergence of $x_k\\rightarrow x=f(x)$. The latter implies\n",
    "\n",
    "$$ x^2 = 2+x$$\n",
    "\n",
    "Since $x$ must be positive, we obtain $x=\\frac{1}{2}+\\sqrt{\\frac{1}{4}+2} = 2$."
   ]
  },
  {
   "cell_type": "code",
   "execution_count": 1,
   "id": "694bc038-d9c3-49a1-b9ec-9a6c1144cf6e",
   "metadata": {},
   "outputs": [
    {
     "data": {
      "image/svg+xml": [
       "<?xml version=\"1.0\" encoding=\"utf-8\"?>\n",
       "<svg xmlns=\"http://www.w3.org/2000/svg\" xmlns:xlink=\"http://www.w3.org/1999/xlink\" width=\"600\" height=\"400\" viewBox=\"0 0 2400 1600\">\n",
       "<defs>\n",
       "  <clipPath id=\"clip650\">\n",
       "    <rect x=\"0\" y=\"0\" width=\"2400\" height=\"1600\"/>\n",
       "  </clipPath>\n",
       "</defs>\n",
       "<path clip-path=\"url(#clip650)\" d=\"\n",
       "M0 1600 L2400 1600 L2400 0 L0 0  Z\n",
       "  \" fill=\"#ffffff\" fill-rule=\"evenodd\" fill-opacity=\"1\"/>\n",
       "<defs>\n",
       "  <clipPath id=\"clip651\">\n",
       "    <rect x=\"480\" y=\"0\" width=\"1681\" height=\"1600\"/>\n",
       "  </clipPath>\n",
       "</defs>\n",
       "<path clip-path=\"url(#clip650)\" d=\"\n",
       "M213.607 1486.45 L2352.76 1486.45 L2352.76 47.2441 L213.607 47.2441  Z\n",
       "  \" fill=\"#ffffff\" fill-rule=\"evenodd\" fill-opacity=\"1\"/>\n",
       "<defs>\n",
       "  <clipPath id=\"clip652\">\n",
       "    <rect x=\"213\" y=\"47\" width=\"2140\" height=\"1440\"/>\n",
       "  </clipPath>\n",
       "</defs>\n",
       "<polyline clip-path=\"url(#clip652)\" style=\"stroke:#000000; stroke-linecap:round; stroke-linejoin:round; stroke-width:2; stroke-opacity:0.1; fill:none\" points=\"\n",
       "  699.005,1486.45 699.005,47.2441 \n",
       "  \"/>\n",
       "<polyline clip-path=\"url(#clip652)\" style=\"stroke:#000000; stroke-linecap:round; stroke-linejoin:round; stroke-width:2; stroke-opacity:0.1; fill:none\" points=\"\n",
       "  1230.07,1486.45 1230.07,47.2441 \n",
       "  \"/>\n",
       "<polyline clip-path=\"url(#clip652)\" style=\"stroke:#000000; stroke-linecap:round; stroke-linejoin:round; stroke-width:2; stroke-opacity:0.1; fill:none\" points=\"\n",
       "  1761.14,1486.45 1761.14,47.2441 \n",
       "  \"/>\n",
       "<polyline clip-path=\"url(#clip652)\" style=\"stroke:#000000; stroke-linecap:round; stroke-linejoin:round; stroke-width:2; stroke-opacity:0.1; fill:none\" points=\"\n",
       "  2292.21,1486.45 2292.21,47.2441 \n",
       "  \"/>\n",
       "<polyline clip-path=\"url(#clip650)\" style=\"stroke:#000000; stroke-linecap:round; stroke-linejoin:round; stroke-width:4; stroke-opacity:1; fill:none\" points=\"\n",
       "  213.607,1486.45 2352.76,1486.45 \n",
       "  \"/>\n",
       "<polyline clip-path=\"url(#clip650)\" style=\"stroke:#000000; stroke-linecap:round; stroke-linejoin:round; stroke-width:4; stroke-opacity:1; fill:none\" points=\"\n",
       "  699.005,1486.45 699.005,1467.55 \n",
       "  \"/>\n",
       "<polyline clip-path=\"url(#clip650)\" style=\"stroke:#000000; stroke-linecap:round; stroke-linejoin:round; stroke-width:4; stroke-opacity:1; fill:none\" points=\"\n",
       "  1230.07,1486.45 1230.07,1467.55 \n",
       "  \"/>\n",
       "<polyline clip-path=\"url(#clip650)\" style=\"stroke:#000000; stroke-linecap:round; stroke-linejoin:round; stroke-width:4; stroke-opacity:1; fill:none\" points=\"\n",
       "  1761.14,1486.45 1761.14,1467.55 \n",
       "  \"/>\n",
       "<polyline clip-path=\"url(#clip650)\" style=\"stroke:#000000; stroke-linecap:round; stroke-linejoin:round; stroke-width:4; stroke-opacity:1; fill:none\" points=\"\n",
       "  2292.21,1486.45 2292.21,1467.55 \n",
       "  \"/>\n",
       "<path clip-path=\"url(#clip650)\" d=\"M689.283 1514.29 L707.639 1514.29 L707.639 1518.22 L693.565 1518.22 L693.565 1526.7 Q694.584 1526.35 695.602 1526.19 Q696.621 1526 697.639 1526 Q703.426 1526 706.806 1529.17 Q710.186 1532.34 710.186 1537.76 Q710.186 1543.34 706.713 1546.44 Q703.241 1549.52 696.922 1549.52 Q694.746 1549.52 692.477 1549.15 Q690.232 1548.78 687.825 1548.04 L687.825 1543.34 Q689.908 1544.47 692.13 1545.03 Q694.352 1545.58 696.829 1545.58 Q700.834 1545.58 703.172 1543.48 Q705.51 1541.37 705.51 1537.76 Q705.51 1534.15 703.172 1532.04 Q700.834 1529.94 696.829 1529.94 Q694.954 1529.94 693.079 1530.35 Q691.227 1530.77 689.283 1531.65 L689.283 1514.29 Z\" fill=\"#000000\" fill-rule=\"evenodd\" fill-opacity=\"1\" /><path clip-path=\"url(#clip650)\" d=\"M1204.76 1544.91 L1212.4 1544.91 L1212.4 1518.55 L1204.09 1520.21 L1204.09 1515.95 L1212.35 1514.29 L1217.03 1514.29 L1217.03 1544.91 L1224.67 1544.91 L1224.67 1548.85 L1204.76 1548.85 L1204.76 1544.91 Z\" fill=\"#000000\" fill-rule=\"evenodd\" fill-opacity=\"1\" /><path clip-path=\"url(#clip650)\" d=\"M1244.11 1517.37 Q1240.5 1517.37 1238.67 1520.93 Q1236.87 1524.47 1236.87 1531.6 Q1236.87 1538.71 1238.67 1542.27 Q1240.5 1545.82 1244.11 1545.82 Q1247.75 1545.82 1249.55 1542.27 Q1251.38 1538.71 1251.38 1531.6 Q1251.38 1524.47 1249.55 1520.93 Q1247.75 1517.37 1244.11 1517.37 M1244.11 1513.66 Q1249.92 1513.66 1252.98 1518.27 Q1256.06 1522.85 1256.06 1531.6 Q1256.06 1540.33 1252.98 1544.94 Q1249.92 1549.52 1244.11 1549.52 Q1238.3 1549.52 1235.23 1544.94 Q1232.17 1540.33 1232.17 1531.6 Q1232.17 1522.85 1235.23 1518.27 Q1238.3 1513.66 1244.11 1513.66 Z\" fill=\"#000000\" fill-rule=\"evenodd\" fill-opacity=\"1\" /><path clip-path=\"url(#clip650)\" d=\"M1736.33 1544.91 L1743.97 1544.91 L1743.97 1518.55 L1735.66 1520.21 L1735.66 1515.95 L1743.92 1514.29 L1748.6 1514.29 L1748.6 1544.91 L1756.24 1544.91 L1756.24 1548.85 L1736.33 1548.85 L1736.33 1544.91 Z\" fill=\"#000000\" fill-rule=\"evenodd\" fill-opacity=\"1\" /><path clip-path=\"url(#clip650)\" d=\"M1765.73 1514.29 L1784.08 1514.29 L1784.08 1518.22 L1770.01 1518.22 L1770.01 1526.7 Q1771.03 1526.35 1772.05 1526.19 Q1773.07 1526 1774.08 1526 Q1779.87 1526 1783.25 1529.17 Q1786.63 1532.34 1786.63 1537.76 Q1786.63 1543.34 1783.16 1546.44 Q1779.69 1549.52 1773.37 1549.52 Q1771.19 1549.52 1768.92 1549.15 Q1766.68 1548.78 1764.27 1548.04 L1764.27 1543.34 Q1766.35 1544.47 1768.57 1545.03 Q1770.8 1545.58 1773.27 1545.58 Q1777.28 1545.58 1779.62 1543.48 Q1781.95 1541.37 1781.95 1537.76 Q1781.95 1534.15 1779.62 1532.04 Q1777.28 1529.94 1773.27 1529.94 Q1771.4 1529.94 1769.52 1530.35 Q1767.67 1530.77 1765.73 1531.65 L1765.73 1514.29 Z\" fill=\"#000000\" fill-rule=\"evenodd\" fill-opacity=\"1\" /><path clip-path=\"url(#clip650)\" d=\"M2270.99 1544.91 L2287.31 1544.91 L2287.31 1548.85 L2265.36 1548.85 L2265.36 1544.91 Q2268.02 1542.16 2272.61 1537.53 Q2277.21 1532.88 2278.39 1531.53 Q2280.64 1529.01 2281.52 1527.27 Q2282.42 1525.51 2282.42 1523.82 Q2282.42 1521.07 2280.48 1519.33 Q2278.56 1517.6 2275.45 1517.6 Q2273.26 1517.6 2270.8 1518.36 Q2268.37 1519.13 2265.59 1520.68 L2265.59 1515.95 Q2268.42 1514.82 2270.87 1514.24 Q2273.33 1513.66 2275.36 1513.66 Q2280.73 1513.66 2283.93 1516.35 Q2287.12 1519.03 2287.12 1523.52 Q2287.12 1525.65 2286.31 1527.57 Q2285.52 1529.47 2283.42 1532.07 Q2282.84 1532.74 2279.74 1535.95 Q2276.64 1539.15 2270.99 1544.91 Z\" fill=\"#000000\" fill-rule=\"evenodd\" fill-opacity=\"1\" /><path clip-path=\"url(#clip650)\" d=\"M2307.12 1517.37 Q2303.51 1517.37 2301.68 1520.93 Q2299.88 1524.47 2299.88 1531.6 Q2299.88 1538.71 2301.68 1542.27 Q2303.51 1545.82 2307.12 1545.82 Q2310.76 1545.82 2312.56 1542.27 Q2314.39 1538.71 2314.39 1531.6 Q2314.39 1524.47 2312.56 1520.93 Q2310.76 1517.37 2307.12 1517.37 M2307.12 1513.66 Q2312.93 1513.66 2315.99 1518.27 Q2319.07 1522.85 2319.07 1531.6 Q2319.07 1540.33 2315.99 1544.94 Q2312.93 1549.52 2307.12 1549.52 Q2301.31 1549.52 2298.23 1544.94 Q2295.18 1540.33 2295.18 1531.6 Q2295.18 1522.85 2298.23 1518.27 Q2301.31 1513.66 2307.12 1513.66 Z\" fill=\"#000000\" fill-rule=\"evenodd\" fill-opacity=\"1\" /><polyline clip-path=\"url(#clip652)\" style=\"stroke:#000000; stroke-linecap:round; stroke-linejoin:round; stroke-width:2; stroke-opacity:0.1; fill:none\" points=\"\n",
       "  213.607,1249.61 2352.76,1249.61 \n",
       "  \"/>\n",
       "<polyline clip-path=\"url(#clip652)\" style=\"stroke:#000000; stroke-linecap:round; stroke-linejoin:round; stroke-width:2; stroke-opacity:0.1; fill:none\" points=\"\n",
       "  213.607,654.984 2352.76,654.984 \n",
       "  \"/>\n",
       "<polyline clip-path=\"url(#clip652)\" style=\"stroke:#000000; stroke-linecap:round; stroke-linejoin:round; stroke-width:2; stroke-opacity:0.1; fill:none\" points=\"\n",
       "  213.607,60.3544 2352.76,60.3544 \n",
       "  \"/>\n",
       "<polyline clip-path=\"url(#clip650)\" style=\"stroke:#000000; stroke-linecap:round; stroke-linejoin:round; stroke-width:4; stroke-opacity:1; fill:none\" points=\"\n",
       "  213.607,1486.45 213.607,47.2441 \n",
       "  \"/>\n",
       "<polyline clip-path=\"url(#clip650)\" style=\"stroke:#000000; stroke-linecap:round; stroke-linejoin:round; stroke-width:4; stroke-opacity:1; fill:none\" points=\"\n",
       "  213.607,1249.61 232.505,1249.61 \n",
       "  \"/>\n",
       "<polyline clip-path=\"url(#clip650)\" style=\"stroke:#000000; stroke-linecap:round; stroke-linejoin:round; stroke-width:4; stroke-opacity:1; fill:none\" points=\"\n",
       "  213.607,654.984 232.505,654.984 \n",
       "  \"/>\n",
       "<polyline clip-path=\"url(#clip650)\" style=\"stroke:#000000; stroke-linecap:round; stroke-linejoin:round; stroke-width:4; stroke-opacity:1; fill:none\" points=\"\n",
       "  213.607,60.3544 232.505,60.3544 \n",
       "  \"/>\n",
       "<path clip-path=\"url(#clip650)\" d=\"M51.6634 1269.41 L59.3023 1269.41 L59.3023 1243.04 L50.9921 1244.71 L50.9921 1240.45 L59.256 1238.78 L63.9319 1238.78 L63.9319 1269.41 L71.5707 1269.41 L71.5707 1273.34 L51.6634 1273.34 L51.6634 1269.41 Z\" fill=\"#000000\" fill-rule=\"evenodd\" fill-opacity=\"1\" /><path clip-path=\"url(#clip650)\" d=\"M91.0151 1241.86 Q87.404 1241.86 85.5753 1245.43 Q83.7697 1248.97 83.7697 1256.1 Q83.7697 1263.2 85.5753 1266.77 Q87.404 1270.31 91.0151 1270.31 Q94.6493 1270.31 96.4548 1266.77 Q98.2835 1263.2 98.2835 1256.1 Q98.2835 1248.97 96.4548 1245.43 Q94.6493 1241.86 91.0151 1241.86 M91.0151 1238.16 Q96.8252 1238.16 99.8808 1242.76 Q102.959 1247.35 102.959 1256.1 Q102.959 1264.82 99.8808 1269.43 Q96.8252 1274.01 91.0151 1274.01 Q85.2049 1274.01 82.1262 1269.43 Q79.0707 1264.82 79.0707 1256.1 Q79.0707 1247.35 82.1262 1242.76 Q85.2049 1238.16 91.0151 1238.16 Z\" fill=\"#000000\" fill-rule=\"evenodd\" fill-opacity=\"1\" /><path clip-path=\"url(#clip650)\" d=\"M102.959 1232.26 L127.071 1232.26 L127.071 1235.46 L102.959 1235.46 L102.959 1232.26 Z\" fill=\"#000000\" fill-rule=\"evenodd\" fill-opacity=\"1\" /><path clip-path=\"url(#clip650)\" d=\"M135.929 1242.73 L142.136 1242.73 L142.136 1221.31 L135.384 1222.67 L135.384 1219.21 L142.098 1217.85 L145.898 1217.85 L145.898 1242.73 L152.104 1242.73 L152.104 1245.93 L135.929 1245.93 L135.929 1242.73 Z\" fill=\"#000000\" fill-rule=\"evenodd\" fill-opacity=\"1\" /><path clip-path=\"url(#clip650)\" d=\"M167.903 1220.35 Q164.969 1220.35 163.483 1223.25 Q162.016 1226.13 162.016 1231.92 Q162.016 1237.69 163.483 1240.59 Q164.969 1243.47 167.903 1243.47 Q170.855 1243.47 172.322 1240.59 Q173.808 1237.69 173.808 1231.92 Q173.808 1226.13 172.322 1223.25 Q170.855 1220.35 167.903 1220.35 M167.903 1217.34 Q172.623 1217.34 175.106 1221.09 Q177.607 1224.81 177.607 1231.92 Q177.607 1239.01 175.106 1242.75 Q172.623 1246.48 167.903 1246.48 Q163.182 1246.48 160.68 1242.75 Q158.198 1239.01 158.198 1231.92 Q158.198 1224.81 160.68 1221.09 Q163.182 1217.34 167.903 1217.34 Z\" fill=\"#000000\" fill-rule=\"evenodd\" fill-opacity=\"1\" /><path clip-path=\"url(#clip650)\" d=\"M76.9787 674.777 L84.6175 674.777 L84.6175 648.411 L76.3074 650.078 L76.3074 645.819 L84.5712 644.152 L89.2471 644.152 L89.2471 674.777 L96.886 674.777 L96.886 678.712 L76.9787 678.712 L76.9787 674.777 Z\" fill=\"#000000\" fill-rule=\"evenodd\" fill-opacity=\"1\" /><path clip-path=\"url(#clip650)\" d=\"M116.33 647.231 Q112.719 647.231 110.891 650.795 Q109.085 654.337 109.085 661.467 Q109.085 668.573 110.891 672.138 Q112.719 675.68 116.33 675.68 Q119.965 675.68 121.77 672.138 Q123.599 668.573 123.599 661.467 Q123.599 654.337 121.77 650.795 Q119.965 647.231 116.33 647.231 M116.33 643.527 Q122.14 643.527 125.196 648.133 Q128.275 652.717 128.275 661.467 Q128.275 670.193 125.196 674.8 Q122.14 679.383 116.33 679.383 Q110.52 679.383 107.441 674.8 Q104.386 670.193 104.386 661.467 Q104.386 652.717 107.441 648.133 Q110.52 643.527 116.33 643.527 Z\" fill=\"#000000\" fill-rule=\"evenodd\" fill-opacity=\"1\" /><path clip-path=\"url(#clip650)\" d=\"M128.275 637.628 L152.386 637.628 L152.386 640.826 L128.275 640.826 L128.275 637.628 Z\" fill=\"#000000\" fill-rule=\"evenodd\" fill-opacity=\"1\" /><path clip-path=\"url(#clip650)\" d=\"M160.624 623.222 L175.539 623.222 L175.539 626.419 L164.103 626.419 L164.103 633.302 Q164.931 633.02 165.759 632.889 Q166.586 632.738 167.414 632.738 Q172.116 632.738 174.862 635.315 Q177.607 637.892 177.607 642.293 Q177.607 646.825 174.786 649.346 Q171.965 651.847 166.831 651.847 Q165.063 651.847 163.22 651.546 Q161.395 651.245 159.439 650.643 L159.439 646.825 Q161.132 647.747 162.937 648.198 Q164.743 648.65 166.755 648.65 Q170.009 648.65 171.909 646.938 Q173.808 645.227 173.808 642.293 Q173.808 639.359 171.909 637.647 Q170.009 635.936 166.755 635.936 Q165.232 635.936 163.709 636.274 Q162.204 636.613 160.624 637.327 L160.624 623.222 Z\" fill=\"#000000\" fill-rule=\"evenodd\" fill-opacity=\"1\" /><path clip-path=\"url(#clip650)\" d=\"M106.902 80.1469 L114.541 80.1469 L114.541 53.7813 L106.231 55.4479 L106.231 51.1887 L114.494 49.522 L119.17 49.522 L119.17 80.1469 L126.809 80.1469 L126.809 84.082 L106.902 84.082 L106.902 80.1469 Z\" fill=\"#000000\" fill-rule=\"evenodd\" fill-opacity=\"1\" /><path clip-path=\"url(#clip650)\" d=\"M146.253 52.6007 Q142.642 52.6007 140.814 56.1655 Q139.008 59.7072 139.008 66.8368 Q139.008 73.9432 140.814 77.508 Q142.642 81.0497 146.253 81.0497 Q149.888 81.0497 151.693 77.508 Q153.522 73.9432 153.522 66.8368 Q153.522 59.7072 151.693 56.1655 Q149.888 52.6007 146.253 52.6007 M146.253 48.8971 Q152.064 48.8971 155.119 53.5035 Q158.198 58.0868 158.198 66.8368 Q158.198 75.5636 155.119 80.17 Q152.064 84.7533 146.253 84.7533 Q140.443 84.7533 137.365 80.17 Q134.309 75.5636 134.309 66.8368 Q134.309 58.0868 137.365 53.5035 Q140.443 48.8971 146.253 48.8971 Z\" fill=\"#000000\" fill-rule=\"evenodd\" fill-opacity=\"1\" /><path clip-path=\"url(#clip650)\" d=\"M167.903 31.0931 Q164.969 31.0931 163.483 33.9895 Q162.016 36.8671 162.016 42.6599 Q162.016 48.4338 163.483 51.3302 Q164.969 54.2078 167.903 54.2078 Q170.855 54.2078 172.322 51.3302 Q173.808 48.4338 173.808 42.6599 Q173.808 36.8671 172.322 33.9895 Q170.855 31.0931 167.903 31.0931 M167.903 28.0838 Q172.623 28.0838 175.106 31.8266 Q177.607 35.5505 177.607 42.6599 Q177.607 49.7504 175.106 53.4931 Q172.623 57.2171 167.903 57.2171 Q163.182 57.2171 160.68 53.4931 Q158.198 49.7504 158.198 42.6599 Q158.198 35.5505 160.68 31.8266 Q163.182 28.0838 167.903 28.0838 Z\" fill=\"#000000\" fill-rule=\"evenodd\" fill-opacity=\"1\" /><polyline clip-path=\"url(#clip652)\" style=\"stroke:#009af9; stroke-linecap:round; stroke-linejoin:round; stroke-width:4; stroke-opacity:1; fill:none\" points=\"\n",
       "  274.149,87.9763 380.363,157.573 486.577,228.675 592.791,300.151 699.005,371.72 805.219,443.313 911.433,514.912 1017.65,586.512 1123.86,658.112 1230.07,729.713 \n",
       "  1336.29,801.313 1442.5,872.914 1548.72,944.514 1654.93,1016.11 1761.14,1087.72 1867.36,1159.32 1973.57,1230.92 2079.79,1302.52 2186,1374.12 2292.21,1445.72 \n",
       "  \n",
       "  \"/>\n",
       "<path clip-path=\"url(#clip650)\" d=\"\n",
       "M1991.34 198.898 L2281.45 198.898 L2281.45 95.2176 L1991.34 95.2176  Z\n",
       "  \" fill=\"#ffffff\" fill-rule=\"evenodd\" fill-opacity=\"1\"/>\n",
       "<polyline clip-path=\"url(#clip650)\" style=\"stroke:#000000; stroke-linecap:round; stroke-linejoin:round; stroke-width:4; stroke-opacity:1; fill:none\" points=\"\n",
       "  1991.34,198.898 2281.45,198.898 2281.45,95.2176 1991.34,95.2176 1991.34,198.898 \n",
       "  \"/>\n",
       "<polyline clip-path=\"url(#clip650)\" style=\"stroke:#009af9; stroke-linecap:round; stroke-linejoin:round; stroke-width:4; stroke-opacity:1; fill:none\" points=\"\n",
       "  2015.11,147.058 2157.72,147.058 \n",
       "  \"/>\n",
       "<path clip-path=\"url(#clip650)\" d=\"M2195.33 166.745 Q2193.52 171.375 2191.81 172.787 Q2190.1 174.199 2187.22 174.199 L2183.82 174.199 L2183.82 170.634 L2186.32 170.634 Q2188.08 170.634 2189.05 169.8 Q2190.03 168.967 2191.21 165.865 L2191.97 163.921 L2181.48 138.412 L2186 138.412 L2194.1 158.689 L2202.2 138.412 L2206.72 138.412 L2195.33 166.745 Z\" fill=\"#000000\" fill-rule=\"evenodd\" fill-opacity=\"1\" /><path clip-path=\"url(#clip650)\" d=\"M2214.01 160.402 L2221.65 160.402 L2221.65 134.037 L2213.34 135.703 L2213.34 131.444 L2221.6 129.778 L2226.28 129.778 L2226.28 160.402 L2233.91 160.402 L2233.91 164.338 L2214.01 164.338 L2214.01 160.402 Z\" fill=\"#000000\" fill-rule=\"evenodd\" fill-opacity=\"1\" /></svg>\n"
      ]
     },
     "execution_count": 1,
     "metadata": {},
     "output_type": "execute_result"
    }
   ],
   "source": [
    "f(x) = sqrt(2+x)\n",
    "function X(k)\n",
    "    if k == 0 return 0 end\n",
    "    return f(X(k-1))\n",
    "end\n",
    "\n",
    "xk = X.(1:20)\n",
    "\n",
    "err = [abs(X(k+1)-2)/abs(X(k)-2) for k in 1:100]\n",
    "using Plots\n",
    "plot(err)\n",
    "plot(abs.(xk.-2),yaxis=:log)"
   ]
  },
  {
   "cell_type": "markdown",
   "id": "dd6c3f36-9eef-49fe-bb4b-369521e3143a",
   "metadata": {
    "tags": []
   },
   "source": [
    "# PS.5 (diagonally dominant)\n",
    "\n",
    "Consider the matrices\n",
    "\\begin{equation*}\n",
    "A_1 =\\begin{pmatrix}\n",
    "2&0&1\\\\\n",
    "1&2&0\\\\\n",
    "0&1&2\n",
    "\\end{pmatrix},\n",
    " \\qquad \n",
    " A_2 =\\begin{pmatrix}\n",
    "2&0&1\\\\\n",
    "1&1&0\\\\\n",
    "0&1&1\n",
    "\\end{pmatrix},\n",
    "\\qquad A_3 =\\begin{pmatrix}\n",
    "1&0&1\\\\\n",
    "1&1&0\\\\\n",
    "0&1&1\n",
    "\\end{pmatrix}.\n",
    "\\end{equation*}\n",
    "\n",
    "a) Which of these $3$ matrices is strictly diagonally dominant?\n",
    "\n",
    "b) Investigate the convergence of Jacobi's method with respect to $A_1$, $A_2$, and $A_3$ and the right-hand-side $b=(0,0,0)^\\top$ and \n",
    "the initial vector $x^{(0)}=(1,1,1)^\\top$ by explicitly computing and simplifying the recursion. \n"
   ]
  },
  {
   "cell_type": "markdown",
   "id": "a39e29ff-e45f-428a-a6c8-ad481945b07f",
   "metadata": {},
   "source": [
    "## Solution\n",
    "\n",
    "a) Only $A_1$ is strictly diagonally dominant. \n",
    "\n",
    "b) For $A_1=D_1+N$ with $D_1=2I_3$ and $N=\\begin{pmatrix}\n",
    "0&0&1\\\\\n",
    "1&0&0\\\\\n",
    "0&1&0\n",
    "\\end{pmatrix}$, we observe\n",
    "\n",
    "$$ \n",
    "M_1 x^{(0)}= -D^{-1}N \\begin{pmatrix} 1\\\\1\\\\1\\end{pmatrix} =-\\frac{1}{2} x^{(0)},\n",
    "$$\n",
    "\n",
    "so that the iterative scheme $x^{(n)} = M_1^n x^{(0)}$ converges.\n",
    "\n",
    "For $A_2=D_2+N$ with $D_2={diag}(2,1,1)$, we observe\n",
    "\n",
    "$$ \n",
    "M_2 = -D_2^{-1}N = \\begin{pmatrix} 0&0&\\frac{1}{2}\\\\ 1&0&0\\\\ 0&1&0\\end{pmatrix},\\qquad M_2^3 = \\frac{1}{2}I_3,\n",
    "$$\n",
    "\n",
    "so that the iterative scheme $x^{(3n)} = M_2^{3n} x^{(0)}=(\\frac{1}{2})^n x^{(0)}$ converges.\n",
    "\n",
    "For $A_3=D_3+N$ with $D_3=I_3$, we observe\n",
    "\n",
    "$$ \n",
    "M_3  = -D_3^{-1}N = -N,\\qquad \n",
    "$$\n",
    "\n",
    "so that the iterative scheme $x^{(n)} = (-N)^n x^{(0)}=(-1)^n x^{(0)}$ does not converge."
   ]
  },
  {
   "cell_type": "markdown",
   "id": "054efe29-11ea-4518-9560-613979a7b89b",
   "metadata": {},
   "source": [
    "# PS.5 (iterative schemes)\n",
    "\n",
    "**Jacobi:**\n",
    "\\begin{align}\n",
    "x^{(k+1)}_i &= \\frac{1}{a_{i,i}} \\left( b_i-\\sum_{j\\neq i}a_{i,j}x^{(k)}_j \\right),\\quad i=1,\\ldots,n,\\\\\n",
    "& = \\frac{1}{a_{i,i}} \\left( b_i-\\sum_{j=1}^n a_{i,j}x^{(k)}_j\\right)+x^{(k)}_i\n",
    "\\end{align}\n",
    "\n",
    "**Gauss-Seidel:**\n",
    "\\begin{equation}\n",
    "x^{(k+1)}_i = \\frac{1}{a_{i,i}} \\left( b_i-\\sum_{j=1}^{i-1}a_{i,j}x^{(k+1)}_j  - \\sum_{j=i+1}^n a_{i,j}x^{(k)}_j\\right),\\quad i=1,\\ldots,n,\n",
    "\\end{equation}\n",
    "\n",
    "a) Implement both schemes in julia as myJacobi2 and myGaussSeidel2 in-situ, i.e., without keeping all the iterates.\n",
    "\n",
    "b) Observe the rule of thumb: Gauss-Seidel requires fewer iterations than Jacobi's method.\n",
    "\n",
    "c) Observe that the simple parallel version of Jacobi's method is indeed faster. (Before starting julia (or jupyter) type in the terminal: \n",
    "\n",
    "Mac/Linux:\n",
    "\"export JULIA_NUM_THREADS=8\" \n",
    "\n",
    "Windows:\n",
    "\"set JULIA_NUM_THREADS=8\" \n",
    "\n",
    "(or whatever number of cores your processor provides, 2 or 4,...))"
   ]
  },
  {
   "cell_type": "code",
   "execution_count": 2,
   "id": "0248c16e-2750-42c8-bfe5-96f934367050",
   "metadata": {},
   "outputs": [
    {
     "data": {
      "text/plain": [
       "myJacobi2 (generic function with 1 method)"
      ]
     },
     "execution_count": 2,
     "metadata": {},
     "output_type": "execute_result"
    }
   ],
   "source": [
    "using LinearAlgebra\n",
    "function myJacobi(A, b, x0; tol=1e-5, maxiter=550)      # keep all iterates\n",
    "    n = size(A,1)\n",
    "    x = Array{Float64,2}(undef, n, maxiter)\n",
    "    x[:,1] .= x0\n",
    "    for k in 1:maxiter-1\n",
    "        if norm(A*x[:,k]-b)<tol return x[:,1:k] end\n",
    "        for i in 1:n\n",
    "            x[i,k+1] = (b[i]-A[i,:]'*x[:,k])/A[i,i]+x[i,k]\n",
    "        end\n",
    "    end\n",
    "    return x    \n",
    "end\n",
    "\n",
    "function myJacobi2(A, b, x0; tol=1e-5, maxiter=150)    # only last iterate is kept\n",
    "    n = size(A,1)\n",
    "    x_old = copy(x0)\n",
    "    x_new = copy(x_old) \n",
    "    for k in 1:maxiter\n",
    "        if norm(A*x_new-b)<tol return x_new end\n",
    "        for i in 1:n\n",
    "            x_new[i] = (b[i]-A[i,:]'*x_old)/A[i,i]+x_old[i]\n",
    "        end\n",
    "        x_old .= x_new\n",
    "    end\n",
    "    return x_new    \n",
    "end"
   ]
  },
  {
   "cell_type": "code",
   "execution_count": 3,
   "id": "ebf57392-6020-4ed6-b730-c8a86b49602e",
   "metadata": {},
   "outputs": [
    {
     "data": {
      "text/plain": [
       "myGaussSeidel2 (generic function with 1 method)"
      ]
     },
     "execution_count": 3,
     "metadata": {},
     "output_type": "execute_result"
    }
   ],
   "source": [
    "function myGaussSeidel(A, b, x0; tol=1e-5, maxiter=550)\n",
    "    n = size(A,1)\n",
    "    x = Array{Float64,2}(undef, n, maxiter)\n",
    "    x[:,1] .= x0\n",
    "    for k in 1:maxiter-1\n",
    "        if norm(A*x[:,k]-b)<tol return x[:,1:k] end\n",
    "        for i in 1:n\n",
    "            x[i,k+1] = (b[i]-A[i,1:i-1]'*x[1:i-1,k+1]-A[i,i+1:end]'*x[i+1:end,k])/A[i,i]\n",
    "        end\n",
    "    end\n",
    "    return x    \n",
    "end\n",
    "\n",
    "function myGaussSeidel2(A, b, x0; tol=1e-5, maxiter=150)\n",
    "    n = size(A,1)\n",
    "    x = copy(x0)\n",
    "    for k in 1:maxiter\n",
    "        if norm(A*x-b)<tol return x end\n",
    "        for i in 1:n\n",
    "            x[i] = (b[i]-A[i,1:i-1]'*x[1:i-1]-A[i,i+1:end]'*x[i+1:end])/A[i,i]\n",
    "        end\n",
    "    end\n",
    "    return x    \n",
    "end"
   ]
  },
  {
   "cell_type": "code",
   "execution_count": 4,
   "id": "da10b307-d3e3-45f6-be35-77ae7b16b0e6",
   "metadata": {},
   "outputs": [
    {
     "name": "stdout",
     "output_type": "stream",
     "text": [
      "size(X1, 2) = 61\n",
      "size(X2, 2) = 12\n",
      "norm(A * X1[:, end] - b) = 8.99664312378121e-9\n",
      "norm(A * X2[:, end] - b) = 2.6031094543637123e-9\n",
      "size(X1, 2) = 64\n",
      "size(X2, 2) = 12\n",
      "norm(A * X1[:, end] - b) = 8.928331355159808e-9\n",
      "norm(A * X2[:, end] - b) = 7.2969681462334386e-9\n",
      "size(X1, 2) = 61\n",
      "size(X2, 2) = 12\n",
      "norm(A * X1[:, end] - b) = 8.7338226308693e-9\n",
      "norm(A * X2[:, end] - b) = 8.012960095697967e-9\n",
      "size(X1, 2) = 50\n",
      "size(X2, 2) = 12\n",
      "norm(A * X1[:, end] - b) = 8.153373296814617e-9\n",
      "norm(A * X2[:, end] - b) = 5.006661281548826e-9\n",
      "size(X1, 2) = 62\n",
      "size(X2, 2) = 12\n",
      "norm(A * X1[:, end] - b) = 9.491968439009732e-9\n",
      "norm(A * X2[:, end] - b) = 4.9533306325504745e-9\n",
      "size(X1, 2) = 56\n",
      "size(X2, 2) = 11\n",
      "norm(A * X1[:, end] - b) = 9.10492769558938e-9\n",
      "norm(A * X2[:, end] - b) = 8.069635504573887e-9\n",
      "size(X1, 2) = 63\n",
      "size(X2, 2) = 12\n",
      "norm(A * X1[:, end] - b) = 7.343851867902788e-9\n",
      "norm(A * X2[:, end] - b) = 3.286502633889006e-9\n",
      "size(X1, 2) = 59\n",
      "size(X2, 2) = 12\n",
      "norm(A * X1[:, end] - b) = 8.315103875324233e-9\n",
      "norm(A * X2[:, end] - b) = 2.2724158467259354e-9\n",
      "size(X1, 2) = 59\n",
      "size(X2, 2) = 12\n",
      "norm(A * X1[:, end] - b) = 9.319834198836763e-9\n",
      "norm(A * X2[:, end] - b) = 1.9223023620437404e-9\n",
      "size(X1, 2) = 63\n",
      "size(X2, 2) = 12\n",
      "norm(A * X1[:, end] - b) = 9.275341708383469e-9\n",
      "norm(A * X2[:, end] - b) = 8.778782433607972e-9\n"
     ]
    }
   ],
   "source": [
    "for k in 1:10\n",
    "    n = 100\n",
    "    A = rand(n,n)+2/3*n*I\n",
    "    b = randn(n)\n",
    "    x0 = zeros(n)\n",
    "    X1 = myJacobi(A, b, x0;tol = 1e-8)\n",
    "    X2 = myGaussSeidel(A, b, x0;tol = 1e-8)\n",
    "    @show size(X1,2)\n",
    "    @show size(X2,2)\n",
    "    @show norm(A*X1[:,end]-b)\n",
    "    @show norm(A*X2[:,end]-b);\n",
    "end"
   ]
  },
  {
   "cell_type": "code",
   "execution_count": 5,
   "id": "96accc64-ff04-4bfc-b683-92e96c6bf990",
   "metadata": {},
   "outputs": [
    {
     "data": {
      "text/plain": [
       "8"
      ]
     },
     "execution_count": 5,
     "metadata": {},
     "output_type": "execute_result"
    }
   ],
   "source": [
    "Threads.nthreads()    "
   ]
  },
  {
   "cell_type": "code",
   "execution_count": 6,
   "id": "82c835bb-9d1b-4bd8-9a1f-fa22646f7b4d",
   "metadata": {
    "tags": []
   },
   "outputs": [
    {
     "data": {
      "text/plain": [
       "myJacobiParallel (generic function with 1 method)"
      ]
     },
     "execution_count": 6,
     "metadata": {},
     "output_type": "execute_result"
    }
   ],
   "source": [
    "function myJacobiParallel(A, b, x0; tol=1e-5, maxiter=50)\n",
    "    d = size(A,1)\n",
    "    x = Array{Float64,2}(undef, d, maxiter)\n",
    "    x[:,1] = copy(x0)\n",
    "    for k in 1:maxiter\n",
    "        if norm(A*x[:,k]-b)<tol return x[:,1:k] end\n",
    "        Threads.@threads for i = 1:d \n",
    "            x[i,k+1] = (b[i]-A[i,:]'*x[:,k])/A[i,i]+x[i,k]\n",
    "        end\n",
    "    end\n",
    "    return x    \n",
    "end"
   ]
  },
  {
   "cell_type": "code",
   "execution_count": 7,
   "id": "6897edf0-3cfc-4064-837e-963369bf3ed4",
   "metadata": {
    "tags": []
   },
   "outputs": [
    {
     "name": "stdout",
     "output_type": "stream",
     "text": [
      "elapsed time quotient:  parallel / sequential\n",
      "0.7798055772041309\n"
     ]
    }
   ],
   "source": [
    "function testParallel()\n",
    "    n = 1500\n",
    "    x₀ = zeros(n)\n",
    "    A = rand(n,n)/n\n",
    "    A .= A+I\n",
    "    b = randn(n)\n",
    "    println(\"elapsed time quotient:  parallel / sequential\")\n",
    "    println(@elapsed[myJacobiParallel(A,b,x₀)]/@elapsed[myJacobi(A,b,x₀)])    # parallelized/sequential \n",
    "    #@elapsed[myJacobiParallel2(A,b,x₀)]/@elapsed[myJacobi2(A,b,x₀)]     # parallelized/sequential \n",
    "end\n",
    "\n",
    "testParallel()"
   ]
  },
  {
   "cell_type": "code",
   "execution_count": null,
   "id": "aa7da975-4edd-46e9-add2-b36de643f344",
   "metadata": {},
   "outputs": [],
   "source": []
  }
 ],
 "metadata": {
  "authors": [
   {
    "name": "Numerical Analysis 2022"
   }
  ],
  "kernelspec": {
   "display_name": "Julia 1.8.1",
   "language": "julia",
   "name": "julia-1.8"
  },
  "language_info": {
   "file_extension": ".jl",
   "mimetype": "application/julia",
   "name": "julia",
   "version": "1.8.1"
  },
  "title": "Exercise sheet 5",
  "toc-autonumbering": true,
  "widgets": {
   "application/vnd.jupyter.widget-state+json": {
    "state": {},
    "version_major": 2,
    "version_minor": 0
   }
  }
 },
 "nbformat": 4,
 "nbformat_minor": 5
}
