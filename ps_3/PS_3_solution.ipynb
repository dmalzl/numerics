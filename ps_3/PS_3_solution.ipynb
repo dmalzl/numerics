{
 "cells": [
  {
   "cell_type": "markdown",
   "id": "66b3d9be-7bbc-424c-bda7-f240ffeb0f46",
   "metadata": {
    "tags": []
   },
   "source": [
    "# PS.3 (triangular solver)\n",
    "\n",
    "$Ly=b$ with $L$ lower triangular with $1$ in the diagonal.\n",
    "\n",
    "\\begin{align*}\n",
    "y_1 &= b_1,\\\\\n",
    "y_2 &= b_2-\\ell_{2,1}y_1,\\\\\n",
    "&\\vdots \\\\\n",
    "y_k & = b_k - \\sum_{j=1}^{k-1}\\ell_{k,j}y_j,  \\\\\n",
    "&\\vdots \\\\\n",
    "y_n&=b_n-\\sum_{j=1}^{n-1}\\ell_{n,j}y_j.\n",
    "\\end{align*}\n",
    "\n",
    "a) Write a solver for $Ly=b$."
   ]
  },
  {
   "cell_type": "code",
   "execution_count": 11,
   "id": "58b0fa82-5262-4d13-a7f3-f48f7b79baca",
   "metadata": {
    "tags": []
   },
   "outputs": [
    {
     "data": {
      "text/plain": [
       "myL (generic function with 1 method)"
      ]
     },
     "execution_count": 11,
     "metadata": {},
     "output_type": "execute_result"
    }
   ],
   "source": [
    "function myL(L,b)\n",
    "    \n",
    "    n = length(b)\n",
    "    y = copy(b) \n",
    "    \n",
    "    for k = 2:n\n",
    "        y[k] -= sum(L[k,j]*y[j] for j in 1:k-1)\n",
    "    end\n",
    "    \n",
    "    return y\n",
    "end"
   ]
  },
  {
   "cell_type": "markdown",
   "id": "cb67db9f-bafd-4549-a2f5-d48d527882f6",
   "metadata": {},
   "source": [
    "$Ux=y$ with $U$ upper triangular and nonzero diagonal.\n",
    "\n",
    "\\begin{align*}\n",
    "x_n &= \\frac{y_n}{u_{n,n}}\\\\\n",
    "x_{n-1} &= \\frac{1}{u_{n-1,n-1}} \\left(y_{n-1}-u_{n-1,n}x_{n}\\right)\\\\\n",
    "&\\vdots\\\\\n",
    " x_{k}&=\\frac{1}{u_{k,k}}\\left(y_{k}-\\sum_{j=k+1}^{n}u_{k,j}x_j\\right) \\\\\n",
    " &\\vdots\\\\\n",
    "x_1&=\\frac{1}{u_{1,1}}\\left(y_1-\\sum_{j=2}^{n}u_{1,j}x_j\\right).\n",
    "\\end{align*}\n",
    "\n",
    "b) Write a solver for $Ux=y$."
   ]
  },
  {
   "cell_type": "code",
   "execution_count": 12,
   "id": "9f3ff6bc-81a7-4923-8fb0-7c51f8028456",
   "metadata": {},
   "outputs": [
    {
     "data": {
      "text/plain": [
       "myU (generic function with 1 method)"
      ]
     },
     "execution_count": 12,
     "metadata": {},
     "output_type": "execute_result"
    }
   ],
   "source": [
    "function myU(U,y)\n",
    "    \n",
    "    n = length(y)\n",
    "    x = copy(y)\n",
    "    \n",
    "    for k in n:-1:1\n",
    "        x[k] = 1/U[k,k] * (y[k]-sum(U[k,j]*x[j] for j in k+1:n; init = 0))\n",
    "    end\n",
    "    \n",
    "    return x\n",
    "end    "
   ]
  },
  {
   "cell_type": "markdown",
   "id": "71b65c0e-cfc3-4aa0-8704-93c067823975",
   "metadata": {},
   "source": [
    "# PS.3 (lu-decomposition without pivoting)\n",
    "\n",
    "For $A\\in \\mathbb R^{n\\times n}$, set $A^{(1)}:=B^{(1)}:=A$ and\n",
    "\n",
    "$$\n",
    "\\ell^{(k)} = \\frac{1}{a^{(k)}_{k,k}}\\begin{pmatrix}\n",
    "a^{(k)}_{k+1,k}\\\\\n",
    "\\vdots\\\\\n",
    "a^{(k)}_{n,k}\n",
    "\\end{pmatrix}\\in \\mathbb R^{n-k}, \\qquad\\qquad\n",
    "B^{(k+1)} = \\check{B}^{(k)} - \\ell^{(k)} \\cdot \\left(a^{(k)}_{k,k+1} , \\cdots , a^{(k)}_{k,n}\\right)\\in \\mathbb{R}^{(n-k)\\times (n-k)},\n",
    "$$\n",
    "where $\\check{B}^{(k)}$ equals $B^{(k)}$ without its first row and column.\n",
    "\n",
    "$$\n",
    "A^{(k+1)}= L_k A^{(k)} = \\begin{pmatrix}\n",
    "a^{(1)}_{1,1} & a^{1)}_{1,2} &\\cdots &\\cdots& a^{(1)}_{1,n}\\\\\n",
    "0 & \\ddots & \\\\\n",
    "\\vdots&\\ddots & a^{(k)}_{k,k} & \\cdots & a^{(k)}_{k,n}\\\\\n",
    "0 &&0 \\\\\n",
    "\\vdots &&\\vdots&B^{(k+1)}\\\\\n",
    "0 &\\cdots &0\n",
    "\\end{pmatrix},\\qquad\\qquad\n",
    "L = \n",
    "\\begin{pmatrix}\n",
    "1& 0 &\\cdots &\\cdots&\\cdots&0\\\\\n",
    "|& \\ddots&\\ddots&&&\\vdots \\\\\n",
    "| & &\\ddots&\\ddots&&\\vdots\\\\\n",
    "|&&|&\\ddots&0&\\vdots\\\\\n",
    "|&&|&&1&0\\\\\n",
    "\\ell^{(1)} & \\cdots&\\ell^{(k)}& \\cdots & \\ell^{(n-1)}&1\n",
    "\\end{pmatrix},\\qquad U = A^{(n)}\n",
    "$$"
   ]
  },
  {
   "cell_type": "markdown",
   "id": "9bb96cb0-a9b5-4412-a6ae-4edab799e9d7",
   "metadata": {},
   "source": [
    "We may store $\\ell^{(1)},\\ldots,\\ell^{(k)}$ in $A^{(k+1)}$ to get rid of $L$, i.e., \n",
    "\\begin{equation}\n",
    "\\tilde{A}^{(k+1)}=  \\begin{pmatrix}\n",
    "a^{(1)}_{1,1} & a^{1)}_{1,2} &\\cdots &\\cdots& a^{(1)}_{1,n}\\\\\n",
    "| & \\ddots & \\\\\n",
    "|&\\ddots & a^{(k)}_{k,k} & \\cdots & a^{(k)}_{k,n}\\\\\n",
    "| &&| \\\\\n",
    "| &&|&B^{(k+1)}\\\\\n",
    "\\ell^{(1)} &\\cdots &\\ell^{(k)}\n",
    "\\end{pmatrix}\n",
    "\\end{equation}\n",
    "\n",
    "a) Write a function with input $A$ that returns L and U of the lu-decomposition.\n",
    "\n",
    "b) Solve the system of linear equations $Ax=b$ for \n",
    "\n",
    "\\begin{equation}\n",
    "A = \\begin{pmatrix} \\varepsilon & 1\\\\\n",
    "1 & 1\n",
    "\\end{pmatrix},\\qquad b =\\begin{pmatrix} 1 \\\\ 2\\end{pmatrix}\n",
    "\\end{equation}\n",
    "\n",
    "by using myLU and myU, myL for $\\varepsilon=2$ and for $\\varepsilon = 2^{-55}$. Are the results correct?"
   ]
  },
  {
   "cell_type": "code",
   "execution_count": 13,
   "id": "86f88143-62dc-4136-a9ae-4f4c64bcb511",
   "metadata": {},
   "outputs": [
    {
     "data": {
      "text/plain": [
       "myLU (generic function with 1 method)"
      ]
     },
     "execution_count": 13,
     "metadata": {},
     "output_type": "execute_result"
    }
   ],
   "source": [
    "using LinearAlgebra\n",
    "\n",
    "function myLU(A0)\n",
    "\n",
    "    n = size(A0,1)\n",
    "    A = copy(A0)\n",
    "    \n",
    "    for k in 1:n-1\n",
    "        A[k+1:n,k] /= A[k,k]\n",
    "        A[k+1:n,k+1:n] -= A[k+1:n,k]*transpose(A[k,k+1:n])\n",
    "    end\n",
    "    \n",
    "    return tril(A,-1)+I, triu(A)\n",
    "end"
   ]
  },
  {
   "cell_type": "code",
   "execution_count": 14,
   "id": "ec885e19-b5c1-4e28-8f54-d38dc456b27e",
   "metadata": {},
   "outputs": [
    {
     "data": {
      "text/plain": [
       "2-element Vector{Float64}:\n",
       " -1.0\n",
       "  3.0"
      ]
     },
     "execution_count": 14,
     "metadata": {},
     "output_type": "execute_result"
    }
   ],
   "source": [
    "ε = 2 # 2^-55\n",
    "A = [ε 1;1.0 1]\n",
    "b = [1.0;2] \n",
    "L,U = myLU(A)\n",
    "\n",
    "y = myL(L,b) \n",
    "x = myU(U,y)"
   ]
  },
  {
   "cell_type": "markdown",
   "id": "4eab12ed-8498-4cf8-aa2b-3b18773715e9",
   "metadata": {},
   "source": [
    "# PS.3 (lu-decomposition with partial pivoting)\n",
    "\n",
    "\\begin{equation}\n",
    "PA = LU,\\qquad \\qquad\\qquad Ax=b \\quad \\Leftrightarrow \\quad LUx=Pb\n",
    "\\end{equation}\n",
    "\n",
    "a) Solve the system of linear equations $Ax=b$ for \n",
    "\n",
    "\\begin{equation}\n",
    "A = \\begin{pmatrix} -2&2& -1\\\\\n",
    "6 & -6 & 7\\\\\n",
    "3&-8&4\n",
    "\\end{pmatrix},\\qquad b =\\begin{pmatrix} -1 \\\\ 7\\\\ -1\\end{pmatrix}\n",
    "\\end{equation}\n",
    "\n",
    "by using the lu-decomposition with partial pivoting by hand. \n",
    "\n",
    "b) The function myLUpivot is provided below. Write a function myLinearSolver that solves $Ax=b$ based on myLUpivot. Solve part a) with your implementation. Run testset and, if necessary, adjust the error bounds. \n"
   ]
  },
  {
   "cell_type": "markdown",
   "id": "254c8dfb-0fe7-4eaf-8a40-648484a76feb",
   "metadata": {},
   "source": [
    "## Solution\n",
    "\n",
    "a) \n",
    "\\begin{align*}\n",
    "A^{(0)} & = \\begin{pmatrix}\n",
    "-2 & 2 & -1\\\\\n",
    "6 & -6 & 7\\\\\n",
    "3 & -8 & 4\n",
    "\\end{pmatrix}, & p^{(0)} & = \\begin{pmatrix}\n",
    "1\\\\2\\\\3\n",
    "\\end{pmatrix}\n",
    "\\\\\n",
    "A^{(1)}& = \\begin{pmatrix}\n",
    "6 & -6 & 7\\\\\n",
    "-2 & 2 & -1\\\\\n",
    "3 & -8 & 4\n",
    "\\end{pmatrix}, & p^{(1)} & = \\begin{pmatrix}\n",
    "2\\\\1\\\\3\n",
    "\\end{pmatrix} & \n",
    "\\ell^{(1)} = \\begin{pmatrix}\n",
    "-\\frac{1}{3}\\\\ \\frac{1}{2}\n",
    "\\end{pmatrix}\n",
    "\\\\\n",
    "A^{(2)}& = \\begin{pmatrix}\n",
    "6 & -6 & 7\\\\\n",
    "0 & 0 & \\frac{4}{3}\\\\\n",
    "0  & -5 & \\frac{1}{2}\n",
    "\\end{pmatrix}, \n",
    "& p^{(2)} & = \\begin{pmatrix}\n",
    "2\\\\1\\\\3\n",
    "\\end{pmatrix}\n",
    "\\\\\n",
    "A^{(3)}& = \\begin{pmatrix}\n",
    "6 & -6 & 7\\\\\n",
    "0  & -5 & \\frac{1}{2}\\\\\n",
    "0 & 0 & \\frac{4}{3}\n",
    "\\end{pmatrix}, \n",
    "& p^{(2)} & = \\begin{pmatrix}\n",
    "2\\\\3\\\\1\n",
    "\\end{pmatrix}\n",
    "\\end{align*}\n",
    "\n",
    "We obtain (note that we apply the permutation to $\\ell^{(1)}$)\n",
    "\\begin{equation*}\n",
    "L = \n",
    "\\begin{pmatrix}\n",
    "1&0&0\\\\\n",
    "\\frac{1}{2} & 1&0\\\\\n",
    "-\\frac{1}{3} & 0&1\n",
    "\\end{pmatrix},\\qquad U = \n",
    "\\begin{pmatrix}\n",
    "6 & -6 & 7\\\\\n",
    "0  & -5 & \\frac{1}{2}\\\\\n",
    "0 & 0 & \\frac{4}{3}\n",
    "\\end{pmatrix}\n",
    "\\end{equation*}\n",
    "\n",
    "The associated permutation matrix $P$ leads to $Pb = \n",
    "\\begin{pmatrix}\n",
    "7\\\\-1\\\\-1\n",
    "\\end{pmatrix}\n",
    "$, \n",
    "so that $Ly=Pb$ is solved by \n",
    "$$\n",
    "y=\\begin{pmatrix}\n",
    "7\\\\ -\\frac{9}{2}\\\\ \\frac{4}{3}\n",
    "\\end{pmatrix}.\n",
    "$$\n",
    "\n",
    "The equation $Ux=y$ is solved by \n",
    "\n",
    "$$\n",
    "x = \\begin{pmatrix}\n",
    "1\\\\ 1\\\\ 1\n",
    "\\end{pmatrix}.\n",
    "$$\n",
    "\n",
    "\n"
   ]
  },
  {
   "cell_type": "code",
   "execution_count": 15,
   "id": "826a6898-a774-4105-8c82-6bced486def2",
   "metadata": {},
   "outputs": [
    {
     "data": {
      "text/plain": [
       "myLUpivot (generic function with 1 method)"
      ]
     },
     "execution_count": 15,
     "metadata": {},
     "output_type": "execute_result"
    }
   ],
   "source": [
    "function myLUpivot(A0)\n",
    "    \n",
    "    n = size(A0,1)\n",
    "    p = [1:n;]\n",
    "    A = copy(A0)\n",
    "    \n",
    "    for k in 1:n-1\n",
    "        mptr = argmax(abs.(A[p[k:n],k]))\n",
    "        p[k],p[k-1+mptr] = p[k-1+mptr],p[k]\n",
    "        A[p[k+1:n],k] /= A[p[k],k]\n",
    "        A[p[k+1:n],k+1:n] -= A[p[k+1:n],k]*transpose(A[p[k],k+1:n])\n",
    "    end\n",
    "    \n",
    "    return tril(A[p,:],-1)+I, triu(A[p,:]), p\n",
    "end"
   ]
  },
  {
   "cell_type": "code",
   "execution_count": 16,
   "id": "93089c04-803c-4885-b7a9-0a948016afb9",
   "metadata": {},
   "outputs": [
    {
     "data": {
      "text/plain": [
       "myLinearSolver (generic function with 1 method)"
      ]
     },
     "execution_count": 16,
     "metadata": {},
     "output_type": "execute_result"
    }
   ],
   "source": [
    "function myLinearSolver(A,b)\n",
    "    \n",
    "    L,U,p = myLUpivot(A)\n",
    "    y = myL(L,b[p]) \n",
    "    x = myU(U,y)\n",
    "    return x \n",
    "\n",
    "end"
   ]
  },
  {
   "cell_type": "code",
   "execution_count": 17,
   "id": "0f8cf707-da3f-4e23-9701-58898dbbdaa0",
   "metadata": {
    "tags": []
   },
   "outputs": [
    {
     "data": {
      "text/plain": [
       "3-element Vector{Float64}:\n",
       " 1.0\n",
       " 1.0\n",
       " 1.0"
      ]
     },
     "execution_count": 17,
     "metadata": {},
     "output_type": "execute_result"
    }
   ],
   "source": [
    "A = [-2.0 2 -1;6 -6 7;3 -8 4]\n",
    "b = [-1.0;7;-1]\n",
    "myLinearSolver(A,b)"
   ]
  },
  {
   "cell_type": "code",
   "execution_count": 18,
   "id": "8e829ac4-5b45-4341-9640-93b82f21e9aa",
   "metadata": {},
   "outputs": [
    {
     "data": {
      "text/plain": [
       "([1.0 0.0 0.0; 0.5 1.0 0.0; -0.3333333333333333 -0.0 1.0], [6.0 -6.0 7.0; 0.0 -5.0 0.5; 0.0 0.0 1.333333333333333], [2, 3, 1])"
      ]
     },
     "execution_count": 18,
     "metadata": {},
     "output_type": "execute_result"
    }
   ],
   "source": [
    "L,U,p = myLUpivot(A)"
   ]
  },
  {
   "cell_type": "code",
   "execution_count": null,
   "id": "437582e4-8fcc-4718-96da-1416a0b2b86d",
   "metadata": {},
   "outputs": [],
   "source": []
  },
  {
   "cell_type": "code",
   "execution_count": 11,
   "id": "ad5ea04b-5f5a-4c46-9934-8e1861b685ae",
   "metadata": {},
   "outputs": [
    {
     "name": "stdout",
     "output_type": "stream",
     "text": [
      "\u001b[0m\u001b[1mTest Summary: | \u001b[22m\u001b[32m\u001b[1mPass  \u001b[22m\u001b[39m\u001b[36m\u001b[1mTotal  \u001b[22m\u001b[39m\u001b[0m\u001b[1mTime\u001b[22m\n",
      "myLU          | \u001b[32m 400  \u001b[39m\u001b[36m  400  \u001b[39m\u001b[0m0.4s\n"
     ]
    },
    {
     "data": {
      "text/plain": [
       "Test.DefaultTestSet(\"myLU\", Any[], 400, false, false, true, 1.667503575657292e9, 1.667503576041301e9)"
      ]
     },
     "execution_count": 11,
     "metadata": {},
     "output_type": "execute_result"
    }
   ],
   "source": [
    "using Test\n",
    "\n",
    "@testset \"myLU\" begin     \n",
    "\n",
    "    for n in 1:100\n",
    "        A = randn(n,n)\n",
    "        b = randn(n)\n",
    "        L,U = myLU(A)\n",
    "        y = myL(L,b) \n",
    "        x = myU(U,y)\n",
    "        @test norm(L*U-A) < cond(A) *1e-10 \n",
    "        @test norm(A*x-b)/norm(A) < cond(A) *1e-10 \n",
    "        \n",
    "        L,U,p = myLUpivot(A)\n",
    "        x = myLinearSolver(A,b)\n",
    "        @test norm(L*U-A[p,:]) < cond(A) *1e-10 \n",
    "        @test norm(A*x-b)/norm(A) < cond(A) *1e-10 \n",
    "    end\n",
    "\n",
    "end"
   ]
  },
  {
   "cell_type": "markdown",
   "id": "4249efcb-3f6b-411f-a1c6-7ec79e9fde06",
   "metadata": {},
   "source": [
    "# PS.3 (Cholesky factorization)\n",
    "\n",
    "For symmetric, positive definite $A=LL^\\top$, the matrix $L=(l_{i,j})$ is given by \n",
    "\n",
    "\\begin{align}\n",
    "l_{j,j} & = \\sqrt{a_{j,j}-\\sum_{k=1}^{j-1} l_{j,k}^2},& j&=1,\\ldots,n,  \\\\\n",
    "l_{i,j} & = \\frac{1}{l_{j,j}} \\left(a_{i,j}-\\sum_{k=1}^{j-1} l_{i,k}l_{j,k} \\right),& i&=j+1,\\ldots,n.\n",
    "\\end{align}\n",
    "\n",
    "a) Write a function with input $A$ that returns $L$."
   ]
  },
  {
   "cell_type": "code",
   "execution_count": 1,
   "id": "59e42ed4-ff06-4c22-aa26-032a9ead7dff",
   "metadata": {},
   "outputs": [
    {
     "data": {
      "text/plain": [
       "myCholesky (generic function with 1 method)"
      ]
     },
     "execution_count": 1,
     "metadata": {},
     "output_type": "execute_result"
    }
   ],
   "source": [
    "function myCholesky(A)\n",
    "    \n",
    "    n = size(A,1)\n",
    "    L = zeros(n,n)\n",
    "    \n",
    "    for j in 1:n\n",
    "        L[j,j] = sqrt(A[j,j]-sum(abs.(L[j,1:j-1]).^2))    \n",
    "        \n",
    "        for i in j+1:n\n",
    "            L[i,j] = (A[i,j]-sum(L[i,1:j-1].*conj.(L[j,1:j-1])))/L[j,j]    \n",
    "        end\n",
    "    end\n",
    "    \n",
    "    return L\n",
    "end"
   ]
  },
  {
   "cell_type": "markdown",
   "id": "c89444e0-f9fd-4a42-ab4b-0fe18c1f366d",
   "metadata": {},
   "source": [
    "b) Complete the testset \"myCholesky\" and run the tests successfully."
   ]
  },
  {
   "cell_type": "code",
   "execution_count": 9,
   "id": "ece31035-9a6e-44c6-a4d3-be717f65b7ea",
   "metadata": {},
   "outputs": [
    {
     "name": "stdout",
     "output_type": "stream",
     "text": [
      "\u001b[0m\u001b[1mTest Summary: | \u001b[22m\u001b[32m\u001b[1mPass  \u001b[22m\u001b[39m\u001b[36m\u001b[1mTotal  \u001b[22m\u001b[39m\u001b[0m\u001b[1mTime\u001b[22m\n",
      "myCholesky    | \u001b[32m  40  \u001b[39m\u001b[36m   40  \u001b[39m\u001b[0m0.0s\n"
     ]
    },
    {
     "data": {
      "text/plain": [
       "Test.DefaultTestSet(\"myCholesky\", Any[], 40, false, false, true, 1.667820986522692e9, 1.667820986523876e9)"
      ]
     },
     "execution_count": 9,
     "metadata": {},
     "output_type": "execute_result"
    }
   ],
   "source": [
    "using Test, LinearAlgebra\n",
    "\n",
    "@testset \"myCholesky\" begin     \n",
    "\n",
    "    for n in 1:20\n",
    "        ℒ = rand(n,n)\n",
    "        A = ℒ*ℒ'\n",
    "        L = myCholesky(A)\n",
    "        b = randn(n)\n",
    "        y = L\\b\n",
    "        x = L'\\y\n",
    "        @test norm(L*L'-A)/norm(A) < cond(A)*1e-16\n",
    "        @test norm(A*x-b) < cond(A)*1e-15\n",
    "    end\n",
    "end"
   ]
  },
  {
   "cell_type": "markdown",
   "id": "a3241d89-dbc5-43b9-ab6f-75172b271a53",
   "metadata": {
    "tags": []
   },
   "source": [
    "# PS.3 (lls via normal equations)\n",
    "\n",
    "Given data $\\alpha,b\\in\\mathbb{R}^m$, consider \n",
    "\n",
    "\\begin{equation*}\n",
    "\\arg\\min_{x\\in\\mathbb{R}^2}\\sum_{k=1}^m \\left|b_k-(x_1+x_2\\alpha_k) \\right|^2\n",
    "\\end{equation*}\n",
    "\n",
    "The minimizer $(x_1,x_2)$ defines an affine linear function $f(a)=x_1+x_2a$.\n",
    "\n",
    "a) Write a julia function that takes input $\\alpha, b$ and returns $f$. \n",
    "\n",
    "b) Generate several data sets with illustrative plots.\n"
   ]
  },
  {
   "cell_type": "code",
   "execution_count": 14,
   "id": "2d1fc2e2-9c39-4ee2-a6bd-2ab4085d7772",
   "metadata": {},
   "outputs": [
    {
     "data": {
      "image/svg+xml": [
       "<?xml version=\"1.0\" encoding=\"utf-8\"?>\n",
       "<svg xmlns=\"http://www.w3.org/2000/svg\" xmlns:xlink=\"http://www.w3.org/1999/xlink\" width=\"600\" height=\"400\" viewBox=\"0 0 2400 1600\">\n",
       "<defs>\n",
       "  <clipPath id=\"clip010\">\n",
       "    <rect x=\"0\" y=\"0\" width=\"2400\" height=\"1600\"/>\n",
       "  </clipPath>\n",
       "</defs>\n",
       "<path clip-path=\"url(#clip010)\" d=\"\n",
       "M0 1600 L2400 1600 L2400 0 L0 0  Z\n",
       "  \" fill=\"#ffffff\" fill-rule=\"evenodd\" fill-opacity=\"1\"/>\n",
       "<defs>\n",
       "  <clipPath id=\"clip011\">\n",
       "    <rect x=\"480\" y=\"0\" width=\"1681\" height=\"1600\"/>\n",
       "  </clipPath>\n",
       "</defs>\n",
       "<path clip-path=\"url(#clip010)\" d=\"\n",
       "M175.445 1423.18 L2352.76 1423.18 L2352.76 47.2441 L175.445 47.2441  Z\n",
       "  \" fill=\"#ffffff\" fill-rule=\"evenodd\" fill-opacity=\"1\"/>\n",
       "<defs>\n",
       "  <clipPath id=\"clip012\">\n",
       "    <rect x=\"175\" y=\"47\" width=\"2178\" height=\"1377\"/>\n",
       "  </clipPath>\n",
       "</defs>\n",
       "<polyline clip-path=\"url(#clip012)\" style=\"stroke:#000000; stroke-linecap:round; stroke-linejoin:round; stroke-width:2; stroke-opacity:0.1; fill:none\" points=\"\n",
       "  237.067,1423.18 237.067,47.2441 \n",
       "  \"/>\n",
       "<polyline clip-path=\"url(#clip012)\" style=\"stroke:#000000; stroke-linecap:round; stroke-linejoin:round; stroke-width:2; stroke-opacity:0.1; fill:none\" points=\"\n",
       "  823.943,1423.18 823.943,47.2441 \n",
       "  \"/>\n",
       "<polyline clip-path=\"url(#clip012)\" style=\"stroke:#000000; stroke-linecap:round; stroke-linejoin:round; stroke-width:2; stroke-opacity:0.1; fill:none\" points=\"\n",
       "  1410.82,1423.18 1410.82,47.2441 \n",
       "  \"/>\n",
       "<polyline clip-path=\"url(#clip012)\" style=\"stroke:#000000; stroke-linecap:round; stroke-linejoin:round; stroke-width:2; stroke-opacity:0.1; fill:none\" points=\"\n",
       "  1997.7,1423.18 1997.7,47.2441 \n",
       "  \"/>\n",
       "<polyline clip-path=\"url(#clip010)\" style=\"stroke:#000000; stroke-linecap:round; stroke-linejoin:round; stroke-width:4; stroke-opacity:1; fill:none\" points=\"\n",
       "  175.445,1423.18 2352.76,1423.18 \n",
       "  \"/>\n",
       "<polyline clip-path=\"url(#clip010)\" style=\"stroke:#000000; stroke-linecap:round; stroke-linejoin:round; stroke-width:4; stroke-opacity:1; fill:none\" points=\"\n",
       "  237.067,1423.18 237.067,1404.28 \n",
       "  \"/>\n",
       "<polyline clip-path=\"url(#clip010)\" style=\"stroke:#000000; stroke-linecap:round; stroke-linejoin:round; stroke-width:4; stroke-opacity:1; fill:none\" points=\"\n",
       "  823.943,1423.18 823.943,1404.28 \n",
       "  \"/>\n",
       "<polyline clip-path=\"url(#clip010)\" style=\"stroke:#000000; stroke-linecap:round; stroke-linejoin:round; stroke-width:4; stroke-opacity:1; fill:none\" points=\"\n",
       "  1410.82,1423.18 1410.82,1404.28 \n",
       "  \"/>\n",
       "<polyline clip-path=\"url(#clip010)\" style=\"stroke:#000000; stroke-linecap:round; stroke-linejoin:round; stroke-width:4; stroke-opacity:1; fill:none\" points=\"\n",
       "  1997.7,1423.18 1997.7,1404.28 \n",
       "  \"/>\n",
       "<path clip-path=\"url(#clip010)\" d=\"M237.067 1454.1 Q233.456 1454.1 231.627 1457.66 Q229.822 1461.2 229.822 1468.33 Q229.822 1475.44 231.627 1479.01 Q233.456 1482.55 237.067 1482.55 Q240.701 1482.55 242.507 1479.01 Q244.336 1475.44 244.336 1468.33 Q244.336 1461.2 242.507 1457.66 Q240.701 1454.1 237.067 1454.1 M237.067 1450.39 Q242.877 1450.39 245.933 1455 Q249.012 1459.58 249.012 1468.33 Q249.012 1477.06 245.933 1481.67 Q242.877 1486.25 237.067 1486.25 Q231.257 1486.25 228.178 1481.67 Q225.123 1477.06 225.123 1468.33 Q225.123 1459.58 228.178 1455 Q231.257 1450.39 237.067 1450.39 Z\" fill=\"#000000\" fill-rule=\"evenodd\" fill-opacity=\"1\" /><path clip-path=\"url(#clip010)\" d=\"M818.596 1481.64 L834.916 1481.64 L834.916 1485.58 L812.971 1485.58 L812.971 1481.64 Q815.633 1478.89 820.217 1474.26 Q824.823 1469.61 826.004 1468.27 Q828.249 1465.74 829.129 1464.01 Q830.031 1462.25 830.031 1460.56 Q830.031 1457.8 828.087 1456.07 Q826.166 1454.33 823.064 1454.33 Q820.865 1454.33 818.411 1455.09 Q815.98 1455.86 813.203 1457.41 L813.203 1452.69 Q816.027 1451.55 818.48 1450.97 Q820.934 1450.39 822.971 1450.39 Q828.342 1450.39 831.536 1453.08 Q834.73 1455.77 834.73 1460.26 Q834.73 1462.39 833.92 1464.31 Q833.133 1466.2 831.027 1468.8 Q830.448 1469.47 827.346 1472.69 Q824.244 1475.88 818.596 1481.64 Z\" fill=\"#000000\" fill-rule=\"evenodd\" fill-opacity=\"1\" /><path clip-path=\"url(#clip010)\" d=\"M1413.83 1455.09 L1402.02 1473.54 L1413.83 1473.54 L1413.83 1455.09 M1412.6 1451.02 L1418.48 1451.02 L1418.48 1473.54 L1423.41 1473.54 L1423.41 1477.43 L1418.48 1477.43 L1418.48 1485.58 L1413.83 1485.58 L1413.83 1477.43 L1398.23 1477.43 L1398.23 1472.92 L1412.6 1451.02 Z\" fill=\"#000000\" fill-rule=\"evenodd\" fill-opacity=\"1\" /><path clip-path=\"url(#clip010)\" d=\"M1998.1 1466.44 Q1994.95 1466.44 1993.1 1468.59 Q1991.27 1470.74 1991.27 1474.49 Q1991.27 1478.22 1993.1 1480.39 Q1994.95 1482.55 1998.1 1482.55 Q2001.25 1482.55 2003.08 1480.39 Q2004.93 1478.22 2004.93 1474.49 Q2004.93 1470.74 2003.08 1468.59 Q2001.25 1466.44 1998.1 1466.44 M2007.38 1451.78 L2007.38 1456.04 Q2005.62 1455.21 2003.82 1454.77 Q2002.04 1454.33 2000.28 1454.33 Q1995.65 1454.33 1993.19 1457.45 Q1990.76 1460.58 1990.42 1466.9 Q1991.78 1464.89 1993.84 1463.82 Q1995.9 1462.73 1998.38 1462.73 Q2003.59 1462.73 2006.6 1465.9 Q2009.63 1469.05 2009.63 1474.49 Q2009.63 1479.82 2006.48 1483.03 Q2003.33 1486.25 1998.1 1486.25 Q1992.11 1486.25 1988.93 1481.67 Q1985.76 1477.06 1985.76 1468.33 Q1985.76 1460.14 1989.65 1455.28 Q1993.54 1450.39 2000.09 1450.39 Q2001.85 1450.39 2003.63 1450.74 Q2005.44 1451.09 2007.38 1451.78 Z\" fill=\"#000000\" fill-rule=\"evenodd\" fill-opacity=\"1\" /><path clip-path=\"url(#clip010)\" d=\"M1269.3 1551.46 L1267.9 1544.11 Q1266.47 1536.57 1260.81 1536.57 Q1256.54 1536.57 1254.6 1540.07 Q1252.15 1544.46 1252.15 1550.25 Q1252.15 1557.25 1254.54 1560.6 Q1256.96 1564 1260.81 1564 Q1265.07 1564 1267.36 1557.22 L1269.3 1551.46 M1272.58 1541.72 L1275.73 1532.4 L1280.95 1532.4 L1274.43 1551.72 L1275.7 1558.69 Q1275.99 1560.25 1277.1 1561.55 Q1278.41 1563.08 1279.43 1563.08 L1282.23 1563.08 L1282.23 1568.04 L1278.73 1568.04 Q1275.73 1568.04 1273.06 1565.37 Q1271.76 1564.03 1271.21 1561.23 Q1269.75 1564.77 1266.76 1567.53 Q1265.36 1568.84 1260.81 1568.84 Q1253.33 1568.84 1249.7 1564 Q1245.97 1559 1245.97 1550.25 Q1245.97 1540.89 1250.02 1536.5 Q1254.5 1531.6 1260.81 1531.6 Q1270.7 1531.6 1272.58 1541.72 Z\" fill=\"#000000\" fill-rule=\"evenodd\" fill-opacity=\"1\" /><polyline clip-path=\"url(#clip012)\" style=\"stroke:#000000; stroke-linecap:round; stroke-linejoin:round; stroke-width:2; stroke-opacity:0.1; fill:none\" points=\"\n",
       "  175.445,1384.24 2352.76,1384.24 \n",
       "  \"/>\n",
       "<polyline clip-path=\"url(#clip012)\" style=\"stroke:#000000; stroke-linecap:round; stroke-linejoin:round; stroke-width:2; stroke-opacity:0.1; fill:none\" points=\"\n",
       "  175.445,1124.63 2352.76,1124.63 \n",
       "  \"/>\n",
       "<polyline clip-path=\"url(#clip012)\" style=\"stroke:#000000; stroke-linecap:round; stroke-linejoin:round; stroke-width:2; stroke-opacity:0.1; fill:none\" points=\"\n",
       "  175.445,865.017 2352.76,865.017 \n",
       "  \"/>\n",
       "<polyline clip-path=\"url(#clip012)\" style=\"stroke:#000000; stroke-linecap:round; stroke-linejoin:round; stroke-width:2; stroke-opacity:0.1; fill:none\" points=\"\n",
       "  175.445,605.407 2352.76,605.407 \n",
       "  \"/>\n",
       "<polyline clip-path=\"url(#clip012)\" style=\"stroke:#000000; stroke-linecap:round; stroke-linejoin:round; stroke-width:2; stroke-opacity:0.1; fill:none\" points=\"\n",
       "  175.445,345.796 2352.76,345.796 \n",
       "  \"/>\n",
       "<polyline clip-path=\"url(#clip012)\" style=\"stroke:#000000; stroke-linecap:round; stroke-linejoin:round; stroke-width:2; stroke-opacity:0.1; fill:none\" points=\"\n",
       "  175.445,86.1857 2352.76,86.1857 \n",
       "  \"/>\n",
       "<polyline clip-path=\"url(#clip010)\" style=\"stroke:#000000; stroke-linecap:round; stroke-linejoin:round; stroke-width:4; stroke-opacity:1; fill:none\" points=\"\n",
       "  175.445,1423.18 175.445,47.2441 \n",
       "  \"/>\n",
       "<polyline clip-path=\"url(#clip010)\" style=\"stroke:#000000; stroke-linecap:round; stroke-linejoin:round; stroke-width:4; stroke-opacity:1; fill:none\" points=\"\n",
       "  175.445,1384.24 194.343,1384.24 \n",
       "  \"/>\n",
       "<polyline clip-path=\"url(#clip010)\" style=\"stroke:#000000; stroke-linecap:round; stroke-linejoin:round; stroke-width:4; stroke-opacity:1; fill:none\" points=\"\n",
       "  175.445,1124.63 194.343,1124.63 \n",
       "  \"/>\n",
       "<polyline clip-path=\"url(#clip010)\" style=\"stroke:#000000; stroke-linecap:round; stroke-linejoin:round; stroke-width:4; stroke-opacity:1; fill:none\" points=\"\n",
       "  175.445,865.017 194.343,865.017 \n",
       "  \"/>\n",
       "<polyline clip-path=\"url(#clip010)\" style=\"stroke:#000000; stroke-linecap:round; stroke-linejoin:round; stroke-width:4; stroke-opacity:1; fill:none\" points=\"\n",
       "  175.445,605.407 194.343,605.407 \n",
       "  \"/>\n",
       "<polyline clip-path=\"url(#clip010)\" style=\"stroke:#000000; stroke-linecap:round; stroke-linejoin:round; stroke-width:4; stroke-opacity:1; fill:none\" points=\"\n",
       "  175.445,345.796 194.343,345.796 \n",
       "  \"/>\n",
       "<polyline clip-path=\"url(#clip010)\" style=\"stroke:#000000; stroke-linecap:round; stroke-linejoin:round; stroke-width:4; stroke-opacity:1; fill:none\" points=\"\n",
       "  175.445,86.1857 194.343,86.1857 \n",
       "  \"/>\n",
       "<path clip-path=\"url(#clip010)\" d=\"M119.538 1397.58 L127.177 1397.58 L127.177 1371.22 L118.867 1372.88 L118.867 1368.62 L127.13 1366.96 L131.806 1366.96 L131.806 1397.58 L139.445 1397.58 L139.445 1401.52 L119.538 1401.52 L119.538 1397.58 Z\" fill=\"#000000\" fill-rule=\"evenodd\" fill-opacity=\"1\" /><path clip-path=\"url(#clip010)\" d=\"M123.126 1137.97 L139.445 1137.97 L139.445 1141.91 L117.501 1141.91 L117.501 1137.97 Q120.163 1135.22 124.746 1130.59 Q129.353 1125.94 130.533 1124.59 Q132.779 1122.07 133.658 1120.33 Q134.561 1118.57 134.561 1116.88 Q134.561 1114.13 132.617 1112.39 Q130.695 1110.66 127.593 1110.66 Q125.394 1110.66 122.941 1111.42 Q120.51 1112.19 117.732 1113.74 L117.732 1109.01 Q120.556 1107.88 123.01 1107.3 Q125.464 1106.72 127.501 1106.72 Q132.871 1106.72 136.066 1109.41 Q139.26 1112.09 139.26 1116.58 Q139.26 1118.71 138.45 1120.63 Q137.663 1122.53 135.556 1125.13 Q134.978 1125.8 131.876 1129.01 Q128.774 1132.21 123.126 1137.97 Z\" fill=\"#000000\" fill-rule=\"evenodd\" fill-opacity=\"1\" /><path clip-path=\"url(#clip010)\" d=\"M132.316 863.663 Q135.672 864.381 137.547 866.649 Q139.445 868.918 139.445 872.251 Q139.445 877.367 135.927 880.168 Q132.408 882.969 125.927 882.969 Q123.751 882.969 121.436 882.529 Q119.144 882.112 116.691 881.256 L116.691 876.742 Q118.635 877.876 120.95 878.455 Q123.265 879.033 125.788 879.033 Q130.186 879.033 132.478 877.297 Q134.792 875.561 134.792 872.251 Q134.792 869.195 132.64 867.482 Q130.51 865.746 126.691 865.746 L122.663 865.746 L122.663 861.904 L126.876 861.904 Q130.325 861.904 132.154 860.538 Q133.982 859.149 133.982 856.557 Q133.982 853.895 132.084 852.483 Q130.209 851.047 126.691 851.047 Q124.769 851.047 122.57 851.464 Q120.371 851.881 117.732 852.76 L117.732 848.594 Q120.394 847.853 122.709 847.483 Q125.047 847.112 127.107 847.112 Q132.431 847.112 135.533 849.543 Q138.635 851.95 138.635 856.071 Q138.635 858.941 136.992 860.932 Q135.348 862.899 132.316 863.663 Z\" fill=\"#000000\" fill-rule=\"evenodd\" fill-opacity=\"1\" /><path clip-path=\"url(#clip010)\" d=\"M129.862 592.201 L118.056 610.65 L129.862 610.65 L129.862 592.201 M128.635 588.127 L134.515 588.127 L134.515 610.65 L139.445 610.65 L139.445 614.539 L134.515 614.539 L134.515 622.687 L129.862 622.687 L129.862 614.539 L114.26 614.539 L114.26 610.025 L128.635 588.127 Z\" fill=\"#000000\" fill-rule=\"evenodd\" fill-opacity=\"1\" /><path clip-path=\"url(#clip010)\" d=\"M118.543 328.516 L136.899 328.516 L136.899 332.451 L122.825 332.451 L122.825 340.924 Q123.843 340.576 124.862 340.414 Q125.88 340.229 126.899 340.229 Q132.686 340.229 136.066 343.4 Q139.445 346.572 139.445 351.988 Q139.445 357.567 135.973 360.669 Q132.501 363.747 126.181 363.747 Q124.005 363.747 121.737 363.377 Q119.492 363.007 117.084 362.266 L117.084 357.567 Q119.168 358.701 121.39 359.257 Q123.612 359.812 126.089 359.812 Q130.093 359.812 132.431 357.706 Q134.769 355.599 134.769 351.988 Q134.769 348.377 132.431 346.271 Q130.093 344.164 126.089 344.164 Q124.214 344.164 122.339 344.581 Q120.487 344.998 118.543 345.877 L118.543 328.516 Z\" fill=\"#000000\" fill-rule=\"evenodd\" fill-opacity=\"1\" /><path clip-path=\"url(#clip010)\" d=\"M127.917 84.3223 Q124.769 84.3223 122.918 86.475 Q121.089 88.6278 121.089 92.3778 Q121.089 96.1046 122.918 98.2805 Q124.769 100.433 127.917 100.433 Q131.066 100.433 132.894 98.2805 Q134.746 96.1046 134.746 92.3778 Q134.746 88.6278 132.894 86.475 Q131.066 84.3223 127.917 84.3223 M137.2 69.6696 L137.2 73.9288 Q135.441 73.0955 133.635 72.6557 Q131.853 72.2158 130.093 72.2158 Q125.464 72.2158 123.01 75.3408 Q120.58 78.4658 120.232 84.7852 Q121.598 82.7713 123.658 81.7065 Q125.718 80.6186 128.195 80.6186 Q133.404 80.6186 136.413 83.7899 Q139.445 86.938 139.445 92.3778 Q139.445 97.7018 136.297 100.919 Q133.149 104.137 127.917 104.137 Q121.922 104.137 118.751 99.5537 Q115.58 94.9472 115.58 86.2204 Q115.58 78.026 119.468 73.1649 Q123.357 68.2807 129.908 68.2807 Q131.667 68.2807 133.45 68.6279 Q135.255 68.9751 137.2 69.6696 Z\" fill=\"#000000\" fill-rule=\"evenodd\" fill-opacity=\"1\" /><path clip-path=\"url(#clip010)\" d=\"M46.212 725.345 Q39.7508 725.345 36.0905 728.019 Q32.3984 730.66 32.3984 735.307 Q32.3984 739.954 36.0905 742.628 Q39.7508 745.27 46.212 745.27 Q52.6732 745.27 56.3653 742.628 Q60.0256 739.954 60.0256 735.307 Q60.0256 730.66 56.3653 728.019 Q52.6732 725.345 46.212 725.345 M33.7671 745.27 Q30.5842 743.424 29.0564 740.623 Q27.4968 737.79 27.4968 733.875 Q27.4968 727.382 32.6531 723.34 Q37.8093 719.266 46.212 719.266 Q54.6147 719.266 59.771 723.34 Q64.9272 727.382 64.9272 733.875 Q64.9272 737.79 63.3994 740.623 Q61.8398 743.424 58.657 745.27 L64.0042 745.27 L64.0042 751.158 L14.479 751.158 L14.479 745.27 L33.7671 745.27 Z\" fill=\"#000000\" fill-rule=\"evenodd\" fill-opacity=\"1\" /><circle clip-path=\"url(#clip012)\" cx=\"237.067\" cy=\"1384.24\" r=\"14.4\" fill=\"#009af9\" fill-rule=\"evenodd\" fill-opacity=\"1\" stroke=\"#000000\" stroke-opacity=\"1\" stroke-width=\"3.2\"/>\n",
       "<circle clip-path=\"url(#clip012)\" cx=\"1117.38\" cy=\"1124.63\" r=\"14.4\" fill=\"#009af9\" fill-rule=\"evenodd\" fill-opacity=\"1\" stroke=\"#000000\" stroke-opacity=\"1\" stroke-width=\"3.2\"/>\n",
       "<circle clip-path=\"url(#clip012)\" cx=\"1410.82\" cy=\"86.1857\" r=\"14.4\" fill=\"#009af9\" fill-rule=\"evenodd\" fill-opacity=\"1\" stroke=\"#000000\" stroke-opacity=\"1\" stroke-width=\"3.2\"/>\n",
       "<circle clip-path=\"url(#clip012)\" cx=\"2291.13\" cy=\"605.407\" r=\"14.4\" fill=\"#009af9\" fill-rule=\"evenodd\" fill-opacity=\"1\" stroke=\"#000000\" stroke-opacity=\"1\" stroke-width=\"3.2\"/>\n",
       "<circle clip-path=\"url(#clip012)\" cx=\"237.067\" cy=\"1254.43\" r=\"14.4\" fill=\"#e26f46\" fill-rule=\"evenodd\" fill-opacity=\"1\" stroke=\"#000000\" stroke-opacity=\"1\" stroke-width=\"3.2\"/>\n",
       "<circle clip-path=\"url(#clip012)\" cx=\"1117.38\" cy=\"865.017\" r=\"14.4\" fill=\"#e26f46\" fill-rule=\"evenodd\" fill-opacity=\"1\" stroke=\"#000000\" stroke-opacity=\"1\" stroke-width=\"3.2\"/>\n",
       "<circle clip-path=\"url(#clip012)\" cx=\"1410.82\" cy=\"735.212\" r=\"14.4\" fill=\"#e26f46\" fill-rule=\"evenodd\" fill-opacity=\"1\" stroke=\"#000000\" stroke-opacity=\"1\" stroke-width=\"3.2\"/>\n",
       "<circle clip-path=\"url(#clip012)\" cx=\"2291.13\" cy=\"345.796\" r=\"14.4\" fill=\"#e26f46\" fill-rule=\"evenodd\" fill-opacity=\"1\" stroke=\"#000000\" stroke-opacity=\"1\" stroke-width=\"3.2\"/>\n",
       "<polyline clip-path=\"url(#clip012)\" style=\"stroke:#3da44d; stroke-linecap:round; stroke-linejoin:round; stroke-width:4; stroke-opacity:1; fill:none\" points=\"\n",
       "  237.067,1254.43 250.44,1248.52 374.094,1193.82 448.405,1160.95 511.233,1133.15 579.483,1102.96 642.403,1075.13 709.86,1045.29 788.015,1010.72 857.471,979.991 \n",
       "  918.377,953.049 984.781,923.674 1051.58,894.125 1125.43,861.455 1195.7,830.37 1268.77,798.049 1330.28,770.841 1405.37,737.624 1474.15,707.195 1537.69,679.091 \n",
       "  1602.04,650.623 1674.16,618.719 1739.52,589.808 1814.35,556.707 1883.63,526.058 1951.94,495.842 2018.26,466.505 2086.24,436.431 2160.73,403.481 2268.94,355.616 \n",
       "  2291.13,345.796 \n",
       "  \"/>\n",
       "<path clip-path=\"url(#clip010)\" d=\"\n",
       "M1893.58 300.469 L2280.18 300.469 L2280.18 93.1086 L1893.58 93.1086  Z\n",
       "  \" fill=\"#ffffff\" fill-rule=\"evenodd\" fill-opacity=\"1\"/>\n",
       "<polyline clip-path=\"url(#clip010)\" style=\"stroke:#000000; stroke-linecap:round; stroke-linejoin:round; stroke-width:4; stroke-opacity:1; fill:none\" points=\"\n",
       "  1893.58,300.469 2280.18,300.469 2280.18,93.1086 1893.58,93.1086 1893.58,300.469 \n",
       "  \"/>\n",
       "<circle clip-path=\"url(#clip010)\" cx=\"1990.35\" cy=\"144.949\" r=\"23.04\" fill=\"#009af9\" fill-rule=\"evenodd\" fill-opacity=\"1\" stroke=\"#000000\" stroke-opacity=\"1\" stroke-width=\"5.12\"/>\n",
       "<path clip-path=\"url(#clip010)\" d=\"M2106.03 140.238 L2106.03 126.21 L2110.29 126.21 L2110.29 162.229 L2106.03 162.229 L2106.03 158.34 Q2104.69 160.655 2102.63 161.789 Q2100.59 162.9 2097.72 162.9 Q2093.02 162.9 2090.06 159.15 Q2087.12 155.4 2087.12 149.289 Q2087.12 143.178 2090.06 139.428 Q2093.02 135.678 2097.72 135.678 Q2100.59 135.678 2102.63 136.812 Q2104.69 137.923 2106.03 140.238 M2091.52 149.289 Q2091.52 153.988 2093.44 156.673 Q2095.38 159.335 2098.76 159.335 Q2102.14 159.335 2104.09 156.673 Q2106.03 153.988 2106.03 149.289 Q2106.03 144.59 2104.09 141.928 Q2102.14 139.243 2098.76 139.243 Q2095.38 139.243 2093.44 141.928 Q2091.52 144.59 2091.52 149.289 Z\" fill=\"#000000\" fill-rule=\"evenodd\" fill-opacity=\"1\" /><path clip-path=\"url(#clip010)\" d=\"M2130.85 149.196 Q2125.68 149.196 2123.69 150.377 Q2121.7 151.557 2121.7 154.405 Q2121.7 156.673 2123.18 158.016 Q2124.69 159.335 2127.26 159.335 Q2130.8 159.335 2132.93 156.835 Q2135.08 154.312 2135.08 150.145 L2135.08 149.196 L2130.85 149.196 M2139.34 147.437 L2139.34 162.229 L2135.08 162.229 L2135.08 158.293 Q2133.62 160.655 2131.45 161.789 Q2129.27 162.9 2126.12 162.9 Q2122.14 162.9 2119.78 160.678 Q2117.44 158.432 2117.44 154.682 Q2117.44 150.307 2120.36 148.085 Q2123.3 145.863 2129.11 145.863 L2135.08 145.863 L2135.08 145.446 Q2135.08 142.507 2133.14 140.909 Q2131.22 139.289 2127.72 139.289 Q2125.5 139.289 2123.39 139.821 Q2121.29 140.354 2119.34 141.419 L2119.34 137.483 Q2121.68 136.581 2123.88 136.141 Q2126.08 135.678 2128.16 135.678 Q2133.79 135.678 2136.56 138.594 Q2139.34 141.511 2139.34 147.437 Z\" fill=\"#000000\" fill-rule=\"evenodd\" fill-opacity=\"1\" /><path clip-path=\"url(#clip010)\" d=\"M2152.33 128.942 L2152.33 136.303 L2161.1 136.303 L2161.1 139.613 L2152.33 139.613 L2152.33 153.687 Q2152.33 156.858 2153.18 157.761 Q2154.06 158.664 2156.73 158.664 L2161.1 158.664 L2161.1 162.229 L2156.73 162.229 Q2151.79 162.229 2149.92 160.4 Q2148.04 158.548 2148.04 153.687 L2148.04 139.613 L2144.92 139.613 L2144.92 136.303 L2148.04 136.303 L2148.04 128.942 L2152.33 128.942 Z\" fill=\"#000000\" fill-rule=\"evenodd\" fill-opacity=\"1\" /><path clip-path=\"url(#clip010)\" d=\"M2178.48 149.196 Q2173.32 149.196 2171.33 150.377 Q2169.34 151.557 2169.34 154.405 Q2169.34 156.673 2170.82 158.016 Q2172.33 159.335 2174.9 159.335 Q2178.44 159.335 2180.57 156.835 Q2182.72 154.312 2182.72 150.145 L2182.72 149.196 L2178.48 149.196 M2186.98 147.437 L2186.98 162.229 L2182.72 162.229 L2182.72 158.293 Q2181.26 160.655 2179.09 161.789 Q2176.91 162.9 2173.76 162.9 Q2169.78 162.9 2167.42 160.678 Q2165.08 158.432 2165.08 154.682 Q2165.08 150.307 2168 148.085 Q2170.94 145.863 2176.75 145.863 L2182.72 145.863 L2182.72 145.446 Q2182.72 142.507 2180.78 140.909 Q2178.85 139.289 2175.36 139.289 Q2173.14 139.289 2171.03 139.821 Q2168.92 140.354 2166.98 141.419 L2166.98 137.483 Q2169.32 136.581 2171.52 136.141 Q2173.72 135.678 2175.8 135.678 Q2181.42 135.678 2184.2 138.594 Q2186.98 141.511 2186.98 147.437 Z\" fill=\"#000000\" fill-rule=\"evenodd\" fill-opacity=\"1\" /><circle clip-path=\"url(#clip010)\" cx=\"1990.35\" cy=\"196.789\" r=\"23.04\" fill=\"#e26f46\" fill-rule=\"evenodd\" fill-opacity=\"1\" stroke=\"#000000\" stroke-opacity=\"1\" stroke-width=\"5.12\"/>\n",
       "<path clip-path=\"url(#clip010)\" d=\"M2087.12 178.05 L2091.38 178.05 L2091.38 214.069 L2087.12 214.069 L2087.12 178.05 Z\" fill=\"#000000\" fill-rule=\"evenodd\" fill-opacity=\"1\" /><path clip-path=\"url(#clip010)\" d=\"M2100.29 178.05 L2104.55 178.05 L2104.55 214.069 L2100.29 214.069 L2100.29 178.05 Z\" fill=\"#000000\" fill-rule=\"evenodd\" fill-opacity=\"1\" /><path clip-path=\"url(#clip010)\" d=\"M2129.99 188.907 L2129.99 192.934 Q2128.18 192.009 2126.24 191.546 Q2124.29 191.083 2122.21 191.083 Q2119.04 191.083 2117.44 192.055 Q2115.87 193.027 2115.87 194.971 Q2115.87 196.453 2117 197.309 Q2118.14 198.143 2121.56 198.907 L2123.02 199.231 Q2127.56 200.203 2129.46 201.985 Q2131.38 203.745 2131.38 206.916 Q2131.38 210.527 2128.51 212.633 Q2125.66 214.74 2120.66 214.74 Q2118.58 214.74 2116.31 214.323 Q2114.06 213.93 2111.56 213.12 L2111.56 208.721 Q2113.92 209.948 2116.22 210.573 Q2118.51 211.175 2120.75 211.175 Q2123.76 211.175 2125.38 210.157 Q2127 209.115 2127 207.24 Q2127 205.504 2125.82 204.578 Q2124.67 203.652 2120.71 202.796 L2119.23 202.448 Q2115.27 201.615 2113.51 199.902 Q2111.75 198.166 2111.75 195.157 Q2111.75 191.499 2114.34 189.509 Q2116.93 187.518 2121.7 187.518 Q2124.06 187.518 2126.15 187.865 Q2128.23 188.212 2129.99 188.907 Z\" fill=\"#000000\" fill-rule=\"evenodd\" fill-opacity=\"1\" /><polyline clip-path=\"url(#clip010)\" style=\"stroke:#3da44d; stroke-linecap:round; stroke-linejoin:round; stroke-width:4; stroke-opacity:1; fill:none\" points=\"\n",
       "  1917.77,248.629 2062.93,248.629 \n",
       "  \"/>\n",
       "<path clip-path=\"url(#clip010)\" d=\"M2087.12 229.89 L2091.38 229.89 L2091.38 265.909 L2087.12 265.909 L2087.12 229.89 Z\" fill=\"#000000\" fill-rule=\"evenodd\" fill-opacity=\"1\" /><path clip-path=\"url(#clip010)\" d=\"M2100.29 229.89 L2104.55 229.89 L2104.55 265.909 L2100.29 265.909 L2100.29 229.89 Z\" fill=\"#000000\" fill-rule=\"evenodd\" fill-opacity=\"1\" /><path clip-path=\"url(#clip010)\" d=\"M2129.99 240.747 L2129.99 244.774 Q2128.18 243.849 2126.24 243.386 Q2124.29 242.923 2122.21 242.923 Q2119.04 242.923 2117.44 243.895 Q2115.87 244.867 2115.87 246.811 Q2115.87 248.293 2117 249.149 Q2118.14 249.983 2121.56 250.747 L2123.02 251.071 Q2127.56 252.043 2129.46 253.825 Q2131.38 255.585 2131.38 258.756 Q2131.38 262.367 2128.51 264.473 Q2125.66 266.58 2120.66 266.58 Q2118.58 266.58 2116.31 266.163 Q2114.06 265.77 2111.56 264.96 L2111.56 260.561 Q2113.92 261.788 2116.22 262.413 Q2118.51 263.015 2120.75 263.015 Q2123.76 263.015 2125.38 261.997 Q2127 260.955 2127 259.08 Q2127 257.344 2125.82 256.418 Q2124.67 255.492 2120.71 254.636 L2119.23 254.288 Q2115.27 253.455 2113.51 251.742 Q2111.75 250.006 2111.75 246.997 Q2111.75 243.339 2114.34 241.349 Q2116.93 239.358 2121.7 239.358 Q2124.06 239.358 2126.15 239.705 Q2128.23 240.052 2129.99 240.747 Z\" fill=\"#000000\" fill-rule=\"evenodd\" fill-opacity=\"1\" /><path clip-path=\"url(#clip010)\" d=\"M2153.23 229.89 L2157.49 229.89 L2157.49 265.909 L2153.23 265.909 L2153.23 229.89 Z\" fill=\"#000000\" fill-rule=\"evenodd\" fill-opacity=\"1\" /><path clip-path=\"url(#clip010)\" d=\"M2166.4 239.983 L2170.66 239.983 L2170.66 265.909 L2166.4 265.909 L2166.4 239.983 M2166.4 229.89 L2170.66 229.89 L2170.66 235.284 L2166.4 235.284 L2166.4 229.89 Z\" fill=\"#000000\" fill-rule=\"evenodd\" fill-opacity=\"1\" /><path clip-path=\"url(#clip010)\" d=\"M2201.12 250.261 L2201.12 265.909 L2196.86 265.909 L2196.86 250.399 Q2196.86 246.719 2195.43 244.89 Q2193.99 243.062 2191.12 243.062 Q2187.67 243.062 2185.68 245.261 Q2183.69 247.46 2183.69 251.256 L2183.69 265.909 L2179.41 265.909 L2179.41 239.983 L2183.69 239.983 L2183.69 244.011 Q2185.22 241.673 2187.28 240.515 Q2189.36 239.358 2192.07 239.358 Q2196.54 239.358 2198.83 242.136 Q2201.12 244.89 2201.12 250.261 Z\" fill=\"#000000\" fill-rule=\"evenodd\" fill-opacity=\"1\" /><path clip-path=\"url(#clip010)\" d=\"M2231.79 251.881 L2231.79 253.964 L2212.21 253.964 Q2212.49 258.362 2214.85 260.677 Q2217.23 262.969 2221.47 262.969 Q2223.92 262.969 2226.22 262.367 Q2228.53 261.765 2230.8 260.561 L2230.8 264.589 Q2228.51 265.561 2226.1 266.071 Q2223.69 266.58 2221.22 266.58 Q2215.01 266.58 2211.38 262.969 Q2207.77 259.358 2207.77 253.2 Q2207.77 246.835 2211.19 243.108 Q2214.64 239.358 2220.47 239.358 Q2225.71 239.358 2228.74 242.737 Q2231.79 246.094 2231.79 251.881 M2227.53 250.631 Q2227.49 247.136 2225.57 245.052 Q2223.67 242.969 2220.52 242.969 Q2216.96 242.969 2214.8 244.983 Q2212.67 246.997 2212.35 250.654 L2227.53 250.631 Z\" fill=\"#000000\" fill-rule=\"evenodd\" fill-opacity=\"1\" /></svg>\n"
      ]
     },
     "execution_count": 14,
     "metadata": {},
     "output_type": "execute_result"
    }
   ],
   "source": [
    "using LinearAlgebra\n",
    "\n",
    "function myLLS(α,b)\n",
    "    \n",
    "    m = length(α)\n",
    "    A = [ones(m) α]\n",
    "    x = A'*A\\A'*b\n",
    "    return a->x[1]+x[2]*a \n",
    "end\n",
    "\n",
    "α = [0;3;4;7]\n",
    "b = [1;2;6;4]\n",
    "f = myLLS(α,b)\n",
    "\n",
    "using Plots\n",
    "scatter(α,b,xlabel=\"α\",ylabel=\"b\",label=\"data\")\n",
    "scatter!(α,f.(α),label=\"lls\")\n",
    "plot!(f,label=\"lls line\")"
   ]
  },
  {
   "cell_type": "markdown",
   "id": "b3ea4054-b767-4ab0-99fc-d532845feea2",
   "metadata": {},
   "source": [
    "# PS.3 (svd)\n",
    "\n",
    "For $m\\geq n$, let $A\\in\\mathbb{R}^{m\\times n}$ with $rank(A)=p$. \n",
    "\n",
    "- The matrix $A^\\top A\\in\\mathbb{R}^{n\\times n}$ has eigenvalues $\\lambda_1\\geq \\ldots\\geq \\lambda_p>0$ with pairwise orthonormal eigenvectors $v_1,\\ldots,v_p\\in\\mathbb{R}^n$ that are collected into\n",
    "\n",
    "\\begin{equation*}\n",
    "V:=(v_1,\\ldots,v_p)\\in\\mathbb{R}^{n\\times p}.\n",
    "\\end{equation*}\n",
    "\n",
    "\n",
    "- The singular values $\\sigma_k:=\\sqrt{\\lambda_k}$, for $k=1,\\ldots,p$, are collected into\n",
    "\n",
    "\\begin{equation*}\n",
    " \\Sigma:=diag(\\sigma_1,\\ldots,\\sigma_p)\\in\\mathbb{R}^{p\\times p}.\n",
    "\\end{equation*}\n",
    "\n",
    "- Define $u_k : = \\frac{1}{\\sigma_k} A v_k$, for $k=1,\\ldots,p$, and build\n",
    "\n",
    "\\begin{equation*}\n",
    "U:=(u_1,\\ldots,u_p)\\in\\mathbb{R}^{m\\times p}.\n",
    "\\end{equation*}\n",
    "\n",
    "\n",
    "Then we obtain the decomposition\n",
    "\n",
    "\\begin{equation*}\n",
    "A = U\\Sigma V^\\top.\n",
    "\\end{equation*}\n",
    "\n",
    "The pseudo inverse of $A$ is $A^\\# = V\\Sigma^{-1}U^\\top$. \n",
    "\n",
    "a) Write a julia function that takes input $A$ and returns $U$, $\\sigma_1,\\ldots,\\sigma_p$, and $V$. \n",
    "\n",
    "b) Write a julia function that takes input $A$ and returns $A^\\#$. Eventually use $A^\\#$ to compute $f$ in part a) of PS.3 (lls via normal equations)."
   ]
  },
  {
   "cell_type": "code",
   "execution_count": 15,
   "id": "e7dd1d0b-f5f2-4cea-81a6-61047a575257",
   "metadata": {
    "tags": []
   },
   "outputs": [
    {
     "data": {
      "text/plain": [
       "myPinv (generic function with 1 method)"
      ]
     },
     "execution_count": 15,
     "metadata": {},
     "output_type": "execute_result"
    }
   ],
   "source": [
    "# ?eigen\n",
    "# ?sortperm\n",
    "# ?findall\n",
    "function mySVD(A)\n",
    "    \n",
    "    F = eigen(A'*A)\n",
    "    perm = sortperm(F.values;rev = true)\n",
    "    λ = F.values[perm]\n",
    "    V = F.vectors[:,perm]\n",
    "    \n",
    "    p = length(findall(λ.>0))\n",
    "    σ = sqrt.(λ[1:p])\n",
    "    m = size(A,1)\n",
    "    U = zeros(m,p)\n",
    "    \n",
    "    for k in 1:p\n",
    "        U[:,k] = 1/σ[k] * A*V[:,k]\n",
    "    end\n",
    "    \n",
    "    return U,σ,V[:,1:p]\n",
    "end\n",
    "\n",
    "function myPinv(A)\n",
    "    U,σ,V = mySVD(A)\n",
    "    return V*Diagonal(1 ./σ)*U'\n",
    "end"
   ]
  },
  {
   "cell_type": "code",
   "execution_count": 16,
   "id": "639a8c3c-0c59-451c-8107-edfd8a6c4536",
   "metadata": {},
   "outputs": [
    {
     "data": {
      "image/svg+xml": [
       "<?xml version=\"1.0\" encoding=\"utf-8\"?>\n",
       "<svg xmlns=\"http://www.w3.org/2000/svg\" xmlns:xlink=\"http://www.w3.org/1999/xlink\" width=\"600\" height=\"400\" viewBox=\"0 0 2400 1600\">\n",
       "<defs>\n",
       "  <clipPath id=\"clip050\">\n",
       "    <rect x=\"0\" y=\"0\" width=\"2400\" height=\"1600\"/>\n",
       "  </clipPath>\n",
       "</defs>\n",
       "<path clip-path=\"url(#clip050)\" d=\"\n",
       "M0 1600 L2400 1600 L2400 0 L0 0  Z\n",
       "  \" fill=\"#ffffff\" fill-rule=\"evenodd\" fill-opacity=\"1\"/>\n",
       "<defs>\n",
       "  <clipPath id=\"clip051\">\n",
       "    <rect x=\"480\" y=\"0\" width=\"1681\" height=\"1600\"/>\n",
       "  </clipPath>\n",
       "</defs>\n",
       "<path clip-path=\"url(#clip050)\" d=\"\n",
       "M175.445 1423.18 L2352.76 1423.18 L2352.76 47.2441 L175.445 47.2441  Z\n",
       "  \" fill=\"#ffffff\" fill-rule=\"evenodd\" fill-opacity=\"1\"/>\n",
       "<defs>\n",
       "  <clipPath id=\"clip052\">\n",
       "    <rect x=\"175\" y=\"47\" width=\"2178\" height=\"1377\"/>\n",
       "  </clipPath>\n",
       "</defs>\n",
       "<polyline clip-path=\"url(#clip052)\" style=\"stroke:#000000; stroke-linecap:round; stroke-linejoin:round; stroke-width:2; stroke-opacity:0.1; fill:none\" points=\"\n",
       "  237.067,1423.18 237.067,47.2441 \n",
       "  \"/>\n",
       "<polyline clip-path=\"url(#clip052)\" style=\"stroke:#000000; stroke-linecap:round; stroke-linejoin:round; stroke-width:2; stroke-opacity:0.1; fill:none\" points=\"\n",
       "  823.943,1423.18 823.943,47.2441 \n",
       "  \"/>\n",
       "<polyline clip-path=\"url(#clip052)\" style=\"stroke:#000000; stroke-linecap:round; stroke-linejoin:round; stroke-width:2; stroke-opacity:0.1; fill:none\" points=\"\n",
       "  1410.82,1423.18 1410.82,47.2441 \n",
       "  \"/>\n",
       "<polyline clip-path=\"url(#clip052)\" style=\"stroke:#000000; stroke-linecap:round; stroke-linejoin:round; stroke-width:2; stroke-opacity:0.1; fill:none\" points=\"\n",
       "  1997.7,1423.18 1997.7,47.2441 \n",
       "  \"/>\n",
       "<polyline clip-path=\"url(#clip050)\" style=\"stroke:#000000; stroke-linecap:round; stroke-linejoin:round; stroke-width:4; stroke-opacity:1; fill:none\" points=\"\n",
       "  175.445,1423.18 2352.76,1423.18 \n",
       "  \"/>\n",
       "<polyline clip-path=\"url(#clip050)\" style=\"stroke:#000000; stroke-linecap:round; stroke-linejoin:round; stroke-width:4; stroke-opacity:1; fill:none\" points=\"\n",
       "  237.067,1423.18 237.067,1404.28 \n",
       "  \"/>\n",
       "<polyline clip-path=\"url(#clip050)\" style=\"stroke:#000000; stroke-linecap:round; stroke-linejoin:round; stroke-width:4; stroke-opacity:1; fill:none\" points=\"\n",
       "  823.943,1423.18 823.943,1404.28 \n",
       "  \"/>\n",
       "<polyline clip-path=\"url(#clip050)\" style=\"stroke:#000000; stroke-linecap:round; stroke-linejoin:round; stroke-width:4; stroke-opacity:1; fill:none\" points=\"\n",
       "  1410.82,1423.18 1410.82,1404.28 \n",
       "  \"/>\n",
       "<polyline clip-path=\"url(#clip050)\" style=\"stroke:#000000; stroke-linecap:round; stroke-linejoin:round; stroke-width:4; stroke-opacity:1; fill:none\" points=\"\n",
       "  1997.7,1423.18 1997.7,1404.28 \n",
       "  \"/>\n",
       "<path clip-path=\"url(#clip050)\" d=\"M237.067 1454.1 Q233.456 1454.1 231.627 1457.66 Q229.822 1461.2 229.822 1468.33 Q229.822 1475.44 231.627 1479.01 Q233.456 1482.55 237.067 1482.55 Q240.701 1482.55 242.507 1479.01 Q244.336 1475.44 244.336 1468.33 Q244.336 1461.2 242.507 1457.66 Q240.701 1454.1 237.067 1454.1 M237.067 1450.39 Q242.877 1450.39 245.933 1455 Q249.012 1459.58 249.012 1468.33 Q249.012 1477.06 245.933 1481.67 Q242.877 1486.25 237.067 1486.25 Q231.257 1486.25 228.178 1481.67 Q225.123 1477.06 225.123 1468.33 Q225.123 1459.58 228.178 1455 Q231.257 1450.39 237.067 1450.39 Z\" fill=\"#000000\" fill-rule=\"evenodd\" fill-opacity=\"1\" /><path clip-path=\"url(#clip050)\" d=\"M818.596 1481.64 L834.916 1481.64 L834.916 1485.58 L812.971 1485.58 L812.971 1481.64 Q815.633 1478.89 820.217 1474.26 Q824.823 1469.61 826.004 1468.27 Q828.249 1465.74 829.129 1464.01 Q830.031 1462.25 830.031 1460.56 Q830.031 1457.8 828.087 1456.07 Q826.166 1454.33 823.064 1454.33 Q820.865 1454.33 818.411 1455.09 Q815.98 1455.86 813.203 1457.41 L813.203 1452.69 Q816.027 1451.55 818.48 1450.97 Q820.934 1450.39 822.971 1450.39 Q828.342 1450.39 831.536 1453.08 Q834.73 1455.77 834.73 1460.26 Q834.73 1462.39 833.92 1464.31 Q833.133 1466.2 831.027 1468.8 Q830.448 1469.47 827.346 1472.69 Q824.244 1475.88 818.596 1481.64 Z\" fill=\"#000000\" fill-rule=\"evenodd\" fill-opacity=\"1\" /><path clip-path=\"url(#clip050)\" d=\"M1413.83 1455.09 L1402.02 1473.54 L1413.83 1473.54 L1413.83 1455.09 M1412.6 1451.02 L1418.48 1451.02 L1418.48 1473.54 L1423.41 1473.54 L1423.41 1477.43 L1418.48 1477.43 L1418.48 1485.58 L1413.83 1485.58 L1413.83 1477.43 L1398.23 1477.43 L1398.23 1472.92 L1412.6 1451.02 Z\" fill=\"#000000\" fill-rule=\"evenodd\" fill-opacity=\"1\" /><path clip-path=\"url(#clip050)\" d=\"M1998.1 1466.44 Q1994.95 1466.44 1993.1 1468.59 Q1991.27 1470.74 1991.27 1474.49 Q1991.27 1478.22 1993.1 1480.39 Q1994.95 1482.55 1998.1 1482.55 Q2001.25 1482.55 2003.08 1480.39 Q2004.93 1478.22 2004.93 1474.49 Q2004.93 1470.74 2003.08 1468.59 Q2001.25 1466.44 1998.1 1466.44 M2007.38 1451.78 L2007.38 1456.04 Q2005.62 1455.21 2003.82 1454.77 Q2002.04 1454.33 2000.28 1454.33 Q1995.65 1454.33 1993.19 1457.45 Q1990.76 1460.58 1990.42 1466.9 Q1991.78 1464.89 1993.84 1463.82 Q1995.9 1462.73 1998.38 1462.73 Q2003.59 1462.73 2006.6 1465.9 Q2009.63 1469.05 2009.63 1474.49 Q2009.63 1479.82 2006.48 1483.03 Q2003.33 1486.25 1998.1 1486.25 Q1992.11 1486.25 1988.93 1481.67 Q1985.76 1477.06 1985.76 1468.33 Q1985.76 1460.14 1989.65 1455.28 Q1993.54 1450.39 2000.09 1450.39 Q2001.85 1450.39 2003.63 1450.74 Q2005.44 1451.09 2007.38 1451.78 Z\" fill=\"#000000\" fill-rule=\"evenodd\" fill-opacity=\"1\" /><path clip-path=\"url(#clip050)\" d=\"M1269.3 1551.46 L1267.9 1544.11 Q1266.47 1536.57 1260.81 1536.57 Q1256.54 1536.57 1254.6 1540.07 Q1252.15 1544.46 1252.15 1550.25 Q1252.15 1557.25 1254.54 1560.6 Q1256.96 1564 1260.81 1564 Q1265.07 1564 1267.36 1557.22 L1269.3 1551.46 M1272.58 1541.72 L1275.73 1532.4 L1280.95 1532.4 L1274.43 1551.72 L1275.7 1558.69 Q1275.99 1560.25 1277.1 1561.55 Q1278.41 1563.08 1279.43 1563.08 L1282.23 1563.08 L1282.23 1568.04 L1278.73 1568.04 Q1275.73 1568.04 1273.06 1565.37 Q1271.76 1564.03 1271.21 1561.23 Q1269.75 1564.77 1266.76 1567.53 Q1265.36 1568.84 1260.81 1568.84 Q1253.33 1568.84 1249.7 1564 Q1245.97 1559 1245.97 1550.25 Q1245.97 1540.89 1250.02 1536.5 Q1254.5 1531.6 1260.81 1531.6 Q1270.7 1531.6 1272.58 1541.72 Z\" fill=\"#000000\" fill-rule=\"evenodd\" fill-opacity=\"1\" /><polyline clip-path=\"url(#clip052)\" style=\"stroke:#000000; stroke-linecap:round; stroke-linejoin:round; stroke-width:2; stroke-opacity:0.1; fill:none\" points=\"\n",
       "  175.445,1384.24 2352.76,1384.24 \n",
       "  \"/>\n",
       "<polyline clip-path=\"url(#clip052)\" style=\"stroke:#000000; stroke-linecap:round; stroke-linejoin:round; stroke-width:2; stroke-opacity:0.1; fill:none\" points=\"\n",
       "  175.445,1124.63 2352.76,1124.63 \n",
       "  \"/>\n",
       "<polyline clip-path=\"url(#clip052)\" style=\"stroke:#000000; stroke-linecap:round; stroke-linejoin:round; stroke-width:2; stroke-opacity:0.1; fill:none\" points=\"\n",
       "  175.445,865.017 2352.76,865.017 \n",
       "  \"/>\n",
       "<polyline clip-path=\"url(#clip052)\" style=\"stroke:#000000; stroke-linecap:round; stroke-linejoin:round; stroke-width:2; stroke-opacity:0.1; fill:none\" points=\"\n",
       "  175.445,605.407 2352.76,605.407 \n",
       "  \"/>\n",
       "<polyline clip-path=\"url(#clip052)\" style=\"stroke:#000000; stroke-linecap:round; stroke-linejoin:round; stroke-width:2; stroke-opacity:0.1; fill:none\" points=\"\n",
       "  175.445,345.796 2352.76,345.796 \n",
       "  \"/>\n",
       "<polyline clip-path=\"url(#clip052)\" style=\"stroke:#000000; stroke-linecap:round; stroke-linejoin:round; stroke-width:2; stroke-opacity:0.1; fill:none\" points=\"\n",
       "  175.445,86.1857 2352.76,86.1857 \n",
       "  \"/>\n",
       "<polyline clip-path=\"url(#clip050)\" style=\"stroke:#000000; stroke-linecap:round; stroke-linejoin:round; stroke-width:4; stroke-opacity:1; fill:none\" points=\"\n",
       "  175.445,1423.18 175.445,47.2441 \n",
       "  \"/>\n",
       "<polyline clip-path=\"url(#clip050)\" style=\"stroke:#000000; stroke-linecap:round; stroke-linejoin:round; stroke-width:4; stroke-opacity:1; fill:none\" points=\"\n",
       "  175.445,1384.24 194.343,1384.24 \n",
       "  \"/>\n",
       "<polyline clip-path=\"url(#clip050)\" style=\"stroke:#000000; stroke-linecap:round; stroke-linejoin:round; stroke-width:4; stroke-opacity:1; fill:none\" points=\"\n",
       "  175.445,1124.63 194.343,1124.63 \n",
       "  \"/>\n",
       "<polyline clip-path=\"url(#clip050)\" style=\"stroke:#000000; stroke-linecap:round; stroke-linejoin:round; stroke-width:4; stroke-opacity:1; fill:none\" points=\"\n",
       "  175.445,865.017 194.343,865.017 \n",
       "  \"/>\n",
       "<polyline clip-path=\"url(#clip050)\" style=\"stroke:#000000; stroke-linecap:round; stroke-linejoin:round; stroke-width:4; stroke-opacity:1; fill:none\" points=\"\n",
       "  175.445,605.407 194.343,605.407 \n",
       "  \"/>\n",
       "<polyline clip-path=\"url(#clip050)\" style=\"stroke:#000000; stroke-linecap:round; stroke-linejoin:round; stroke-width:4; stroke-opacity:1; fill:none\" points=\"\n",
       "  175.445,345.796 194.343,345.796 \n",
       "  \"/>\n",
       "<polyline clip-path=\"url(#clip050)\" style=\"stroke:#000000; stroke-linecap:round; stroke-linejoin:round; stroke-width:4; stroke-opacity:1; fill:none\" points=\"\n",
       "  175.445,86.1857 194.343,86.1857 \n",
       "  \"/>\n",
       "<path clip-path=\"url(#clip050)\" d=\"M119.538 1397.58 L127.177 1397.58 L127.177 1371.22 L118.867 1372.88 L118.867 1368.62 L127.13 1366.96 L131.806 1366.96 L131.806 1397.58 L139.445 1397.58 L139.445 1401.52 L119.538 1401.52 L119.538 1397.58 Z\" fill=\"#000000\" fill-rule=\"evenodd\" fill-opacity=\"1\" /><path clip-path=\"url(#clip050)\" d=\"M123.126 1137.97 L139.445 1137.97 L139.445 1141.91 L117.501 1141.91 L117.501 1137.97 Q120.163 1135.22 124.746 1130.59 Q129.353 1125.94 130.533 1124.59 Q132.779 1122.07 133.658 1120.33 Q134.561 1118.57 134.561 1116.88 Q134.561 1114.13 132.617 1112.39 Q130.695 1110.66 127.593 1110.66 Q125.394 1110.66 122.941 1111.42 Q120.51 1112.19 117.732 1113.74 L117.732 1109.01 Q120.556 1107.88 123.01 1107.3 Q125.464 1106.72 127.501 1106.72 Q132.871 1106.72 136.066 1109.41 Q139.26 1112.09 139.26 1116.58 Q139.26 1118.71 138.45 1120.63 Q137.663 1122.53 135.556 1125.13 Q134.978 1125.8 131.876 1129.01 Q128.774 1132.21 123.126 1137.97 Z\" fill=\"#000000\" fill-rule=\"evenodd\" fill-opacity=\"1\" /><path clip-path=\"url(#clip050)\" d=\"M132.316 863.663 Q135.672 864.381 137.547 866.649 Q139.445 868.918 139.445 872.251 Q139.445 877.367 135.927 880.168 Q132.408 882.969 125.927 882.969 Q123.751 882.969 121.436 882.529 Q119.144 882.112 116.691 881.256 L116.691 876.742 Q118.635 877.876 120.95 878.455 Q123.265 879.033 125.788 879.033 Q130.186 879.033 132.478 877.297 Q134.792 875.561 134.792 872.251 Q134.792 869.195 132.64 867.482 Q130.51 865.746 126.691 865.746 L122.663 865.746 L122.663 861.904 L126.876 861.904 Q130.325 861.904 132.154 860.538 Q133.982 859.149 133.982 856.557 Q133.982 853.895 132.084 852.483 Q130.209 851.047 126.691 851.047 Q124.769 851.047 122.57 851.464 Q120.371 851.881 117.732 852.76 L117.732 848.594 Q120.394 847.853 122.709 847.483 Q125.047 847.112 127.107 847.112 Q132.431 847.112 135.533 849.543 Q138.635 851.95 138.635 856.071 Q138.635 858.941 136.992 860.932 Q135.348 862.899 132.316 863.663 Z\" fill=\"#000000\" fill-rule=\"evenodd\" fill-opacity=\"1\" /><path clip-path=\"url(#clip050)\" d=\"M129.862 592.201 L118.056 610.65 L129.862 610.65 L129.862 592.201 M128.635 588.127 L134.515 588.127 L134.515 610.65 L139.445 610.65 L139.445 614.539 L134.515 614.539 L134.515 622.687 L129.862 622.687 L129.862 614.539 L114.26 614.539 L114.26 610.025 L128.635 588.127 Z\" fill=\"#000000\" fill-rule=\"evenodd\" fill-opacity=\"1\" /><path clip-path=\"url(#clip050)\" d=\"M118.543 328.516 L136.899 328.516 L136.899 332.451 L122.825 332.451 L122.825 340.924 Q123.843 340.576 124.862 340.414 Q125.88 340.229 126.899 340.229 Q132.686 340.229 136.066 343.4 Q139.445 346.572 139.445 351.988 Q139.445 357.567 135.973 360.669 Q132.501 363.747 126.181 363.747 Q124.005 363.747 121.737 363.377 Q119.492 363.007 117.084 362.266 L117.084 357.567 Q119.168 358.701 121.39 359.257 Q123.612 359.812 126.089 359.812 Q130.093 359.812 132.431 357.706 Q134.769 355.599 134.769 351.988 Q134.769 348.377 132.431 346.271 Q130.093 344.164 126.089 344.164 Q124.214 344.164 122.339 344.581 Q120.487 344.998 118.543 345.877 L118.543 328.516 Z\" fill=\"#000000\" fill-rule=\"evenodd\" fill-opacity=\"1\" /><path clip-path=\"url(#clip050)\" d=\"M127.917 84.3223 Q124.769 84.3223 122.918 86.475 Q121.089 88.6278 121.089 92.3778 Q121.089 96.1046 122.918 98.2805 Q124.769 100.433 127.917 100.433 Q131.066 100.433 132.894 98.2805 Q134.746 96.1046 134.746 92.3778 Q134.746 88.6278 132.894 86.475 Q131.066 84.3223 127.917 84.3223 M137.2 69.6696 L137.2 73.9288 Q135.441 73.0955 133.635 72.6557 Q131.853 72.2158 130.093 72.2158 Q125.464 72.2158 123.01 75.3408 Q120.58 78.4658 120.232 84.7852 Q121.598 82.7713 123.658 81.7065 Q125.718 80.6186 128.195 80.6186 Q133.404 80.6186 136.413 83.7899 Q139.445 86.938 139.445 92.3778 Q139.445 97.7018 136.297 100.919 Q133.149 104.137 127.917 104.137 Q121.922 104.137 118.751 99.5537 Q115.58 94.9472 115.58 86.2204 Q115.58 78.026 119.468 73.1649 Q123.357 68.2807 129.908 68.2807 Q131.667 68.2807 133.45 68.6279 Q135.255 68.9751 137.2 69.6696 Z\" fill=\"#000000\" fill-rule=\"evenodd\" fill-opacity=\"1\" /><path clip-path=\"url(#clip050)\" d=\"M46.212 725.345 Q39.7508 725.345 36.0905 728.019 Q32.3984 730.66 32.3984 735.307 Q32.3984 739.954 36.0905 742.628 Q39.7508 745.27 46.212 745.27 Q52.6732 745.27 56.3653 742.628 Q60.0256 739.954 60.0256 735.307 Q60.0256 730.66 56.3653 728.019 Q52.6732 725.345 46.212 725.345 M33.7671 745.27 Q30.5842 743.424 29.0564 740.623 Q27.4968 737.79 27.4968 733.875 Q27.4968 727.382 32.6531 723.34 Q37.8093 719.266 46.212 719.266 Q54.6147 719.266 59.771 723.34 Q64.9272 727.382 64.9272 733.875 Q64.9272 737.79 63.3994 740.623 Q61.8398 743.424 58.657 745.27 L64.0042 745.27 L64.0042 751.158 L14.479 751.158 L14.479 745.27 L33.7671 745.27 Z\" fill=\"#000000\" fill-rule=\"evenodd\" fill-opacity=\"1\" /><circle clip-path=\"url(#clip052)\" cx=\"237.067\" cy=\"1384.24\" r=\"14.4\" fill=\"#009af9\" fill-rule=\"evenodd\" fill-opacity=\"1\" stroke=\"#000000\" stroke-opacity=\"1\" stroke-width=\"3.2\"/>\n",
       "<circle clip-path=\"url(#clip052)\" cx=\"1117.38\" cy=\"1124.63\" r=\"14.4\" fill=\"#009af9\" fill-rule=\"evenodd\" fill-opacity=\"1\" stroke=\"#000000\" stroke-opacity=\"1\" stroke-width=\"3.2\"/>\n",
       "<circle clip-path=\"url(#clip052)\" cx=\"1410.82\" cy=\"86.1857\" r=\"14.4\" fill=\"#009af9\" fill-rule=\"evenodd\" fill-opacity=\"1\" stroke=\"#000000\" stroke-opacity=\"1\" stroke-width=\"3.2\"/>\n",
       "<circle clip-path=\"url(#clip052)\" cx=\"2291.13\" cy=\"605.407\" r=\"14.4\" fill=\"#009af9\" fill-rule=\"evenodd\" fill-opacity=\"1\" stroke=\"#000000\" stroke-opacity=\"1\" stroke-width=\"3.2\"/>\n",
       "<circle clip-path=\"url(#clip052)\" cx=\"237.067\" cy=\"1254.43\" r=\"14.4\" fill=\"#e26f46\" fill-rule=\"evenodd\" fill-opacity=\"1\" stroke=\"#000000\" stroke-opacity=\"1\" stroke-width=\"3.2\"/>\n",
       "<circle clip-path=\"url(#clip052)\" cx=\"1117.38\" cy=\"865.017\" r=\"14.4\" fill=\"#e26f46\" fill-rule=\"evenodd\" fill-opacity=\"1\" stroke=\"#000000\" stroke-opacity=\"1\" stroke-width=\"3.2\"/>\n",
       "<circle clip-path=\"url(#clip052)\" cx=\"1410.82\" cy=\"735.212\" r=\"14.4\" fill=\"#e26f46\" fill-rule=\"evenodd\" fill-opacity=\"1\" stroke=\"#000000\" stroke-opacity=\"1\" stroke-width=\"3.2\"/>\n",
       "<circle clip-path=\"url(#clip052)\" cx=\"2291.13\" cy=\"345.796\" r=\"14.4\" fill=\"#e26f46\" fill-rule=\"evenodd\" fill-opacity=\"1\" stroke=\"#000000\" stroke-opacity=\"1\" stroke-width=\"3.2\"/>\n",
       "<polyline clip-path=\"url(#clip052)\" style=\"stroke:#3da44d; stroke-linecap:round; stroke-linejoin:round; stroke-width:4; stroke-opacity:1; fill:none\" points=\"\n",
       "  237.067,1254.43 250.44,1248.52 374.094,1193.82 448.405,1160.95 511.233,1133.15 579.483,1102.96 642.403,1075.13 709.86,1045.29 788.015,1010.72 857.471,979.991 \n",
       "  918.377,953.049 984.781,923.674 1051.58,894.125 1125.43,861.455 1195.7,830.37 1268.77,798.049 1330.28,770.841 1405.37,737.624 1474.15,707.195 1537.69,679.091 \n",
       "  1602.04,650.623 1674.16,618.719 1739.52,589.808 1814.35,556.707 1883.63,526.058 1951.94,495.842 2018.26,466.505 2086.24,436.431 2160.73,403.481 2268.94,355.616 \n",
       "  2291.13,345.796 \n",
       "  \"/>\n",
       "<path clip-path=\"url(#clip050)\" d=\"\n",
       "M1893.58 300.469 L2280.18 300.469 L2280.18 93.1086 L1893.58 93.1086  Z\n",
       "  \" fill=\"#ffffff\" fill-rule=\"evenodd\" fill-opacity=\"1\"/>\n",
       "<polyline clip-path=\"url(#clip050)\" style=\"stroke:#000000; stroke-linecap:round; stroke-linejoin:round; stroke-width:4; stroke-opacity:1; fill:none\" points=\"\n",
       "  1893.58,300.469 2280.18,300.469 2280.18,93.1086 1893.58,93.1086 1893.58,300.469 \n",
       "  \"/>\n",
       "<circle clip-path=\"url(#clip050)\" cx=\"1990.35\" cy=\"144.949\" r=\"23.04\" fill=\"#009af9\" fill-rule=\"evenodd\" fill-opacity=\"1\" stroke=\"#000000\" stroke-opacity=\"1\" stroke-width=\"5.12\"/>\n",
       "<path clip-path=\"url(#clip050)\" d=\"M2106.03 140.238 L2106.03 126.21 L2110.29 126.21 L2110.29 162.229 L2106.03 162.229 L2106.03 158.34 Q2104.69 160.655 2102.63 161.789 Q2100.59 162.9 2097.72 162.9 Q2093.02 162.9 2090.06 159.15 Q2087.12 155.4 2087.12 149.289 Q2087.12 143.178 2090.06 139.428 Q2093.02 135.678 2097.72 135.678 Q2100.59 135.678 2102.63 136.812 Q2104.69 137.923 2106.03 140.238 M2091.52 149.289 Q2091.52 153.988 2093.44 156.673 Q2095.38 159.335 2098.76 159.335 Q2102.14 159.335 2104.09 156.673 Q2106.03 153.988 2106.03 149.289 Q2106.03 144.59 2104.09 141.928 Q2102.14 139.243 2098.76 139.243 Q2095.38 139.243 2093.44 141.928 Q2091.52 144.59 2091.52 149.289 Z\" fill=\"#000000\" fill-rule=\"evenodd\" fill-opacity=\"1\" /><path clip-path=\"url(#clip050)\" d=\"M2130.85 149.196 Q2125.68 149.196 2123.69 150.377 Q2121.7 151.557 2121.7 154.405 Q2121.7 156.673 2123.18 158.016 Q2124.69 159.335 2127.26 159.335 Q2130.8 159.335 2132.93 156.835 Q2135.08 154.312 2135.08 150.145 L2135.08 149.196 L2130.85 149.196 M2139.34 147.437 L2139.34 162.229 L2135.08 162.229 L2135.08 158.293 Q2133.62 160.655 2131.45 161.789 Q2129.27 162.9 2126.12 162.9 Q2122.14 162.9 2119.78 160.678 Q2117.44 158.432 2117.44 154.682 Q2117.44 150.307 2120.36 148.085 Q2123.3 145.863 2129.11 145.863 L2135.08 145.863 L2135.08 145.446 Q2135.08 142.507 2133.14 140.909 Q2131.22 139.289 2127.72 139.289 Q2125.5 139.289 2123.39 139.821 Q2121.29 140.354 2119.34 141.419 L2119.34 137.483 Q2121.68 136.581 2123.88 136.141 Q2126.08 135.678 2128.16 135.678 Q2133.79 135.678 2136.56 138.594 Q2139.34 141.511 2139.34 147.437 Z\" fill=\"#000000\" fill-rule=\"evenodd\" fill-opacity=\"1\" /><path clip-path=\"url(#clip050)\" d=\"M2152.33 128.942 L2152.33 136.303 L2161.1 136.303 L2161.1 139.613 L2152.33 139.613 L2152.33 153.687 Q2152.33 156.858 2153.18 157.761 Q2154.06 158.664 2156.73 158.664 L2161.1 158.664 L2161.1 162.229 L2156.73 162.229 Q2151.79 162.229 2149.92 160.4 Q2148.04 158.548 2148.04 153.687 L2148.04 139.613 L2144.92 139.613 L2144.92 136.303 L2148.04 136.303 L2148.04 128.942 L2152.33 128.942 Z\" fill=\"#000000\" fill-rule=\"evenodd\" fill-opacity=\"1\" /><path clip-path=\"url(#clip050)\" d=\"M2178.48 149.196 Q2173.32 149.196 2171.33 150.377 Q2169.34 151.557 2169.34 154.405 Q2169.34 156.673 2170.82 158.016 Q2172.33 159.335 2174.9 159.335 Q2178.44 159.335 2180.57 156.835 Q2182.72 154.312 2182.72 150.145 L2182.72 149.196 L2178.48 149.196 M2186.98 147.437 L2186.98 162.229 L2182.72 162.229 L2182.72 158.293 Q2181.26 160.655 2179.09 161.789 Q2176.91 162.9 2173.76 162.9 Q2169.78 162.9 2167.42 160.678 Q2165.08 158.432 2165.08 154.682 Q2165.08 150.307 2168 148.085 Q2170.94 145.863 2176.75 145.863 L2182.72 145.863 L2182.72 145.446 Q2182.72 142.507 2180.78 140.909 Q2178.85 139.289 2175.36 139.289 Q2173.14 139.289 2171.03 139.821 Q2168.92 140.354 2166.98 141.419 L2166.98 137.483 Q2169.32 136.581 2171.52 136.141 Q2173.72 135.678 2175.8 135.678 Q2181.42 135.678 2184.2 138.594 Q2186.98 141.511 2186.98 147.437 Z\" fill=\"#000000\" fill-rule=\"evenodd\" fill-opacity=\"1\" /><circle clip-path=\"url(#clip050)\" cx=\"1990.35\" cy=\"196.789\" r=\"23.04\" fill=\"#e26f46\" fill-rule=\"evenodd\" fill-opacity=\"1\" stroke=\"#000000\" stroke-opacity=\"1\" stroke-width=\"5.12\"/>\n",
       "<path clip-path=\"url(#clip050)\" d=\"M2087.12 178.05 L2091.38 178.05 L2091.38 214.069 L2087.12 214.069 L2087.12 178.05 Z\" fill=\"#000000\" fill-rule=\"evenodd\" fill-opacity=\"1\" /><path clip-path=\"url(#clip050)\" d=\"M2100.29 178.05 L2104.55 178.05 L2104.55 214.069 L2100.29 214.069 L2100.29 178.05 Z\" fill=\"#000000\" fill-rule=\"evenodd\" fill-opacity=\"1\" /><path clip-path=\"url(#clip050)\" d=\"M2129.99 188.907 L2129.99 192.934 Q2128.18 192.009 2126.24 191.546 Q2124.29 191.083 2122.21 191.083 Q2119.04 191.083 2117.44 192.055 Q2115.87 193.027 2115.87 194.971 Q2115.87 196.453 2117 197.309 Q2118.14 198.143 2121.56 198.907 L2123.02 199.231 Q2127.56 200.203 2129.46 201.985 Q2131.38 203.745 2131.38 206.916 Q2131.38 210.527 2128.51 212.633 Q2125.66 214.74 2120.66 214.74 Q2118.58 214.74 2116.31 214.323 Q2114.06 213.93 2111.56 213.12 L2111.56 208.721 Q2113.92 209.948 2116.22 210.573 Q2118.51 211.175 2120.75 211.175 Q2123.76 211.175 2125.38 210.157 Q2127 209.115 2127 207.24 Q2127 205.504 2125.82 204.578 Q2124.67 203.652 2120.71 202.796 L2119.23 202.448 Q2115.27 201.615 2113.51 199.902 Q2111.75 198.166 2111.75 195.157 Q2111.75 191.499 2114.34 189.509 Q2116.93 187.518 2121.7 187.518 Q2124.06 187.518 2126.15 187.865 Q2128.23 188.212 2129.99 188.907 Z\" fill=\"#000000\" fill-rule=\"evenodd\" fill-opacity=\"1\" /><polyline clip-path=\"url(#clip050)\" style=\"stroke:#3da44d; stroke-linecap:round; stroke-linejoin:round; stroke-width:4; stroke-opacity:1; fill:none\" points=\"\n",
       "  1917.77,248.629 2062.93,248.629 \n",
       "  \"/>\n",
       "<path clip-path=\"url(#clip050)\" d=\"M2087.12 229.89 L2091.38 229.89 L2091.38 265.909 L2087.12 265.909 L2087.12 229.89 Z\" fill=\"#000000\" fill-rule=\"evenodd\" fill-opacity=\"1\" /><path clip-path=\"url(#clip050)\" d=\"M2100.29 229.89 L2104.55 229.89 L2104.55 265.909 L2100.29 265.909 L2100.29 229.89 Z\" fill=\"#000000\" fill-rule=\"evenodd\" fill-opacity=\"1\" /><path clip-path=\"url(#clip050)\" d=\"M2129.99 240.747 L2129.99 244.774 Q2128.18 243.849 2126.24 243.386 Q2124.29 242.923 2122.21 242.923 Q2119.04 242.923 2117.44 243.895 Q2115.87 244.867 2115.87 246.811 Q2115.87 248.293 2117 249.149 Q2118.14 249.983 2121.56 250.747 L2123.02 251.071 Q2127.56 252.043 2129.46 253.825 Q2131.38 255.585 2131.38 258.756 Q2131.38 262.367 2128.51 264.473 Q2125.66 266.58 2120.66 266.58 Q2118.58 266.58 2116.31 266.163 Q2114.06 265.77 2111.56 264.96 L2111.56 260.561 Q2113.92 261.788 2116.22 262.413 Q2118.51 263.015 2120.75 263.015 Q2123.76 263.015 2125.38 261.997 Q2127 260.955 2127 259.08 Q2127 257.344 2125.82 256.418 Q2124.67 255.492 2120.71 254.636 L2119.23 254.288 Q2115.27 253.455 2113.51 251.742 Q2111.75 250.006 2111.75 246.997 Q2111.75 243.339 2114.34 241.349 Q2116.93 239.358 2121.7 239.358 Q2124.06 239.358 2126.15 239.705 Q2128.23 240.052 2129.99 240.747 Z\" fill=\"#000000\" fill-rule=\"evenodd\" fill-opacity=\"1\" /><path clip-path=\"url(#clip050)\" d=\"M2153.23 229.89 L2157.49 229.89 L2157.49 265.909 L2153.23 265.909 L2153.23 229.89 Z\" fill=\"#000000\" fill-rule=\"evenodd\" fill-opacity=\"1\" /><path clip-path=\"url(#clip050)\" d=\"M2166.4 239.983 L2170.66 239.983 L2170.66 265.909 L2166.4 265.909 L2166.4 239.983 M2166.4 229.89 L2170.66 229.89 L2170.66 235.284 L2166.4 235.284 L2166.4 229.89 Z\" fill=\"#000000\" fill-rule=\"evenodd\" fill-opacity=\"1\" /><path clip-path=\"url(#clip050)\" d=\"M2201.12 250.261 L2201.12 265.909 L2196.86 265.909 L2196.86 250.399 Q2196.86 246.719 2195.43 244.89 Q2193.99 243.062 2191.12 243.062 Q2187.67 243.062 2185.68 245.261 Q2183.69 247.46 2183.69 251.256 L2183.69 265.909 L2179.41 265.909 L2179.41 239.983 L2183.69 239.983 L2183.69 244.011 Q2185.22 241.673 2187.28 240.515 Q2189.36 239.358 2192.07 239.358 Q2196.54 239.358 2198.83 242.136 Q2201.12 244.89 2201.12 250.261 Z\" fill=\"#000000\" fill-rule=\"evenodd\" fill-opacity=\"1\" /><path clip-path=\"url(#clip050)\" d=\"M2231.79 251.881 L2231.79 253.964 L2212.21 253.964 Q2212.49 258.362 2214.85 260.677 Q2217.23 262.969 2221.47 262.969 Q2223.92 262.969 2226.22 262.367 Q2228.53 261.765 2230.8 260.561 L2230.8 264.589 Q2228.51 265.561 2226.1 266.071 Q2223.69 266.58 2221.22 266.58 Q2215.01 266.58 2211.38 262.969 Q2207.77 259.358 2207.77 253.2 Q2207.77 246.835 2211.19 243.108 Q2214.64 239.358 2220.47 239.358 Q2225.71 239.358 2228.74 242.737 Q2231.79 246.094 2231.79 251.881 M2227.53 250.631 Q2227.49 247.136 2225.57 245.052 Q2223.67 242.969 2220.52 242.969 Q2216.96 242.969 2214.8 244.983 Q2212.67 246.997 2212.35 250.654 L2227.53 250.631 Z\" fill=\"#000000\" fill-rule=\"evenodd\" fill-opacity=\"1\" /></svg>\n"
      ]
     },
     "execution_count": 16,
     "metadata": {},
     "output_type": "execute_result"
    }
   ],
   "source": [
    "α = [0;3;4;7]\n",
    "b = [1;2;6;4]\n",
    "\n",
    "m = length(α)\n",
    "A = [ones(m) α]\n",
    "\n",
    "x = myPinv(A)*b\n",
    "f = t->x[1]+x[2]*t\n",
    "\n",
    "using Plots\n",
    "scatter(α,b,xlabel=\"α\",ylabel=\"b\",label=\"data\")\n",
    "scatter!(α,f.(α),label=\"lls\")\n",
    "plot!(f,label=\"lls line\")"
   ]
  },
  {
   "cell_type": "code",
   "execution_count": null,
   "id": "42d191a1-6438-48f3-918f-937f475ba9fe",
   "metadata": {},
   "outputs": [],
   "source": []
  }
 ],
 "metadata": {
  "authors": [
   {
    "name": "Numerical Analysis 2022"
   }
  ],
  "kernelspec": {
   "display_name": "Julia 1.8.2",
   "language": "julia",
   "name": "julia-1.8"
  },
  "language_info": {
   "file_extension": ".jl",
   "mimetype": "application/julia",
   "name": "julia",
   "version": "1.8.2"
  },
  "title": "Exercise sheet 3",
  "toc-autonumbering": true,
  "widgets": {
   "application/vnd.jupyter.widget-state+json": {
    "state": {},
    "version_major": 2,
    "version_minor": 0
   }
  }
 },
 "nbformat": 4,
 "nbformat_minor": 5
}
