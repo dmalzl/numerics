{
 "cells": [
  {
   "cell_type": "markdown",
   "id": "66b3d9be-7bbc-424c-bda7-f240ffeb0f46",
   "metadata": {
    "tags": []
   },
   "source": [
    "# PS.3 (triangular solver)\n",
    "\n",
    "$Ly=b$ with $L$ lower triangular with $1$ in the diagonal.\n",
    "\n",
    "\\begin{align*}\n",
    "y_1 &= b_1,\\\\\n",
    "y_2 &= b_2-\\ell_{2,1}y_1,\\\\\n",
    "&\\vdots \\\\\n",
    "y_k & = b_k - \\sum_{j=1}^{k-1}\\ell_{k,j}y_j,  \\\\\n",
    "&\\vdots \\\\\n",
    "y_n&=b_n-\\sum_{j=1}^{n-1}\\ell_{n,j}y_j.\n",
    "\\end{align*}\n",
    "\n",
    "a) Write a solver for $Ly=b$."
   ]
  },
  {
   "cell_type": "code",
   "execution_count": 44,
   "id": "58b0fa82-5262-4d13-a7f3-f48f7b79baca",
   "metadata": {
    "tags": []
   },
   "outputs": [
    {
     "data": {
      "text/plain": [
       "myL (generic function with 1 method)"
      ]
     },
     "execution_count": 44,
     "metadata": {},
     "output_type": "execute_result"
    }
   ],
   "source": [
    "function myL(L,b)\n",
    "    n = length(b)\n",
    "    y = copy(b) \n",
    "    for k = 2:n\n",
    "        y[k] = b[k] - sum(L[k, j] * y[j] for j in 1:(k-1))\n",
    "    end\n",
    "    return y\n",
    "end"
   ]
  },
  {
   "cell_type": "markdown",
   "id": "cb67db9f-bafd-4549-a2f5-d48d527882f6",
   "metadata": {},
   "source": [
    "$Ux=y$ with $U$ upper triangular and nonzero diagonal.\n",
    "\n",
    "\\begin{align*}\n",
    "x_n &= \\frac{y_n}{u_{n,n}}\\\\\n",
    "x_{n-1} &= \\frac{1}{u_{n-1,n-1}} \\left(y_{n-1}-u_{n-1,n}x_{n}\\right)\\\\\n",
    "&\\vdots\\\\\n",
    " x_{k}&=\\frac{1}{u_{k,k}}\\left(y_{k}-\\sum_{j=k+1}^{n}u_{k,j}x_j\\right) \\\\\n",
    " &\\vdots\\\\\n",
    "x_1&=\\frac{1}{u_{1,1}}\\left(y_1-\\sum_{j=2}^{n}u_{1,j}x_j\\right).\n",
    "\\end{align*}\n",
    "\n",
    "b) Write a solver for $Ux=y$."
   ]
  },
  {
   "cell_type": "code",
   "execution_count": 68,
   "id": "9f3ff6bc-81a7-4923-8fb0-7c51f8028456",
   "metadata": {
    "tags": []
   },
   "outputs": [
    {
     "data": {
      "text/plain": [
       "myU (generic function with 1 method)"
      ]
     },
     "execution_count": 68,
     "metadata": {},
     "output_type": "execute_result"
    }
   ],
   "source": [
    "function myU(U,y)\n",
    "    n = length(y)\n",
    "    x = copy(y)\n",
    "    for k = 0:(n-1)\n",
    "        x[n-k] = (y[n-k] - sum(U[n-k, j] for j in (n-k+1):n; init = 0)) / U[n-k, n-k]\n",
    "    end\n",
    "    return x\n",
    "end    "
   ]
  },
  {
   "cell_type": "markdown",
   "id": "71b65c0e-cfc3-4aa0-8704-93c067823975",
   "metadata": {},
   "source": [
    "# PS.3 (lu-decomposition without pivoting)\n",
    "\n",
    "For $A\\in \\mathbb R^{n\\times n}$, set $A^{(1)}:=B^{(1)}:=A$ and\n",
    "\\begin{align}\n",
    "\\ell^{(k)} = \\frac{1}{a^{(k)}_{k,k}}\\begin{pmatrix}\n",
    "a^{(k)}_{k+1,k}\\\\\n",
    "\\vdots\\\\\n",
    "a^{(k)}_{n,k}\n",
    "\\end{pmatrix}\\in \\mathbb R^{n-k}, \\qquad\\qquad\n",
    "B^{(k+1)} = B^{(k)} - \\ell^{(k)} \\cdot \\left(a^{(k)}_{k,k+1} , \\cdots , a^{(k)}_{k,n}\\right)\\in \\mathbb{R}^{(n-k)\\times (n-k)}\\\\\n",
    "A^{(k+1)}= L_k A^{(k)} = \\begin{pmatrix}\n",
    "a^{(1)}_{1,1} & a^{1)}_{1,2} &\\cdots &\\cdots& a^{(1)}_{1,n}\\\\\n",
    "0 & \\ddots & \\\\\n",
    "\\vdots&\\ddots & a^{(k)}_{k,k} & \\cdots & a^{(k)}_{k,n}\\\\\n",
    "0 &&0 \\\\\n",
    "\\vdots &&\\vdots&B^{(k+1)}\\\\\n",
    "0 &\\cdots &0\n",
    "\\end{pmatrix},\\qquad\n",
    "L = \n",
    "\\begin{pmatrix}\n",
    "1& 0 &\\cdots &\\cdots&\\cdots&0\\\\\n",
    "|& \\ddots&\\ddots&&&\\vdots \\\\\n",
    "| & &\\ddots&\\ddots&&\\vdots\\\\\n",
    "|&&|&\\ddots&0&\\vdots\\\\\n",
    "|&&|&&1&0\\\\\n",
    "\\ell^{(1)} & \\cdots&\\ell^{(k)}& \\cdots & \\ell^{(n-1)}&1\n",
    "\\end{pmatrix},\\quad U = A^{(n)}\n",
    "\\end{align}"
   ]
  },
  {
   "cell_type": "markdown",
   "id": "9bb96cb0-a9b5-4412-a6ae-4edab799e9d7",
   "metadata": {},
   "source": [
    "We may store $\\ell^{(1)},\\ldots,\\ell^{(k)}$ in $A^{(k+1)}$ to get rid of $L$, i.e., \n",
    "\\begin{equation}\n",
    "\\tilde{A}^{(k+1)}=  \\begin{pmatrix}\n",
    "a^{(1)}_{1,1} & a^{1)}_{1,2} &\\cdots &\\cdots& a^{(1)}_{1,n}\\\\\n",
    "| & \\ddots & \\\\\n",
    "|&\\ddots & a^{(k)}_{k,k} & \\cdots & a^{(k)}_{k,n}\\\\\n",
    "| &&| \\\\\n",
    "| &&|&B^{(k+1)}\\\\\n",
    "\\ell^{(1)} &\\cdots &\\ell^{(k)}\n",
    "\\end{pmatrix}\n",
    "\\end{equation}\n",
    "\n",
    "a) Write a function with input $A$ that returns L and U of the lu-decomposition."
   ]
  },
  {
   "cell_type": "code",
   "execution_count": 108,
   "id": "86f88143-62dc-4136-a9ae-4f4c64bcb511",
   "metadata": {
    "tags": []
   },
   "outputs": [
    {
     "data": {
      "text/plain": [
       "myLU (generic function with 1 method)"
      ]
     },
     "execution_count": 108,
     "metadata": {},
     "output_type": "execute_result"
    }
   ],
   "source": [
    "using LinearAlgebra\n",
    "\n",
    "function myLU(A0)\n",
    "    n = size(A0,1)\n",
    "    A = copy(A0)\n",
    "    for k in 1:n-1\n",
    "        l = A[k+1:n,k]/A[k,k]\n",
    "        A[k+1:n,k] = l\n",
    "        # tick makes Julia aware that this is l * A[k, k+1:n].T\n",
    "        A[k+1:n,k+1:n] = A[k+1:n,k+1:n] - l * A[k, k+1:n]' \n",
    "    end\n",
    "    return tril(A,-1)+I, triu(A)\n",
    "end"
   ]
  },
  {
   "cell_type": "markdown",
   "id": "395aa50d-3004-43f6-9bcf-3861b8a9119c",
   "metadata": {},
   "source": [
    "b) Solve the system of linear equations $Ax=b$ for \n",
    "\n",
    "\\begin{equation}\n",
    "A = \\begin{pmatrix} \\varepsilon & 1\\\\\n",
    "1 & 1\n",
    "\\end{pmatrix},\\qquad b =\\begin{pmatrix} 1 \\\\ 2\\end{pmatrix}\n",
    "\\end{equation}\n",
    "\n",
    "by using myLU and myU, myL for $\\varepsilon=2$ and for $\\varepsilon = 2^{-55}$. Are the results correct?"
   ]
  },
  {
   "cell_type": "code",
   "execution_count": 105,
   "id": "7d2eb520-5bf2-4f69-8c37-8e9908368a1e",
   "metadata": {},
   "outputs": [
    {
     "data": {
      "text/plain": [
       "2-element Vector{Float64}:\n",
       " 0.0\n",
       " 3.0"
      ]
     },
     "execution_count": 105,
     "metadata": {},
     "output_type": "execute_result"
    }
   ],
   "source": [
    "A = [2. 1.; 1. 1.]\n",
    "b = [1., 2.]\n",
    "L, U = myLU(A)\n",
    "y = myL(L, b)\n",
    "x = myU(U, y)"
   ]
  },
  {
   "cell_type": "code",
   "execution_count": 106,
   "id": "15b36b68-848f-47a3-801c-7de3acdf0c5f",
   "metadata": {},
   "outputs": [
    {
     "data": {
      "text/plain": [
       "2-element Vector{Float64}:\n",
       " 0.0\n",
       " 1.0"
      ]
     },
     "execution_count": 106,
     "metadata": {},
     "output_type": "execute_result"
    }
   ],
   "source": [
    "A = [2^-55 1.; 1. 1.]\n",
    "L, U = myLU(A)\n",
    "y = myL(L, b)\n",
    "x = myU(U, y)"
   ]
  },
  {
   "cell_type": "markdown",
   "id": "4eab12ed-8498-4cf8-aa2b-3b18773715e9",
   "metadata": {},
   "source": [
    "# PS.3 (lu-decomposition with partial pivoting)\n",
    "\n",
    "\\begin{equation}\n",
    "PA = LU,\\qquad \\qquad\\qquad Ax=b \\quad \\Leftrightarrow \\quad LUx=Pb\n",
    "\\end{equation}\n",
    "\n",
    "a) Solve the system of linear equations $Ax=b$ for \n",
    "\n",
    "\\begin{equation}\n",
    "A = \\begin{pmatrix} -2&2& -1\\\\\n",
    "6 & -6 & 7\\\\\n",
    "3&-8&4\n",
    "\\end{pmatrix},\\qquad b =\\begin{pmatrix} -1 \\\\ 7\\\\ -1\\end{pmatrix}\n",
    "\\end{equation}\n",
    "\n",
    "by using the lu-decomposition with partial pivoting by hand. "
   ]
  },
  {
   "cell_type": "markdown",
   "id": "18bc8eb5-6863-4c69-8255-1086741a493b",
   "metadata": {},
   "source": [
    "b) The function myLUpivot is provided below. Write a function myLinearSolver that solves $Ax=b$ based on myLUpivot. Solve part a) with your implementation. Run testset and, if necessary, adjust the error bounds. "
   ]
  },
  {
   "cell_type": "code",
   "execution_count": 109,
   "id": "826a6898-a774-4105-8c82-6bced486def2",
   "metadata": {
    "tags": []
   },
   "outputs": [
    {
     "data": {
      "text/plain": [
       "myLUpivot (generic function with 1 method)"
      ]
     },
     "execution_count": 109,
     "metadata": {},
     "output_type": "execute_result"
    }
   ],
   "source": [
    "function myLUpivot(A0)\n",
    "    n = size(A0,1)\n",
    "    p = [1:n;]\n",
    "    A = copy(A0)\n",
    "    for k in 1:n-1\n",
    "        mptr = argmax(abs.(A[p[k:n],k]))\n",
    "        p[k],p[k-1+mptr] = p[k-1+mptr],p[k]\n",
    "        l = A[p[k+1:n],k]/A[p[k],k]\n",
    "        A[p[k+1:n],k] .= l\n",
    "        A[p[k+1:n],k+1:n] .= A[p[k+1:n],k+1:n]-l*transpose(A[p[k],k+1:n])\n",
    "    end\n",
    "    return tril(A[p,:],-1)+I, triu(A[p,:]), p\n",
    "end"
   ]
  },
  {
   "cell_type": "code",
   "execution_count": 110,
   "id": "93089c04-803c-4885-b7a9-0a948016afb9",
   "metadata": {
    "tags": []
   },
   "outputs": [
    {
     "data": {
      "text/plain": [
       "myLinearSolver (generic function with 1 method)"
      ]
     },
     "execution_count": 110,
     "metadata": {},
     "output_type": "execute_result"
    }
   ],
   "source": [
    "function myLinearSolver(A,b)\n",
    "    L, U = myLUpivot(A)\n",
    "    y = myL(L, b)\n",
    "    return myU(U, y)\n",
    "end"
   ]
  },
  {
   "cell_type": "code",
   "execution_count": null,
   "id": "ad5ea04b-5f5a-4c46-9934-8e1861b685ae",
   "metadata": {
    "tags": []
   },
   "outputs": [],
   "source": [
    "using Test\n",
    "@testset \"myLU\" begin     \n",
    "    for n in 1:100\n",
    "        A = randn(n,n)\n",
    "        b = randn(n)\n",
    "        L,U = myLU(A)\n",
    "        y = myL(L,b) \n",
    "        x = myU(U,y)\n",
    "        @test norm(L*U-A) < cond(A) *1e-10 \n",
    "        @test norm(A*x-b)/norm(A) < cond(A) *1e-10 \n",
    "        \n",
    "        L,U,p = myLUpivot(A)\n",
    "        x = myLinearSolver(A,b)\n",
    "        @test norm(L*U-A[p,:]) < cond(A) *1e-10 \n",
    "        @test norm(A*x-b)/norm(A) < cond(A) *1e-10 \n",
    "    end\n",
    "end"
   ]
  },
  {
   "cell_type": "markdown",
   "id": "4249efcb-3f6b-411f-a1c6-7ec79e9fde06",
   "metadata": {},
   "source": [
    "# PS.3 (Cholesky factorization)\n",
    "\n",
    "For symmetric, positive definite $A=LL^\\top$, the matrix $L=(l_{i,j})$ is given by \n",
    "\n",
    "\\begin{align}\n",
    "l_{j,j} & = \\sqrt{a_{j,j}-\\sum_{k=1}^{j-1} l_{j,k}^2},& j&=1,\\ldots,n,  \\\\\n",
    "l_{i,j} & = \\frac{1}{l_{j,j}} \\left(a_{i,j}-\\sum_{k=1}^{j-1} l_{i,k}l_{j,k} \\right),& i&=j+1,\\ldots,n.\n",
    "\\end{align}\n",
    "\n",
    "a) Write a function with input $A$ that returns $L$."
   ]
  },
  {
   "cell_type": "code",
   "execution_count": 128,
   "id": "59e42ed4-ff06-4c22-aa26-032a9ead7dff",
   "metadata": {
    "tags": []
   },
   "outputs": [
    {
     "data": {
      "text/plain": [
       "myCholesky (generic function with 1 method)"
      ]
     },
     "execution_count": 128,
     "metadata": {},
     "output_type": "execute_result"
    }
   ],
   "source": [
    "function myCholesky(A)\n",
    "    n = size(A,1)\n",
    "    L = zeros(n,n)\n",
    "    for j in 1:n\n",
    "        L[j,j] = sqrt(A[j,j] - sum(L[j,k]^2 for k in 1:(j-1); init = 0))\n",
    "        for i in (j+1):n\n",
    "            L[i,j] = (A[i,j] - sum(L[i,k] * L[j,k] for k in 1:(j-1); init = 0)) / L[j,j]\n",
    "        end\n",
    "    end\n",
    "    return L\n",
    "end"
   ]
  },
  {
   "cell_type": "markdown",
   "id": "c89444e0-f9fd-4a42-ab4b-0fe18c1f366d",
   "metadata": {},
   "source": [
    "b) Complete the testset \"myCholesky\" and run the tests successfully."
   ]
  },
  {
   "cell_type": "code",
   "execution_count": 141,
   "id": "ece31035-9a6e-44c6-a4d3-be717f65b7ea",
   "metadata": {
    "tags": []
   },
   "outputs": [
    {
     "name": "stdout",
     "output_type": "stream",
     "text": [
      "\u001b[0m\u001b[1mTest Summary: | \u001b[22m\u001b[32m\u001b[1mPass  \u001b[22m\u001b[39m\u001b[36m\u001b[1mTotal  \u001b[22m\u001b[39m\u001b[0m\u001b[1mTime\u001b[22m\n",
      "myCholesky    | \u001b[32m  40  \u001b[39m\u001b[36m   40  \u001b[39m\u001b[0m0.0s\n"
     ]
    },
    {
     "data": {
      "text/plain": [
       "Test.DefaultTestSet(\"myCholesky\", Any[], 40, false, false, true, 1.667744030755477e9, 1.667744030755651e9)"
      ]
     },
     "execution_count": 141,
     "metadata": {},
     "output_type": "execute_result"
    }
   ],
   "source": [
    "using Test\n",
    "@testset \"myCholesky\" begin     \n",
    "    for n in 1:20\n",
    "        ℒ = randn(n,n)\n",
    "        A = ℒ*ℒ'\n",
    "        L = myCholesky(A)\n",
    "        b = rand(n)\n",
    "        y = L\\b\n",
    "        x = L'\\y\n",
    "        # somehow do this with the eps function\n",
    "        @test norm(L*L'-A)/norm(A) <= 1^-15\n",
    "        @test norm(A*x-b) <= 1^-15\n",
    "    end\n",
    "end"
   ]
  },
  {
   "cell_type": "markdown",
   "id": "90b4911b-c60f-46d5-a390-d1c0d09cffb3",
   "metadata": {
    "tags": []
   },
   "source": [
    "# PS.3 (lls via normal equations)\n",
    "\n",
    "Given data $\\alpha,b\\in\\mathbb{R}^m$, consider \n",
    "\n",
    "\\begin{equation*}\n",
    "\\arg\\min_{x\\in\\mathbb{R}^2}\\sum_{k=1}^m \\left|b_k-(x_1+x_2\\alpha_k) \\right|^2\n",
    "\\end{equation*}\n",
    "\n",
    "The minimizer $(x_1,x_2)$ defines an affine linear function $f(a)=x_1+x_2a$.\n",
    "\n",
    "a) Write a julia function that takes input $\\alpha, b$ and returns $f$. "
   ]
  },
  {
   "cell_type": "code",
   "execution_count": 143,
   "id": "3fd744e3-acc6-41e1-a76d-f2b082c0629d",
   "metadata": {
    "tags": []
   },
   "outputs": [
    {
     "data": {
      "text/plain": [
       "myLLS (generic function with 1 method)"
      ]
     },
     "execution_count": 143,
     "metadata": {},
     "output_type": "execute_result"
    }
   ],
   "source": [
    "using LinearAlgebra\n",
    "function myLLS(α,b)\n",
    "    A = zeros(length(α), 2)\n",
    "    A[:, 2] = α\n",
    "    L = myCholesky(A' * A)\n",
    "    y = L\\(A' * b)\n",
    "    x = L'\\y\n",
    "    return a->x[1]+x[2]*a \n",
    "end"
   ]
  },
  {
   "cell_type": "markdown",
   "id": "33507153-3ac9-4deb-950b-1dd8540c87dc",
   "metadata": {},
   "source": [
    "b) Generate several data sets with illustrative plots."
   ]
  },
  {
   "cell_type": "code",
   "execution_count": null,
   "id": "22f510b1-7f2d-4108-8b26-ed6271a97f13",
   "metadata": {},
   "outputs": [],
   "source": [
    "# α = ...\n",
    "# b = ...\n",
    "# ...\n",
    "\n",
    "# using Plots\n",
    "# scatter(α,b,xlabel=\"α\",ylabel=\"b\",label=\"data\")\n",
    "# scatter!(α,f.(α),label=\"lls\")\n",
    "# plot!(f,label=\"lls line\")"
   ]
  },
  {
   "cell_type": "markdown",
   "id": "0b6dc3d2-038e-45c8-9c93-a07b6b03d34c",
   "metadata": {},
   "source": [
    "# PS.3 (svd)\n",
    "\n",
    "For $m\\geq n$, let $A\\in\\mathbb{R}^{m\\times n}$ with $rank(A)=p$. \n",
    "\n",
    "- The matrix $A^\\top A\\in\\mathbb{R}^{n\\times n}$ has eigenvalues $\\lambda_1\\geq \\ldots\\geq \\lambda_p>0$ with pairwise orthonormal eigenvectors $v_1,\\ldots,v_p\\in\\mathbb{R}^n$ that are collected into\n",
    "\n",
    "\\begin{equation*}\n",
    "V:=(v_1,\\ldots,v_p)\\in\\mathbb{R}^{n\\times p}.\n",
    "\\end{equation*}\n",
    "\n",
    "\n",
    "- The singular values $\\sigma_k:=\\sqrt{\\lambda_k}$, for $k=1,\\ldots,p$, are collected into\n",
    "\n",
    "\\begin{equation*}\n",
    " \\Sigma:=diag(\\sigma_1,\\ldots,\\sigma_p)\\in\\mathbb{R}^{p\\times p}.\n",
    "\\end{equation*}\n",
    "\n",
    "- Define $u_k : = \\frac{1}{\\sigma_k} A v_k$, for $k=1,\\ldots,p$, and build\n",
    "\n",
    "\\begin{equation*}\n",
    "U:=(u_1,\\ldots,u_p)\\in\\mathbb{R}^{m\\times p}.\n",
    "\\end{equation*}\n",
    "\n",
    "\n",
    "Then we obtain the decomposition\n",
    "\n",
    "\\begin{equation*}\n",
    "A = U\\Sigma V^\\top.\n",
    "\\end{equation*}\n",
    "\n",
    "The pseudo inverse of $A$ is $A^\\# = V\\Sigma^{-1}U^\\top$. \n",
    "\n",
    "a) Write a julia function that takes input $A$ and returns $U$, $\\sigma_1,\\ldots,\\sigma_p$, and $V$. "
   ]
  },
  {
   "cell_type": "code",
   "execution_count": 190,
   "id": "c5a87245-46b4-489d-ab88-6559a9ced897",
   "metadata": {
    "tags": []
   },
   "outputs": [
    {
     "data": {
      "text/plain": [
       "mySVD (generic function with 1 method)"
      ]
     },
     "execution_count": 190,
     "metadata": {},
     "output_type": "execute_result"
    }
   ],
   "source": [
    "function mySVD(A)\n",
    "    p = rank(A)\n",
    "    # eigenvalues sorted in ascending order\n",
    "    F = eigen(A'*A)\n",
    "    Fn = size(F.vectors, 2)\n",
    "    V = zeros(size(A, 2), p)\n",
    "    sigma = zeros(p, p)\n",
    "    U = zeros(size(A, 1), p)\n",
    "    for k in 1:p\n",
    "        V[:,k] = F.vectors[:,Fn - k + 1]\n",
    "        sigma[k,k] = sqrt(F.values[Fn - k + 1])\n",
    "        U[:,k] = (A * V[:,k]) / sigma[k,k]\n",
    "    end\n",
    "    return U, sigma, V\n",
    "end"
   ]
  },
  {
   "cell_type": "markdown",
   "id": "c283de09-bfeb-423c-8755-1fe95e7ee436",
   "metadata": {},
   "source": [
    "b) Write a julia function that takes input $A$ and returns $A^\\#$. Eventually use $A^\\#$ to compute $f$ in part a) of PS.3 (lls via normal equations)."
   ]
  },
  {
   "cell_type": "code",
   "execution_count": 192,
   "id": "31735bdd-33a2-48f1-8036-dec418f7fc2f",
   "metadata": {},
   "outputs": [
    {
     "data": {
      "text/plain": [
       "myPinv (generic function with 1 method)"
      ]
     },
     "execution_count": 192,
     "metadata": {},
     "output_type": "execute_result"
    }
   ],
   "source": [
    "function myPinv(A)\n",
    "    U, sigma, V = mySVD(A)\n",
    "    return V * inv(sigma) * U'\n",
    "end"
   ]
  }
 ],
 "metadata": {
  "authors": [
   {
    "name": "Numerical Analysis 2022"
   }
  ],
  "kernelspec": {
   "display_name": "Julia 1.8.2",
   "language": "julia",
   "name": "julia-1.8"
  },
  "language_info": {
   "file_extension": ".jl",
   "mimetype": "application/julia",
   "name": "julia",
   "version": "1.8.2"
  },
  "title": "Exercise sheet 3",
  "toc-autonumbering": true,
  "widgets": {
   "application/vnd.jupyter.widget-state+json": {
    "state": {},
    "version_major": 2,
    "version_minor": 0
   }
  }
 },
 "nbformat": 4,
 "nbformat_minor": 5
}
