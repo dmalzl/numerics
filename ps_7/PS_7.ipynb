{
 "cells": [
  {
   "cell_type": "markdown",
   "id": "96902db5",
   "metadata": {
    "tags": []
   },
   "source": [
    "# PS.7\n",
    "\n",
    "Consider a sequence $(x_k)_{k\\in\\mathbb{N}}$ in a Banach space $B$ such that $x_k\\rightarrow x\\in B$. We suppose that there are $c>0$ and $r>1$ such that \n",
    "$$\n",
    "\\|x_{k+1}-x\\|\\leq c \\|x_k-x\\|^r, \\qquad\\forall k\\in\\mathbb{N}. \n",
    "$$\n",
    "\n",
    "Verify that \n",
    "$$\n",
    "\\|x_k-x\\| \\leq c^{-\\frac{1}{r-1}}  c^{\\frac{r^k}{r-1}}\\|x_0-x\\|^{r^k},\\qquad k=1,2,3,\\ldots\n",
    "$$\n"
   ]
  },
  {
   "cell_type": "markdown",
   "id": "18a851c2",
   "metadata": {},
   "source": [
    "# PS.7 (Horner's scheme)\n",
    "\n",
    "Given $x_0\\in\\mathbb{R}$ and a polynomial \n",
    "\n",
    "\\begin{equation*}\n",
    "p(x) = a_0+a_1x+a_2x^2+\\cdots a_n x^n,\n",
    "\\end{equation*}\n",
    "\n",
    "let us define $b_n = a_n$ and \n",
    "\n",
    "\\begin{equation*}\n",
    "b_{k-1} = a_{k-1}+b_k x_0,\\qquad k=n,\\ldots,1.\n",
    "\\end{equation*}\n",
    "\n",
    "Then the choice \n",
    "\n",
    "\\begin{equation*}\n",
    "q(x)=b_1+b_2x+\\cdots b_n x^{n-1}\n",
    "\\end{equation*}\n",
    "\n",
    "leads to \n",
    "\n",
    "\\begin{equation*}\n",
    "p(x) = (x-x_0) q(x)+b_0,\\qquad p(x_0)=b_0,\\qquad p'(x_0) = q(x_0).\n",
    "\\end{equation*}\n",
    "\n",
    "To evaluate $q$ at $x_0$, we also use a recursive scheme $c_{n} = b_n$ and \n",
    "\n",
    "\\begin{equation*}\n",
    "c_{k-1} = b_{k-1}+c_kx_0,\\qquad k=n,\\ldots,2,\n",
    "\\end{equation*}\n",
    "\n",
    "so that $q(x_0) = c_1$.\n",
    "\n",
    "a) Implement Horner's scheme, so that you return $p(x_0)$, $p'(x_0)$, and the coefficients of $q$."
   ]
  },
  {
   "cell_type": "code",
   "execution_count": 15,
   "id": "f70df53f",
   "metadata": {},
   "outputs": [
    {
     "data": {
      "text/plain": [
       "myHorner (generic function with 1 method)"
      ]
     },
     "execution_count": 15,
     "metadata": {},
     "output_type": "execute_result"
    }
   ],
   "source": [
    "function myHorner(a::Vector,x0)\n",
    "    n = length(a)\n",
    "    b = copy(a)\n",
    "    c = a[n]\n",
    "    for k in n:-1:2\n",
    "        b[k-1] = a[k-1] + b[k] * x0\n",
    "        \n",
    "        if k > 2\n",
    "            c = b[k-1] + c * x0\n",
    "        end\n",
    "    end\n",
    "    return b[1], c, b[2:end]\n",
    "    \n",
    "end"
   ]
  },
  {
   "cell_type": "markdown",
   "id": "510d6fc6",
   "metadata": {},
   "source": [
    "b) Write a function myNewton for polynomials that uses Horner's scheme for evaluation of the polynomial and its derivative."
   ]
  },
  {
   "cell_type": "code",
   "execution_count": 16,
   "id": "909060ca",
   "metadata": {},
   "outputs": [
    {
     "data": {
      "text/plain": [
       "myNewton (generic function with 1 method)"
      ]
     },
     "execution_count": 16,
     "metadata": {},
     "output_type": "execute_result"
    }
   ],
   "source": [
    "using Polynomials:Polynomial  # makes the function Polynomial from the package Polynomials visible. \"using Polynomials\" would simply make all functions in Polynomials visible...\n",
    "\n",
    "function myNewton(a::Vector, x0; tol=1e-16, maxiter=200)\n",
    "\n",
    "    x = copy(x0)\n",
    "    p = Polynomial(a)\n",
    "    \n",
    "    for k in 1:maxiter\n",
    "        px, pdx, q = myHorner(a, x)\n",
    "        x = x - px / pdx\n",
    "        \n",
    "        if abs(px) < tol\n",
    "            return x\n",
    "        end\n",
    "    end\n",
    "    \n",
    "    return x\n",
    "end"
   ]
  },
  {
   "cell_type": "code",
   "execution_count": 17,
   "id": "5c86fc8d",
   "metadata": {},
   "outputs": [
    {
     "name": "stdout",
     "output_type": "stream",
     "text": [
      "\u001b[0m\u001b[1mTest Summary: | \u001b[22m\u001b[32m\u001b[1mPass  \u001b[22m\u001b[39m\u001b[36m\u001b[1mTotal  \u001b[22m\u001b[39m\u001b[0m\u001b[1mTime\u001b[22m\n",
      "myRoots       | \u001b[32m   4  \u001b[39m\u001b[36m    4  \u001b[39m\u001b[0m0.0s\n"
     ]
    },
    {
     "data": {
      "text/plain": [
       "Test.DefaultTestSet(\"myRoots\", Any[], 4, false, false, true, 1.669988741575787e9, 1.669988741612585e9)"
      ]
     },
     "execution_count": 17,
     "metadata": {},
     "output_type": "execute_result"
    }
   ],
   "source": [
    "using Test\n",
    "@testset \"myRoots\" begin     \n",
    "    for k in 2:5\n",
    "        a = [-k,0,1.] \n",
    "        p = Polynomial(a)\n",
    "        x̂ = myNewton(a, k)\n",
    "        @test abs(p(x̂)) < 1e-5\n",
    "    end\n",
    "end"
   ]
  },
  {
   "cell_type": "markdown",
   "id": "bf07c918",
   "metadata": {},
   "source": [
    "# PS.7 (Find all zeros of a polynomial)\n",
    "Given a polynomial $p$, Newton's method provides an approximation $x_0$ with $p(x_0)\\approx 0$. Horner's scheme yields\n",
    "\n",
    "\\begin{equation*}\n",
    "p(x) = (x-x_0)q(x)+p(x_0) \\approx (x-x_0)q(x).\n",
    "\\end{equation*}\n",
    "\n",
    "Thus, we may use $q$ to compute the remaining zeros of $p$. We apply Newton's method to $q$ (with initial value $x_0$) and obtain $y$ with $q(y)\\approx 0$. To increase accuracy, $y$ is used as initialization for Newton's method applied to $p$:\n",
    "\n",
    "0) Pick some initial value $x_{start}$ and apply Newton's method to $p$. We obtain the first root $x_0$ of $p$, i.e., \n",
    "\n",
    "\\begin{equation*}\n",
    "Newton(p,x_{start}) \\rightarrow x_0\n",
    "\\end{equation*}\n",
    "\n",
    "1) Apply Horner's scheme to remove the linear factor $(x-x_0)$ from $q_0:=p$. Then apply Newton's method to $q_1$ to obtain $y_1$. To increase accuracy, $y_1$ is used as initial value for Newton's method with the original $p$. This leads to the second root $x_1$ of $p$.\n",
    "\n",
    "\\begin{align*}\n",
    "&Horner(p,x_0)  \\rightarrow q_1 , \\quad \\text{ such that }\\quad p(x) = (x-x_0)q_1(x)\\\\\n",
    "&Newton(q_1,x_0) \\rightarrow y_1\\\\\n",
    "&Newton(p,y_1) \\rightarrow x_1\n",
    "\\end{align*}\n",
    "\n",
    "2) Repeat the above step as follows:\n",
    "\n",
    "\\begin{align*}\n",
    "&Horner(q_1,x_1) \\rightarrow q_2 , \\quad \\text{ such that }\\quad q_1(x) = (x-x_1)q_2(x)\\\\\n",
    "&Newton(q_2,x_1) \\rightarrow y_2\\\\\n",
    "&Newton(p,y_2) \\rightarrow x_2\n",
    "\\end{align*}\n",
    "\n",
    "3) Repeat...\n",
    "\n",
    "This process is repeated until all roots $x_0,x_1,x_2,\\ldots$ are found. \n",
    "\n",
    "\n",
    "a) Write a function findAllRoots that computes all roots of a polynomial via Newton's method and Horner's scheme. The input is supposed to be the coefficient vector $a$ of the polynomial and some initial value $x_0$. \n",
    "\n",
    "b) Apply your implementation to the polynomial $p(x)=(x-1)(x-5)^2(x-7)(x-9)$. "
   ]
  },
  {
   "cell_type": "code",
   "execution_count": 18,
   "id": "cb9f1e6d",
   "metadata": {},
   "outputs": [
    {
     "data": {
      "text/plain": [
       "findAllRoots (generic function with 1 method)"
      ]
     },
     "execution_count": 18,
     "metadata": {},
     "output_type": "execute_result"
    }
   ],
   "source": [
    "function findAllRoots(a,x0)\n",
    "    n = length(a)-1\n",
    "    x = []\n",
    "    b = copy(a)\n",
    "    push!(x,myNewton(b, x0))\n",
    "    for k in 1:n-1\n",
    "        _, _, b = myHorner(b, x[k])\n",
    "        y = myNewton(b, x[k])\n",
    "        push!(x, myNewton(b, y))\n",
    "    end\n",
    "    \n",
    "    return x\n",
    "end"
   ]
  },
  {
   "cell_type": "code",
   "execution_count": 19,
   "id": "12b64df6",
   "metadata": {},
   "outputs": [
    {
     "data": {
      "text/plain": [
       "5-element Vector{Any}:\n",
       " 1.0\n",
       " 5.000000050849938\n",
       " 4.999999949150058\n",
       " 7.00000000000002\n",
       " 8.999999999999982"
      ]
     },
     "execution_count": 19,
     "metadata": {},
     "output_type": "execute_result"
    }
   ],
   "source": [
    "using Polynomials:fromroots, coeffs   # two more functions are used from Polynomials\n",
    "X = [1.,5,5,7,9]\n",
    "P = fromroots(X)\n",
    "a = coeffs(P)\n",
    "z = findAllRoots(a,1)"
   ]
  },
  {
   "cell_type": "code",
   "execution_count": 20,
   "id": "424a91b2",
   "metadata": {},
   "outputs": [
    {
     "data": {
      "image/svg+xml": [
       "<?xml version=\"1.0\" encoding=\"utf-8\"?>\n",
       "<svg xmlns=\"http://www.w3.org/2000/svg\" xmlns:xlink=\"http://www.w3.org/1999/xlink\" width=\"600\" height=\"400\" viewBox=\"0 0 2400 1600\">\n",
       "<defs>\n",
       "  <clipPath id=\"clip660\">\n",
       "    <rect x=\"0\" y=\"0\" width=\"2400\" height=\"1600\"/>\n",
       "  </clipPath>\n",
       "</defs>\n",
       "<path clip-path=\"url(#clip660)\" d=\"\n",
       "M0 1600 L2400 1600 L2400 0 L0 0  Z\n",
       "  \" fill=\"#ffffff\" fill-rule=\"evenodd\" fill-opacity=\"1\"/>\n",
       "<defs>\n",
       "  <clipPath id=\"clip661\">\n",
       "    <rect x=\"480\" y=\"0\" width=\"1681\" height=\"1600\"/>\n",
       "  </clipPath>\n",
       "</defs>\n",
       "<path clip-path=\"url(#clip660)\" d=\"\n",
       "M170.857 1486.45 L2352.76 1486.45 L2352.76 47.2441 L170.857 47.2441  Z\n",
       "  \" fill=\"#ffffff\" fill-rule=\"evenodd\" fill-opacity=\"1\"/>\n",
       "<defs>\n",
       "  <clipPath id=\"clip662\">\n",
       "    <rect x=\"170\" y=\"47\" width=\"2183\" height=\"1440\"/>\n",
       "  </clipPath>\n",
       "</defs>\n",
       "<polyline clip-path=\"url(#clip662)\" style=\"stroke:#000000; stroke-linecap:round; stroke-linejoin:round; stroke-width:2; stroke-opacity:0.1; fill:none\" points=\"\n",
       "  443.595,1486.45 443.595,47.2441 \n",
       "  \"/>\n",
       "<polyline clip-path=\"url(#clip662)\" style=\"stroke:#000000; stroke-linecap:round; stroke-linejoin:round; stroke-width:2; stroke-opacity:0.1; fill:none\" points=\"\n",
       "  989.069,1486.45 989.069,47.2441 \n",
       "  \"/>\n",
       "<polyline clip-path=\"url(#clip662)\" style=\"stroke:#000000; stroke-linecap:round; stroke-linejoin:round; stroke-width:2; stroke-opacity:0.1; fill:none\" points=\"\n",
       "  1534.54,1486.45 1534.54,47.2441 \n",
       "  \"/>\n",
       "<polyline clip-path=\"url(#clip662)\" style=\"stroke:#000000; stroke-linecap:round; stroke-linejoin:round; stroke-width:2; stroke-opacity:0.1; fill:none\" points=\"\n",
       "  2080.02,1486.45 2080.02,47.2441 \n",
       "  \"/>\n",
       "<polyline clip-path=\"url(#clip660)\" style=\"stroke:#000000; stroke-linecap:round; stroke-linejoin:round; stroke-width:4; stroke-opacity:1; fill:none\" points=\"\n",
       "  170.857,1486.45 2352.76,1486.45 \n",
       "  \"/>\n",
       "<polyline clip-path=\"url(#clip660)\" style=\"stroke:#000000; stroke-linecap:round; stroke-linejoin:round; stroke-width:4; stroke-opacity:1; fill:none\" points=\"\n",
       "  443.595,1486.45 443.595,1467.55 \n",
       "  \"/>\n",
       "<polyline clip-path=\"url(#clip660)\" style=\"stroke:#000000; stroke-linecap:round; stroke-linejoin:round; stroke-width:4; stroke-opacity:1; fill:none\" points=\"\n",
       "  989.069,1486.45 989.069,1467.55 \n",
       "  \"/>\n",
       "<polyline clip-path=\"url(#clip660)\" style=\"stroke:#000000; stroke-linecap:round; stroke-linejoin:round; stroke-width:4; stroke-opacity:1; fill:none\" points=\"\n",
       "  1534.54,1486.45 1534.54,1467.55 \n",
       "  \"/>\n",
       "<polyline clip-path=\"url(#clip660)\" style=\"stroke:#000000; stroke-linecap:round; stroke-linejoin:round; stroke-width:4; stroke-opacity:1; fill:none\" points=\"\n",
       "  2080.02,1486.45 2080.02,1467.55 \n",
       "  \"/>\n",
       "<path clip-path=\"url(#clip660)\" d=\"M438.248 1544.91 L454.567 1544.91 L454.567 1548.85 L432.623 1548.85 L432.623 1544.91 Q435.285 1542.16 439.868 1537.53 Q444.474 1532.88 445.655 1531.53 Q447.9 1529.01 448.78 1527.27 Q449.683 1525.51 449.683 1523.82 Q449.683 1521.07 447.738 1519.33 Q445.817 1517.6 442.715 1517.6 Q440.516 1517.6 438.062 1518.36 Q435.632 1519.13 432.854 1520.68 L432.854 1515.95 Q435.678 1514.82 438.132 1514.24 Q440.585 1513.66 442.623 1513.66 Q447.993 1513.66 451.187 1516.35 Q454.382 1519.03 454.382 1523.52 Q454.382 1525.65 453.572 1527.57 Q452.784 1529.47 450.678 1532.07 Q450.099 1532.74 446.997 1535.95 Q443.896 1539.15 438.248 1544.91 Z\" fill=\"#000000\" fill-rule=\"evenodd\" fill-opacity=\"1\" /><path clip-path=\"url(#clip660)\" d=\"M992.079 1518.36 L980.273 1536.81 L992.079 1536.81 L992.079 1518.36 M990.852 1514.29 L996.731 1514.29 L996.731 1536.81 L1001.66 1536.81 L1001.66 1540.7 L996.731 1540.7 L996.731 1548.85 L992.079 1548.85 L992.079 1540.7 L976.477 1540.7 L976.477 1536.19 L990.852 1514.29 Z\" fill=\"#000000\" fill-rule=\"evenodd\" fill-opacity=\"1\" /><path clip-path=\"url(#clip660)\" d=\"M1534.95 1529.7 Q1531.8 1529.7 1529.95 1531.86 Q1528.12 1534.01 1528.12 1537.76 Q1528.12 1541.49 1529.95 1543.66 Q1531.8 1545.82 1534.95 1545.82 Q1538.1 1545.82 1539.93 1543.66 Q1541.78 1541.49 1541.78 1537.76 Q1541.78 1534.01 1539.93 1531.86 Q1538.1 1529.7 1534.95 1529.7 M1544.23 1515.05 L1544.23 1519.31 Q1542.47 1518.48 1540.67 1518.04 Q1538.88 1517.6 1537.12 1517.6 Q1532.5 1517.6 1530.04 1520.72 Q1527.61 1523.85 1527.26 1530.17 Q1528.63 1528.15 1530.69 1527.09 Q1532.75 1526 1535.23 1526 Q1540.44 1526 1543.44 1529.17 Q1546.48 1532.32 1546.48 1537.76 Q1546.48 1543.08 1543.33 1546.3 Q1540.18 1549.52 1534.95 1549.52 Q1528.95 1549.52 1525.78 1544.94 Q1522.61 1540.33 1522.61 1531.6 Q1522.61 1523.41 1526.5 1518.55 Q1530.39 1513.66 1536.94 1513.66 Q1538.7 1513.66 1540.48 1514.01 Q1542.29 1514.36 1544.23 1515.05 Z\" fill=\"#000000\" fill-rule=\"evenodd\" fill-opacity=\"1\" /><path clip-path=\"url(#clip660)\" d=\"M2080.02 1532.44 Q2076.69 1532.44 2074.76 1534.22 Q2072.87 1536 2072.87 1539.13 Q2072.87 1542.25 2074.76 1544.03 Q2076.69 1545.82 2080.02 1545.82 Q2083.35 1545.82 2085.27 1544.03 Q2087.19 1542.23 2087.19 1539.13 Q2087.19 1536 2085.27 1534.22 Q2083.38 1532.44 2080.02 1532.44 M2075.34 1530.45 Q2072.33 1529.7 2070.64 1527.64 Q2068.98 1525.58 2068.98 1522.62 Q2068.98 1518.48 2071.92 1516.07 Q2074.88 1513.66 2080.02 1513.66 Q2085.18 1513.66 2088.12 1516.07 Q2091.06 1518.48 2091.06 1522.62 Q2091.06 1525.58 2089.37 1527.64 Q2087.7 1529.7 2084.72 1530.45 Q2088.1 1531.23 2089.97 1533.52 Q2091.87 1535.82 2091.87 1539.13 Q2091.87 1544.15 2088.79 1546.83 Q2085.74 1549.52 2080.02 1549.52 Q2074.3 1549.52 2071.22 1546.83 Q2068.17 1544.15 2068.17 1539.13 Q2068.17 1535.82 2070.06 1533.52 Q2071.96 1531.23 2075.34 1530.45 M2073.63 1523.06 Q2073.63 1525.75 2075.3 1527.25 Q2076.99 1528.76 2080.02 1528.76 Q2083.03 1528.76 2084.72 1527.25 Q2086.43 1525.75 2086.43 1523.06 Q2086.43 1520.38 2084.72 1518.87 Q2083.03 1517.37 2080.02 1517.37 Q2076.99 1517.37 2075.3 1518.87 Q2073.63 1520.38 2073.63 1523.06 Z\" fill=\"#000000\" fill-rule=\"evenodd\" fill-opacity=\"1\" /><polyline clip-path=\"url(#clip662)\" style=\"stroke:#000000; stroke-linecap:round; stroke-linejoin:round; stroke-width:2; stroke-opacity:0.1; fill:none\" points=\"\n",
       "  170.857,1191.97 2352.76,1191.97 \n",
       "  \"/>\n",
       "<polyline clip-path=\"url(#clip662)\" style=\"stroke:#000000; stroke-linecap:round; stroke-linejoin:round; stroke-width:2; stroke-opacity:0.1; fill:none\" points=\"\n",
       "  170.857,841.461 2352.76,841.461 \n",
       "  \"/>\n",
       "<polyline clip-path=\"url(#clip662)\" style=\"stroke:#000000; stroke-linecap:round; stroke-linejoin:round; stroke-width:2; stroke-opacity:0.1; fill:none\" points=\"\n",
       "  170.857,490.956 2352.76,490.956 \n",
       "  \"/>\n",
       "<polyline clip-path=\"url(#clip662)\" style=\"stroke:#000000; stroke-linecap:round; stroke-linejoin:round; stroke-width:2; stroke-opacity:0.1; fill:none\" points=\"\n",
       "  170.857,140.451 2352.76,140.451 \n",
       "  \"/>\n",
       "<polyline clip-path=\"url(#clip660)\" style=\"stroke:#000000; stroke-linecap:round; stroke-linejoin:round; stroke-width:4; stroke-opacity:1; fill:none\" points=\"\n",
       "  170.857,1486.45 170.857,47.2441 \n",
       "  \"/>\n",
       "<polyline clip-path=\"url(#clip660)\" style=\"stroke:#000000; stroke-linecap:round; stroke-linejoin:round; stroke-width:4; stroke-opacity:1; fill:none\" points=\"\n",
       "  170.857,1191.97 189.755,1191.97 \n",
       "  \"/>\n",
       "<polyline clip-path=\"url(#clip660)\" style=\"stroke:#000000; stroke-linecap:round; stroke-linejoin:round; stroke-width:4; stroke-opacity:1; fill:none\" points=\"\n",
       "  170.857,841.461 189.755,841.461 \n",
       "  \"/>\n",
       "<polyline clip-path=\"url(#clip660)\" style=\"stroke:#000000; stroke-linecap:round; stroke-linejoin:round; stroke-width:4; stroke-opacity:1; fill:none\" points=\"\n",
       "  170.857,490.956 189.755,490.956 \n",
       "  \"/>\n",
       "<polyline clip-path=\"url(#clip660)\" style=\"stroke:#000000; stroke-linecap:round; stroke-linejoin:round; stroke-width:4; stroke-opacity:1; fill:none\" points=\"\n",
       "  170.857,140.451 189.755,140.451 \n",
       "  \"/>\n",
       "<path clip-path=\"url(#clip660)\" d=\"M122.913 1177.76 Q119.302 1177.76 117.473 1181.33 Q115.668 1184.87 115.668 1192 Q115.668 1199.11 117.473 1202.67 Q119.302 1206.21 122.913 1206.21 Q126.547 1206.21 128.353 1202.67 Q130.182 1199.11 130.182 1192 Q130.182 1184.87 128.353 1181.33 Q126.547 1177.76 122.913 1177.76 M122.913 1174.06 Q128.723 1174.06 131.779 1178.67 Q134.857 1183.25 134.857 1192 Q134.857 1200.73 131.779 1205.33 Q128.723 1209.92 122.913 1209.92 Q117.103 1209.92 114.024 1205.33 Q110.969 1200.73 110.969 1192 Q110.969 1183.25 114.024 1178.67 Q117.103 1174.06 122.913 1174.06 Z\" fill=\"#000000\" fill-rule=\"evenodd\" fill-opacity=\"1\" /><path clip-path=\"url(#clip660)\" d=\"M53.3995 854.806 L61.0384 854.806 L61.0384 828.44 L52.7282 830.107 L52.7282 825.847 L60.9921 824.181 L65.668 824.181 L65.668 854.806 L73.3068 854.806 L73.3068 858.741 L53.3995 858.741 L53.3995 854.806 Z\" fill=\"#000000\" fill-rule=\"evenodd\" fill-opacity=\"1\" /><path clip-path=\"url(#clip660)\" d=\"M92.7512 827.259 Q89.1401 827.259 87.3114 830.824 Q85.5058 834.366 85.5058 841.495 Q85.5058 848.602 87.3114 852.167 Q89.1401 855.708 92.7512 855.708 Q96.3854 855.708 98.1909 852.167 Q100.02 848.602 100.02 841.495 Q100.02 834.366 98.1909 830.824 Q96.3854 827.259 92.7512 827.259 M92.7512 823.556 Q98.5613 823.556 101.617 828.162 Q104.696 832.746 104.696 841.495 Q104.696 850.222 101.617 854.829 Q98.5613 859.412 92.7512 859.412 Q86.941 859.412 83.8623 854.829 Q80.8068 850.222 80.8068 841.495 Q80.8068 832.746 83.8623 828.162 Q86.941 823.556 92.7512 823.556 Z\" fill=\"#000000\" fill-rule=\"evenodd\" fill-opacity=\"1\" /><path clip-path=\"url(#clip660)\" d=\"M122.913 827.259 Q119.302 827.259 117.473 830.824 Q115.668 834.366 115.668 841.495 Q115.668 848.602 117.473 852.167 Q119.302 855.708 122.913 855.708 Q126.547 855.708 128.353 852.167 Q130.182 848.602 130.182 841.495 Q130.182 834.366 128.353 830.824 Q126.547 827.259 122.913 827.259 M122.913 823.556 Q128.723 823.556 131.779 828.162 Q134.857 832.746 134.857 841.495 Q134.857 850.222 131.779 854.829 Q128.723 859.412 122.913 859.412 Q117.103 859.412 114.024 854.829 Q110.969 850.222 110.969 841.495 Q110.969 832.746 114.024 828.162 Q117.103 823.556 122.913 823.556 Z\" fill=\"#000000\" fill-rule=\"evenodd\" fill-opacity=\"1\" /><path clip-path=\"url(#clip660)\" d=\"M56.6171 504.301 L72.9365 504.301 L72.9365 508.236 L50.9921 508.236 L50.9921 504.301 Q53.6541 501.546 58.2375 496.917 Q62.8439 492.264 64.0245 490.921 Q66.2698 488.398 67.1494 486.662 Q68.0522 484.903 68.0522 483.213 Q68.0522 480.458 66.1078 478.722 Q64.1865 476.986 61.0847 476.986 Q58.8856 476.986 56.4319 477.75 Q54.0014 478.514 51.2236 480.065 L51.2236 475.343 Q54.0477 474.208 56.5014 473.63 Q58.955 473.051 60.9921 473.051 Q66.3624 473.051 69.5568 475.736 Q72.7513 478.421 72.7513 482.912 Q72.7513 485.042 71.9411 486.963 Q71.1541 488.861 69.0476 491.454 Q68.4689 492.125 65.367 495.343 Q62.2652 498.537 56.6171 504.301 Z\" fill=\"#000000\" fill-rule=\"evenodd\" fill-opacity=\"1\" /><path clip-path=\"url(#clip660)\" d=\"M92.7512 476.755 Q89.1401 476.755 87.3114 480.32 Q85.5058 483.861 85.5058 490.991 Q85.5058 498.097 87.3114 501.662 Q89.1401 505.204 92.7512 505.204 Q96.3854 505.204 98.1909 501.662 Q100.02 498.097 100.02 490.991 Q100.02 483.861 98.1909 480.32 Q96.3854 476.755 92.7512 476.755 M92.7512 473.051 Q98.5613 473.051 101.617 477.658 Q104.696 482.241 104.696 490.991 Q104.696 499.718 101.617 504.324 Q98.5613 508.907 92.7512 508.907 Q86.941 508.907 83.8623 504.324 Q80.8068 499.718 80.8068 490.991 Q80.8068 482.241 83.8623 477.658 Q86.941 473.051 92.7512 473.051 Z\" fill=\"#000000\" fill-rule=\"evenodd\" fill-opacity=\"1\" /><path clip-path=\"url(#clip660)\" d=\"M122.913 476.755 Q119.302 476.755 117.473 480.32 Q115.668 483.861 115.668 490.991 Q115.668 498.097 117.473 501.662 Q119.302 505.204 122.913 505.204 Q126.547 505.204 128.353 501.662 Q130.182 498.097 130.182 490.991 Q130.182 483.861 128.353 480.32 Q126.547 476.755 122.913 476.755 M122.913 473.051 Q128.723 473.051 131.779 477.658 Q134.857 482.241 134.857 490.991 Q134.857 499.718 131.779 504.324 Q128.723 508.907 122.913 508.907 Q117.103 508.907 114.024 504.324 Q110.969 499.718 110.969 490.991 Q110.969 482.241 114.024 477.658 Q117.103 473.051 122.913 473.051 Z\" fill=\"#000000\" fill-rule=\"evenodd\" fill-opacity=\"1\" /><path clip-path=\"url(#clip660)\" d=\"M66.7559 139.097 Q70.1124 139.815 71.9874 142.083 Q73.8855 144.352 73.8855 147.685 Q73.8855 152.801 70.367 155.602 Q66.8485 158.403 60.3671 158.403 Q58.1912 158.403 55.8764 157.963 Q53.5847 157.546 51.131 156.69 L51.131 152.176 Q53.0754 153.31 55.3903 153.889 Q57.7051 154.468 60.2282 154.468 Q64.6263 154.468 66.918 152.731 Q69.2328 150.995 69.2328 147.685 Q69.2328 144.63 67.08 142.917 Q64.9504 141.181 61.131 141.181 L57.1032 141.181 L57.1032 137.338 L61.3161 137.338 Q64.7652 137.338 66.5939 135.972 Q68.4226 134.583 68.4226 131.991 Q68.4226 129.329 66.5245 127.917 Q64.6495 126.482 61.131 126.482 Q59.2097 126.482 57.0106 126.898 Q54.8115 127.315 52.1727 128.195 L52.1727 124.028 Q54.8347 123.287 57.1495 122.917 Q59.4875 122.546 61.5476 122.546 Q66.8717 122.546 69.9735 124.977 Q73.0753 127.384 73.0753 131.505 Q73.0753 134.375 71.4318 136.366 Q69.7883 138.333 66.7559 139.097 Z\" fill=\"#000000\" fill-rule=\"evenodd\" fill-opacity=\"1\" /><path clip-path=\"url(#clip660)\" d=\"M92.7512 126.25 Q89.1401 126.25 87.3114 129.815 Q85.5058 133.357 85.5058 140.486 Q85.5058 147.593 87.3114 151.157 Q89.1401 154.699 92.7512 154.699 Q96.3854 154.699 98.1909 151.157 Q100.02 147.593 100.02 140.486 Q100.02 133.357 98.1909 129.815 Q96.3854 126.25 92.7512 126.25 M92.7512 122.546 Q98.5613 122.546 101.617 127.153 Q104.696 131.736 104.696 140.486 Q104.696 149.213 101.617 153.819 Q98.5613 158.403 92.7512 158.403 Q86.941 158.403 83.8623 153.819 Q80.8068 149.213 80.8068 140.486 Q80.8068 131.736 83.8623 127.153 Q86.941 122.546 92.7512 122.546 Z\" fill=\"#000000\" fill-rule=\"evenodd\" fill-opacity=\"1\" /><path clip-path=\"url(#clip660)\" d=\"M122.913 126.25 Q119.302 126.25 117.473 129.815 Q115.668 133.357 115.668 140.486 Q115.668 147.593 117.473 151.157 Q119.302 154.699 122.913 154.699 Q126.547 154.699 128.353 151.157 Q130.182 147.593 130.182 140.486 Q130.182 133.357 128.353 129.815 Q126.547 126.25 122.913 126.25 M122.913 122.546 Q128.723 122.546 131.779 127.153 Q134.857 131.736 134.857 140.486 Q134.857 149.213 131.779 153.819 Q128.723 158.403 122.913 158.403 Q117.103 158.403 114.024 153.819 Q110.969 149.213 110.969 140.486 Q110.969 131.736 114.024 127.153 Q117.103 122.546 122.913 122.546 Z\" fill=\"#000000\" fill-rule=\"evenodd\" fill-opacity=\"1\" /><circle clip-path=\"url(#clip662)\" cx=\"170.857\" cy=\"1191.97\" r=\"14.4\" fill=\"#009af9\" fill-rule=\"evenodd\" fill-opacity=\"1\" stroke=\"#000000\" stroke-opacity=\"1\" stroke-width=\"3.2\"/>\n",
       "<circle clip-path=\"url(#clip662)\" cx=\"1261.81\" cy=\"1191.97\" r=\"14.4\" fill=\"#009af9\" fill-rule=\"evenodd\" fill-opacity=\"1\" stroke=\"#000000\" stroke-opacity=\"1\" stroke-width=\"3.2\"/>\n",
       "<circle clip-path=\"url(#clip662)\" cx=\"1261.81\" cy=\"1191.97\" r=\"14.4\" fill=\"#009af9\" fill-rule=\"evenodd\" fill-opacity=\"1\" stroke=\"#000000\" stroke-opacity=\"1\" stroke-width=\"3.2\"/>\n",
       "<circle clip-path=\"url(#clip662)\" cx=\"1807.28\" cy=\"1191.97\" r=\"14.4\" fill=\"#009af9\" fill-rule=\"evenodd\" fill-opacity=\"1\" stroke=\"#000000\" stroke-opacity=\"1\" stroke-width=\"3.2\"/>\n",
       "<circle clip-path=\"url(#clip662)\" cx=\"2352.76\" cy=\"1191.97\" r=\"14.4\" fill=\"#009af9\" fill-rule=\"evenodd\" fill-opacity=\"1\" stroke=\"#000000\" stroke-opacity=\"1\" stroke-width=\"3.2\"/>\n",
       "<polyline clip-path=\"url(#clip662)\" style=\"stroke:#e26f46; stroke-linecap:round; stroke-linejoin:round; stroke-width:4; stroke-opacity:1; fill:none\" points=\"\n",
       "  170.857,1191.97 174.409,1157.27 177.96,1123.3 181.511,1090.03 185.063,1057.46 193.272,984.791 201.481,915.718 205.586,882.499 209.691,850.141 213.795,818.633 \n",
       "  217.9,787.965 226.109,729.096 234.319,673.444 242.528,620.917 250.737,571.428 258.947,524.888 267.156,481.212 275.365,440.316 283.575,402.115 291.784,366.529 \n",
       "  299.993,333.477 308.202,302.881 316.412,274.661 321.345,258.814 326.279,243.782 331.212,229.548 336.146,216.096 346.012,191.478 355.879,169.803 365.746,150.949 \n",
       "  375.613,134.796 385.48,121.229 395.347,110.133 403.689,102.598 412.032,96.6842 420.374,92.3278 428.716,89.4654 437.059,88.035 445.401,87.9763 453.743,89.2297 \n",
       "  462.086,91.7372 471.148,95.816 480.21,101.236 489.272,107.929 498.334,115.825 507.396,124.86 516.459,134.967 525.521,146.086 534.583,158.153 551.292,182.692 \n",
       "  568.001,209.895 584.71,239.419 601.419,270.939 619.332,306.599 637.246,343.84 655.16,382.325 673.074,421.739 714.583,515.041 756.093,608.514 774.538,649.371 \n",
       "  792.982,689.511 811.426,728.746 829.871,766.908 846.045,799.371 862.219,830.803 878.393,861.123 894.567,890.261 912.202,920.611 929.836,949.415 947.47,976.621 \n",
       "  965.104,1002.18 982.843,1026.21 1000.58,1048.52 1018.32,1069.11 1036.06,1087.97 1055.67,1106.84 1075.29,1123.63 1094.9,1138.39 1114.51,1151.17 1133.17,1161.56 \n",
       "  1151.83,1170.28 1170.49,1177.39 1189.15,1182.99 1208.56,1187.28 1227.96,1190.13 1247.36,1191.64 1266.77,1191.93 1283.1,1191.31 1299.43,1189.98 1315.77,1188.02 \n",
       "  1332.1,1185.5 1411.86,1167.82 1484.93,1149.46 1518.68,1142.24 1552.42,1136.69 1586.6,1133.32 1620.78,1132.72 1639.93,1133.77 1659.08,1135.88 1678.24,1139.12 \n",
       "  1697.39,1143.52 1714.75,1148.53 1732.1,1154.54 1749.46,1161.55 1766.81,1169.55 1786.69,1179.91 1806.56,1191.52 1826.43,1204.32 1846.3,1218.24 1883.1,1246.63 \n",
       "  1919.9,1277.72 1956.17,1310.02 1992.45,1342.65 2027.68,1373.2 2062.9,1400.92 2080.95,1413.39 2099.01,1424.32 2117.06,1433.37 2135.12,1440.22 2145.01,1442.91 \n",
       "  2154.9,1444.76 2164.79,1445.72 2174.68,1445.71 2184.57,1444.67 2194.46,1442.53 2204.35,1439.21 2214.24,1434.65 2228.61,1425.63 2242.97,1413.57 2250.16,1406.32 \n",
       "  2257.34,1398.21 2264.52,1389.21 2271.71,1379.29 2278.89,1368.4 2286.07,1356.52 2293.26,1343.61 2300.44,1329.62 2307.63,1314.53 2314.81,1298.3 2321.99,1280.89 \n",
       "  2329.18,1262.25 2335.07,1246.01 2340.97,1228.9 2346.86,1210.89 2352.76,1191.97 \n",
       "  \"/>\n",
       "<path clip-path=\"url(#clip660)\" d=\"\n",
       "M2005.39 250.738 L2280.03 250.738 L2280.03 95.2176 L2005.39 95.2176  Z\n",
       "  \" fill=\"#ffffff\" fill-rule=\"evenodd\" fill-opacity=\"1\"/>\n",
       "<polyline clip-path=\"url(#clip660)\" style=\"stroke:#000000; stroke-linecap:round; stroke-linejoin:round; stroke-width:4; stroke-opacity:1; fill:none\" points=\"\n",
       "  2005.39,250.738 2280.03,250.738 2280.03,95.2176 2005.39,95.2176 2005.39,250.738 \n",
       "  \"/>\n",
       "<circle clip-path=\"url(#clip660)\" cx=\"2102.37\" cy=\"147.058\" r=\"23.04\" fill=\"#009af9\" fill-rule=\"evenodd\" fill-opacity=\"1\" stroke=\"#000000\" stroke-opacity=\"1\" stroke-width=\"5.12\"/>\n",
       "<path clip-path=\"url(#clip660)\" d=\"M2223.99 138.412 L2214.62 151.027 L2224.48 164.338 L2219.46 164.338 L2211.91 154.152 L2204.36 164.338 L2199.34 164.338 L2209.41 150.773 L2200.2 138.412 L2205.22 138.412 L2212.09 147.648 L2218.97 138.412 L2223.99 138.412 Z\" fill=\"#000000\" fill-rule=\"evenodd\" fill-opacity=\"1\" /><path clip-path=\"url(#clip660)\" d=\"M2228.85 149.824 L2231.54 149.824 L2231.54 164.338 L2228.85 164.338 L2228.85 149.824 M2228.85 144.176 L2231.54 144.176 L2231.54 147.185 L2228.85 147.185 L2228.85 144.176 Z\" fill=\"#000000\" fill-rule=\"evenodd\" fill-opacity=\"1\" /><polyline clip-path=\"url(#clip660)\" style=\"stroke:#e26f46; stroke-linecap:round; stroke-linejoin:round; stroke-width:4; stroke-opacity:1; fill:none\" points=\"\n",
       "  2029.64,198.898 2175.1,198.898 \n",
       "  \"/>\n",
       "<path clip-path=\"url(#clip660)\" d=\"M2204.02 185.46 L2204.02 198.446 L2209.9 198.446 Q2213.16 198.446 2214.94 196.756 Q2216.72 195.067 2216.72 191.942 Q2216.72 188.84 2214.94 187.15 Q2213.16 185.46 2209.9 185.46 L2204.02 185.46 M2199.34 181.618 L2209.9 181.618 Q2215.71 181.618 2218.67 184.256 Q2221.66 186.872 2221.66 191.942 Q2221.66 197.057 2218.67 199.673 Q2215.71 202.289 2209.9 202.289 L2204.02 202.289 L2204.02 216.178 L2199.34 216.178 L2199.34 181.618 Z\" fill=\"#000000\" fill-rule=\"evenodd\" fill-opacity=\"1\" /></svg>\n"
      ]
     },
     "execution_count": 20,
     "metadata": {},
     "output_type": "execute_result"
    }
   ],
   "source": [
    "using Plots:scatter,plot!    # let us only make those functions visible that we really need\n",
    "scatter(z,zeros(length(z)),label=\"xᵢ\")\n",
    "plot!(P,xlimits = [minimum(z),maximum(z)],label = \"P\")"
   ]
  },
  {
   "cell_type": "markdown",
   "id": "436aefc6",
   "metadata": {},
   "source": [
    "# PS.7\n",
    "\n",
    "Consider the system of nonlinear equations\n",
    "\n",
    "\\begin{align*}\n",
    "ab + a-b-1 & = 0\\\\\n",
    "ab & = 0,\n",
    "\\end{align*}\n",
    "\n",
    "so that $a,b\\in\\mathbb{R}$ is to be solved for. \n",
    "Define a suitable function and apply one step of the associated bivariate Newton's method with initial vector $x_0 = (1,1)^\\top$. "
   ]
  },
  {
   "cell_type": "code",
   "execution_count": null,
   "id": "98409597",
   "metadata": {},
   "outputs": [],
   "source": []
  }
 ],
 "metadata": {
  "authors": [
   {
    "name": "Numerical Analysis 2022"
   }
  ],
  "kernelspec": {
   "display_name": "Julia 1.8.2",
   "language": "julia",
   "name": "julia-1.8"
  },
  "language_info": {
   "file_extension": ".jl",
   "mimetype": "application/julia",
   "name": "julia",
   "version": "1.8.2"
  },
  "title": "Exercise sheet 7",
  "toc-autonumbering": true,
  "widgets": {
   "application/vnd.jupyter.widget-state+json": {
    "state": {},
    "version_major": 2,
    "version_minor": 0
   }
  }
 },
 "nbformat": 4,
 "nbformat_minor": 5
}
