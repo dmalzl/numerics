{
 "cells": [
  {
   "cell_type": "markdown",
   "id": "2da9a0a1-8690-424c-98b0-677cf20d24e8",
   "metadata": {},
   "source": [
    "# PS.6 (conjugated gradient)\n",
    "\n",
    "Explain the notebook myCG.ipynb and address the following aspects: \n",
    "\n",
    "a) CG is fast, in particular, faster than SGD.\n",
    "\n",
    "b) Preconditioning is useful.\n",
    "\n",
    "c) CG is useful for linear least squares problems, in particular, for sparse matrices."
   ]
  },
  {
   "cell_type": "markdown",
   "id": "9509417f-52c1-4f1e-98ce-63c1eaef4a97",
   "metadata": {
    "tags": []
   },
   "source": [
    "# PS.6 (iterative schemes)\n",
    "\n",
    "Consider the equation\n",
    "\n",
    "$$ \n",
    "x+\\mathop{ln}(x)=0.\n",
    "$$\n",
    "\n",
    "To determine a solution $x_*$, we make use of two iterative schemes.\n",
    "\n",
    "a) Verify that $x_{n+1} = \\mathrm{e}^{-x_n}$ provides locally linear convergence. \n",
    "\n",
    "b) Verify that $x_{n+1} = \\frac{1}{2}(x_n+\\mathrm{e}^{-x_n})$ provides locally linear convergence. \n"
   ]
  },
  {
   "cell_type": "markdown",
   "id": "3319cad7-70c4-4037-82f0-59e575239773",
   "metadata": {},
   "source": [
    "## Solution\n",
    "\n",
    "a) The mean-value theorem ensures that there is a unique solution $x_*\\in (0,1)$. For $\\Phi(x)=\\mathrm{e}^{-x}$, we observe that \n",
    "$$\n",
    "\\mathop{ln}(x)=-x \\quad \\Rightarrow\\quad x = \\mathrm{e}^{-x}.\n",
    "$$\n",
    "Therefore, we derive $\\Phi(x_*)=x_*$ and we obtain\n",
    "$$\n",
    "|\\Phi'(x_*)| = \\mathrm{e}^{-x_*} = x_* <1.\n",
    "$$\n",
    "Corollary 7.1.9 leads to locally linear convergence.\n",
    "\n",
    "b) For $\\Phi(x) = \\frac{1}{2}(x+\\mathrm{e}^{-x})$, we derive\n",
    "$$\n",
    "\\mathop{ln}(x)=-x \\quad \\Rightarrow\\quad x = \\mathrm{e}^{-x} \\quad \\Rightarrow\\quad \\frac{1}{2}(x+\\mathrm{e}^{-x}) =x.\n",
    "$$\n",
    "Therefore, $\\Phi(x_*)=x_*$ and we obtain\n",
    "$$\n",
    "|\\Phi'(x_*)| = \\frac{1}{2}(1-\\mathrm{e}^{-x_*}) =\\frac{1}{2}(1-x_*)\\leq \\frac{1}{2}. \n",
    "$$\n",
    "Corollary 7.1.9 leads to locally linear convergence.\n"
   ]
  },
  {
   "cell_type": "markdown",
   "id": "1f9fc66d-6128-4930-aa66-36a9e86c7e85",
   "metadata": {},
   "source": [
    "# PS.6 (iterative schemes, quadratic convergence)\n",
    "\n",
    "a) Determine $a\\in\\mathbb{R}$ such that \n",
    "$$\n",
    "x_{n+1}=\\frac{ax_n+\\mathrm{e}^{-x_n}}{a+1}\n",
    "$$ \n",
    "is locally convergent of order $2$.\n",
    "\n",
    "b) We now replace $a$ in part a) by $x_n$. Verify that \n",
    "$$\n",
    "x_{n+1}=\\frac{x_nx_n+\\mathrm{e}^{-x_n}}{x_n+1}\n",
    "$$ \n",
    "is locally convergent of order $2$. \n"
   ]
  },
  {
   "cell_type": "markdown",
   "id": "de6ab151-3d4a-440c-ad56-aa55e8b0ed74",
   "metadata": {},
   "source": [
    "## Solution\n",
    "\n",
    "a) Consider $\\Phi(x) = \\frac{ax+\\mathrm{e}^{-x}}{a+1}$. A fixed point satisfies $x=\\frac{ax+\\mathrm{e}^{-x}}{a+1}$, which leads to\n",
    "\n",
    "$$\n",
    "(a+1)x = ax+\\mathrm{e}^{-x}.\n",
    "$$\n",
    "We derive $x=\\mathrm{e}^{-x}$, which has a solution $x_*$ by the previous exercise.\n",
    "\n",
    "\n",
    "To apply Corollary 7.1.11, we look for $a$ such that \n",
    "\n",
    "$$\n",
    "0 = \\Phi'(x_*) = \\frac{a-\\mathrm{e}^{-x_*}}{a+1}.\n",
    "$$\n",
    "\n",
    "We have already observed that $x_*=\\mathrm{e}^{-x_*}$, so that $a=x_*$ leads to locally quadratic convergence. \n",
    "(This is useless though, because we do not know $x_*$).\n",
    "\n",
    "b) It turns out that $x_*$ is also a fixed point of $\\Phi(x) =\\frac{x^2+\\mathrm{e}^{-x}}{x+1}$ since \n",
    "\n",
    "$$\n",
    "\\Phi(x_*)=\\frac{x_*^2+\\mathrm{e}^{-x_*}}{x_*+1} = \\frac{x_*^2+x_*}{x_*+1}=\\frac{x_*(x_*+1)}{x_*+1}=x_*.\n",
    "$$\n",
    "\n",
    "\n",
    "The derivative satisfies\n",
    "\n",
    "$$\n",
    "|\\Phi'(x_*)| = \\frac{(2x_*-\\mathrm{e}^{-x_*})(x_*+1) - (x_*^2+\\mathrm{e}^{-x_*})}{(x_*+1)^2} \n",
    "= \\frac{x_*(x_*+1) - (x_*^2+x_*)}{(x_*+1)^2} = 0.\n",
    "$$\n",
    "\n",
    "Corollary 7.1.11 ensures quadratic convergence."
   ]
  },
  {
   "cell_type": "markdown",
   "id": "865e21d5-a2f3-4aa2-9f0f-692d15779003",
   "metadata": {
    "tags": []
   },
   "source": [
    "# PS.6 (root finding)\n",
    "\n",
    "Find $x$ such that\n",
    "\n",
    "\\begin{equation*}\n",
    "f(x) = 0\n",
    "\\end{equation*}"
   ]
  },
  {
   "cell_type": "markdown",
   "id": "5990d6b8-6e33-4a34-9be4-9cedccc0a459",
   "metadata": {},
   "source": [
    "## bisection method\n",
    "\n",
    "Define $A_0:=[a_0,b_0]:=[a,b]$ and denote $A_n:=[a_n,b_n]$, for $n\\in\\mathbb{N}$, and\n",
    "\\begin{equation*}\n",
    "x_n =\\frac{a_n+b_n}{2}.\n",
    "\\end{equation*}\n",
    "If $f(x_n)=0$, then simply $\\hat{x}=x_n$. We consider\n",
    "\\begin{equation*}\n",
    "A_{n+1} : = \\begin{cases}\n",
    "\\left[a_n,x_n\\right],& f(a_n)f(x_n)<0,\\\\\n",
    "\\left[x_n,b_n\\right],& \\text{otherwise}.\n",
    "\\end{cases}\n",
    "\\end{equation*}\n",
    "\n",
    "a) Implement the bisection method.\n"
   ]
  },
  {
   "cell_type": "code",
   "execution_count": 1,
   "id": "8e4efaf2-ea22-4a9d-aeaa-8bdd6b1c5f33",
   "metadata": {
    "tags": []
   },
   "outputs": [
    {
     "data": {
      "text/plain": [
       "myBisection (generic function with 1 method)"
      ]
     },
     "execution_count": 1,
     "metadata": {},
     "output_type": "execute_result"
    }
   ],
   "source": [
    "function myBisection(f,a,b; tol=1e-12,maxiter=100)\n",
    "    x = Vector{Float64}(undef, maxiter)   \n",
    "    for k in 1:maxiter\n",
    "        x[k] = (a+b)/2\n",
    "        if abs(f(x[k])) < tol    # stopping criteria\n",
    "            return x[1:k] \n",
    "        end\n",
    "        if f(a)*f(x[k])<0 \n",
    "            b = x[k] \n",
    "        else \n",
    "            a = x[k] \n",
    "        end \n",
    "    end\n",
    "    println(\"no convergence\")\n",
    "    return x\n",
    "end"
   ]
  },
  {
   "cell_type": "code",
   "execution_count": 2,
   "id": "af8233d8-aa28-42a0-b4db-8971b55988a4",
   "metadata": {},
   "outputs": [
    {
     "name": "stdout",
     "output_type": "stream",
     "text": [
      "no convergence\n"
     ]
    },
    {
     "data": {
      "text/plain": [
       "10-element Vector{Float64}:\n",
       " 4.5\n",
       " 7.25\n",
       " 8.625\n",
       " 9.3125\n",
       " 9.65625\n",
       " 9.828125\n",
       " 9.9140625\n",
       " 9.95703125\n",
       " 9.978515625\n",
       " 9.9892578125"
      ]
     },
     "execution_count": 2,
     "metadata": {},
     "output_type": "execute_result"
    }
   ],
   "source": [
    "f(x) = x^2\n",
    "a = -1\n",
    "b = 10\n",
    "myBisection(f,a,b;maxiter=10)"
   ]
  },
  {
   "cell_type": "markdown",
   "id": "735d95a1-cdea-4084-8628-3a264407b43c",
   "metadata": {},
   "source": [
    "## secant method\n",
    "\n",
    "Given $x_0$ and $x_1$, define \n",
    "\\begin{equation}\n",
    "x_{k+1}:=x_k-f(x_k)\\frac{x_k-x_{k-1}}{f(x_k)-f(x_{k-1})}\n",
    "\\end{equation}\n",
    "\n",
    "b) Implement the secant method."
   ]
  },
  {
   "cell_type": "code",
   "execution_count": 3,
   "id": "64e1df1c-c1ed-44ce-8cb3-f90a39a95d5f",
   "metadata": {},
   "outputs": [
    {
     "data": {
      "text/plain": [
       "mySecant (generic function with 1 method)"
      ]
     },
     "execution_count": 3,
     "metadata": {},
     "output_type": "execute_result"
    }
   ],
   "source": [
    "function mySecant(f, x0, x1; tol=1e-5, maxiter=50)\n",
    "    x = Vector{Float64}(undef,maxiter)\n",
    "    x[1] = x0\n",
    "    x[2] = x1\n",
    "    for k in 2:maxiter-1\n",
    "        x[k+1] = x[k]-f(x[k])*(x[k]-x[k-1])/(f(x[k])-f(x[k-1]))\n",
    "        if abs(f(x[k+1])) < tol\n",
    "            return x[1:k+1] \n",
    "        end\n",
    "    end\n",
    "    println(\"no convergence\")\n",
    "    return x\n",
    "end"
   ]
  },
  {
   "cell_type": "markdown",
   "id": "b8dc72c5-1a80-4bc4-87b4-7004a461b983",
   "metadata": {},
   "source": [
    "## Newton's method\n",
    "\n",
    "Given $x_0$, define \n",
    "\n",
    "\\begin{equation}\n",
    "x_{k+1}=x_k-\\frac{f(x_k)}{f'(x_k)}\n",
    "\\end{equation}\n",
    "\n",
    "c) Implement the Newton's method."
   ]
  },
  {
   "cell_type": "code",
   "execution_count": 4,
   "id": "0a6b457e-a457-4984-8446-bf51eb9f7cb7",
   "metadata": {},
   "outputs": [
    {
     "data": {
      "text/plain": [
       "myNewton (generic function with 1 method)"
      ]
     },
     "execution_count": 4,
     "metadata": {},
     "output_type": "execute_result"
    }
   ],
   "source": [
    "function myNewton(f, ∂f, x0; tol=1e-8, maxiter=50)\n",
    "    x = Vector{Float64}(undef,maxiter)\n",
    "    x[1] = copy(x0)\n",
    "    for k in 1:maxiter-1\n",
    "        if abs(f(x[k]))<tol return x[1:k] end\n",
    "        x[k+1] = x[k]-f(x[k])/∂f(x[k])\n",
    "    end\n",
    "    println(\"no convergence\")\n",
    "    return x\n",
    "end"
   ]
  },
  {
   "cell_type": "markdown",
   "id": "d195fa0a-cc03-47b3-9485-9569e8f40c9c",
   "metadata": {},
   "source": [
    "## Tests for root finding\n",
    "\n",
    "d) Run the tests and explain the plots."
   ]
  },
  {
   "cell_type": "code",
   "execution_count": 6,
   "id": "9cae956d-a442-4c77-915c-5d53774fd703",
   "metadata": {},
   "outputs": [
    {
     "name": "stdout",
     "output_type": "stream",
     "text": [
      "\u001b[0m\u001b[1mTest Summary: | \u001b[22m\u001b[32m\u001b[1mPass  \u001b[22m\u001b[39m\u001b[36m\u001b[1mTotal  \u001b[22m\u001b[39m\u001b[0m\u001b[1mTime\u001b[22m\n",
      "myRoots       | \u001b[32m  12  \u001b[39m\u001b[36m   12  \u001b[39m\u001b[0m0.2s\n"
     ]
    },
    {
     "data": {
      "text/plain": [
       "Test.DefaultTestSet(\"myRoots\", Any[], 12, false, false, true, 1.669120505405741e9, 1.669120505575087e9)"
      ]
     },
     "execution_count": 6,
     "metadata": {},
     "output_type": "execute_result"
    }
   ],
   "source": [
    "using Test\n",
    "using Calculus:derivative   # makes the function \"derivative\" from the package Calculus visible. \"using Calculus\" would make all functions from Calculus visible. \n",
    "@testset \"myRoots\" begin     # if you did not return all iterates, then you need to remove \"[end]\" in the following expressions\n",
    "    for k in 2:5\n",
    "        f(x) = x^2-k\n",
    "        x̂1 = myBisection(f, 1, k; tol = 1e-6)\n",
    "        x̂2 = mySecant(f, 1, k)\n",
    "        @test abs(f(x̂1[end])) < 1e-5\n",
    "        @test abs(f(x̂2[end])) < 1e-5\n",
    "\n",
    "        ∂f = derivative(f)\n",
    "        x̂3 = myNewton(f, ∂f, 1)\n",
    "        @test abs(f(x̂3[end])) < 1e-5\n",
    "    end\n",
    "end"
   ]
  },
  {
   "cell_type": "code",
   "execution_count": 7,
   "id": "1e85ed90-89d6-42b4-a1d4-fb8f2d6608c3",
   "metadata": {},
   "outputs": [
    {
     "data": {
      "image/svg+xml": [
       "<?xml version=\"1.0\" encoding=\"utf-8\"?>\n",
       "<svg xmlns=\"http://www.w3.org/2000/svg\" xmlns:xlink=\"http://www.w3.org/1999/xlink\" width=\"600\" height=\"400\" viewBox=\"0 0 2400 1600\">\n",
       "<defs>\n",
       "  <clipPath id=\"clip260\">\n",
       "    <rect x=\"0\" y=\"0\" width=\"2400\" height=\"1600\"/>\n",
       "  </clipPath>\n",
       "</defs>\n",
       "<path clip-path=\"url(#clip260)\" d=\"\n",
       "M0 1600 L2400 1600 L2400 0 L0 0  Z\n",
       "  \" fill=\"#ffffff\" fill-rule=\"evenodd\" fill-opacity=\"1\"/>\n",
       "<defs>\n",
       "  <clipPath id=\"clip261\">\n",
       "    <rect x=\"480\" y=\"0\" width=\"1681\" height=\"1600\"/>\n",
       "  </clipPath>\n",
       "</defs>\n",
       "<path clip-path=\"url(#clip260)\" d=\"\n",
       "M213.607 1486.45 L2352.76 1486.45 L2352.76 123.472 L213.607 123.472  Z\n",
       "  \" fill=\"#ffffff\" fill-rule=\"evenodd\" fill-opacity=\"1\"/>\n",
       "<defs>\n",
       "  <clipPath id=\"clip262\">\n",
       "    <rect x=\"213\" y=\"123\" width=\"2140\" height=\"1364\"/>\n",
       "  </clipPath>\n",
       "</defs>\n",
       "<polyline clip-path=\"url(#clip262)\" style=\"stroke:#000000; stroke-linecap:round; stroke-linejoin:round; stroke-width:2; stroke-opacity:0.1; fill:none\" points=\"\n",
       "  584.621,1486.45 584.621,123.472 \n",
       "  \"/>\n",
       "<polyline clip-path=\"url(#clip262)\" style=\"stroke:#000000; stroke-linecap:round; stroke-linejoin:round; stroke-width:2; stroke-opacity:0.1; fill:none\" points=\"\n",
       "  972.71,1486.45 972.71,123.472 \n",
       "  \"/>\n",
       "<polyline clip-path=\"url(#clip262)\" style=\"stroke:#000000; stroke-linecap:round; stroke-linejoin:round; stroke-width:2; stroke-opacity:0.1; fill:none\" points=\"\n",
       "  1360.8,1486.45 1360.8,123.472 \n",
       "  \"/>\n",
       "<polyline clip-path=\"url(#clip262)\" style=\"stroke:#000000; stroke-linecap:round; stroke-linejoin:round; stroke-width:2; stroke-opacity:0.1; fill:none\" points=\"\n",
       "  1748.89,1486.45 1748.89,123.472 \n",
       "  \"/>\n",
       "<polyline clip-path=\"url(#clip262)\" style=\"stroke:#000000; stroke-linecap:round; stroke-linejoin:round; stroke-width:2; stroke-opacity:0.1; fill:none\" points=\"\n",
       "  2136.98,1486.45 2136.98,123.472 \n",
       "  \"/>\n",
       "<polyline clip-path=\"url(#clip260)\" style=\"stroke:#000000; stroke-linecap:round; stroke-linejoin:round; stroke-width:4; stroke-opacity:1; fill:none\" points=\"\n",
       "  213.607,1486.45 2352.76,1486.45 \n",
       "  \"/>\n",
       "<polyline clip-path=\"url(#clip260)\" style=\"stroke:#000000; stroke-linecap:round; stroke-linejoin:round; stroke-width:4; stroke-opacity:1; fill:none\" points=\"\n",
       "  584.621,1486.45 584.621,1467.55 \n",
       "  \"/>\n",
       "<polyline clip-path=\"url(#clip260)\" style=\"stroke:#000000; stroke-linecap:round; stroke-linejoin:round; stroke-width:4; stroke-opacity:1; fill:none\" points=\"\n",
       "  972.71,1486.45 972.71,1467.55 \n",
       "  \"/>\n",
       "<polyline clip-path=\"url(#clip260)\" style=\"stroke:#000000; stroke-linecap:round; stroke-linejoin:round; stroke-width:4; stroke-opacity:1; fill:none\" points=\"\n",
       "  1360.8,1486.45 1360.8,1467.55 \n",
       "  \"/>\n",
       "<polyline clip-path=\"url(#clip260)\" style=\"stroke:#000000; stroke-linecap:round; stroke-linejoin:round; stroke-width:4; stroke-opacity:1; fill:none\" points=\"\n",
       "  1748.89,1486.45 1748.89,1467.55 \n",
       "  \"/>\n",
       "<polyline clip-path=\"url(#clip260)\" style=\"stroke:#000000; stroke-linecap:round; stroke-linejoin:round; stroke-width:4; stroke-opacity:1; fill:none\" points=\"\n",
       "  2136.98,1486.45 2136.98,1467.55 \n",
       "  \"/>\n",
       "<path clip-path=\"url(#clip260)\" d=\"M574.899 1514.29 L593.255 1514.29 L593.255 1518.22 L579.181 1518.22 L579.181 1526.7 Q580.2 1526.35 581.218 1526.19 Q582.237 1526 583.255 1526 Q589.042 1526 592.422 1529.17 Q595.801 1532.34 595.801 1537.76 Q595.801 1543.34 592.329 1546.44 Q588.857 1549.52 582.538 1549.52 Q580.362 1549.52 578.093 1549.15 Q575.848 1548.78 573.44 1548.04 L573.44 1543.34 Q575.524 1544.47 577.746 1545.03 Q579.968 1545.58 582.445 1545.58 Q586.45 1545.58 588.788 1543.48 Q591.125 1541.37 591.125 1537.76 Q591.125 1534.15 588.788 1532.04 Q586.45 1529.94 582.445 1529.94 Q580.57 1529.94 578.695 1530.35 Q576.843 1530.77 574.899 1531.65 L574.899 1514.29 Z\" fill=\"#000000\" fill-rule=\"evenodd\" fill-opacity=\"1\" /><path clip-path=\"url(#clip260)\" d=\"M947.398 1544.91 L955.037 1544.91 L955.037 1518.55 L946.727 1520.21 L946.727 1515.95 L954.99 1514.29 L959.666 1514.29 L959.666 1544.91 L967.305 1544.91 L967.305 1548.85 L947.398 1548.85 L947.398 1544.91 Z\" fill=\"#000000\" fill-rule=\"evenodd\" fill-opacity=\"1\" /><path clip-path=\"url(#clip260)\" d=\"M986.749 1517.37 Q983.138 1517.37 981.31 1520.93 Q979.504 1524.47 979.504 1531.6 Q979.504 1538.71 981.31 1542.27 Q983.138 1545.82 986.749 1545.82 Q990.384 1545.82 992.189 1542.27 Q994.018 1538.71 994.018 1531.6 Q994.018 1524.47 992.189 1520.93 Q990.384 1517.37 986.749 1517.37 M986.749 1513.66 Q992.56 1513.66 995.615 1518.27 Q998.694 1522.85 998.694 1531.6 Q998.694 1540.33 995.615 1544.94 Q992.56 1549.52 986.749 1549.52 Q980.939 1549.52 977.861 1544.94 Q974.805 1540.33 974.805 1531.6 Q974.805 1522.85 977.861 1518.27 Q980.939 1513.66 986.749 1513.66 Z\" fill=\"#000000\" fill-rule=\"evenodd\" fill-opacity=\"1\" /><path clip-path=\"url(#clip260)\" d=\"M1335.98 1544.91 L1343.62 1544.91 L1343.62 1518.55 L1335.31 1520.21 L1335.31 1515.95 L1343.58 1514.29 L1348.25 1514.29 L1348.25 1544.91 L1355.89 1544.91 L1355.89 1548.85 L1335.98 1548.85 L1335.98 1544.91 Z\" fill=\"#000000\" fill-rule=\"evenodd\" fill-opacity=\"1\" /><path clip-path=\"url(#clip260)\" d=\"M1365.38 1514.29 L1383.74 1514.29 L1383.74 1518.22 L1369.67 1518.22 L1369.67 1526.7 Q1370.68 1526.35 1371.7 1526.19 Q1372.72 1526 1373.74 1526 Q1379.53 1526 1382.91 1529.17 Q1386.29 1532.34 1386.29 1537.76 Q1386.29 1543.34 1382.81 1546.44 Q1379.34 1549.52 1373.02 1549.52 Q1370.85 1549.52 1368.58 1549.15 Q1366.33 1548.78 1363.92 1548.04 L1363.92 1543.34 Q1366.01 1544.47 1368.23 1545.03 Q1370.45 1545.58 1372.93 1545.58 Q1376.93 1545.58 1379.27 1543.48 Q1381.61 1541.37 1381.61 1537.76 Q1381.61 1534.15 1379.27 1532.04 Q1376.93 1529.94 1372.93 1529.94 Q1371.05 1529.94 1369.18 1530.35 Q1367.33 1530.77 1365.38 1531.65 L1365.38 1514.29 Z\" fill=\"#000000\" fill-rule=\"evenodd\" fill-opacity=\"1\" /><path clip-path=\"url(#clip260)\" d=\"M1727.66 1544.91 L1743.98 1544.91 L1743.98 1548.85 L1722.04 1548.85 L1722.04 1544.91 Q1724.7 1542.16 1729.28 1537.53 Q1733.89 1532.88 1735.07 1531.53 Q1737.31 1529.01 1738.19 1527.27 Q1739.1 1525.51 1739.1 1523.82 Q1739.1 1521.07 1737.15 1519.33 Q1735.23 1517.6 1732.13 1517.6 Q1729.93 1517.6 1727.48 1518.36 Q1725.05 1519.13 1722.27 1520.68 L1722.27 1515.95 Q1725.09 1514.82 1727.55 1514.24 Q1730 1513.66 1732.04 1513.66 Q1737.41 1513.66 1740.6 1516.35 Q1743.8 1519.03 1743.8 1523.52 Q1743.8 1525.65 1742.99 1527.57 Q1742.2 1529.47 1740.09 1532.07 Q1739.51 1532.74 1736.41 1535.95 Q1733.31 1539.15 1727.66 1544.91 Z\" fill=\"#000000\" fill-rule=\"evenodd\" fill-opacity=\"1\" /><path clip-path=\"url(#clip260)\" d=\"M1763.8 1517.37 Q1760.19 1517.37 1758.36 1520.93 Q1756.55 1524.47 1756.55 1531.6 Q1756.55 1538.71 1758.36 1542.27 Q1760.19 1545.82 1763.8 1545.82 Q1767.43 1545.82 1769.24 1542.27 Q1771.06 1538.71 1771.06 1531.6 Q1771.06 1524.47 1769.24 1520.93 Q1767.43 1517.37 1763.8 1517.37 M1763.8 1513.66 Q1769.61 1513.66 1772.66 1518.27 Q1775.74 1522.85 1775.74 1531.6 Q1775.74 1540.33 1772.66 1544.94 Q1769.61 1549.52 1763.8 1549.52 Q1757.99 1549.52 1754.91 1544.94 Q1751.85 1540.33 1751.85 1531.6 Q1751.85 1522.85 1754.91 1518.27 Q1757.99 1513.66 1763.8 1513.66 Z\" fill=\"#000000\" fill-rule=\"evenodd\" fill-opacity=\"1\" /><path clip-path=\"url(#clip260)\" d=\"M2116.25 1544.91 L2132.57 1544.91 L2132.57 1548.85 L2110.62 1548.85 L2110.62 1544.91 Q2113.29 1542.16 2117.87 1537.53 Q2122.48 1532.88 2123.66 1531.53 Q2125.9 1529.01 2126.78 1527.27 Q2127.68 1525.51 2127.68 1523.82 Q2127.68 1521.07 2125.74 1519.33 Q2123.82 1517.6 2120.72 1517.6 Q2118.52 1517.6 2116.06 1518.36 Q2113.63 1519.13 2110.86 1520.68 L2110.86 1515.95 Q2113.68 1514.82 2116.13 1514.24 Q2118.59 1513.66 2120.62 1513.66 Q2125.99 1513.66 2129.19 1516.35 Q2132.38 1519.03 2132.38 1523.52 Q2132.38 1525.65 2131.57 1527.57 Q2130.79 1529.47 2128.68 1532.07 Q2128.1 1532.74 2125 1535.95 Q2121.9 1539.15 2116.25 1544.91 Z\" fill=\"#000000\" fill-rule=\"evenodd\" fill-opacity=\"1\" /><path clip-path=\"url(#clip260)\" d=\"M2142.43 1514.29 L2160.79 1514.29 L2160.79 1518.22 L2146.71 1518.22 L2146.71 1526.7 Q2147.73 1526.35 2148.75 1526.19 Q2149.77 1526 2150.79 1526 Q2156.57 1526 2159.95 1529.17 Q2163.33 1532.34 2163.33 1537.76 Q2163.33 1543.34 2159.86 1546.44 Q2156.39 1549.52 2150.07 1549.52 Q2147.89 1549.52 2145.62 1549.15 Q2143.38 1548.78 2140.97 1548.04 L2140.97 1543.34 Q2143.05 1544.47 2145.28 1545.03 Q2147.5 1545.58 2149.98 1545.58 Q2153.98 1545.58 2156.32 1543.48 Q2158.66 1541.37 2158.66 1537.76 Q2158.66 1534.15 2156.32 1532.04 Q2153.98 1529.94 2149.98 1529.94 Q2148.1 1529.94 2146.23 1530.35 Q2144.37 1530.77 2142.43 1531.65 L2142.43 1514.29 Z\" fill=\"#000000\" fill-rule=\"evenodd\" fill-opacity=\"1\" /><polyline clip-path=\"url(#clip262)\" style=\"stroke:#000000; stroke-linecap:round; stroke-linejoin:round; stroke-width:2; stroke-opacity:0.1; fill:none\" points=\"\n",
       "  213.607,1248.04 2352.76,1248.04 \n",
       "  \"/>\n",
       "<polyline clip-path=\"url(#clip262)\" style=\"stroke:#000000; stroke-linecap:round; stroke-linejoin:round; stroke-width:2; stroke-opacity:0.1; fill:none\" points=\"\n",
       "  213.607,692.134 2352.76,692.134 \n",
       "  \"/>\n",
       "<polyline clip-path=\"url(#clip262)\" style=\"stroke:#000000; stroke-linecap:round; stroke-linejoin:round; stroke-width:2; stroke-opacity:0.1; fill:none\" points=\"\n",
       "  213.607,136.224 2352.76,136.224 \n",
       "  \"/>\n",
       "<polyline clip-path=\"url(#clip260)\" style=\"stroke:#000000; stroke-linecap:round; stroke-linejoin:round; stroke-width:4; stroke-opacity:1; fill:none\" points=\"\n",
       "  213.607,1486.45 213.607,123.472 \n",
       "  \"/>\n",
       "<polyline clip-path=\"url(#clip260)\" style=\"stroke:#000000; stroke-linecap:round; stroke-linejoin:round; stroke-width:4; stroke-opacity:1; fill:none\" points=\"\n",
       "  213.607,1248.04 232.505,1248.04 \n",
       "  \"/>\n",
       "<polyline clip-path=\"url(#clip260)\" style=\"stroke:#000000; stroke-linecap:round; stroke-linejoin:round; stroke-width:4; stroke-opacity:1; fill:none\" points=\"\n",
       "  213.607,692.134 232.505,692.134 \n",
       "  \"/>\n",
       "<polyline clip-path=\"url(#clip260)\" style=\"stroke:#000000; stroke-linecap:round; stroke-linejoin:round; stroke-width:4; stroke-opacity:1; fill:none\" points=\"\n",
       "  213.607,136.224 232.505,136.224 \n",
       "  \"/>\n",
       "<path clip-path=\"url(#clip260)\" d=\"M51.6634 1267.84 L59.3023 1267.84 L59.3023 1241.47 L50.9921 1243.14 L50.9921 1238.88 L59.256 1237.21 L63.9319 1237.21 L63.9319 1267.84 L71.5707 1267.84 L71.5707 1271.77 L51.6634 1271.77 L51.6634 1267.84 Z\" fill=\"#000000\" fill-rule=\"evenodd\" fill-opacity=\"1\" /><path clip-path=\"url(#clip260)\" d=\"M91.0151 1240.29 Q87.404 1240.29 85.5753 1243.86 Q83.7697 1247.4 83.7697 1254.53 Q83.7697 1261.63 85.5753 1265.2 Q87.404 1268.74 91.0151 1268.74 Q94.6493 1268.74 96.4548 1265.2 Q98.2835 1261.63 98.2835 1254.53 Q98.2835 1247.4 96.4548 1243.86 Q94.6493 1240.29 91.0151 1240.29 M91.0151 1236.59 Q96.8252 1236.59 99.8808 1241.19 Q102.959 1245.78 102.959 1254.53 Q102.959 1263.25 99.8808 1267.86 Q96.8252 1272.44 91.0151 1272.44 Q85.2049 1272.44 82.1262 1267.86 Q79.0707 1263.25 79.0707 1254.53 Q79.0707 1245.78 82.1262 1241.19 Q85.2049 1236.59 91.0151 1236.59 Z\" fill=\"#000000\" fill-rule=\"evenodd\" fill-opacity=\"1\" /><path clip-path=\"url(#clip260)\" d=\"M102.959 1230.69 L127.071 1230.69 L127.071 1233.89 L102.959 1233.89 L102.959 1230.69 Z\" fill=\"#000000\" fill-rule=\"evenodd\" fill-opacity=\"1\" /><path clip-path=\"url(#clip260)\" d=\"M135.929 1241.16 L142.136 1241.16 L142.136 1219.74 L135.384 1221.1 L135.384 1217.64 L142.098 1216.28 L145.898 1216.28 L145.898 1241.16 L152.104 1241.16 L152.104 1244.36 L135.929 1244.36 L135.929 1241.16 Z\" fill=\"#000000\" fill-rule=\"evenodd\" fill-opacity=\"1\" /><path clip-path=\"url(#clip260)\" d=\"M167.903 1218.78 Q164.969 1218.78 163.483 1221.68 Q162.016 1224.56 162.016 1230.35 Q162.016 1236.12 163.483 1239.02 Q164.969 1241.9 167.903 1241.9 Q170.855 1241.9 172.322 1239.02 Q173.808 1236.12 173.808 1230.35 Q173.808 1224.56 172.322 1221.68 Q170.855 1218.78 167.903 1218.78 M167.903 1215.77 Q172.623 1215.77 175.106 1219.52 Q177.607 1223.24 177.607 1230.35 Q177.607 1237.44 175.106 1241.18 Q172.623 1244.91 167.903 1244.91 Q163.182 1244.91 160.68 1241.18 Q158.198 1237.44 158.198 1230.35 Q158.198 1223.24 160.68 1219.52 Q163.182 1215.77 167.903 1215.77 Z\" fill=\"#000000\" fill-rule=\"evenodd\" fill-opacity=\"1\" /><path clip-path=\"url(#clip260)\" d=\"M76.9787 711.926 L84.6175 711.926 L84.6175 685.561 L76.3074 687.227 L76.3074 682.968 L84.5712 681.301 L89.2471 681.301 L89.2471 711.926 L96.886 711.926 L96.886 715.861 L76.9787 715.861 L76.9787 711.926 Z\" fill=\"#000000\" fill-rule=\"evenodd\" fill-opacity=\"1\" /><path clip-path=\"url(#clip260)\" d=\"M116.33 684.38 Q112.719 684.38 110.891 687.945 Q109.085 691.487 109.085 698.616 Q109.085 705.723 110.891 709.287 Q112.719 712.829 116.33 712.829 Q119.965 712.829 121.77 709.287 Q123.599 705.723 123.599 698.616 Q123.599 691.487 121.77 687.945 Q119.965 684.38 116.33 684.38 M116.33 680.676 Q122.14 680.676 125.196 685.283 Q128.275 689.866 128.275 698.616 Q128.275 707.343 125.196 711.949 Q122.14 716.533 116.33 716.533 Q110.52 716.533 107.441 711.949 Q104.386 707.343 104.386 698.616 Q104.386 689.866 107.441 685.283 Q110.52 680.676 116.33 680.676 Z\" fill=\"#000000\" fill-rule=\"evenodd\" fill-opacity=\"1\" /><path clip-path=\"url(#clip260)\" d=\"M128.275 674.778 L152.386 674.778 L152.386 677.975 L128.275 677.975 L128.275 674.778 Z\" fill=\"#000000\" fill-rule=\"evenodd\" fill-opacity=\"1\" /><path clip-path=\"url(#clip260)\" d=\"M160.624 660.371 L175.539 660.371 L175.539 663.568 L164.103 663.568 L164.103 670.452 Q164.931 670.17 165.759 670.038 Q166.586 669.888 167.414 669.888 Q172.116 669.888 174.862 672.464 Q177.607 675.041 177.607 679.442 Q177.607 683.975 174.786 686.495 Q171.965 688.996 166.831 688.996 Q165.063 688.996 163.22 688.696 Q161.395 688.395 159.439 687.793 L159.439 683.975 Q161.132 684.896 162.937 685.348 Q164.743 685.799 166.755 685.799 Q170.009 685.799 171.909 684.088 Q173.808 682.376 173.808 679.442 Q173.808 676.508 171.909 674.797 Q170.009 673.085 166.755 673.085 Q165.232 673.085 163.709 673.424 Q162.204 673.762 160.624 674.477 L160.624 660.371 Z\" fill=\"#000000\" fill-rule=\"evenodd\" fill-opacity=\"1\" /><path clip-path=\"url(#clip260)\" d=\"M106.902 156.016 L114.541 156.016 L114.541 129.651 L106.231 131.317 L106.231 127.058 L114.494 125.391 L119.17 125.391 L119.17 156.016 L126.809 156.016 L126.809 159.951 L106.902 159.951 L106.902 156.016 Z\" fill=\"#000000\" fill-rule=\"evenodd\" fill-opacity=\"1\" /><path clip-path=\"url(#clip260)\" d=\"M146.253 128.47 Q142.642 128.47 140.814 132.035 Q139.008 135.576 139.008 142.706 Q139.008 149.812 140.814 153.377 Q142.642 156.919 146.253 156.919 Q149.888 156.919 151.693 153.377 Q153.522 149.812 153.522 142.706 Q153.522 135.576 151.693 132.035 Q149.888 128.47 146.253 128.47 M146.253 124.766 Q152.064 124.766 155.119 129.373 Q158.198 133.956 158.198 142.706 Q158.198 151.433 155.119 156.039 Q152.064 160.623 146.253 160.623 Q140.443 160.623 137.365 156.039 Q134.309 151.433 134.309 142.706 Q134.309 133.956 137.365 129.373 Q140.443 124.766 146.253 124.766 Z\" fill=\"#000000\" fill-rule=\"evenodd\" fill-opacity=\"1\" /><path clip-path=\"url(#clip260)\" d=\"M167.903 106.962 Q164.969 106.962 163.483 109.859 Q162.016 112.736 162.016 118.529 Q162.016 124.303 163.483 127.199 Q164.969 130.077 167.903 130.077 Q170.855 130.077 172.322 127.199 Q173.808 124.303 173.808 118.529 Q173.808 112.736 172.322 109.859 Q170.855 106.962 167.903 106.962 M167.903 103.953 Q172.623 103.953 175.106 107.696 Q177.607 111.42 177.607 118.529 Q177.607 125.62 175.106 129.362 Q172.623 133.086 167.903 133.086 Q163.182 133.086 160.68 129.362 Q158.198 125.62 158.198 118.529 Q158.198 111.42 160.68 107.696 Q163.182 103.953 167.903 103.953 Z\" fill=\"#000000\" fill-rule=\"evenodd\" fill-opacity=\"1\" /><path clip-path=\"url(#clip260)\" d=\"M1078.04 34.1734 Q1076.79 33.4443 1075.29 33.1202 Q1073.83 32.7556 1072.05 32.7556 Q1065.73 32.7556 1062.33 36.8875 Q1058.96 40.9789 1058.96 48.6757 L1058.96 72.576 L1051.47 72.576 L1051.47 27.2059 L1058.96 27.2059 L1058.96 34.2544 Q1061.31 30.1225 1065.08 28.1376 Q1068.85 26.1121 1074.24 26.1121 Q1075.01 26.1121 1075.94 26.2337 Q1076.87 26.3147 1078 26.5172 L1078.04 34.1734 Z\" fill=\"#000000\" fill-rule=\"evenodd\" fill-opacity=\"1\" /><path clip-path=\"url(#clip260)\" d=\"M1101.62 32.4315 Q1095.62 32.4315 1092.14 37.1306 Q1088.66 41.7891 1088.66 49.9314 Q1088.66 58.0738 1092.1 62.7728 Q1095.58 67.4314 1101.62 67.4314 Q1107.57 67.4314 1111.06 62.7323 Q1114.54 58.0333 1114.54 49.9314 Q1114.54 41.8701 1111.06 37.1711 Q1107.57 32.4315 1101.62 32.4315 M1101.62 26.1121 Q1111.34 26.1121 1116.89 32.4315 Q1122.44 38.7509 1122.44 49.9314 Q1122.44 61.0714 1116.89 67.4314 Q1111.34 73.7508 1101.62 73.7508 Q1091.86 73.7508 1086.31 67.4314 Q1080.8 61.0714 1080.8 49.9314 Q1080.8 38.7509 1086.31 32.4315 Q1091.86 26.1121 1101.62 26.1121 Z\" fill=\"#000000\" fill-rule=\"evenodd\" fill-opacity=\"1\" /><path clip-path=\"url(#clip260)\" d=\"M1152.38 32.4315 Q1146.38 32.4315 1142.9 37.1306 Q1139.42 41.7891 1139.42 49.9314 Q1139.42 58.0738 1142.86 62.7728 Q1146.34 67.4314 1152.38 67.4314 Q1158.33 67.4314 1161.82 62.7323 Q1165.3 58.0333 1165.3 49.9314 Q1165.3 41.8701 1161.82 37.1711 Q1158.33 32.4315 1152.38 32.4315 M1152.38 26.1121 Q1162.1 26.1121 1167.65 32.4315 Q1173.2 38.7509 1173.2 49.9314 Q1173.2 61.0714 1167.65 67.4314 Q1162.1 73.7508 1152.38 73.7508 Q1142.62 73.7508 1137.07 67.4314 Q1131.56 61.0714 1131.56 49.9314 Q1131.56 38.7509 1137.07 32.4315 Q1142.62 26.1121 1152.38 26.1121 Z\" fill=\"#000000\" fill-rule=\"evenodd\" fill-opacity=\"1\" /><path clip-path=\"url(#clip260)\" d=\"M1192.93 14.324 L1192.93 27.2059 L1208.28 27.2059 L1208.28 32.9987 L1192.93 32.9987 L1192.93 57.6282 Q1192.93 63.1779 1194.43 64.7578 Q1195.97 66.3376 1200.62 66.3376 L1208.28 66.3376 L1208.28 72.576 L1200.62 72.576 Q1192 72.576 1188.71 69.3758 Q1185.43 66.1351 1185.43 57.6282 L1185.43 32.9987 L1179.96 32.9987 L1179.96 27.2059 L1185.43 27.2059 L1185.43 14.324 L1192.93 14.324 Z\" fill=\"#000000\" fill-rule=\"evenodd\" fill-opacity=\"1\" /><path clip-path=\"url(#clip260)\" d=\"M1267.42 9.54393 L1267.42 15.7418 L1260.29 15.7418 Q1256.28 15.7418 1254.7 17.3622 Q1253.16 18.9825 1253.16 23.1955 L1253.16 27.2059 L1265.44 27.2059 L1265.44 32.9987 L1253.16 32.9987 L1253.16 72.576 L1245.67 72.576 L1245.67 32.9987 L1238.54 32.9987 L1238.54 27.2059 L1245.67 27.2059 L1245.67 24.0462 Q1245.67 16.471 1249.19 13.0277 Q1252.72 9.54393 1260.38 9.54393 L1267.42 9.54393 Z\" fill=\"#000000\" fill-rule=\"evenodd\" fill-opacity=\"1\" /><path clip-path=\"url(#clip260)\" d=\"M1273.66 27.2059 L1281.12 27.2059 L1281.12 72.576 L1273.66 72.576 L1273.66 27.2059 M1273.66 9.54393 L1281.12 9.54393 L1281.12 18.9825 L1273.66 18.9825 L1273.66 9.54393 Z\" fill=\"#000000\" fill-rule=\"evenodd\" fill-opacity=\"1\" /><path clip-path=\"url(#clip260)\" d=\"M1334.43 45.1919 L1334.43 72.576 L1326.97 72.576 L1326.97 45.4349 Q1326.97 38.994 1324.46 35.7938 Q1321.95 32.5936 1316.93 32.5936 Q1310.89 32.5936 1307.41 36.4419 Q1303.92 40.2903 1303.92 46.9338 L1303.92 72.576 L1296.43 72.576 L1296.43 27.2059 L1303.92 27.2059 L1303.92 34.2544 Q1306.6 30.163 1310.2 28.1376 Q1313.85 26.1121 1318.59 26.1121 Q1326.4 26.1121 1330.42 30.9732 Q1334.43 35.7938 1334.43 45.1919 Z\" fill=\"#000000\" fill-rule=\"evenodd\" fill-opacity=\"1\" /><path clip-path=\"url(#clip260)\" d=\"M1379.15 34.0924 L1379.15 9.54393 L1386.6 9.54393 L1386.6 72.576 L1379.15 72.576 L1379.15 65.7705 Q1376.8 69.8214 1373.19 71.8063 Q1369.63 73.7508 1364.6 73.7508 Q1356.38 73.7508 1351.2 67.1883 Q1346.05 60.6258 1346.05 49.9314 Q1346.05 39.2371 1351.2 32.6746 Q1356.38 26.1121 1364.6 26.1121 Q1369.63 26.1121 1373.19 28.0971 Q1376.8 30.0415 1379.15 34.0924 M1353.75 49.9314 Q1353.75 58.1548 1357.11 62.8538 Q1360.51 67.5124 1366.43 67.5124 Q1372.34 67.5124 1375.74 62.8538 Q1379.15 58.1548 1379.15 49.9314 Q1379.15 41.7081 1375.74 37.0496 Q1372.34 32.3505 1366.43 32.3505 Q1360.51 32.3505 1357.11 37.0496 Q1353.75 41.7081 1353.75 49.9314 Z\" fill=\"#000000\" fill-rule=\"evenodd\" fill-opacity=\"1\" /><path clip-path=\"url(#clip260)\" d=\"M1401.95 27.2059 L1409.41 27.2059 L1409.41 72.576 L1401.95 72.576 L1401.95 27.2059 M1401.95 9.54393 L1409.41 9.54393 L1409.41 18.9825 L1401.95 18.9825 L1401.95 9.54393 Z\" fill=\"#000000\" fill-rule=\"evenodd\" fill-opacity=\"1\" /><path clip-path=\"url(#clip260)\" d=\"M1462.72 45.1919 L1462.72 72.576 L1455.26 72.576 L1455.26 45.4349 Q1455.26 38.994 1452.75 35.7938 Q1450.24 32.5936 1445.22 32.5936 Q1439.18 32.5936 1435.7 36.4419 Q1432.21 40.2903 1432.21 46.9338 L1432.21 72.576 L1424.72 72.576 L1424.72 27.2059 L1432.21 27.2059 L1432.21 34.2544 Q1434.89 30.163 1438.49 28.1376 Q1442.14 26.1121 1446.88 26.1121 Q1454.7 26.1121 1458.71 30.9732 Q1462.72 35.7938 1462.72 45.1919 Z\" fill=\"#000000\" fill-rule=\"evenodd\" fill-opacity=\"1\" /><path clip-path=\"url(#clip260)\" d=\"M1507.44 49.3643 Q1507.44 41.2625 1504.08 36.8065 Q1500.76 32.3505 1494.72 32.3505 Q1488.72 32.3505 1485.36 36.8065 Q1482.04 41.2625 1482.04 49.3643 Q1482.04 57.4256 1485.36 61.8816 Q1488.72 66.3376 1494.72 66.3376 Q1500.76 66.3376 1504.08 61.8816 Q1507.44 57.4256 1507.44 49.3643 M1514.89 66.9452 Q1514.89 78.5308 1509.75 84.1616 Q1504.6 89.8329 1493.99 89.8329 Q1490.06 89.8329 1486.58 89.2252 Q1483.09 88.6581 1479.81 87.4428 L1479.81 80.1917 Q1483.09 81.9741 1486.29 82.8248 Q1489.49 83.6755 1492.82 83.6755 Q1500.15 83.6755 1503.79 79.8271 Q1507.44 76.0193 1507.44 68.282 L1507.44 64.5957 Q1505.13 68.6061 1501.53 70.5911 Q1497.92 72.576 1492.9 72.576 Q1484.55 72.576 1479.45 66.2161 Q1474.34 59.8562 1474.34 49.3643 Q1474.34 38.832 1479.45 32.472 Q1484.55 26.1121 1492.9 26.1121 Q1497.92 26.1121 1501.53 28.0971 Q1505.13 30.082 1507.44 34.0924 L1507.44 27.2059 L1514.89 27.2059 L1514.89 66.9452 Z\" fill=\"#000000\" fill-rule=\"evenodd\" fill-opacity=\"1\" /><polyline clip-path=\"url(#clip262)\" style=\"stroke:#009af9; stroke-linecap:round; stroke-linejoin:round; stroke-width:4; stroke-opacity:1; fill:none\" points=\"\n",
       "  274.149,254.808 351.767,223.456 429.385,292.608 507.003,317.772 584.621,369.583 662.239,371.45 739.857,561.033 817.474,405.881 895.092,441.333 972.71,479.029 \n",
       "  1050.33,522.258 1127.95,584.415 1205.56,640.737 1283.18,635.905 1360.8,782.923 1438.42,676.816 1516.04,715.971 1593.65,763.326 1671.27,849.804 1748.89,830.302 \n",
       "  1826.51,916.972 1904.12,897.088 1981.74,983 2059.36,964.639 2136.98,1053.68 2214.6,1029.17 2292.21,1107.12 \n",
       "  \"/>\n",
       "<polyline clip-path=\"url(#clip262)\" style=\"stroke:#e26f46; stroke-linecap:round; stroke-linejoin:round; stroke-width:4; stroke-opacity:1; fill:none\" points=\"\n",
       "  274.149,178.781 351.767,162.047 429.385,257.652 507.003,341.61 584.621,511.591 662.239,766.945 739.857,1192.52 \n",
       "  \"/>\n",
       "<polyline clip-path=\"url(#clip262)\" style=\"stroke:#3da44d; stroke-linecap:round; stroke-linejoin:round; stroke-width:4; stroke-opacity:1; fill:none\" points=\"\n",
       "  274.149,178.781 351.767,254.808 429.385,426.44 507.003,766.944 584.621,1447.87 \n",
       "  \"/>\n",
       "<path clip-path=\"url(#clip260)\" d=\"\n",
       "M1861.87 376.265 L2281.45 376.265 L2281.45 168.905 L1861.87 168.905  Z\n",
       "  \" fill=\"#ffffff\" fill-rule=\"evenodd\" fill-opacity=\"1\"/>\n",
       "<polyline clip-path=\"url(#clip260)\" style=\"stroke:#000000; stroke-linecap:round; stroke-linejoin:round; stroke-width:4; stroke-opacity:1; fill:none\" points=\"\n",
       "  1861.87,376.265 2281.45,376.265 2281.45,168.905 1861.87,168.905 1861.87,376.265 \n",
       "  \"/>\n",
       "<polyline clip-path=\"url(#clip260)\" style=\"stroke:#009af9; stroke-linecap:round; stroke-linejoin:round; stroke-width:4; stroke-opacity:1; fill:none\" points=\"\n",
       "  1885.63,220.745 2028.24,220.745 \n",
       "  \"/>\n",
       "<path clip-path=\"url(#clip260)\" d=\"M2070.79 225.085 Q2070.79 220.386 2068.84 217.724 Q2066.92 215.039 2063.54 215.039 Q2060.16 215.039 2058.22 217.724 Q2056.29 220.386 2056.29 225.085 Q2056.29 229.784 2058.22 232.469 Q2060.16 235.131 2063.54 235.131 Q2066.92 235.131 2068.84 232.469 Q2070.79 229.784 2070.79 225.085 M2056.29 216.034 Q2057.64 213.719 2059.67 212.608 Q2061.73 211.474 2064.58 211.474 Q2069.3 211.474 2072.24 215.224 Q2075.21 218.974 2075.21 225.085 Q2075.21 231.196 2072.24 234.946 Q2069.3 238.696 2064.58 238.696 Q2061.73 238.696 2059.67 237.585 Q2057.64 236.451 2056.29 234.136 L2056.29 238.025 L2052.01 238.025 L2052.01 202.006 L2056.29 202.006 L2056.29 216.034 Z\" fill=\"#000000\" fill-rule=\"evenodd\" fill-opacity=\"1\" /><path clip-path=\"url(#clip260)\" d=\"M2082.27 212.099 L2086.53 212.099 L2086.53 238.025 L2082.27 238.025 L2082.27 212.099 M2082.27 202.006 L2086.53 202.006 L2086.53 207.4 L2082.27 207.4 L2082.27 202.006 Z\" fill=\"#000000\" fill-rule=\"evenodd\" fill-opacity=\"1\" /><path clip-path=\"url(#clip260)\" d=\"M2111.97 212.863 L2111.97 216.891 Q2110.16 215.965 2108.22 215.502 Q2106.27 215.039 2104.19 215.039 Q2101.02 215.039 2099.42 216.011 Q2097.85 216.983 2097.85 218.928 Q2097.85 220.409 2098.98 221.265 Q2100.11 222.099 2103.54 222.863 L2105 223.187 Q2109.54 224.159 2111.43 225.941 Q2113.35 227.701 2113.35 230.872 Q2113.35 234.483 2110.48 236.589 Q2107.64 238.696 2102.64 238.696 Q2100.55 238.696 2098.29 238.279 Q2096.04 237.886 2093.54 237.076 L2093.54 232.677 Q2095.9 233.904 2098.19 234.529 Q2100.48 235.131 2102.73 235.131 Q2105.74 235.131 2107.36 234.113 Q2108.98 233.071 2108.98 231.196 Q2108.98 229.46 2107.8 228.534 Q2106.64 227.608 2102.68 226.752 L2101.2 226.404 Q2097.24 225.571 2095.48 223.858 Q2093.73 222.122 2093.73 219.113 Q2093.73 215.455 2096.32 213.465 Q2098.91 211.474 2103.68 211.474 Q2106.04 211.474 2108.12 211.821 Q2110.21 212.168 2111.97 212.863 Z\" fill=\"#000000\" fill-rule=\"evenodd\" fill-opacity=\"1\" /><path clip-path=\"url(#clip260)\" d=\"M2142.31 223.997 L2142.31 226.08 L2122.73 226.08 Q2123.01 230.478 2125.37 232.793 Q2127.75 235.085 2131.99 235.085 Q2134.44 235.085 2136.73 234.483 Q2139.05 233.881 2141.32 232.677 L2141.32 236.705 Q2139.03 237.677 2136.62 238.187 Q2134.21 238.696 2131.73 238.696 Q2125.53 238.696 2121.9 235.085 Q2118.29 231.474 2118.29 225.316 Q2118.29 218.951 2121.71 215.224 Q2125.16 211.474 2130.99 211.474 Q2136.22 211.474 2139.26 214.853 Q2142.31 218.21 2142.31 223.997 M2138.05 222.747 Q2138.01 219.252 2136.09 217.168 Q2134.19 215.085 2131.04 215.085 Q2127.48 215.085 2125.32 217.099 Q2123.19 219.113 2122.87 222.77 L2138.05 222.747 Z\" fill=\"#000000\" fill-rule=\"evenodd\" fill-opacity=\"1\" /><path clip-path=\"url(#clip260)\" d=\"M2167.96 213.094 L2167.96 217.076 Q2166.16 216.08 2164.33 215.594 Q2162.52 215.085 2160.67 215.085 Q2156.53 215.085 2154.23 217.724 Q2151.94 220.34 2151.94 225.085 Q2151.94 229.83 2154.23 232.469 Q2156.53 235.085 2160.67 235.085 Q2162.52 235.085 2164.33 234.599 Q2166.16 234.089 2167.96 233.094 L2167.96 237.029 Q2166.18 237.863 2164.26 238.279 Q2162.36 238.696 2160.21 238.696 Q2154.35 238.696 2150.9 235.015 Q2147.45 231.335 2147.45 225.085 Q2147.45 218.742 2150.92 215.108 Q2154.42 211.474 2160.48 211.474 Q2162.45 211.474 2164.33 211.891 Q2166.2 212.284 2167.96 213.094 Z\" fill=\"#000000\" fill-rule=\"evenodd\" fill-opacity=\"1\" /><path clip-path=\"url(#clip260)\" d=\"M2179.58 204.738 L2179.58 212.099 L2188.35 212.099 L2188.35 215.409 L2179.58 215.409 L2179.58 229.483 Q2179.58 232.654 2180.44 233.557 Q2181.32 234.46 2183.98 234.46 L2188.35 234.46 L2188.35 238.025 L2183.98 238.025 Q2179.05 238.025 2177.17 236.196 Q2175.3 234.344 2175.3 229.483 L2175.3 215.409 L2172.17 215.409 L2172.17 212.099 L2175.3 212.099 L2175.3 204.738 L2179.58 204.738 Z\" fill=\"#000000\" fill-rule=\"evenodd\" fill-opacity=\"1\" /><path clip-path=\"url(#clip260)\" d=\"M2193.96 212.099 L2198.22 212.099 L2198.22 238.025 L2193.96 238.025 L2193.96 212.099 M2193.96 202.006 L2198.22 202.006 L2198.22 207.4 L2193.96 207.4 L2193.96 202.006 Z\" fill=\"#000000\" fill-rule=\"evenodd\" fill-opacity=\"1\" /><path clip-path=\"url(#clip260)\" d=\"M2217.17 215.085 Q2213.75 215.085 2211.76 217.77 Q2209.77 220.432 2209.77 225.085 Q2209.77 229.738 2211.73 232.423 Q2213.72 235.085 2217.17 235.085 Q2220.58 235.085 2222.57 232.4 Q2224.56 229.715 2224.56 225.085 Q2224.56 220.478 2222.57 217.793 Q2220.58 215.085 2217.17 215.085 M2217.17 211.474 Q2222.73 211.474 2225.9 215.085 Q2229.07 218.696 2229.07 225.085 Q2229.07 231.451 2225.9 235.085 Q2222.73 238.696 2217.17 238.696 Q2211.59 238.696 2208.42 235.085 Q2205.28 231.451 2205.28 225.085 Q2205.28 218.696 2208.42 215.085 Q2211.59 211.474 2217.17 211.474 Z\" fill=\"#000000\" fill-rule=\"evenodd\" fill-opacity=\"1\" /><path clip-path=\"url(#clip260)\" d=\"M2257.68 222.377 L2257.68 238.025 L2253.42 238.025 L2253.42 222.515 Q2253.42 218.835 2251.99 217.006 Q2250.55 215.178 2247.68 215.178 Q2244.23 215.178 2242.24 217.377 Q2240.25 219.576 2240.25 223.372 L2240.25 238.025 L2235.97 238.025 L2235.97 212.099 L2240.25 212.099 L2240.25 216.127 Q2241.78 213.789 2243.84 212.631 Q2245.92 211.474 2248.63 211.474 Q2253.1 211.474 2255.39 214.252 Q2257.68 217.006 2257.68 222.377 Z\" fill=\"#000000\" fill-rule=\"evenodd\" fill-opacity=\"1\" /><polyline clip-path=\"url(#clip260)\" style=\"stroke:#e26f46; stroke-linecap:round; stroke-linejoin:round; stroke-width:4; stroke-opacity:1; fill:none\" points=\"\n",
       "  1885.63,272.585 2028.24,272.585 \n",
       "  \"/>\n",
       "<path clip-path=\"url(#clip260)\" d=\"M2070.44 264.703 L2070.44 268.731 Q2068.63 267.805 2066.69 267.342 Q2064.74 266.879 2062.66 266.879 Q2059.49 266.879 2057.89 267.851 Q2056.32 268.823 2056.32 270.768 Q2056.32 272.249 2057.45 273.105 Q2058.59 273.939 2062.01 274.703 L2063.47 275.027 Q2068.01 275.999 2069.91 277.781 Q2071.83 279.541 2071.83 282.712 Q2071.83 286.323 2068.96 288.429 Q2066.11 290.536 2061.11 290.536 Q2059.03 290.536 2056.76 290.119 Q2054.51 289.726 2052.01 288.916 L2052.01 284.517 Q2054.37 285.744 2056.67 286.369 Q2058.96 286.971 2061.2 286.971 Q2064.21 286.971 2065.83 285.953 Q2067.45 284.911 2067.45 283.036 Q2067.45 281.3 2066.27 280.374 Q2065.11 279.448 2061.16 278.592 L2059.67 278.244 Q2055.72 277.411 2053.96 275.698 Q2052.2 273.962 2052.2 270.953 Q2052.2 267.295 2054.79 265.305 Q2057.38 263.314 2062.15 263.314 Q2064.51 263.314 2066.6 263.661 Q2068.68 264.008 2070.44 264.703 Z\" fill=\"#000000\" fill-rule=\"evenodd\" fill-opacity=\"1\" /><path clip-path=\"url(#clip260)\" d=\"M2100.79 275.837 L2100.79 277.92 L2081.2 277.92 Q2081.48 282.318 2083.84 284.633 Q2086.23 286.925 2090.46 286.925 Q2092.92 286.925 2095.21 286.323 Q2097.52 285.721 2099.79 284.517 L2099.79 288.545 Q2097.5 289.517 2095.09 290.027 Q2092.68 290.536 2090.21 290.536 Q2084 290.536 2080.37 286.925 Q2076.76 283.314 2076.76 277.156 Q2076.76 270.791 2080.18 267.064 Q2083.63 263.314 2089.47 263.314 Q2094.7 263.314 2097.73 266.693 Q2100.79 270.05 2100.79 275.837 M2096.53 274.587 Q2096.48 271.092 2094.56 269.008 Q2092.66 266.925 2089.51 266.925 Q2085.95 266.925 2083.79 268.939 Q2081.67 270.953 2081.34 274.61 L2096.53 274.587 Z\" fill=\"#000000\" fill-rule=\"evenodd\" fill-opacity=\"1\" /><path clip-path=\"url(#clip260)\" d=\"M2126.43 264.934 L2126.43 268.916 Q2124.63 267.92 2122.8 267.434 Q2120.99 266.925 2119.14 266.925 Q2115 266.925 2112.71 269.564 Q2110.41 272.18 2110.41 276.925 Q2110.41 281.67 2112.71 284.309 Q2115 286.925 2119.14 286.925 Q2120.99 286.925 2122.8 286.439 Q2124.63 285.929 2126.43 284.934 L2126.43 288.869 Q2124.65 289.703 2122.73 290.119 Q2120.83 290.536 2118.68 290.536 Q2112.82 290.536 2109.37 286.855 Q2105.92 283.175 2105.92 276.925 Q2105.92 270.582 2109.4 266.948 Q2112.89 263.314 2118.96 263.314 Q2120.92 263.314 2122.8 263.731 Q2124.67 264.124 2126.43 264.934 Z\" fill=\"#000000\" fill-rule=\"evenodd\" fill-opacity=\"1\" /><path clip-path=\"url(#clip260)\" d=\"M2145.62 276.832 Q2140.46 276.832 2138.47 278.013 Q2136.48 279.193 2136.48 282.041 Q2136.48 284.309 2137.96 285.652 Q2139.47 286.971 2142.04 286.971 Q2145.58 286.971 2147.71 284.471 Q2149.86 281.948 2149.86 277.781 L2149.86 276.832 L2145.62 276.832 M2154.12 275.073 L2154.12 289.865 L2149.86 289.865 L2149.86 285.929 Q2148.4 288.291 2146.22 289.425 Q2144.05 290.536 2140.9 290.536 Q2136.92 290.536 2134.56 288.314 Q2132.22 286.068 2132.22 282.318 Q2132.22 277.943 2135.14 275.721 Q2138.08 273.499 2143.89 273.499 L2149.86 273.499 L2149.86 273.082 Q2149.86 270.143 2147.91 268.545 Q2145.99 266.925 2142.5 266.925 Q2140.28 266.925 2138.17 267.457 Q2136.06 267.99 2134.12 269.055 L2134.12 265.119 Q2136.46 264.217 2138.66 263.777 Q2140.85 263.314 2142.94 263.314 Q2148.56 263.314 2151.34 266.231 Q2154.12 269.147 2154.12 275.073 Z\" fill=\"#000000\" fill-rule=\"evenodd\" fill-opacity=\"1\" /><path clip-path=\"url(#clip260)\" d=\"M2184.44 274.217 L2184.44 289.865 L2180.18 289.865 L2180.18 274.355 Q2180.18 270.675 2178.75 268.846 Q2177.31 267.018 2174.44 267.018 Q2170.99 267.018 2169 269.217 Q2167.01 271.416 2167.01 275.212 L2167.01 289.865 L2162.73 289.865 L2162.73 263.939 L2167.01 263.939 L2167.01 267.967 Q2168.54 265.629 2170.6 264.471 Q2172.68 263.314 2175.39 263.314 Q2179.86 263.314 2182.15 266.092 Q2184.44 268.846 2184.44 274.217 Z\" fill=\"#000000\" fill-rule=\"evenodd\" fill-opacity=\"1\" /><path clip-path=\"url(#clip260)\" d=\"M2197.15 256.578 L2197.15 263.939 L2205.92 263.939 L2205.92 267.249 L2197.15 267.249 L2197.15 281.323 Q2197.15 284.494 2198.01 285.397 Q2198.89 286.3 2201.55 286.3 L2205.92 286.3 L2205.92 289.865 L2201.55 289.865 Q2196.62 289.865 2194.74 288.036 Q2192.87 286.184 2192.87 281.323 L2192.87 267.249 L2189.74 267.249 L2189.74 263.939 L2192.87 263.939 L2192.87 256.578 L2197.15 256.578 Z\" fill=\"#000000\" fill-rule=\"evenodd\" fill-opacity=\"1\" /><polyline clip-path=\"url(#clip260)\" style=\"stroke:#3da44d; stroke-linecap:round; stroke-linejoin:round; stroke-width:4; stroke-opacity:1; fill:none\" points=\"\n",
       "  1885.63,324.425 2028.24,324.425 \n",
       "  \"/>\n",
       "<path clip-path=\"url(#clip260)\" d=\"M2052.01 307.145 L2058.31 307.145 L2073.63 336.057 L2073.63 307.145 L2078.17 307.145 L2078.17 341.705 L2071.87 341.705 L2056.55 312.793 L2056.55 341.705 L2052.01 341.705 L2052.01 307.145 Z\" fill=\"#000000\" fill-rule=\"evenodd\" fill-opacity=\"1\" /><path clip-path=\"url(#clip260)\" d=\"M2109.47 327.677 L2109.47 329.76 L2089.88 329.76 Q2090.16 334.158 2092.52 336.473 Q2094.91 338.765 2099.14 338.765 Q2101.6 338.765 2103.89 338.163 Q2106.2 337.561 2108.47 336.357 L2108.47 340.385 Q2106.18 341.357 2103.77 341.867 Q2101.36 342.376 2098.89 342.376 Q2092.68 342.376 2089.05 338.765 Q2085.44 335.154 2085.44 328.996 Q2085.44 322.631 2088.86 318.904 Q2092.31 315.154 2098.15 315.154 Q2103.38 315.154 2106.41 318.533 Q2109.47 321.89 2109.47 327.677 M2105.21 326.427 Q2105.16 322.932 2103.24 320.848 Q2101.34 318.765 2098.19 318.765 Q2094.63 318.765 2092.48 320.779 Q2090.35 322.793 2090.02 326.45 L2105.21 326.427 Z\" fill=\"#000000\" fill-rule=\"evenodd\" fill-opacity=\"1\" /><path clip-path=\"url(#clip260)\" d=\"M2113.98 315.779 L2118.24 315.779 L2123.56 336.01 L2128.86 315.779 L2133.89 315.779 L2139.21 336.01 L2144.51 315.779 L2148.77 315.779 L2141.99 341.705 L2136.97 341.705 L2131.39 320.455 L2125.79 341.705 L2120.76 341.705 L2113.98 315.779 Z\" fill=\"#000000\" fill-rule=\"evenodd\" fill-opacity=\"1\" /><path clip-path=\"url(#clip260)\" d=\"M2159.44 308.418 L2159.44 315.779 L2168.22 315.779 L2168.22 319.089 L2159.44 319.089 L2159.44 333.163 Q2159.44 336.334 2160.3 337.237 Q2161.18 338.14 2163.84 338.14 L2168.22 338.14 L2168.22 341.705 L2163.84 341.705 Q2158.91 341.705 2157.04 339.876 Q2155.16 338.024 2155.16 333.163 L2155.16 319.089 L2152.04 319.089 L2152.04 315.779 L2155.16 315.779 L2155.16 308.418 L2159.44 308.418 Z\" fill=\"#000000\" fill-rule=\"evenodd\" fill-opacity=\"1\" /><path clip-path=\"url(#clip260)\" d=\"M2183.86 318.765 Q2180.44 318.765 2178.45 321.45 Q2176.46 324.112 2176.46 328.765 Q2176.46 333.418 2178.42 336.103 Q2180.41 338.765 2183.86 338.765 Q2187.27 338.765 2189.26 336.08 Q2191.25 333.395 2191.25 328.765 Q2191.25 324.158 2189.26 321.473 Q2187.27 318.765 2183.86 318.765 M2183.86 315.154 Q2189.42 315.154 2192.59 318.765 Q2195.76 322.376 2195.76 328.765 Q2195.76 335.131 2192.59 338.765 Q2189.42 342.376 2183.86 342.376 Q2178.28 342.376 2175.11 338.765 Q2171.97 335.131 2171.97 328.765 Q2171.97 322.376 2175.11 318.765 Q2178.28 315.154 2183.86 315.154 Z\" fill=\"#000000\" fill-rule=\"evenodd\" fill-opacity=\"1\" /><path clip-path=\"url(#clip260)\" d=\"M2224.37 326.057 L2224.37 341.705 L2220.11 341.705 L2220.11 326.195 Q2220.11 322.515 2218.68 320.686 Q2217.24 318.858 2214.37 318.858 Q2210.92 318.858 2208.93 321.057 Q2206.94 323.256 2206.94 327.052 L2206.94 341.705 L2202.66 341.705 L2202.66 315.779 L2206.94 315.779 L2206.94 319.807 Q2208.47 317.469 2210.53 316.311 Q2212.61 315.154 2215.32 315.154 Q2219.79 315.154 2222.08 317.932 Q2224.37 320.686 2224.37 326.057 Z\" fill=\"#000000\" fill-rule=\"evenodd\" fill-opacity=\"1\" /></svg>\n"
      ]
     },
     "execution_count": 7,
     "metadata": {},
     "output_type": "execute_result"
    }
   ],
   "source": [
    "using Plots:plot,plot!   \n",
    "f(x) = x^2-2\n",
    "z = sqrt(2)\n",
    "X = myBisection(f, 1, 2; tol = 1e-8, maxiter = 4_000)\n",
    "Y = mySecant(f, 1, 2; tol = 1e-8, maxiter = 4_000)\n",
    "Z = myNewton(f, derivative(f), 1; tol = 1e-8, maxiter = 4_000)\n",
    "plot(abs.(X.-z),yaxis=:log, title = \"root finding\", label = \"bisection\")   # if you did not return all iterates, then you need to make changes\n",
    "plot!(abs.(Y.-z),yaxis=:log, label = \"secant\")\n",
    "plot!(abs.(Z.-z),yaxis=:log, label = \"Newton\")"
   ]
  },
  {
   "cell_type": "code",
   "execution_count": null,
   "id": "09c81c31-ac8d-4c1e-97bf-7aa95da86a73",
   "metadata": {},
   "outputs": [],
   "source": []
  }
 ],
 "metadata": {
  "authors": [
   {
    "name": "Numerical Analysis 2022"
   }
  ],
  "kernelspec": {
   "display_name": "Julia 1.8.2",
   "language": "julia",
   "name": "julia-1.8"
  },
  "language_info": {
   "file_extension": ".jl",
   "mimetype": "application/julia",
   "name": "julia",
   "version": "1.8.2"
  },
  "title": "Exercise sheet 6",
  "toc-autonumbering": true,
  "widgets": {
   "application/vnd.jupyter.widget-state+json": {
    "state": {},
    "version_major": 2,
    "version_minor": 0
   }
  }
 },
 "nbformat": 4,
 "nbformat_minor": 5
}
